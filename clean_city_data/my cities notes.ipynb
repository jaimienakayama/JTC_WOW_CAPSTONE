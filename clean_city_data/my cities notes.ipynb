{
 "cells": [
  {
   "cell_type": "markdown",
   "id": "gross-memphis",
   "metadata": {},
   "source": [
    "## Import pandas library"
   ]
  },
  {
   "cell_type": "code",
   "execution_count": 1,
   "id": "raising-groove",
   "metadata": {},
   "outputs": [],
   "source": [
    "import pandas as pd"
   ]
  },
  {
   "cell_type": "markdown",
   "id": "orange-spiritual",
   "metadata": {},
   "source": [
    "## Read individual city CSV and assigned the columns needed to a variable"
   ]
  },
  {
   "cell_type": "code",
   "execution_count": 2,
   "id": "comic-denmark",
   "metadata": {},
   "outputs": [],
   "source": [
    "bos = pd.read_csv('boston_edited.csv')\n",
    "boston = bos[['city', 'state', 'closed_date', 'calendar_year', 'amount_awarded']]\n",
    "cam = pd.read_csv('cambridge_edited.csv')\n",
    "cambridge = cam[['city', 'state', 'closed_date', 'incident_date_full', 'calendar_year', 'amount_awarded']]\n",
    "charl = pd.read_csv('charleston_edited.csv')\n",
    "charleston = charl[['city', 'state', 'closed_date', 'calendar_year', 'amount_awarded']]\n",
    "cin = pd.read_csv('cincinnati_edited.csv')\n",
    "cincinnati = cin[['city', 'state', 'closed_date', 'calendar_year', 'amount_awarded']]\n",
    "col = pd.read_csv('columbia_edited.csv')\n",
    "columbia = col[['city', 'state', 'closed_date', 'calendar_year', 'amount_awarded']]\n",
    "lr = pd.read_csv('little_rock_edited.csv')\n",
    "little_rock = lr[['city', 'state', 'closed_date', 'incident_date', 'calendar_year', 'amount_awarded']]\n",
    "orl = pd.read_csv('orlando_edited.csv')\n",
    "orlando = orl[['city', 'state', 'closed_date', 'incident_date', 'calendar_year', 'amount_awarded']]\n",
    "la = pd.read_csv('los_angeles_edited.csv')\n",
    "los_angeles = la[['city', 'state', 'closed_date', 'calendar_year', 'amount_awarded']]\n",
    "chi = pd.read_csv('chicago_edited.csv')\n",
    "chicago = chi[['city', 'state', 'closed_date', 'calendar_year', 'amount_awarded']]\n",
    "mia = pd.read_csv('miami_edited.csv')\n",
    "miami = mia[['city', 'state', 'closed_date', 'calendar_year', 'amount_awarded']]"
   ]
  },
  {
   "cell_type": "markdown",
   "id": "stunning-palestine",
   "metadata": {},
   "source": [
    "## Concattenated all the individual citys into one new dataframe called all_cities"
   ]
  },
  {
   "cell_type": "code",
   "execution_count": 3,
   "id": "sharing-station",
   "metadata": {},
   "outputs": [],
   "source": [
    "all_cities = pd.concat([boston, cambridge, charleston, cincinnati, columbia, little_rock, orlando, chicago, miami, los_angeles])"
   ]
  },
  {
   "cell_type": "markdown",
   "id": "competent-worcester",
   "metadata": {},
   "source": [
    "## Converted the all_cities dataframe into a CSV file named jaimie.csv"
   ]
  },
  {
   "cell_type": "code",
   "execution_count": 4,
   "id": "false-light",
   "metadata": {},
   "outputs": [],
   "source": [
    "all_cities.to_csv('jaimie.csv')"
   ]
  }
 ],
 "metadata": {
  "kernelspec": {
   "display_name": "Python 3",
   "language": "python",
   "name": "python3"
  },
  "language_info": {
   "codemirror_mode": {
    "name": "ipython",
    "version": 3
   },
   "file_extension": ".py",
   "mimetype": "text/x-python",
   "name": "python",
   "nbconvert_exporter": "python",
   "pygments_lexer": "ipython3",
   "version": "3.9.1"
  }
 },
 "nbformat": 4,
 "nbformat_minor": 5
}
