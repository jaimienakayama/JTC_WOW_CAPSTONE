{
 "cells": [
  {
   "cell_type": "markdown",
   "metadata": {},
   "source": [
    "## Importing libaraies and csv's"
   ]
  },
  {
   "cell_type": "code",
   "execution_count": 1,
   "metadata": {},
   "outputs": [],
   "source": [
    "import pandas as pd \n",
    "df_3 = pd.read_csv('city_dataframe.csv', keep_date_col = ['closed_date', 'calander_year'])\n",
    "df_7 = pd.read_csv('seven_cities.csv', keep_date_col = ['closed_date', 'calander_year'])"
   ]
  },
  {
   "cell_type": "markdown",
   "metadata": {},
   "source": [
    "## Assigning data frames to a variable "
   ]
  },
  {
   "cell_type": "code",
   "execution_count": 2,
   "metadata": {},
   "outputs": [],
   "source": [
    "all_10 = (df_3),(df_7)"
   ]
  },
  {
   "cell_type": "code",
   "execution_count": 3,
   "metadata": {},
   "outputs": [
    {
     "data": {
      "text/plain": [
       "(      calendar_year          city state closed_date  amount_awarded\n",
       " 0            2010.0  Philadelphia    PA  2010-01-11          3871.0\n",
       " 1            2010.0  Philadelphia    PA  2010-01-12         45000.0\n",
       " 2            2010.0  Philadelphia    PA  2010-01-21         25000.0\n",
       " 3            2010.0  Philadelphia    PA  2010-01-26           750.0\n",
       " 4            2010.0  Philadelphia    PA  2010-01-27         12500.0\n",
       " ...             ...           ...   ...         ...             ...\n",
       " 1529         2015.0   New Orleans    LA  2015-07-13         22500.0\n",
       " 1530         2015.0   New Orleans    LA  2015-11-17        250000.0\n",
       " 1531         2017.0   New Orleans    LA  2017-12-29       1090000.0\n",
       " 1532         2014.0   New Orleans    LA  2014-04-15           200.0\n",
       " 1533         2017.0   New Orleans    LA  2017-09-05          1000.0\n",
       " \n",
       " [1534 rows x 5 columns],\n",
       "      calendar_year          city state closed_date  amount_awarded\n",
       " 0           2019.0   Baton Rouge    LA  2019-07-08        45640.50\n",
       " 1           2019.0   Baton Rouge    LA  2019-08-14        30445.62\n",
       " 2           2019.0   Baton Rouge    LA  2019-02-27        52504.00\n",
       " 3           2018.0   Baton Rouge    LA  2018-12-11        20000.00\n",
       " 4           2018.0   Baton Rouge    LA  2018-07-16       107795.30\n",
       " ..             ...           ...   ...         ...             ...\n",
       " 870         2010.0  Indianapolis    IN  2010-09-24         7500.00\n",
       " 871         2010.0  Indianapolis    IN  2010-11-17         6500.00\n",
       " 872         2010.0  Indianapolis    IN  2010-11-17        18000.00\n",
       " 873         2010.0  Indianapolis    IN  2010-12-07         1000.00\n",
       " 874         2010.0  Indianapolis    IN  2010-12-16        70000.00\n",
       " \n",
       " [875 rows x 5 columns])"
      ]
     },
     "execution_count": 3,
     "metadata": {},
     "output_type": "execute_result"
    }
   ],
   "source": [
    "all_10"
   ]
  },
  {
   "cell_type": "markdown",
   "metadata": {},
   "source": [
    "## Concatenating data frames "
   ]
  },
  {
   "cell_type": "code",
   "execution_count": 4,
   "metadata": {},
   "outputs": [],
   "source": [
    "sam_10_cities = pd.concat(all_10)"
   ]
  },
  {
   "cell_type": "code",
   "execution_count": 5,
   "metadata": {},
   "outputs": [
    {
     "data": {
      "text/html": [
       "<div>\n",
       "<style scoped>\n",
       "    .dataframe tbody tr th:only-of-type {\n",
       "        vertical-align: middle;\n",
       "    }\n",
       "\n",
       "    .dataframe tbody tr th {\n",
       "        vertical-align: top;\n",
       "    }\n",
       "\n",
       "    .dataframe thead th {\n",
       "        text-align: right;\n",
       "    }\n",
       "</style>\n",
       "<table border=\"1\" class=\"dataframe\">\n",
       "  <thead>\n",
       "    <tr style=\"text-align: right;\">\n",
       "      <th></th>\n",
       "      <th>calendar_year</th>\n",
       "      <th>city</th>\n",
       "      <th>state</th>\n",
       "      <th>closed_date</th>\n",
       "      <th>amount_awarded</th>\n",
       "    </tr>\n",
       "  </thead>\n",
       "  <tbody>\n",
       "    <tr>\n",
       "      <th>0</th>\n",
       "      <td>2010.0</td>\n",
       "      <td>Philadelphia</td>\n",
       "      <td>PA</td>\n",
       "      <td>2010-01-11</td>\n",
       "      <td>3871.0</td>\n",
       "    </tr>\n",
       "    <tr>\n",
       "      <th>1</th>\n",
       "      <td>2010.0</td>\n",
       "      <td>Philadelphia</td>\n",
       "      <td>PA</td>\n",
       "      <td>2010-01-12</td>\n",
       "      <td>45000.0</td>\n",
       "    </tr>\n",
       "    <tr>\n",
       "      <th>2</th>\n",
       "      <td>2010.0</td>\n",
       "      <td>Philadelphia</td>\n",
       "      <td>PA</td>\n",
       "      <td>2010-01-21</td>\n",
       "      <td>25000.0</td>\n",
       "    </tr>\n",
       "    <tr>\n",
       "      <th>3</th>\n",
       "      <td>2010.0</td>\n",
       "      <td>Philadelphia</td>\n",
       "      <td>PA</td>\n",
       "      <td>2010-01-26</td>\n",
       "      <td>750.0</td>\n",
       "    </tr>\n",
       "    <tr>\n",
       "      <th>4</th>\n",
       "      <td>2010.0</td>\n",
       "      <td>Philadelphia</td>\n",
       "      <td>PA</td>\n",
       "      <td>2010-01-27</td>\n",
       "      <td>12500.0</td>\n",
       "    </tr>\n",
       "    <tr>\n",
       "      <th>...</th>\n",
       "      <td>...</td>\n",
       "      <td>...</td>\n",
       "      <td>...</td>\n",
       "      <td>...</td>\n",
       "      <td>...</td>\n",
       "    </tr>\n",
       "    <tr>\n",
       "      <th>870</th>\n",
       "      <td>2010.0</td>\n",
       "      <td>Indianapolis</td>\n",
       "      <td>IN</td>\n",
       "      <td>2010-09-24</td>\n",
       "      <td>7500.0</td>\n",
       "    </tr>\n",
       "    <tr>\n",
       "      <th>871</th>\n",
       "      <td>2010.0</td>\n",
       "      <td>Indianapolis</td>\n",
       "      <td>IN</td>\n",
       "      <td>2010-11-17</td>\n",
       "      <td>6500.0</td>\n",
       "    </tr>\n",
       "    <tr>\n",
       "      <th>872</th>\n",
       "      <td>2010.0</td>\n",
       "      <td>Indianapolis</td>\n",
       "      <td>IN</td>\n",
       "      <td>2010-11-17</td>\n",
       "      <td>18000.0</td>\n",
       "    </tr>\n",
       "    <tr>\n",
       "      <th>873</th>\n",
       "      <td>2010.0</td>\n",
       "      <td>Indianapolis</td>\n",
       "      <td>IN</td>\n",
       "      <td>2010-12-07</td>\n",
       "      <td>1000.0</td>\n",
       "    </tr>\n",
       "    <tr>\n",
       "      <th>874</th>\n",
       "      <td>2010.0</td>\n",
       "      <td>Indianapolis</td>\n",
       "      <td>IN</td>\n",
       "      <td>2010-12-16</td>\n",
       "      <td>70000.0</td>\n",
       "    </tr>\n",
       "  </tbody>\n",
       "</table>\n",
       "<p>2409 rows × 5 columns</p>\n",
       "</div>"
      ],
      "text/plain": [
       "     calendar_year          city state closed_date  amount_awarded\n",
       "0           2010.0  Philadelphia    PA  2010-01-11          3871.0\n",
       "1           2010.0  Philadelphia    PA  2010-01-12         45000.0\n",
       "2           2010.0  Philadelphia    PA  2010-01-21         25000.0\n",
       "3           2010.0  Philadelphia    PA  2010-01-26           750.0\n",
       "4           2010.0  Philadelphia    PA  2010-01-27         12500.0\n",
       "..             ...           ...   ...         ...             ...\n",
       "870         2010.0  Indianapolis    IN  2010-09-24          7500.0\n",
       "871         2010.0  Indianapolis    IN  2010-11-17          6500.0\n",
       "872         2010.0  Indianapolis    IN  2010-11-17         18000.0\n",
       "873         2010.0  Indianapolis    IN  2010-12-07          1000.0\n",
       "874         2010.0  Indianapolis    IN  2010-12-16         70000.0\n",
       "\n",
       "[2409 rows x 5 columns]"
      ]
     },
     "execution_count": 5,
     "metadata": {},
     "output_type": "execute_result"
    }
   ],
   "source": [
    "sam_10_cities"
   ]
  },
  {
   "cell_type": "markdown",
   "metadata": {},
   "source": [
    "## Converting data frame to csv"
   ]
  },
  {
   "cell_type": "code",
   "execution_count": 6,
   "metadata": {},
   "outputs": [],
   "source": [
    "sam_10_cities.to_csv('sam_10_cities.csv', index = False)"
   ]
  },
  {
   "cell_type": "code",
   "execution_count": null,
   "metadata": {},
   "outputs": [],
   "source": []
  }
 ],
 "metadata": {
  "kernelspec": {
   "display_name": "Python 3",
   "language": "python",
   "name": "python3"
  },
  "language_info": {
   "codemirror_mode": {
    "name": "ipython",
    "version": 3
   },
   "file_extension": ".py",
   "mimetype": "text/x-python",
   "name": "python",
   "nbconvert_exporter": "python",
   "pygments_lexer": "ipython3",
   "version": "3.8.5"
  }
 },
 "nbformat": 4,
 "nbformat_minor": 4
}
