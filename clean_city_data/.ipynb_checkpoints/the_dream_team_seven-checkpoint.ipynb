{
 "cells": [
  {
   "cell_type": "markdown",
   "metadata": {},
   "source": [
    "## Importing libraries and csv's"
   ]
  },
  {
   "cell_type": "code",
   "execution_count": 1,
   "metadata": {},
   "outputs": [],
   "source": [
    "import pandas as pd\n",
    "df_bat = pd.read_csv('baton_rouge_edited.csv')\n",
    "df_san = pd.read_csv('san_francisco_edited.csv')\n",
    "df_pat = pd.read_csv('paterson_edited.csv')\n",
    "df_mil = pd.read_csv('milwaukee_edited.csv')\n",
    "df_mem = pd.read_csv('memphis_edited.csv')\n",
    "df_ind = pd.read_csv('indianapolis_edited.csv')\n",
    "df_cle = pd.read_csv('cleveland_edited.csv')"
   ]
  },
  {
   "cell_type": "markdown",
   "metadata": {},
   "source": [
    "## Droping columns and modifying csv's"
   ]
  },
  {
   "cell_type": "code",
   "execution_count": 2,
   "metadata": {},
   "outputs": [],
   "source": [
    "df_bat.drop(columns = ['matter_name', 'court', 'docket_number', 'plaintiff_attorney',\n",
    "       'filed_date', 'summary_allegations', 'case_outcome','filed_year', 'other_expenses', 'collection',\n",
    "       'total_incurred', 'claim_number', 'location', 'plaintiff_name' , 'incident_year' , 'incident_date'], inplace = True)\n",
    "df_cle.drop(columns = ['matter_name', 'court', 'docket_number', 'plaintiff_attorney',\n",
    "       'filed_date', 'summary_allegations', 'case_outcome','filed_year', 'other_expenses', 'collection',\n",
    "       'total_incurred', 'claim_number', 'location', 'plaintiff_name' , 'incident_year' , 'incident_date'], inplace = True)\n",
    "df_ind.drop(columns = ['matter_name', 'court', 'docket_number', 'plaintiff_attorney',\n",
    "       'filed_date', 'summary_allegations', 'case_outcome','filed_year', 'other_expenses', 'collection',\n",
    "       'total_incurred', 'claim_number', 'location', 'plaintiff_name', 'year', 'incident_year' , 'incident_date'], inplace = True)\n",
    "df_mem.drop(columns = ['matter_name', 'court', 'docket_number', 'plaintiff_attorney',\n",
    "       'filed_date', 'summary_allegations', 'case_outcome','filed_year', 'other_expenses', 'collection',\n",
    "       'total_incurred', 'claim_number', 'location', 'plaintiff_name' , 'incident_year' , 'incident_date'], inplace = True)\n",
    "df_mil.drop(columns = ['matter_name', 'court', 'docket_number', 'plaintiff_attorney',\n",
    "       'filed_date', 'summary_allegations', 'case_outcome','filed_year', 'status', 'other_expenses', 'collection',\n",
    "       'total_incurred', 'claim_number', 'location', 'plaintiff_name' , 'incident_year' , 'incident_date'], inplace = True)\n",
    "df_pat.drop(columns = ['claim_number', 'defendant', 'lawsuit_status', 'defendant_attorney',\n",
    "       'trial_date', 'plaintiff_attorney', 'plaintiff_name', 'incident_date',\n",
    "       'date_received', 'filed_date', 'claim_status',\n",
    "       'location', 'total_reimbursed', 'claim_or_lawsuit',\n",
    "       'summary_allegations',  'incident_year', 'matter_name', 'docket_number', 'filed_year', 'court',\n",
    "       'case_outcome', 'other_expenses', 'collection', 'total_incurred', 'total_paid', 'total_reserve'], inplace = True)\n",
    "df_san.drop(columns = ['matter_name', 'court', 'docket_number', 'plaintiff_attorney',\n",
    "       'filed_date', 'summary_allegations', 'case_outcome','filed_year', 'other_expenses', 'collection',\n",
    "       'total_incurred', 'claim_number', 'location', 'plaintiff_name' , 'incident_year' , 'incident_date'], inplace = True)"
   ]
  },
  {
   "cell_type": "markdown",
   "metadata": {},
   "source": [
    "## Creating a variable consisting of all cities"
   ]
  },
  {
   "cell_type": "code",
   "execution_count": 3,
   "metadata": {},
   "outputs": [],
   "source": [
    "seven = (df_bat),(df_san),(df_mem),(df_cle),(df_pat),(df_mil),(df_ind)"
   ]
  },
  {
   "cell_type": "markdown",
   "metadata": {},
   "source": [
    "## Concatenating data frames "
   ]
  },
  {
   "cell_type": "code",
   "execution_count": 4,
   "metadata": {},
   "outputs": [],
   "source": [
    "seven_cities = pd.concat(seven)"
   ]
  },
  {
   "cell_type": "code",
   "execution_count": 5,
   "metadata": {},
   "outputs": [
    {
     "data": {
      "text/html": [
       "<div>\n",
       "<style scoped>\n",
       "    .dataframe tbody tr th:only-of-type {\n",
       "        vertical-align: middle;\n",
       "    }\n",
       "\n",
       "    .dataframe tbody tr th {\n",
       "        vertical-align: top;\n",
       "    }\n",
       "\n",
       "    .dataframe thead th {\n",
       "        text-align: right;\n",
       "    }\n",
       "</style>\n",
       "<table border=\"1\" class=\"dataframe\">\n",
       "  <thead>\n",
       "    <tr style=\"text-align: right;\">\n",
       "      <th></th>\n",
       "      <th>calendar_year</th>\n",
       "      <th>city</th>\n",
       "      <th>state</th>\n",
       "      <th>closed_date</th>\n",
       "      <th>amount_awarded</th>\n",
       "    </tr>\n",
       "  </thead>\n",
       "  <tbody>\n",
       "    <tr>\n",
       "      <th>0</th>\n",
       "      <td>2019.0</td>\n",
       "      <td>Baton Rouge</td>\n",
       "      <td>LA</td>\n",
       "      <td>2019-07-08</td>\n",
       "      <td>45640.50</td>\n",
       "    </tr>\n",
       "    <tr>\n",
       "      <th>1</th>\n",
       "      <td>2019.0</td>\n",
       "      <td>Baton Rouge</td>\n",
       "      <td>LA</td>\n",
       "      <td>2019-08-14</td>\n",
       "      <td>30445.62</td>\n",
       "    </tr>\n",
       "    <tr>\n",
       "      <th>2</th>\n",
       "      <td>2019.0</td>\n",
       "      <td>Baton Rouge</td>\n",
       "      <td>LA</td>\n",
       "      <td>2019-02-27</td>\n",
       "      <td>52504.00</td>\n",
       "    </tr>\n",
       "    <tr>\n",
       "      <th>3</th>\n",
       "      <td>2018.0</td>\n",
       "      <td>Baton Rouge</td>\n",
       "      <td>LA</td>\n",
       "      <td>2018-12-11</td>\n",
       "      <td>20000.00</td>\n",
       "    </tr>\n",
       "    <tr>\n",
       "      <th>4</th>\n",
       "      <td>2018.0</td>\n",
       "      <td>Baton Rouge</td>\n",
       "      <td>LA</td>\n",
       "      <td>2018-07-16</td>\n",
       "      <td>107795.30</td>\n",
       "    </tr>\n",
       "    <tr>\n",
       "      <th>...</th>\n",
       "      <td>...</td>\n",
       "      <td>...</td>\n",
       "      <td>...</td>\n",
       "      <td>...</td>\n",
       "      <td>...</td>\n",
       "    </tr>\n",
       "    <tr>\n",
       "      <th>232</th>\n",
       "      <td>2010.0</td>\n",
       "      <td>Indianapolis</td>\n",
       "      <td>IN</td>\n",
       "      <td>2010-09-24</td>\n",
       "      <td>7500.00</td>\n",
       "    </tr>\n",
       "    <tr>\n",
       "      <th>233</th>\n",
       "      <td>2010.0</td>\n",
       "      <td>Indianapolis</td>\n",
       "      <td>IN</td>\n",
       "      <td>2010-11-17</td>\n",
       "      <td>6500.00</td>\n",
       "    </tr>\n",
       "    <tr>\n",
       "      <th>234</th>\n",
       "      <td>2010.0</td>\n",
       "      <td>Indianapolis</td>\n",
       "      <td>IN</td>\n",
       "      <td>2010-11-17</td>\n",
       "      <td>18000.00</td>\n",
       "    </tr>\n",
       "    <tr>\n",
       "      <th>235</th>\n",
       "      <td>2010.0</td>\n",
       "      <td>Indianapolis</td>\n",
       "      <td>IN</td>\n",
       "      <td>2010-12-07</td>\n",
       "      <td>1000.00</td>\n",
       "    </tr>\n",
       "    <tr>\n",
       "      <th>236</th>\n",
       "      <td>2010.0</td>\n",
       "      <td>Indianapolis</td>\n",
       "      <td>IN</td>\n",
       "      <td>2010-12-16</td>\n",
       "      <td>70000.00</td>\n",
       "    </tr>\n",
       "  </tbody>\n",
       "</table>\n",
       "<p>875 rows × 5 columns</p>\n",
       "</div>"
      ],
      "text/plain": [
       "     calendar_year          city state closed_date  amount_awarded\n",
       "0           2019.0   Baton Rouge    LA  2019-07-08        45640.50\n",
       "1           2019.0   Baton Rouge    LA  2019-08-14        30445.62\n",
       "2           2019.0   Baton Rouge    LA  2019-02-27        52504.00\n",
       "3           2018.0   Baton Rouge    LA  2018-12-11        20000.00\n",
       "4           2018.0   Baton Rouge    LA  2018-07-16       107795.30\n",
       "..             ...           ...   ...         ...             ...\n",
       "232         2010.0  Indianapolis    IN  2010-09-24         7500.00\n",
       "233         2010.0  Indianapolis    IN  2010-11-17         6500.00\n",
       "234         2010.0  Indianapolis    IN  2010-11-17        18000.00\n",
       "235         2010.0  Indianapolis    IN  2010-12-07         1000.00\n",
       "236         2010.0  Indianapolis    IN  2010-12-16        70000.00\n",
       "\n",
       "[875 rows x 5 columns]"
      ]
     },
     "execution_count": 5,
     "metadata": {},
     "output_type": "execute_result"
    }
   ],
   "source": [
    "seven_cities "
   ]
  },
  {
   "cell_type": "markdown",
   "metadata": {},
   "source": [
    "## Converting data frame to csv"
   ]
  },
  {
   "cell_type": "code",
   "execution_count": 6,
   "metadata": {},
   "outputs": [],
   "source": [
    "seven_cities.to_csv('seven_cities.csv', index = False)"
   ]
  },
  {
   "cell_type": "code",
   "execution_count": null,
   "metadata": {},
   "outputs": [],
   "source": []
  }
 ],
 "metadata": {
  "kernelspec": {
   "display_name": "Python 3",
   "language": "python",
   "name": "python3"
  },
  "language_info": {
   "codemirror_mode": {
    "name": "ipython",
    "version": 3
   },
   "file_extension": ".py",
   "mimetype": "text/x-python",
   "name": "python",
   "nbconvert_exporter": "python",
   "pygments_lexer": "ipython3",
   "version": "3.8.5"
  }
 },
 "nbformat": 4,
 "nbformat_minor": 4
}
