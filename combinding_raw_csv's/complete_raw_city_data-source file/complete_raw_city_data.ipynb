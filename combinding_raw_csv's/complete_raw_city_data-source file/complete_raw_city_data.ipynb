{
 "cells": [
  {
   "cell_type": "markdown",
   "metadata": {},
   "source": [
    "## Importing libraries and csv's"
   ]
  },
  {
   "cell_type": "code",
   "execution_count": 1,
   "metadata": {},
   "outputs": [],
   "source": [
    "import pandas as pd\n",
    "bat = pd.read_csv('baton_rouge_edited.csv')\n",
    "san = pd.read_csv('san_francisco_edited.csv')\n",
    "pat = pd.read_csv('paterson_edited.csv')\n",
    "mil = pd.read_csv('milwaukee_edited.csv')\n",
    "mem = pd.read_csv('memphis_edited.csv')\n",
    "ind = pd.read_csv('indianapolis_edited.csv')\n",
    "cle = pd.read_csv('cleveland_edited.csv')\n",
    "balt = pd.read_csv('baltimore_edited.csv')\n",
    "no = pd.read_csv('new_orleans_edited.csv')\n",
    "phila = pd.read_csv('philly_edited.csv')\n",
    "nypd = pd.read_csv('new_york_edited.csv')\n",
    "dc = pd.read_csv('DC_edited.csv')\n",
    "detroit = pd.read_csv('detroit_edited.csv')\n",
    "atl = pd.read_csv('atlanta_edited copy.csv')\n",
    "ftlauderdale = pd.read_csv('fort_lauderdale_edited.csv')\n",
    "richmond = pd.read_csv('richmond_edited.csv')\n",
    "st_louis = pd.read_csv('stlouis_edited.csv')\n",
    "roanoke_va = pd.read_csv('roanoke_edited.csv')\n",
    "waterbury_ct = pd.read_csv('waterbury_edited.csv')\n",
    "springfield = pd.read_csv('springfield_edited.csv')\n",
    "north_charleston = pd.read_csv('north_charleston_edited.csv')\n",
    "bos = pd.read_csv('boston_edited.csv')\n",
    "cam = pd.read_csv('cambridge_edited.csv')\n",
    "charl = pd.read_csv('charleston_edited.csv')\n",
    "cin = pd.read_csv('cincinnati_edited.csv')\n",
    "col = pd.read_csv('columbia_edited.csv')\n",
    "lr = pd.read_csv('little_rock_edited.csv')\n",
    "orl = pd.read_csv('orlando_edited.csv')\n",
    "la = pd.read_csv('los_angeles_edited.csv')\n",
    "chi = pd.read_csv('chicago_edited.csv')\n",
    "mia = pd.read_csv('miami_edited.csv')"
   ]
  },
  {
   "cell_type": "markdown",
   "metadata": {},
   "source": [
    "## using columns() to list columns"
   ]
  },
  {
   "cell_type": "code",
   "execution_count": 2,
   "metadata": {},
   "outputs": [
    {
     "data": {
      "text/plain": [
       "Index(['calendar_year', 'city', 'state', 'incident_date', 'incident_year',\n",
       "       'filed_date', 'filed_year', 'closed_date', 'amount_awarded',\n",
       "       'other_expenses', 'collection', 'total_incurred', 'case_outcome',\n",
       "       'docket_number', 'claim_number', 'court', 'plaintiff_name',\n",
       "       'plaintiff_attorney', 'matter_name', 'location', 'summary_allegations',\n",
       "       'status', 'opened_date'],\n",
       "      dtype='object')"
      ]
     },
     "execution_count": 2,
     "metadata": {},
     "output_type": "execute_result"
    }
   ],
   "source": [
    "bat.columns   \n",
    "san.columns\n",
    "pat.columns\n",
    "mil.columns\n",
    "mem.columns\n",
    "ind.columns\n",
    "cle.columns\n",
    "balt.columns\n",
    "no.columns\n",
    "phila.columns\n",
    "nypd.columns\n",
    "dc.columns\n",
    "detroit.columns\n",
    "atl.columns\n",
    "ftlauderdale.columns\n",
    "richmond.columns\n",
    "st_louis.columns\n",
    "roanoke_va.columns\n",
    "waterbury_ct.columns\n",
    "springfield.columns\n",
    "north_charleston.columns\n",
    "bos.columns\n",
    "cam.columns\n",
    "charl.columns\n",
    "cin.columns\n",
    "col.columns\n",
    "lr.columns\n",
    "orl.columns\n",
    "la.columns\n",
    "chi.columns\n",
    "mia.columns"
   ]
  },
  {
   "cell_type": "markdown",
   "metadata": {},
   "source": [
    "## Droping columns and modifying csv's"
   ]
  },
  {
   "cell_type": "code",
   "execution_count": 3,
   "metadata": {},
   "outputs": [],
   "source": [
    "bat.drop(columns = ['matter_name', 'court', 'docket_number', 'plaintiff_attorney',\n",
    "       'filed_date', 'summary_allegations', 'case_outcome','filed_year', 'other_expenses', 'collection',\n",
    "       'total_incurred', 'claim_number', 'location', 'plaintiff_name' , 'incident_year' , 'incident_date'], inplace = True)\n",
    "cle.drop(columns = ['matter_name', 'court', 'docket_number', 'plaintiff_attorney',\n",
    "       'filed_date', 'summary_allegations', 'case_outcome','filed_year', 'other_expenses', 'collection',\n",
    "       'total_incurred', 'claim_number', 'location', 'plaintiff_name' , 'incident_year' , 'incident_date'], inplace = True)\n",
    "ind.drop(columns = ['matter_name', 'court', 'docket_number', 'plaintiff_attorney',\n",
    "       'filed_date', 'summary_allegations', 'case_outcome','filed_year', 'other_expenses', 'collection',\n",
    "       'total_incurred', 'claim_number', 'location', 'plaintiff_name', 'year', 'incident_year' , 'incident_date'], inplace = True)\n",
    "mem.drop(columns = ['matter_name', 'court', 'docket_number', 'plaintiff_attorney',\n",
    "       'filed_date', 'summary_allegations', 'case_outcome','filed_year', 'other_expenses', 'collection',\n",
    "       'total_incurred', 'claim_number', 'location', 'plaintiff_name' , 'incident_year' , 'incident_date'], inplace = True)\n",
    "mil.drop(columns = ['matter_name', 'court', 'docket_number', 'plaintiff_attorney',\n",
    "       'filed_date', 'summary_allegations', 'case_outcome','filed_year', 'status', 'other_expenses', 'collection',\n",
    "       'total_incurred', 'claim_number', 'location', 'plaintiff_name' , 'incident_year' , 'incident_date'], inplace = True)\n",
    "pat.drop(columns = ['claim_number', 'defendant', 'lawsuit_status', 'defendant_attorney',\n",
    "       'trial_date', 'plaintiff_attorney', 'plaintiff_name', 'incident_date',\n",
    "       'date_received', 'filed_date', 'claim_status',\n",
    "       'location', 'total_reimbursed', 'claim_or_lawsuit',\n",
    "       'summary_allegations',  'incident_year', 'matter_name', 'docket_number', 'filed_year', 'court',\n",
    "       'case_outcome', 'other_expenses', 'collection', 'total_incurred', 'total_paid', 'total_reserve'], inplace = True)\n",
    "san.drop(columns = ['matter_name', 'court', 'docket_number', 'plaintiff_attorney',\n",
    "       'filed_date', 'summary_allegations', 'case_outcome','filed_year', 'other_expenses', 'collection',\n",
    "       'total_incurred', 'claim_number', 'location', 'plaintiff_name' , 'incident_year' , 'incident_date'], inplace = True)\n",
    "balt.drop(columns = ['matter_name', 'court', 'docket_number', 'plaintiff_attorney',\n",
    "       'filed_date', 'summary_allegations', 'case_outcome','filed_year', 'other_expenses', 'collection',\n",
    "       'total_incurred', 'claim_number', 'location','incident_year' , 'incident_date'], inplace = True)\n",
    "no.drop(columns = ['matter_name', 'court', 'docket_number', 'plaintiff_attorney',\n",
    "       'filed_date', 'summary_allegations', 'case_outcome','filed_year', 'other_expenses', 'collection',\n",
    "       'total_incurred', 'claim_number', 'location', 'plaintiff_name' , 'incident_year' , 'incident_date'], inplace = True)\n",
    "phila.drop(columns = ['matter_name', 'court', 'docket_number', 'plaintiff_attorney',\n",
    "       'filed_date', 'summary_allegations', 'case_outcome','filed_year', 'other_expenses', 'collection',\n",
    "       'total_incurred', 'claim_number', 'location', 'plaintiff_name' , 'incident_year' , 'incident_date'], inplace = True)\n",
    "nypd.drop(columns = ['matter_name', 'court', 'docket_number', 'plaintiff_attorney',\n",
    "       'filed_date', 'summary_allegations', 'case_outcome','filed_year', 'other_expenses', 'collection',\n",
    "       'total_incurred', 'claim_number', 'location', 'plaintiff_name' , 'incident_year' , 'incident_date'], inplace = True)\n",
    "dc.drop(columns = ['disposition_date','status','longer_description','matter_name', 'court', 'docket_number', 'plaintiff_attorney',\n",
    "       'filed_date', 'summary_allegations', 'case_outcome','filed_year', 'other_expenses', 'collection',\n",
    "       'total_incurred', 'claim_number', 'location', 'plaintiff_name' , 'incident_year' , 'incident_date'], inplace = True)\n",
    "detroit.drop(columns = ['matter_name', 'court', 'docket_number', 'plaintiff_attorney',\n",
    "       'filed_date', 'summary_allegations', 'case_outcome','filed_year', 'other_expenses', 'collection',\n",
    "       'total_incurred', 'claim_number', 'location', 'plaintiff_name' , 'incident_year' , 'incident_date'], inplace = True)\n",
    "atl.drop(columns = ['amount_demanded','denied_date','claim_or_lawsuit','matter_name', 'court', 'docket_number', 'plaintiff_attorney',\n",
    "       'filed_date', 'summary_allegations', 'case_outcome','filed_year', 'other_expenses', 'collection',\n",
    "       'total_incurred', 'claim_number', 'location', 'plaintiff_name' , 'incident_year' , 'incident_date'], inplace = True)\n",
    "ftlauderdale.drop(columns = ['matter_name', 'court', 'docket_number', 'plaintiff_attorney',\n",
    "       'filed_date', 'summary_allegations', 'case_outcome','filed_year', 'other_expenses', 'collection',\n",
    "       'total_incurred', 'claim_number', 'location', 'plaintiff_name' , 'incident_year' , 'incident_date'], inplace = True)\n",
    "richmond.drop(columns = ['case_number','matter_name', 'court', 'docket_number', 'plaintiff_attorney',\n",
    "       'filed_date', 'summary_allegations', 'case_outcome','filed_year', 'other_expenses', 'collection',\n",
    "       'total_incurred','location', 'plaintiff' , 'incident_year' , 'incident_date'], inplace = True)\n",
    "st_louis.drop(columns = ['defendant_attorney','voucher_date','plaintiff_lawfirm','matter_name', 'court', 'docket_number', 'plaintiff_attorney',\n",
    "       'filed_date', 'summary_allegations', 'case_outcome','filed_year', 'other_expenses', 'collection',\n",
    "       'total_incurred', 'claim_number', 'location', 'plaintiff_name' , 'incident_year' , 'incident_date'], inplace = True)\n",
    "roanoke_va.drop(columns = ['matter_name', 'court', 'docket_number', 'plaintiff_attorney',\n",
    "       'filed_date', 'summary_allegations', 'case_outcome','filed_year', 'other_expenses', 'collection',\n",
    "       'total_incurred', 'claim_number', 'location', 'plaintiff_name' , 'incident_year' , 'incident_date'], inplace = True)\n",
    "waterbury_ct.drop(columns = ['matter_name', 'court', 'docket_number', 'defendant',\n",
    "       'filed_date', 'summary_allegations', 'case_outcome','filed_year', 'other_expenses', 'collection',\n",
    "       'total_incurred', 'claim_number', 'location', 'plaintiff_name' , 'incident_year' , 'incident_date'], inplace = True)\n",
    "springfield.drop(columns = ['matter_name', 'court', 'docket_number', 'plaintiff_attorney',\n",
    "       'filed_date', 'summary_allegations', 'case_outcome','filed_year', 'other_expenses', 'collection',\n",
    "       'total_incurred', 'claim_number', 'location', 'plaintiff_name' , 'incident_year' , 'incident_date'], inplace = True)\n",
    "north_charleston.drop(columns = ['defendant_name','defendant_attorney','matter_name', 'court', 'docket_number', 'plaintiff_attorney',\n",
    "       'filed_date', 'summary_allegations', 'case_outcome','filed_year', 'other_expenses', 'collection',\n",
    "       'total_incurred', 'claim_number', 'location', 'plaintiff_name' , 'incident_year' , 'incident_date'], inplace = True)\n",
    "bos.drop(columns = ['matter_name', 'court', 'docket_number', 'plaintiff_attorney',\n",
    "       'filed_date', 'summary_allegations', 'case_outcome','filed_year', 'other_expenses', 'collection',\n",
    "       'total_incurred', 'claim_number', 'location', 'plaintiff_name' , 'incident_year' , 'incident_date'], inplace = True)\n",
    "cam.drop(columns = ['incident_date_full','matter_name', 'court', 'docket_number', 'plaintiff_attorney',\n",
    "       'filed_date', 'summary_allegations', 'case_outcome','filed_year', 'other_expenses', 'collection',\n",
    "       'total_incurred', 'claim_number', 'location', 'plaintiff_name' , 'incident_year' , 'incident_date'], inplace = True)\n",
    "charl.drop(columns = ['defendant_name','defendant_attorney','matter_name', 'court', 'docket_number', 'plaintiff_attorney',\n",
    "       'filed_date', 'summary_allegations', 'case_outcome','filed_year', 'other_expenses', 'collection',\n",
    "       'total_incurred', 'claim_number', 'location', 'plaintiff_name' , 'incident_year' , 'incident_date'], inplace = True)\n",
    "cin.drop(columns = ['matter_name', 'court', 'docket_number', 'plaintiff_attorney',\n",
    "       'filed_date', 'summary_allegations', 'case_outcome','filed_year', 'other_expenses', 'collection',\n",
    "       'total_incurred', 'claim_number', 'location', 'plaintiff_name' , 'incident_year' , 'incident_date'], inplace = True)\n",
    "col.drop(columns = ['defendant','matter_name', 'court', 'docket_number', 'plaintiff_attorney',\n",
    "       'filed_date', 'summary_allegations', 'case_outcome','filed_year', 'other_expenses', 'collection',\n",
    "       'total_incurred', 'claim_number', 'location', 'plaintiff_name' , 'incident_year' , 'incident_date'], inplace = True)\n",
    "lr.drop(columns = ['matter_name', 'court', 'docket_number', 'plaintiff_attorney',\n",
    "       'filed_date', 'summary_allegations', 'case_outcome','filed_year', 'other_expenses', 'collection',\n",
    "       'total_incurred', 'claim_number', 'location', 'plaintiff_name' , 'incident_year' , 'incident_date'], inplace = True)\n",
    "orl.drop(columns = ['matter_name', 'court', 'docket_number', 'plaintiff_attorney',\n",
    "       'filed_date', 'summary_allegations', 'case_outcome','filed_year', 'other_expenses', 'collection',\n",
    "       'total_incurred', 'claim_number', 'location', 'plaintiff_name' , 'incident_year' , 'incident_date'], inplace = True)\n",
    "la.drop(columns = ['claim_or_lawsuit','fiscal_year','matter_name', 'court', 'docket_number', 'plaintiff_attorney',\n",
    "       'filed_date', 'summary_allegations', 'case_outcome','filed_year', 'other_expenses', 'collection',\n",
    "       'total_incurred', 'claim_number', 'location', 'plaintiff_name' , 'incident_year' , 'incident_date'], inplace = True)\n",
    "chi.drop(columns = ['status','role','flag_dept','matter_name', 'court', 'docket_number', 'plaintiff_attorney',\n",
    "       'filed_date', 'summary_allegations', 'case_outcome','filed_year', 'other_expenses', 'collection',\n",
    "       'total_incurred', 'claim_number', 'location', 'plaintiff_name' , 'incident_year' , 'incident_date'], inplace = True)\n",
    "mia.drop(columns = ['opened_date','status','matter_name', 'court', 'docket_number', 'plaintiff_attorney',\n",
    "       'filed_date', 'summary_allegations', 'case_outcome','filed_year', 'other_expenses', 'collection',\n",
    "       'total_incurred', 'claim_number', 'location', 'plaintiff_name' , 'incident_year' , 'incident_date'], inplace = True)"
   ]
  },
  {
   "cell_type": "code",
   "execution_count": 4,
   "metadata": {},
   "outputs": [
    {
     "data": {
      "text/plain": [
       "Index(['calendar_year', 'city', 'state', 'closed_date', 'amount_awarded'], dtype='object')"
      ]
     },
     "execution_count": 4,
     "metadata": {},
     "output_type": "execute_result"
    }
   ],
   "source": [
    "mia.columns"
   ]
  },
  {
   "cell_type": "markdown",
   "metadata": {},
   "source": [
    "## Creating a variable consisting of all cities"
   ]
  },
  {
   "cell_type": "code",
   "execution_count": 5,
   "metadata": {},
   "outputs": [],
   "source": [
    "total = (bat),(san),(mem),(cle),(pat),(mil),(ind),(balt),(phila),(no),(nypd),(dc),(detroit),(atl),(ftlauderdale),(richmond),(st_louis),(roanoke_va),(waterbury_ct),(springfield),(north_charleston),(bos),(cam),(charl),(cin),(col),(lr),(orl),(la),(chi),(mia)"
   ]
  },
  {
   "cell_type": "markdown",
   "metadata": {},
   "source": [
    "## Concatenating data frames "
   ]
  },
  {
   "cell_type": "code",
   "execution_count": 6,
   "metadata": {},
   "outputs": [],
   "source": [
    "raw_compleat_cities = pd.concat(total)"
   ]
  },
  {
   "cell_type": "code",
   "execution_count": 7,
   "metadata": {},
   "outputs": [
    {
     "data": {
      "text/html": [
       "<div>\n",
       "<style scoped>\n",
       "    .dataframe tbody tr th:only-of-type {\n",
       "        vertical-align: middle;\n",
       "    }\n",
       "\n",
       "    .dataframe tbody tr th {\n",
       "        vertical-align: top;\n",
       "    }\n",
       "\n",
       "    .dataframe thead th {\n",
       "        text-align: right;\n",
       "    }\n",
       "</style>\n",
       "<table border=\"1\" class=\"dataframe\">\n",
       "  <thead>\n",
       "    <tr style=\"text-align: right;\">\n",
       "      <th></th>\n",
       "      <th>calendar_year</th>\n",
       "      <th>city</th>\n",
       "      <th>state</th>\n",
       "      <th>closed_date</th>\n",
       "      <th>amount_awarded</th>\n",
       "    </tr>\n",
       "  </thead>\n",
       "  <tbody>\n",
       "    <tr>\n",
       "      <th>0</th>\n",
       "      <td>2019.0</td>\n",
       "      <td>Baton Rouge</td>\n",
       "      <td>LA</td>\n",
       "      <td>2019-07-08</td>\n",
       "      <td>45640.50</td>\n",
       "    </tr>\n",
       "    <tr>\n",
       "      <th>1</th>\n",
       "      <td>2019.0</td>\n",
       "      <td>Baton Rouge</td>\n",
       "      <td>LA</td>\n",
       "      <td>2019-08-14</td>\n",
       "      <td>30445.62</td>\n",
       "    </tr>\n",
       "    <tr>\n",
       "      <th>2</th>\n",
       "      <td>2019.0</td>\n",
       "      <td>Baton Rouge</td>\n",
       "      <td>LA</td>\n",
       "      <td>2019-02-27</td>\n",
       "      <td>52504.00</td>\n",
       "    </tr>\n",
       "    <tr>\n",
       "      <th>3</th>\n",
       "      <td>2018.0</td>\n",
       "      <td>Baton Rouge</td>\n",
       "      <td>LA</td>\n",
       "      <td>2018-12-11</td>\n",
       "      <td>20000.00</td>\n",
       "    </tr>\n",
       "    <tr>\n",
       "      <th>4</th>\n",
       "      <td>2018.0</td>\n",
       "      <td>Baton Rouge</td>\n",
       "      <td>LA</td>\n",
       "      <td>2018-07-16</td>\n",
       "      <td>107795.30</td>\n",
       "    </tr>\n",
       "    <tr>\n",
       "      <th>...</th>\n",
       "      <td>...</td>\n",
       "      <td>...</td>\n",
       "      <td>...</td>\n",
       "      <td>...</td>\n",
       "      <td>...</td>\n",
       "    </tr>\n",
       "    <tr>\n",
       "      <th>82</th>\n",
       "      <td>2015.0</td>\n",
       "      <td>Miami</td>\n",
       "      <td>FL</td>\n",
       "      <td>2015-03-17</td>\n",
       "      <td>80000.00</td>\n",
       "    </tr>\n",
       "    <tr>\n",
       "      <th>83</th>\n",
       "      <td>2017.0</td>\n",
       "      <td>Miami</td>\n",
       "      <td>FL</td>\n",
       "      <td>2017-03-15</td>\n",
       "      <td>19750.00</td>\n",
       "    </tr>\n",
       "    <tr>\n",
       "      <th>84</th>\n",
       "      <td>2020.0</td>\n",
       "      <td>Miami</td>\n",
       "      <td>FL</td>\n",
       "      <td>2020-04-07</td>\n",
       "      <td>300000.00</td>\n",
       "    </tr>\n",
       "    <tr>\n",
       "      <th>85</th>\n",
       "      <td>2018.0</td>\n",
       "      <td>Miami</td>\n",
       "      <td>FL</td>\n",
       "      <td>2018-08-03</td>\n",
       "      <td>50000.00</td>\n",
       "    </tr>\n",
       "    <tr>\n",
       "      <th>86</th>\n",
       "      <td>2018.0</td>\n",
       "      <td>Miami</td>\n",
       "      <td>FL</td>\n",
       "      <td>2018-10-30</td>\n",
       "      <td>17500.00</td>\n",
       "    </tr>\n",
       "  </tbody>\n",
       "</table>\n",
       "<p>39070 rows × 5 columns</p>\n",
       "</div>"
      ],
      "text/plain": [
       "    calendar_year         city state closed_date  amount_awarded\n",
       "0          2019.0  Baton Rouge    LA  2019-07-08        45640.50\n",
       "1          2019.0  Baton Rouge    LA  2019-08-14        30445.62\n",
       "2          2019.0  Baton Rouge    LA  2019-02-27        52504.00\n",
       "3          2018.0  Baton Rouge    LA  2018-12-11        20000.00\n",
       "4          2018.0  Baton Rouge    LA  2018-07-16       107795.30\n",
       "..            ...          ...   ...         ...             ...\n",
       "82         2015.0        Miami    FL  2015-03-17        80000.00\n",
       "83         2017.0        Miami    FL  2017-03-15        19750.00\n",
       "84         2020.0        Miami    FL  2020-04-07       300000.00\n",
       "85         2018.0        Miami    FL  2018-08-03        50000.00\n",
       "86         2018.0        Miami    FL  2018-10-30        17500.00\n",
       "\n",
       "[39070 rows x 5 columns]"
      ]
     },
     "execution_count": 7,
     "metadata": {},
     "output_type": "execute_result"
    }
   ],
   "source": [
    "raw_compleat_cities "
   ]
  },
  {
   "cell_type": "markdown",
   "metadata": {},
   "source": [
    "## Converting data frame to csv"
   ]
  },
  {
   "cell_type": "code",
   "execution_count": 8,
   "metadata": {},
   "outputs": [],
   "source": [
    "raw_compleat_cities.to_csv('compleat_raw_cities.csv', index = False)"
   ]
  },
  {
   "cell_type": "code",
   "execution_count": null,
   "metadata": {},
   "outputs": [],
   "source": []
  }
 ],
 "metadata": {
  "kernelspec": {
   "display_name": "Python 3",
   "language": "python",
   "name": "python3"
  },
  "language_info": {
   "codemirror_mode": {
    "name": "ipython",
    "version": 3
   },
   "file_extension": ".py",
   "mimetype": "text/x-python",
   "name": "python",
   "nbconvert_exporter": "python",
   "pygments_lexer": "ipython3",
   "version": "3.8.5"
  }
 },
 "nbformat": 4,
 "nbformat_minor": 4
}
