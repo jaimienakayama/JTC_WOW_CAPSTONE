{
 "cells": [
  {
   "cell_type": "markdown",
   "metadata": {},
   "source": [
    "### Importing Libraries"
   ]
  },
  {
   "cell_type": "code",
   "execution_count": 1,
   "metadata": {},
   "outputs": [
    {
     "data": {
      "text/html": [
       "        <script type=\"text/javascript\">\n",
       "        window.PlotlyConfig = {MathJaxConfig: 'local'};\n",
       "        if (window.MathJax) {MathJax.Hub.Config({SVG: {font: \"STIX-Web\"}});}\n",
       "        if (typeof require !== 'undefined') {\n",
       "        require.undef(\"plotly\");\n",
       "        requirejs.config({\n",
       "            paths: {\n",
       "                'plotly': ['https://cdn.plot.ly/plotly-latest.min']\n",
       "            }\n",
       "        });\n",
       "        require(['plotly'], function(Plotly) {\n",
       "            window._Plotly = Plotly;\n",
       "        });\n",
       "        }\n",
       "        </script>\n",
       "        "
      ]
     },
     "metadata": {},
     "output_type": "display_data"
    },
    {
     "data": {
      "text/html": [
       "        <script type=\"text/javascript\">\n",
       "        window.PlotlyConfig = {MathJaxConfig: 'local'};\n",
       "        if (window.MathJax) {MathJax.Hub.Config({SVG: {font: \"STIX-Web\"}});}\n",
       "        if (typeof require !== 'undefined') {\n",
       "        require.undef(\"plotly\");\n",
       "        requirejs.config({\n",
       "            paths: {\n",
       "                'plotly': ['https://cdn.plot.ly/plotly-latest.min']\n",
       "            }\n",
       "        });\n",
       "        require(['plotly'], function(Plotly) {\n",
       "            window._Plotly = Plotly;\n",
       "        });\n",
       "        }\n",
       "        </script>\n",
       "        "
      ]
     },
     "metadata": {},
     "output_type": "display_data"
    }
   ],
   "source": [
    "import pandas as pd\n",
    "import numpy as np\n",
    "import chart_studio.plotly as py \n",
    "import cufflinks as cf\n",
    "import seaborn as sns\n",
    "import plotly.express as px\n",
    "%matplotlib inline\n",
    "from plotly.offline import download_plotlyjs, init_notebook_mode, plot, iplot\n",
    "init_notebook_mode(connected=True)\n",
    "cf.go_offline()\n",
    "import plotly.graph_objs as go\n"
   ]
  },
  {
   "cell_type": "markdown",
   "metadata": {},
   "source": [
    "### Reading in data with pandas function"
   ]
  },
  {
   "cell_type": "code",
   "execution_count": 2,
   "metadata": {},
   "outputs": [],
   "source": [
    "coordinates = pd.read_csv('coordinates.csv')\n",
    "misconduct = pd.read_csv('misconduct.csv')"
   ]
  },
  {
   "cell_type": "code",
   "execution_count": 3,
   "metadata": {},
   "outputs": [
    {
     "data": {
      "text/html": [
       "<div>\n",
       "<style scoped>\n",
       "    .dataframe tbody tr th:only-of-type {\n",
       "        vertical-align: middle;\n",
       "    }\n",
       "\n",
       "    .dataframe tbody tr th {\n",
       "        vertical-align: top;\n",
       "    }\n",
       "\n",
       "    .dataframe thead th {\n",
       "        text-align: right;\n",
       "    }\n",
       "</style>\n",
       "<table border=\"1\" class=\"dataframe\">\n",
       "  <thead>\n",
       "    <tr style=\"text-align: right;\">\n",
       "      <th></th>\n",
       "      <th>calendar_year</th>\n",
       "      <th>city</th>\n",
       "      <th>state</th>\n",
       "      <th>closed_date</th>\n",
       "      <th>amount_awarded</th>\n",
       "    </tr>\n",
       "  </thead>\n",
       "  <tbody>\n",
       "    <tr>\n",
       "      <th>0</th>\n",
       "      <td>2019</td>\n",
       "      <td>Chicago</td>\n",
       "      <td>IL</td>\n",
       "      <td>01/29/19</td>\n",
       "      <td>160000</td>\n",
       "    </tr>\n",
       "    <tr>\n",
       "      <th>1</th>\n",
       "      <td>2018</td>\n",
       "      <td>Chicago</td>\n",
       "      <td>IL</td>\n",
       "      <td>10/02/18</td>\n",
       "      <td>100000</td>\n",
       "    </tr>\n",
       "    <tr>\n",
       "      <th>2</th>\n",
       "      <td>2019</td>\n",
       "      <td>Chicago</td>\n",
       "      <td>IL</td>\n",
       "      <td>05/30/19</td>\n",
       "      <td>70000</td>\n",
       "    </tr>\n",
       "    <tr>\n",
       "      <th>3</th>\n",
       "      <td>2010</td>\n",
       "      <td>Chicago</td>\n",
       "      <td>IL</td>\n",
       "      <td>09/24/10</td>\n",
       "      <td>60000</td>\n",
       "    </tr>\n",
       "    <tr>\n",
       "      <th>4</th>\n",
       "      <td>2010</td>\n",
       "      <td>Chicago</td>\n",
       "      <td>IL</td>\n",
       "      <td>03/18/10</td>\n",
       "      <td>99000</td>\n",
       "    </tr>\n",
       "    <tr>\n",
       "      <th>...</th>\n",
       "      <td>...</td>\n",
       "      <td>...</td>\n",
       "      <td>...</td>\n",
       "      <td>...</td>\n",
       "      <td>...</td>\n",
       "    </tr>\n",
       "    <tr>\n",
       "      <th>39011</th>\n",
       "      <td>2019</td>\n",
       "      <td>North Charleston</td>\n",
       "      <td>SC</td>\n",
       "      <td>12/15/19</td>\n",
       "      <td>40000</td>\n",
       "    </tr>\n",
       "    <tr>\n",
       "      <th>39012</th>\n",
       "      <td>2019</td>\n",
       "      <td>North Charleston</td>\n",
       "      <td>SC</td>\n",
       "      <td>11/05/19</td>\n",
       "      <td>70000</td>\n",
       "    </tr>\n",
       "    <tr>\n",
       "      <th>39013</th>\n",
       "      <td>2019</td>\n",
       "      <td>North Charleston</td>\n",
       "      <td>SC</td>\n",
       "      <td>11/05/19</td>\n",
       "      <td>70000</td>\n",
       "    </tr>\n",
       "    <tr>\n",
       "      <th>39014</th>\n",
       "      <td>2019</td>\n",
       "      <td>North Charleston</td>\n",
       "      <td>SC</td>\n",
       "      <td>11/05/19</td>\n",
       "      <td>110000</td>\n",
       "    </tr>\n",
       "    <tr>\n",
       "      <th>39015</th>\n",
       "      <td>2019</td>\n",
       "      <td>North Charleston</td>\n",
       "      <td>SC</td>\n",
       "      <td>10/07/19</td>\n",
       "      <td>0</td>\n",
       "    </tr>\n",
       "  </tbody>\n",
       "</table>\n",
       "<p>39016 rows × 5 columns</p>\n",
       "</div>"
      ],
      "text/plain": [
       "       calendar_year              city state closed_date  amount_awarded\n",
       "0               2019           Chicago    IL    01/29/19          160000\n",
       "1               2018           Chicago    IL    10/02/18          100000\n",
       "2               2019           Chicago    IL    05/30/19           70000\n",
       "3               2010           Chicago    IL    09/24/10           60000\n",
       "4               2010           Chicago    IL    03/18/10           99000\n",
       "...              ...               ...   ...         ...             ...\n",
       "39011           2019  North Charleston    SC    12/15/19           40000\n",
       "39012           2019  North Charleston    SC    11/05/19           70000\n",
       "39013           2019  North Charleston    SC    11/05/19           70000\n",
       "39014           2019  North Charleston    SC    11/05/19          110000\n",
       "39015           2019  North Charleston    SC    10/07/19               0\n",
       "\n",
       "[39016 rows x 5 columns]"
      ]
     },
     "execution_count": 3,
     "metadata": {},
     "output_type": "execute_result"
    }
   ],
   "source": [
    "del misconduct['Unnamed: 0']\n",
    "\n",
    "misconduct.round()"
   ]
  },
  {
   "cell_type": "code",
   "execution_count": 4,
   "metadata": {},
   "outputs": [],
   "source": [
    "group_year = misconduct.groupby(['calendar_year','city'])['amount_awarded'].sum()"
   ]
  },
  {
   "cell_type": "code",
   "execution_count": 5,
   "metadata": {},
   "outputs": [
    {
     "data": {
      "text/plain": [
       "calendar_year  city        \n",
       "2005           Washington        63690\n",
       "2006           Springfield       32500\n",
       "2007           Springfield      218000\n",
       "2008           Springfield       46500\n",
       "2009           Philadelphia    7095797\n",
       "                                ...   \n",
       "2020           Miami            664900\n",
       "               Orlando          145000\n",
       "               Paterson        1138057\n",
       "               Richmond          25000\n",
       "               Springfield      225000\n",
       "Name: amount_awarded, Length: 263, dtype: int64"
      ]
     },
     "execution_count": 5,
     "metadata": {},
     "output_type": "execute_result"
    }
   ],
   "source": [
    "group_year"
   ]
  },
  {
   "cell_type": "code",
   "execution_count": 6,
   "metadata": {},
   "outputs": [],
   "source": [
    "plot_frame = group_year.to_frame(name=None)   # Turning series into a data frame"
   ]
  },
  {
   "cell_type": "code",
   "execution_count": 7,
   "metadata": {},
   "outputs": [
    {
     "data": {
      "text/html": [
       "<div>\n",
       "<style scoped>\n",
       "    .dataframe tbody tr th:only-of-type {\n",
       "        vertical-align: middle;\n",
       "    }\n",
       "\n",
       "    .dataframe tbody tr th {\n",
       "        vertical-align: top;\n",
       "    }\n",
       "\n",
       "    .dataframe thead th {\n",
       "        text-align: right;\n",
       "    }\n",
       "</style>\n",
       "<table border=\"1\" class=\"dataframe\">\n",
       "  <thead>\n",
       "    <tr style=\"text-align: right;\">\n",
       "      <th></th>\n",
       "      <th></th>\n",
       "      <th>amount_awarded</th>\n",
       "    </tr>\n",
       "    <tr>\n",
       "      <th>calendar_year</th>\n",
       "      <th>city</th>\n",
       "      <th></th>\n",
       "    </tr>\n",
       "  </thead>\n",
       "  <tbody>\n",
       "    <tr>\n",
       "      <th>2005</th>\n",
       "      <th>Washington</th>\n",
       "      <td>63690</td>\n",
       "    </tr>\n",
       "    <tr>\n",
       "      <th>2006</th>\n",
       "      <th>Springfield</th>\n",
       "      <td>32500</td>\n",
       "    </tr>\n",
       "    <tr>\n",
       "      <th>2007</th>\n",
       "      <th>Springfield</th>\n",
       "      <td>218000</td>\n",
       "    </tr>\n",
       "    <tr>\n",
       "      <th>2008</th>\n",
       "      <th>Springfield</th>\n",
       "      <td>46500</td>\n",
       "    </tr>\n",
       "    <tr>\n",
       "      <th>2009</th>\n",
       "      <th>Philadelphia</th>\n",
       "      <td>7095797</td>\n",
       "    </tr>\n",
       "    <tr>\n",
       "      <th>...</th>\n",
       "      <th>...</th>\n",
       "      <td>...</td>\n",
       "    </tr>\n",
       "    <tr>\n",
       "      <th rowspan=\"5\" valign=\"top\">2020</th>\n",
       "      <th>Miami</th>\n",
       "      <td>664900</td>\n",
       "    </tr>\n",
       "    <tr>\n",
       "      <th>Orlando</th>\n",
       "      <td>145000</td>\n",
       "    </tr>\n",
       "    <tr>\n",
       "      <th>Paterson</th>\n",
       "      <td>1138057</td>\n",
       "    </tr>\n",
       "    <tr>\n",
       "      <th>Richmond</th>\n",
       "      <td>25000</td>\n",
       "    </tr>\n",
       "    <tr>\n",
       "      <th>Springfield</th>\n",
       "      <td>225000</td>\n",
       "    </tr>\n",
       "  </tbody>\n",
       "</table>\n",
       "<p>263 rows × 1 columns</p>\n",
       "</div>"
      ],
      "text/plain": [
       "                            amount_awarded\n",
       "calendar_year city                        \n",
       "2005          Washington             63690\n",
       "2006          Springfield            32500\n",
       "2007          Springfield           218000\n",
       "2008          Springfield            46500\n",
       "2009          Philadelphia         7095797\n",
       "...                                    ...\n",
       "2020          Miami                 664900\n",
       "              Orlando               145000\n",
       "              Paterson             1138057\n",
       "              Richmond               25000\n",
       "              Springfield           225000\n",
       "\n",
       "[263 rows x 1 columns]"
      ]
     },
     "execution_count": 7,
     "metadata": {},
     "output_type": "execute_result"
    }
   ],
   "source": [
    "plot_frame          # Retures a multi-index frame"
   ]
  },
  {
   "cell_type": "code",
   "execution_count": 8,
   "metadata": {
    "scrolled": true
   },
   "outputs": [
    {
     "data": {
      "text/html": [
       "<div>\n",
       "<style scoped>\n",
       "    .dataframe tbody tr th:only-of-type {\n",
       "        vertical-align: middle;\n",
       "    }\n",
       "\n",
       "    .dataframe tbody tr th {\n",
       "        vertical-align: top;\n",
       "    }\n",
       "\n",
       "    .dataframe thead tr th {\n",
       "        text-align: left;\n",
       "    }\n",
       "\n",
       "    .dataframe thead tr:last-of-type th {\n",
       "        text-align: right;\n",
       "    }\n",
       "</style>\n",
       "<table border=\"1\" class=\"dataframe\">\n",
       "  <thead>\n",
       "    <tr>\n",
       "      <th></th>\n",
       "      <th colspan=\"16\" halign=\"left\">amount_awarded</th>\n",
       "    </tr>\n",
       "    <tr>\n",
       "      <th>calendar_year</th>\n",
       "      <th>2005</th>\n",
       "      <th>2006</th>\n",
       "      <th>2007</th>\n",
       "      <th>2008</th>\n",
       "      <th>2009</th>\n",
       "      <th>2010</th>\n",
       "      <th>2011</th>\n",
       "      <th>2012</th>\n",
       "      <th>2013</th>\n",
       "      <th>2014</th>\n",
       "      <th>2015</th>\n",
       "      <th>2016</th>\n",
       "      <th>2017</th>\n",
       "      <th>2018</th>\n",
       "      <th>2019</th>\n",
       "      <th>2020</th>\n",
       "    </tr>\n",
       "    <tr>\n",
       "      <th>city</th>\n",
       "      <th></th>\n",
       "      <th></th>\n",
       "      <th></th>\n",
       "      <th></th>\n",
       "      <th></th>\n",
       "      <th></th>\n",
       "      <th></th>\n",
       "      <th></th>\n",
       "      <th></th>\n",
       "      <th></th>\n",
       "      <th></th>\n",
       "      <th></th>\n",
       "      <th></th>\n",
       "      <th></th>\n",
       "      <th></th>\n",
       "      <th></th>\n",
       "    </tr>\n",
       "  </thead>\n",
       "  <tbody>\n",
       "    <tr>\n",
       "      <th>Atlanta</th>\n",
       "      <td>NaN</td>\n",
       "      <td>NaN</td>\n",
       "      <td>NaN</td>\n",
       "      <td>NaN</td>\n",
       "      <td>NaN</td>\n",
       "      <td>NaN</td>\n",
       "      <td>NaN</td>\n",
       "      <td>NaN</td>\n",
       "      <td>NaN</td>\n",
       "      <td>704749.0</td>\n",
       "      <td>302827.0</td>\n",
       "      <td>2182687.0</td>\n",
       "      <td>669876.0</td>\n",
       "      <td>315887.0</td>\n",
       "      <td>440155.0</td>\n",
       "      <td>145000.0</td>\n",
       "    </tr>\n",
       "    <tr>\n",
       "      <th>Baltimore</th>\n",
       "      <td>NaN</td>\n",
       "      <td>NaN</td>\n",
       "      <td>NaN</td>\n",
       "      <td>NaN</td>\n",
       "      <td>NaN</td>\n",
       "      <td>NaN</td>\n",
       "      <td>NaN</td>\n",
       "      <td>NaN</td>\n",
       "      <td>NaN</td>\n",
       "      <td>NaN</td>\n",
       "      <td>6439000.0</td>\n",
       "      <td>484545.0</td>\n",
       "      <td>1789600.0</td>\n",
       "      <td>393151.0</td>\n",
       "      <td>8320450.0</td>\n",
       "      <td>1006000.0</td>\n",
       "    </tr>\n",
       "    <tr>\n",
       "      <th>Baton Rouge</th>\n",
       "      <td>NaN</td>\n",
       "      <td>NaN</td>\n",
       "      <td>NaN</td>\n",
       "      <td>NaN</td>\n",
       "      <td>NaN</td>\n",
       "      <td>438358.0</td>\n",
       "      <td>435101.0</td>\n",
       "      <td>75284.0</td>\n",
       "      <td>126463.0</td>\n",
       "      <td>581286.0</td>\n",
       "      <td>372434.0</td>\n",
       "      <td>467781.0</td>\n",
       "      <td>116798.0</td>\n",
       "      <td>137695.0</td>\n",
       "      <td>128589.0</td>\n",
       "      <td>NaN</td>\n",
       "    </tr>\n",
       "    <tr>\n",
       "      <th>Boston</th>\n",
       "      <td>NaN</td>\n",
       "      <td>NaN</td>\n",
       "      <td>NaN</td>\n",
       "      <td>NaN</td>\n",
       "      <td>NaN</td>\n",
       "      <td>161950.0</td>\n",
       "      <td>45500.0</td>\n",
       "      <td>1989000.0</td>\n",
       "      <td>3491139.0</td>\n",
       "      <td>5175000.0</td>\n",
       "      <td>359892.0</td>\n",
       "      <td>208000.0</td>\n",
       "      <td>70000.0</td>\n",
       "      <td>290000.0</td>\n",
       "      <td>115000.0</td>\n",
       "      <td>NaN</td>\n",
       "    </tr>\n",
       "    <tr>\n",
       "      <th>Charleston</th>\n",
       "      <td>NaN</td>\n",
       "      <td>NaN</td>\n",
       "      <td>NaN</td>\n",
       "      <td>NaN</td>\n",
       "      <td>NaN</td>\n",
       "      <td>5500.0</td>\n",
       "      <td>4000.0</td>\n",
       "      <td>35500.0</td>\n",
       "      <td>84000.0</td>\n",
       "      <td>606000.0</td>\n",
       "      <td>23000.0</td>\n",
       "      <td>108250.0</td>\n",
       "      <td>262500.0</td>\n",
       "      <td>205000.0</td>\n",
       "      <td>186500.0</td>\n",
       "      <td>NaN</td>\n",
       "    </tr>\n",
       "    <tr>\n",
       "      <th>Chicago</th>\n",
       "      <td>NaN</td>\n",
       "      <td>NaN</td>\n",
       "      <td>NaN</td>\n",
       "      <td>NaN</td>\n",
       "      <td>NaN</td>\n",
       "      <td>24462224.0</td>\n",
       "      <td>22790139.0</td>\n",
       "      <td>60487575.0</td>\n",
       "      <td>92607079.0</td>\n",
       "      <td>29669157.0</td>\n",
       "      <td>22509328.0</td>\n",
       "      <td>31296261.0</td>\n",
       "      <td>94623595.0</td>\n",
       "      <td>56950908.0</td>\n",
       "      <td>32190159.0</td>\n",
       "      <td>NaN</td>\n",
       "    </tr>\n",
       "    <tr>\n",
       "      <th>Cincinnati</th>\n",
       "      <td>NaN</td>\n",
       "      <td>NaN</td>\n",
       "      <td>NaN</td>\n",
       "      <td>NaN</td>\n",
       "      <td>NaN</td>\n",
       "      <td>10900.0</td>\n",
       "      <td>32750.0</td>\n",
       "      <td>235000.0</td>\n",
       "      <td>65000.0</td>\n",
       "      <td>636750.0</td>\n",
       "      <td>379500.0</td>\n",
       "      <td>25500.0</td>\n",
       "      <td>221938.0</td>\n",
       "      <td>212770.0</td>\n",
       "      <td>528677.0</td>\n",
       "      <td>124000.0</td>\n",
       "    </tr>\n",
       "    <tr>\n",
       "      <th>Cleveland</th>\n",
       "      <td>NaN</td>\n",
       "      <td>NaN</td>\n",
       "      <td>NaN</td>\n",
       "      <td>NaN</td>\n",
       "      <td>NaN</td>\n",
       "      <td>329500.0</td>\n",
       "      <td>350454.0</td>\n",
       "      <td>503829.0</td>\n",
       "      <td>589404.0</td>\n",
       "      <td>2734400.0</td>\n",
       "      <td>3269500.0</td>\n",
       "      <td>5240498.0</td>\n",
       "      <td>7934438.0</td>\n",
       "      <td>1330400.0</td>\n",
       "      <td>6046542.0</td>\n",
       "      <td>244498.0</td>\n",
       "    </tr>\n",
       "    <tr>\n",
       "      <th>Columbia</th>\n",
       "      <td>NaN</td>\n",
       "      <td>NaN</td>\n",
       "      <td>NaN</td>\n",
       "      <td>NaN</td>\n",
       "      <td>NaN</td>\n",
       "      <td>4510.0</td>\n",
       "      <td>NaN</td>\n",
       "      <td>15000.0</td>\n",
       "      <td>116500.0</td>\n",
       "      <td>42500.0</td>\n",
       "      <td>54300.0</td>\n",
       "      <td>434000.0</td>\n",
       "      <td>325000.0</td>\n",
       "      <td>36625.0</td>\n",
       "      <td>2500.0</td>\n",
       "      <td>NaN</td>\n",
       "    </tr>\n",
       "    <tr>\n",
       "      <th>Detroit</th>\n",
       "      <td>NaN</td>\n",
       "      <td>NaN</td>\n",
       "      <td>NaN</td>\n",
       "      <td>NaN</td>\n",
       "      <td>NaN</td>\n",
       "      <td>7672357.0</td>\n",
       "      <td>13567137.0</td>\n",
       "      <td>4744272.0</td>\n",
       "      <td>3652086.0</td>\n",
       "      <td>NaN</td>\n",
       "      <td>6955079.0</td>\n",
       "      <td>4475356.0</td>\n",
       "      <td>2809402.0</td>\n",
       "      <td>2446290.0</td>\n",
       "      <td>11380998.0</td>\n",
       "      <td>NaN</td>\n",
       "    </tr>\n",
       "    <tr>\n",
       "      <th>Fort Lauderdale</th>\n",
       "      <td>NaN</td>\n",
       "      <td>NaN</td>\n",
       "      <td>NaN</td>\n",
       "      <td>NaN</td>\n",
       "      <td>NaN</td>\n",
       "      <td>NaN</td>\n",
       "      <td>49000.0</td>\n",
       "      <td>117675.0</td>\n",
       "      <td>88000.0</td>\n",
       "      <td>172500.0</td>\n",
       "      <td>746706.0</td>\n",
       "      <td>344000.0</td>\n",
       "      <td>252000.0</td>\n",
       "      <td>121500.0</td>\n",
       "      <td>480000.0</td>\n",
       "      <td>NaN</td>\n",
       "    </tr>\n",
       "    <tr>\n",
       "      <th>Indianapolis</th>\n",
       "      <td>NaN</td>\n",
       "      <td>NaN</td>\n",
       "      <td>NaN</td>\n",
       "      <td>NaN</td>\n",
       "      <td>NaN</td>\n",
       "      <td>585255.0</td>\n",
       "      <td>1029990.0</td>\n",
       "      <td>2123894.0</td>\n",
       "      <td>962427.0</td>\n",
       "      <td>1324600.0</td>\n",
       "      <td>1974049.0</td>\n",
       "      <td>572500.0</td>\n",
       "      <td>935368.0</td>\n",
       "      <td>924927.0</td>\n",
       "      <td>2715264.0</td>\n",
       "      <td>NaN</td>\n",
       "    </tr>\n",
       "    <tr>\n",
       "      <th>Los Angeles</th>\n",
       "      <td>NaN</td>\n",
       "      <td>NaN</td>\n",
       "      <td>NaN</td>\n",
       "      <td>NaN</td>\n",
       "      <td>NaN</td>\n",
       "      <td>21684997.0</td>\n",
       "      <td>15636675.0</td>\n",
       "      <td>11664361.0</td>\n",
       "      <td>9144545.0</td>\n",
       "      <td>29451333.0</td>\n",
       "      <td>37260955.0</td>\n",
       "      <td>77619183.0</td>\n",
       "      <td>42919821.0</td>\n",
       "      <td>26335684.0</td>\n",
       "      <td>32116660.0</td>\n",
       "      <td>26091408.0</td>\n",
       "    </tr>\n",
       "    <tr>\n",
       "      <th>Memphis</th>\n",
       "      <td>NaN</td>\n",
       "      <td>NaN</td>\n",
       "      <td>NaN</td>\n",
       "      <td>NaN</td>\n",
       "      <td>NaN</td>\n",
       "      <td>NaN</td>\n",
       "      <td>NaN</td>\n",
       "      <td>NaN</td>\n",
       "      <td>1176708.0</td>\n",
       "      <td>1612639.0</td>\n",
       "      <td>594046.0</td>\n",
       "      <td>484883.0</td>\n",
       "      <td>1857883.0</td>\n",
       "      <td>1505047.0</td>\n",
       "      <td>1541645.0</td>\n",
       "      <td>NaN</td>\n",
       "    </tr>\n",
       "    <tr>\n",
       "      <th>Miami</th>\n",
       "      <td>NaN</td>\n",
       "      <td>NaN</td>\n",
       "      <td>NaN</td>\n",
       "      <td>NaN</td>\n",
       "      <td>NaN</td>\n",
       "      <td>124500.0</td>\n",
       "      <td>632431.0</td>\n",
       "      <td>466750.0</td>\n",
       "      <td>285768.0</td>\n",
       "      <td>113385.0</td>\n",
       "      <td>577550.0</td>\n",
       "      <td>1970512.0</td>\n",
       "      <td>381048.0</td>\n",
       "      <td>1892198.0</td>\n",
       "      <td>175641.0</td>\n",
       "      <td>664900.0</td>\n",
       "    </tr>\n",
       "    <tr>\n",
       "      <th>Milwaukee</th>\n",
       "      <td>NaN</td>\n",
       "      <td>NaN</td>\n",
       "      <td>NaN</td>\n",
       "      <td>NaN</td>\n",
       "      <td>NaN</td>\n",
       "      <td>75000.0</td>\n",
       "      <td>73250.0</td>\n",
       "      <td>2630000.0</td>\n",
       "      <td>100500.0</td>\n",
       "      <td>1508000.0</td>\n",
       "      <td>7386000.0</td>\n",
       "      <td>5010500.0</td>\n",
       "      <td>7451071.0</td>\n",
       "      <td>3590000.0</td>\n",
       "      <td>12193500.0</td>\n",
       "      <td>NaN</td>\n",
       "    </tr>\n",
       "    <tr>\n",
       "      <th>New Orleans</th>\n",
       "      <td>NaN</td>\n",
       "      <td>NaN</td>\n",
       "      <td>NaN</td>\n",
       "      <td>NaN</td>\n",
       "      <td>NaN</td>\n",
       "      <td>104500.0</td>\n",
       "      <td>175000.0</td>\n",
       "      <td>185125.0</td>\n",
       "      <td>109317.0</td>\n",
       "      <td>13200.0</td>\n",
       "      <td>282500.0</td>\n",
       "      <td>925000.0</td>\n",
       "      <td>1091000.0</td>\n",
       "      <td>NaN</td>\n",
       "      <td>NaN</td>\n",
       "      <td>NaN</td>\n",
       "    </tr>\n",
       "    <tr>\n",
       "      <th>New York City</th>\n",
       "      <td>NaN</td>\n",
       "      <td>NaN</td>\n",
       "      <td>NaN</td>\n",
       "      <td>NaN</td>\n",
       "      <td>NaN</td>\n",
       "      <td>122401657.0</td>\n",
       "      <td>102170458.0</td>\n",
       "      <td>108879306.0</td>\n",
       "      <td>96336229.0</td>\n",
       "      <td>217729103.0</td>\n",
       "      <td>185111004.0</td>\n",
       "      <td>245809201.0</td>\n",
       "      <td>278151097.0</td>\n",
       "      <td>168402004.0</td>\n",
       "      <td>179130226.0</td>\n",
       "      <td>NaN</td>\n",
       "    </tr>\n",
       "    <tr>\n",
       "      <th>North Charleston</th>\n",
       "      <td>NaN</td>\n",
       "      <td>NaN</td>\n",
       "      <td>NaN</td>\n",
       "      <td>NaN</td>\n",
       "      <td>NaN</td>\n",
       "      <td>0.0</td>\n",
       "      <td>95000.0</td>\n",
       "      <td>164000.0</td>\n",
       "      <td>95000.0</td>\n",
       "      <td>18000.0</td>\n",
       "      <td>353250.0</td>\n",
       "      <td>789500.0</td>\n",
       "      <td>724000.0</td>\n",
       "      <td>465000.0</td>\n",
       "      <td>630000.0</td>\n",
       "      <td>NaN</td>\n",
       "    </tr>\n",
       "    <tr>\n",
       "      <th>Orlando</th>\n",
       "      <td>NaN</td>\n",
       "      <td>NaN</td>\n",
       "      <td>NaN</td>\n",
       "      <td>NaN</td>\n",
       "      <td>NaN</td>\n",
       "      <td>NaN</td>\n",
       "      <td>NaN</td>\n",
       "      <td>6000.0</td>\n",
       "      <td>3000.0</td>\n",
       "      <td>95000.0</td>\n",
       "      <td>119878.0</td>\n",
       "      <td>67500.0</td>\n",
       "      <td>157999.0</td>\n",
       "      <td>95000.0</td>\n",
       "      <td>45000.0</td>\n",
       "      <td>145000.0</td>\n",
       "    </tr>\n",
       "    <tr>\n",
       "      <th>Paterson</th>\n",
       "      <td>NaN</td>\n",
       "      <td>NaN</td>\n",
       "      <td>NaN</td>\n",
       "      <td>NaN</td>\n",
       "      <td>NaN</td>\n",
       "      <td>NaN</td>\n",
       "      <td>2510.0</td>\n",
       "      <td>35837.0</td>\n",
       "      <td>330543.0</td>\n",
       "      <td>35828.0</td>\n",
       "      <td>228957.0</td>\n",
       "      <td>494878.0</td>\n",
       "      <td>978836.0</td>\n",
       "      <td>1400601.0</td>\n",
       "      <td>704352.0</td>\n",
       "      <td>1138057.0</td>\n",
       "    </tr>\n",
       "    <tr>\n",
       "      <th>Philadelphia</th>\n",
       "      <td>NaN</td>\n",
       "      <td>NaN</td>\n",
       "      <td>NaN</td>\n",
       "      <td>NaN</td>\n",
       "      <td>7095797.0</td>\n",
       "      <td>7844576.0</td>\n",
       "      <td>9136525.0</td>\n",
       "      <td>8315640.0</td>\n",
       "      <td>13637313.0</td>\n",
       "      <td>10851297.0</td>\n",
       "      <td>7876159.0</td>\n",
       "      <td>7067350.0</td>\n",
       "      <td>12896800.0</td>\n",
       "      <td>19853206.0</td>\n",
       "      <td>12264802.0</td>\n",
       "      <td>NaN</td>\n",
       "    </tr>\n",
       "    <tr>\n",
       "      <th>Richmond</th>\n",
       "      <td>NaN</td>\n",
       "      <td>NaN</td>\n",
       "      <td>NaN</td>\n",
       "      <td>NaN</td>\n",
       "      <td>NaN</td>\n",
       "      <td>NaN</td>\n",
       "      <td>NaN</td>\n",
       "      <td>45000.0</td>\n",
       "      <td>NaN</td>\n",
       "      <td>1000.0</td>\n",
       "      <td>100000.0</td>\n",
       "      <td>NaN</td>\n",
       "      <td>NaN</td>\n",
       "      <td>30000.0</td>\n",
       "      <td>NaN</td>\n",
       "      <td>25000.0</td>\n",
       "    </tr>\n",
       "    <tr>\n",
       "      <th>Roanoke</th>\n",
       "      <td>NaN</td>\n",
       "      <td>NaN</td>\n",
       "      <td>NaN</td>\n",
       "      <td>NaN</td>\n",
       "      <td>NaN</td>\n",
       "      <td>40000.0</td>\n",
       "      <td>92500.0</td>\n",
       "      <td>NaN</td>\n",
       "      <td>NaN</td>\n",
       "      <td>NaN</td>\n",
       "      <td>NaN</td>\n",
       "      <td>NaN</td>\n",
       "      <td>NaN</td>\n",
       "      <td>NaN</td>\n",
       "      <td>NaN</td>\n",
       "      <td>NaN</td>\n",
       "    </tr>\n",
       "    <tr>\n",
       "      <th>San Francisco</th>\n",
       "      <td>NaN</td>\n",
       "      <td>NaN</td>\n",
       "      <td>NaN</td>\n",
       "      <td>NaN</td>\n",
       "      <td>NaN</td>\n",
       "      <td>283850.0</td>\n",
       "      <td>189412.0</td>\n",
       "      <td>511250.0</td>\n",
       "      <td>541750.0</td>\n",
       "      <td>6348494.0</td>\n",
       "      <td>672500.0</td>\n",
       "      <td>82500.0</td>\n",
       "      <td>304000.0</td>\n",
       "      <td>682784.0</td>\n",
       "      <td>18256757.0</td>\n",
       "      <td>NaN</td>\n",
       "    </tr>\n",
       "    <tr>\n",
       "      <th>Springfield</th>\n",
       "      <td>NaN</td>\n",
       "      <td>32500.0</td>\n",
       "      <td>218000.0</td>\n",
       "      <td>46500.0</td>\n",
       "      <td>NaN</td>\n",
       "      <td>79000.0</td>\n",
       "      <td>13900.0</td>\n",
       "      <td>605500.0</td>\n",
       "      <td>55500.0</td>\n",
       "      <td>1047000.0</td>\n",
       "      <td>358003.0</td>\n",
       "      <td>63750.0</td>\n",
       "      <td>1918186.0</td>\n",
       "      <td>991250.0</td>\n",
       "      <td>27192000.0</td>\n",
       "      <td>225000.0</td>\n",
       "    </tr>\n",
       "    <tr>\n",
       "      <th>St. Louis</th>\n",
       "      <td>NaN</td>\n",
       "      <td>NaN</td>\n",
       "      <td>NaN</td>\n",
       "      <td>NaN</td>\n",
       "      <td>NaN</td>\n",
       "      <td>NaN</td>\n",
       "      <td>NaN</td>\n",
       "      <td>NaN</td>\n",
       "      <td>NaN</td>\n",
       "      <td>NaN</td>\n",
       "      <td>NaN</td>\n",
       "      <td>48890.0</td>\n",
       "      <td>352350.0</td>\n",
       "      <td>2532000.0</td>\n",
       "      <td>184606.0</td>\n",
       "      <td>NaN</td>\n",
       "    </tr>\n",
       "    <tr>\n",
       "      <th>Washington</th>\n",
       "      <td>63690.0</td>\n",
       "      <td>NaN</td>\n",
       "      <td>NaN</td>\n",
       "      <td>NaN</td>\n",
       "      <td>12000.0</td>\n",
       "      <td>1450430.0</td>\n",
       "      <td>19599275.0</td>\n",
       "      <td>3718988.0</td>\n",
       "      <td>9907885.0</td>\n",
       "      <td>1529857.0</td>\n",
       "      <td>1901260.0</td>\n",
       "      <td>61500813.0</td>\n",
       "      <td>3246425.0</td>\n",
       "      <td>11203284.0</td>\n",
       "      <td>695500.0</td>\n",
       "      <td>NaN</td>\n",
       "    </tr>\n",
       "    <tr>\n",
       "      <th>Waterbury</th>\n",
       "      <td>NaN</td>\n",
       "      <td>NaN</td>\n",
       "      <td>NaN</td>\n",
       "      <td>NaN</td>\n",
       "      <td>NaN</td>\n",
       "      <td>NaN</td>\n",
       "      <td>340000.0</td>\n",
       "      <td>NaN</td>\n",
       "      <td>975250.0</td>\n",
       "      <td>120000.0</td>\n",
       "      <td>6000.0</td>\n",
       "      <td>NaN</td>\n",
       "      <td>500000.0</td>\n",
       "      <td>220000.0</td>\n",
       "      <td>66000.0</td>\n",
       "      <td>NaN</td>\n",
       "    </tr>\n",
       "  </tbody>\n",
       "</table>\n",
       "</div>"
      ],
      "text/plain": [
       "                 amount_awarded                                         \\\n",
       "calendar_year              2005     2006      2007     2008       2009   \n",
       "city                                                                     \n",
       "Atlanta                     NaN      NaN       NaN      NaN        NaN   \n",
       "Baltimore                   NaN      NaN       NaN      NaN        NaN   \n",
       "Baton Rouge                 NaN      NaN       NaN      NaN        NaN   \n",
       "Boston                      NaN      NaN       NaN      NaN        NaN   \n",
       "Charleston                  NaN      NaN       NaN      NaN        NaN   \n",
       "Chicago                     NaN      NaN       NaN      NaN        NaN   \n",
       "Cincinnati                  NaN      NaN       NaN      NaN        NaN   \n",
       "Cleveland                   NaN      NaN       NaN      NaN        NaN   \n",
       "Columbia                    NaN      NaN       NaN      NaN        NaN   \n",
       "Detroit                     NaN      NaN       NaN      NaN        NaN   \n",
       "Fort Lauderdale             NaN      NaN       NaN      NaN        NaN   \n",
       "Indianapolis                NaN      NaN       NaN      NaN        NaN   \n",
       "Los Angeles                 NaN      NaN       NaN      NaN        NaN   \n",
       "Memphis                     NaN      NaN       NaN      NaN        NaN   \n",
       "Miami                       NaN      NaN       NaN      NaN        NaN   \n",
       "Milwaukee                   NaN      NaN       NaN      NaN        NaN   \n",
       "New Orleans                 NaN      NaN       NaN      NaN        NaN   \n",
       "New York City               NaN      NaN       NaN      NaN        NaN   \n",
       "North Charleston            NaN      NaN       NaN      NaN        NaN   \n",
       "Orlando                     NaN      NaN       NaN      NaN        NaN   \n",
       "Paterson                    NaN      NaN       NaN      NaN        NaN   \n",
       "Philadelphia                NaN      NaN       NaN      NaN  7095797.0   \n",
       "Richmond                    NaN      NaN       NaN      NaN        NaN   \n",
       "Roanoke                     NaN      NaN       NaN      NaN        NaN   \n",
       "San Francisco               NaN      NaN       NaN      NaN        NaN   \n",
       "Springfield                 NaN  32500.0  218000.0  46500.0        NaN   \n",
       "St. Louis                   NaN      NaN       NaN      NaN        NaN   \n",
       "Washington              63690.0      NaN       NaN      NaN    12000.0   \n",
       "Waterbury                   NaN      NaN       NaN      NaN        NaN   \n",
       "\n",
       "                                                                     \\\n",
       "calendar_year            2010         2011         2012        2013   \n",
       "city                                                                  \n",
       "Atlanta                   NaN          NaN          NaN         NaN   \n",
       "Baltimore                 NaN          NaN          NaN         NaN   \n",
       "Baton Rouge          438358.0     435101.0      75284.0    126463.0   \n",
       "Boston               161950.0      45500.0    1989000.0   3491139.0   \n",
       "Charleston             5500.0       4000.0      35500.0     84000.0   \n",
       "Chicago            24462224.0   22790139.0   60487575.0  92607079.0   \n",
       "Cincinnati            10900.0      32750.0     235000.0     65000.0   \n",
       "Cleveland            329500.0     350454.0     503829.0    589404.0   \n",
       "Columbia               4510.0          NaN      15000.0    116500.0   \n",
       "Detroit             7672357.0   13567137.0    4744272.0   3652086.0   \n",
       "Fort Lauderdale           NaN      49000.0     117675.0     88000.0   \n",
       "Indianapolis         585255.0    1029990.0    2123894.0    962427.0   \n",
       "Los Angeles        21684997.0   15636675.0   11664361.0   9144545.0   \n",
       "Memphis                   NaN          NaN          NaN   1176708.0   \n",
       "Miami                124500.0     632431.0     466750.0    285768.0   \n",
       "Milwaukee             75000.0      73250.0    2630000.0    100500.0   \n",
       "New Orleans          104500.0     175000.0     185125.0    109317.0   \n",
       "New York City     122401657.0  102170458.0  108879306.0  96336229.0   \n",
       "North Charleston          0.0      95000.0     164000.0     95000.0   \n",
       "Orlando                   NaN          NaN       6000.0      3000.0   \n",
       "Paterson                  NaN       2510.0      35837.0    330543.0   \n",
       "Philadelphia        7844576.0    9136525.0    8315640.0  13637313.0   \n",
       "Richmond                  NaN          NaN      45000.0         NaN   \n",
       "Roanoke               40000.0      92500.0          NaN         NaN   \n",
       "San Francisco        283850.0     189412.0     511250.0    541750.0   \n",
       "Springfield           79000.0      13900.0     605500.0     55500.0   \n",
       "St. Louis                 NaN          NaN          NaN         NaN   \n",
       "Washington          1450430.0   19599275.0    3718988.0   9907885.0   \n",
       "Waterbury                 NaN     340000.0          NaN    975250.0   \n",
       "\n",
       "                                                                      \\\n",
       "calendar_year            2014         2015         2016         2017   \n",
       "city                                                                   \n",
       "Atlanta              704749.0     302827.0    2182687.0     669876.0   \n",
       "Baltimore                 NaN    6439000.0     484545.0    1789600.0   \n",
       "Baton Rouge          581286.0     372434.0     467781.0     116798.0   \n",
       "Boston              5175000.0     359892.0     208000.0      70000.0   \n",
       "Charleston           606000.0      23000.0     108250.0     262500.0   \n",
       "Chicago            29669157.0   22509328.0   31296261.0   94623595.0   \n",
       "Cincinnati           636750.0     379500.0      25500.0     221938.0   \n",
       "Cleveland           2734400.0    3269500.0    5240498.0    7934438.0   \n",
       "Columbia              42500.0      54300.0     434000.0     325000.0   \n",
       "Detroit                   NaN    6955079.0    4475356.0    2809402.0   \n",
       "Fort Lauderdale      172500.0     746706.0     344000.0     252000.0   \n",
       "Indianapolis        1324600.0    1974049.0     572500.0     935368.0   \n",
       "Los Angeles        29451333.0   37260955.0   77619183.0   42919821.0   \n",
       "Memphis             1612639.0     594046.0     484883.0    1857883.0   \n",
       "Miami                113385.0     577550.0    1970512.0     381048.0   \n",
       "Milwaukee           1508000.0    7386000.0    5010500.0    7451071.0   \n",
       "New Orleans           13200.0     282500.0     925000.0    1091000.0   \n",
       "New York City     217729103.0  185111004.0  245809201.0  278151097.0   \n",
       "North Charleston      18000.0     353250.0     789500.0     724000.0   \n",
       "Orlando               95000.0     119878.0      67500.0     157999.0   \n",
       "Paterson              35828.0     228957.0     494878.0     978836.0   \n",
       "Philadelphia       10851297.0    7876159.0    7067350.0   12896800.0   \n",
       "Richmond               1000.0     100000.0          NaN          NaN   \n",
       "Roanoke                   NaN          NaN          NaN          NaN   \n",
       "San Francisco       6348494.0     672500.0      82500.0     304000.0   \n",
       "Springfield         1047000.0     358003.0      63750.0    1918186.0   \n",
       "St. Louis                 NaN          NaN      48890.0     352350.0   \n",
       "Washington          1529857.0    1901260.0   61500813.0    3246425.0   \n",
       "Waterbury            120000.0       6000.0          NaN     500000.0   \n",
       "\n",
       "                                                        \n",
       "calendar_year            2018         2019        2020  \n",
       "city                                                    \n",
       "Atlanta              315887.0     440155.0    145000.0  \n",
       "Baltimore            393151.0    8320450.0   1006000.0  \n",
       "Baton Rouge          137695.0     128589.0         NaN  \n",
       "Boston               290000.0     115000.0         NaN  \n",
       "Charleston           205000.0     186500.0         NaN  \n",
       "Chicago            56950908.0   32190159.0         NaN  \n",
       "Cincinnati           212770.0     528677.0    124000.0  \n",
       "Cleveland           1330400.0    6046542.0    244498.0  \n",
       "Columbia              36625.0       2500.0         NaN  \n",
       "Detroit             2446290.0   11380998.0         NaN  \n",
       "Fort Lauderdale      121500.0     480000.0         NaN  \n",
       "Indianapolis         924927.0    2715264.0         NaN  \n",
       "Los Angeles        26335684.0   32116660.0  26091408.0  \n",
       "Memphis             1505047.0    1541645.0         NaN  \n",
       "Miami               1892198.0     175641.0    664900.0  \n",
       "Milwaukee           3590000.0   12193500.0         NaN  \n",
       "New Orleans               NaN          NaN         NaN  \n",
       "New York City     168402004.0  179130226.0         NaN  \n",
       "North Charleston     465000.0     630000.0         NaN  \n",
       "Orlando               95000.0      45000.0    145000.0  \n",
       "Paterson            1400601.0     704352.0   1138057.0  \n",
       "Philadelphia       19853206.0   12264802.0         NaN  \n",
       "Richmond              30000.0          NaN     25000.0  \n",
       "Roanoke                   NaN          NaN         NaN  \n",
       "San Francisco        682784.0   18256757.0         NaN  \n",
       "Springfield          991250.0   27192000.0    225000.0  \n",
       "St. Louis           2532000.0     184606.0         NaN  \n",
       "Washington         11203284.0     695500.0         NaN  \n",
       "Waterbury            220000.0      66000.0         NaN  "
      ]
     },
     "execution_count": 8,
     "metadata": {},
     "output_type": "execute_result"
    }
   ],
   "source": [
    "plot_frame.unstack(level=0)    # \n"
   ]
  },
  {
   "cell_type": "code",
   "execution_count": 9,
   "metadata": {
    "scrolled": true
   },
   "outputs": [
    {
     "data": {
      "text/plain": [
       "MultiIndex([(2005,   'Washington'),\n",
       "            (2006,  'Springfield'),\n",
       "            (2007,  'Springfield'),\n",
       "            (2008,  'Springfield'),\n",
       "            (2009, 'Philadelphia'),\n",
       "            (2009,   'Washington'),\n",
       "            (2010,  'Baton Rouge'),\n",
       "            (2010,       'Boston'),\n",
       "            (2010,   'Charleston'),\n",
       "            (2010,      'Chicago'),\n",
       "            ...\n",
       "            (2020,      'Atlanta'),\n",
       "            (2020,    'Baltimore'),\n",
       "            (2020,   'Cincinnati'),\n",
       "            (2020,    'Cleveland'),\n",
       "            (2020,  'Los Angeles'),\n",
       "            (2020,        'Miami'),\n",
       "            (2020,      'Orlando'),\n",
       "            (2020,     'Paterson'),\n",
       "            (2020,     'Richmond'),\n",
       "            (2020,  'Springfield')],\n",
       "           names=['calendar_year', 'city'], length=263)"
      ]
     },
     "execution_count": 9,
     "metadata": {},
     "output_type": "execute_result"
    }
   ],
   "source": [
    "plot_frame.index"
   ]
  },
  {
   "cell_type": "code",
   "execution_count": 10,
   "metadata": {},
   "outputs": [
    {
     "data": {
      "text/html": [
       "<div>\n",
       "<style scoped>\n",
       "    .dataframe tbody tr th:only-of-type {\n",
       "        vertical-align: middle;\n",
       "    }\n",
       "\n",
       "    .dataframe tbody tr th {\n",
       "        vertical-align: top;\n",
       "    }\n",
       "\n",
       "    .dataframe thead th {\n",
       "        text-align: right;\n",
       "    }\n",
       "</style>\n",
       "<table border=\"1\" class=\"dataframe\">\n",
       "  <thead>\n",
       "    <tr style=\"text-align: right;\">\n",
       "      <th></th>\n",
       "      <th>Unnamed: 0</th>\n",
       "      <th>2010</th>\n",
       "      <th>2011</th>\n",
       "      <th>2012</th>\n",
       "      <th>2013</th>\n",
       "      <th>2014</th>\n",
       "      <th>2015</th>\n",
       "      <th>2016</th>\n",
       "      <th>2017</th>\n",
       "      <th>2018</th>\n",
       "      <th>2019</th>\n",
       "      <th>city_name</th>\n",
       "      <th>coordinates</th>\n",
       "      <th>Latitude</th>\n",
       "      <th>Longitude</th>\n",
       "    </tr>\n",
       "  </thead>\n",
       "  <tbody>\n",
       "    <tr>\n",
       "      <th>0</th>\n",
       "      <td>0</td>\n",
       "      <td>8190209</td>\n",
       "      <td>8272948</td>\n",
       "      <td>8346693</td>\n",
       "      <td>8396091</td>\n",
       "      <td>8433806</td>\n",
       "      <td>8463049</td>\n",
       "      <td>8469153</td>\n",
       "      <td>8437478</td>\n",
       "      <td>8390081</td>\n",
       "      <td>8336817</td>\n",
       "      <td>New York City, New York</td>\n",
       "      <td>New York, United States</td>\n",
       "      <td>40.712728</td>\n",
       "      <td>-74.006015</td>\n",
       "    </tr>\n",
       "    <tr>\n",
       "      <th>1</th>\n",
       "      <td>1</td>\n",
       "      <td>3795512</td>\n",
       "      <td>3820876</td>\n",
       "      <td>3851202</td>\n",
       "      <td>3881622</td>\n",
       "      <td>3909901</td>\n",
       "      <td>3938568</td>\n",
       "      <td>3963226</td>\n",
       "      <td>3975788</td>\n",
       "      <td>3977596</td>\n",
       "      <td>3979576</td>\n",
       "      <td>Los Angeles, California</td>\n",
       "      <td>Los Angeles, Los Angeles County, California, U...</td>\n",
       "      <td>34.053691</td>\n",
       "      <td>-118.242766</td>\n",
       "    </tr>\n",
       "    <tr>\n",
       "      <th>2</th>\n",
       "      <td>2</td>\n",
       "      <td>2697477</td>\n",
       "      <td>2708114</td>\n",
       "      <td>2719141</td>\n",
       "      <td>2725731</td>\n",
       "      <td>2727066</td>\n",
       "      <td>2724344</td>\n",
       "      <td>2716723</td>\n",
       "      <td>2711069</td>\n",
       "      <td>2701423</td>\n",
       "      <td>2693976</td>\n",
       "      <td>Chicago, Illinois</td>\n",
       "      <td>Chicago, Cook County, Illinois, United States</td>\n",
       "      <td>41.875562</td>\n",
       "      <td>-87.624421</td>\n",
       "    </tr>\n",
       "    <tr>\n",
       "      <th>3</th>\n",
       "      <td>3</td>\n",
       "      <td>1528283</td>\n",
       "      <td>1540466</td>\n",
       "      <td>1551824</td>\n",
       "      <td>1558313</td>\n",
       "      <td>1565460</td>\n",
       "      <td>1571065</td>\n",
       "      <td>1576051</td>\n",
       "      <td>1580601</td>\n",
       "      <td>1583592</td>\n",
       "      <td>1584064</td>\n",
       "      <td>Philadelphia, Pennsylvania</td>\n",
       "      <td>Philadelphia, Philadelphia County, Pennsylvani...</td>\n",
       "      <td>39.952724</td>\n",
       "      <td>-75.163526</td>\n",
       "    </tr>\n",
       "    <tr>\n",
       "      <th>4</th>\n",
       "      <td>4</td>\n",
       "      <td>805505</td>\n",
       "      <td>815650</td>\n",
       "      <td>828876</td>\n",
       "      <td>839572</td>\n",
       "      <td>850750</td>\n",
       "      <td>863010</td>\n",
       "      <td>871512</td>\n",
       "      <td>878040</td>\n",
       "      <td>880696</td>\n",
       "      <td>881549</td>\n",
       "      <td>San Francisco, California</td>\n",
       "      <td>San Francisco, San Francisco City and County, ...</td>\n",
       "      <td>37.779026</td>\n",
       "      <td>-122.419906</td>\n",
       "    </tr>\n",
       "    <tr>\n",
       "      <th>5</th>\n",
       "      <td>5</td>\n",
       "      <td>821579</td>\n",
       "      <td>827664</td>\n",
       "      <td>835499</td>\n",
       "      <td>844696</td>\n",
       "      <td>850164</td>\n",
       "      <td>853714</td>\n",
       "      <td>859049</td>\n",
       "      <td>863478</td>\n",
       "      <td>870960</td>\n",
       "      <td>876384</td>\n",
       "      <td>Indianapolis, Indiana</td>\n",
       "      <td>Indianapolis, Marion, Indiana, United States</td>\n",
       "      <td>39.768333</td>\n",
       "      <td>-86.158350</td>\n",
       "    </tr>\n",
       "    <tr>\n",
       "      <th>6</th>\n",
       "      <td>6</td>\n",
       "      <td>605226</td>\n",
       "      <td>619800</td>\n",
       "      <td>634924</td>\n",
       "      <td>650581</td>\n",
       "      <td>662328</td>\n",
       "      <td>675400</td>\n",
       "      <td>685815</td>\n",
       "      <td>694906</td>\n",
       "      <td>701547</td>\n",
       "      <td>705749</td>\n",
       "      <td>Washington, District of Columbia</td>\n",
       "      <td>Washington, District of Columbia, United States</td>\n",
       "      <td>38.894992</td>\n",
       "      <td>-77.036558</td>\n",
       "    </tr>\n",
       "    <tr>\n",
       "      <th>7</th>\n",
       "      <td>7</td>\n",
       "      <td>621048</td>\n",
       "      <td>630505</td>\n",
       "      <td>642955</td>\n",
       "      <td>653002</td>\n",
       "      <td>662855</td>\n",
       "      <td>670491</td>\n",
       "      <td>679848</td>\n",
       "      <td>687788</td>\n",
       "      <td>691147</td>\n",
       "      <td>692600</td>\n",
       "      <td>Boston, Massachusetts</td>\n",
       "      <td>Boston, Suffolk County, Massachusetts, United ...</td>\n",
       "      <td>42.360253</td>\n",
       "      <td>-71.058291</td>\n",
       "    </tr>\n",
       "    <tr>\n",
       "      <th>8</th>\n",
       "      <td>8</td>\n",
       "      <td>711131</td>\n",
       "      <td>705118</td>\n",
       "      <td>700183</td>\n",
       "      <td>691868</td>\n",
       "      <td>682609</td>\n",
       "      <td>679410</td>\n",
       "      <td>677143</td>\n",
       "      <td>674631</td>\n",
       "      <td>672977</td>\n",
       "      <td>670031</td>\n",
       "      <td>Detroit, Michigan</td>\n",
       "      <td>Detroit, Wayne County, Michigan, United States</td>\n",
       "      <td>42.331551</td>\n",
       "      <td>-83.046640</td>\n",
       "    </tr>\n",
       "    <tr>\n",
       "      <th>9</th>\n",
       "      <td>9</td>\n",
       "      <td>652326</td>\n",
       "      <td>655341</td>\n",
       "      <td>658786</td>\n",
       "      <td>657146</td>\n",
       "      <td>654990</td>\n",
       "      <td>654106</td>\n",
       "      <td>652548</td>\n",
       "      <td>650878</td>\n",
       "      <td>651104</td>\n",
       "      <td>651073</td>\n",
       "      <td>Memphis, Tennessee</td>\n",
       "      <td>Memphis, Shelby County, Tennessee, United States</td>\n",
       "      <td>35.149022</td>\n",
       "      <td>-90.051629</td>\n",
       "    </tr>\n",
       "    <tr>\n",
       "      <th>10</th>\n",
       "      <td>10</td>\n",
       "      <td>594865</td>\n",
       "      <td>597086</td>\n",
       "      <td>598569</td>\n",
       "      <td>599916</td>\n",
       "      <td>600664</td>\n",
       "      <td>600477</td>\n",
       "      <td>596996</td>\n",
       "      <td>593725</td>\n",
       "      <td>591375</td>\n",
       "      <td>590157</td>\n",
       "      <td>Milwaukee, Wisconsin</td>\n",
       "      <td>Milwaukee, Milwaukee County, Wisconsin, United...</td>\n",
       "      <td>43.034993</td>\n",
       "      <td>-87.922497</td>\n",
       "    </tr>\n",
       "    <tr>\n",
       "      <th>11</th>\n",
       "      <td>11</td>\n",
       "      <td>429410</td>\n",
       "      <td>437812</td>\n",
       "      <td>449016</td>\n",
       "      <td>453990</td>\n",
       "      <td>461154</td>\n",
       "      <td>468303</td>\n",
       "      <td>479174</td>\n",
       "      <td>491670</td>\n",
       "      <td>498183</td>\n",
       "      <td>506811</td>\n",
       "      <td>Atlanta, Georgia</td>\n",
       "      <td>Atlanta, Fulton County, Georgia, United States</td>\n",
       "      <td>33.748992</td>\n",
       "      <td>-84.390264</td>\n",
       "    </tr>\n",
       "    <tr>\n",
       "      <th>12</th>\n",
       "      <td>12</td>\n",
       "      <td>347772</td>\n",
       "      <td>360735</td>\n",
       "      <td>369787</td>\n",
       "      <td>378637</td>\n",
       "      <td>383940</td>\n",
       "      <td>389742</td>\n",
       "      <td>391843</td>\n",
       "      <td>391493</td>\n",
       "      <td>391004</td>\n",
       "      <td>390144</td>\n",
       "      <td>New Orleans, Louisiana</td>\n",
       "      <td>New Orleans, Orleans Parish, Louisiana, United...</td>\n",
       "      <td>29.949932</td>\n",
       "      <td>-90.070116</td>\n",
       "    </tr>\n",
       "    <tr>\n",
       "      <th>13</th>\n",
       "      <td>13</td>\n",
       "      <td>395926</td>\n",
       "      <td>392667</td>\n",
       "      <td>391550</td>\n",
       "      <td>391792</td>\n",
       "      <td>390871</td>\n",
       "      <td>389244</td>\n",
       "      <td>387662</td>\n",
       "      <td>385252</td>\n",
       "      <td>383214</td>\n",
       "      <td>381009</td>\n",
       "      <td>Cleveland, Ohio</td>\n",
       "      <td>Cleveland, Cuyahoga County, Ohio, United States</td>\n",
       "      <td>41.505161</td>\n",
       "      <td>-81.693445</td>\n",
       "    </tr>\n",
       "    <tr>\n",
       "      <th>14</th>\n",
       "      <td>14</td>\n",
       "      <td>296980</td>\n",
       "      <td>296187</td>\n",
       "      <td>296900</td>\n",
       "      <td>297905</td>\n",
       "      <td>298626</td>\n",
       "      <td>299439</td>\n",
       "      <td>299748</td>\n",
       "      <td>301587</td>\n",
       "      <td>302277</td>\n",
       "      <td>303940</td>\n",
       "      <td>Cincinnati, Ohio</td>\n",
       "      <td>Cincinnati, Hamilton County, Ohio, United States</td>\n",
       "      <td>39.101454</td>\n",
       "      <td>-84.512460</td>\n",
       "    </tr>\n",
       "    <tr>\n",
       "      <th>15</th>\n",
       "      <td>15</td>\n",
       "      <td>319336</td>\n",
       "      <td>319344</td>\n",
       "      <td>319416</td>\n",
       "      <td>318476</td>\n",
       "      <td>317399</td>\n",
       "      <td>316010</td>\n",
       "      <td>312633</td>\n",
       "      <td>308233</td>\n",
       "      <td>303419</td>\n",
       "      <td>300576</td>\n",
       "      <td>St. Louis, Missouri</td>\n",
       "      <td>City of Saint Louis, Missouri, United States</td>\n",
       "      <td>38.626418</td>\n",
       "      <td>-90.199838</td>\n",
       "    </tr>\n",
       "    <tr>\n",
       "      <th>16</th>\n",
       "      <td>16</td>\n",
       "      <td>239326</td>\n",
       "      <td>243620</td>\n",
       "      <td>249935</td>\n",
       "      <td>255135</td>\n",
       "      <td>262469</td>\n",
       "      <td>270786</td>\n",
       "      <td>278512</td>\n",
       "      <td>281804</td>\n",
       "      <td>285903</td>\n",
       "      <td>287442</td>\n",
       "      <td>Orlando, Florida</td>\n",
       "      <td>Orlando, Orange County, Florida, United States</td>\n",
       "      <td>28.542111</td>\n",
       "      <td>-81.379030</td>\n",
       "    </tr>\n",
       "    <tr>\n",
       "      <th>17</th>\n",
       "      <td>17</td>\n",
       "      <td>204302</td>\n",
       "      <td>206391</td>\n",
       "      <td>210794</td>\n",
       "      <td>213860</td>\n",
       "      <td>217044</td>\n",
       "      <td>220856</td>\n",
       "      <td>225369</td>\n",
       "      <td>227230</td>\n",
       "      <td>229221</td>\n",
       "      <td>230436</td>\n",
       "      <td>Richmond, Virginia</td>\n",
       "      <td>Richmond, Virginia, United States</td>\n",
       "      <td>37.538509</td>\n",
       "      <td>-77.434280</td>\n",
       "    </tr>\n",
       "    <tr>\n",
       "      <th>18</th>\n",
       "      <td>18</td>\n",
       "      <td>229374</td>\n",
       "      <td>228643</td>\n",
       "      <td>228889</td>\n",
       "      <td>228346</td>\n",
       "      <td>227851</td>\n",
       "      <td>227202</td>\n",
       "      <td>226686</td>\n",
       "      <td>224414</td>\n",
       "      <td>222190</td>\n",
       "      <td>220236</td>\n",
       "      <td>Baton Rouge, Louisiana</td>\n",
       "      <td>Baton Rouge, East Baton Rouge Parish, Louisian...</td>\n",
       "      <td>30.445960</td>\n",
       "      <td>-91.187380</td>\n",
       "    </tr>\n",
       "    <tr>\n",
       "      <th>19</th>\n",
       "      <td>19</td>\n",
       "      <td>193972</td>\n",
       "      <td>195292</td>\n",
       "      <td>196564</td>\n",
       "      <td>197143</td>\n",
       "      <td>197595</td>\n",
       "      <td>198178</td>\n",
       "      <td>198631</td>\n",
       "      <td>198314</td>\n",
       "      <td>197484</td>\n",
       "      <td>197312</td>\n",
       "      <td>Little Rock, Arkansas</td>\n",
       "      <td>Little Rock, Pulaski County, Arkansas, United ...</td>\n",
       "      <td>34.746481</td>\n",
       "      <td>-92.289595</td>\n",
       "    </tr>\n",
       "    <tr>\n",
       "      <th>20</th>\n",
       "      <td>20</td>\n",
       "      <td>166126</td>\n",
       "      <td>169012</td>\n",
       "      <td>170909</td>\n",
       "      <td>172275</td>\n",
       "      <td>175153</td>\n",
       "      <td>177356</td>\n",
       "      <td>178837</td>\n",
       "      <td>179877</td>\n",
       "      <td>182101</td>\n",
       "      <td>182437</td>\n",
       "      <td>Fort Lauderdale, Florida</td>\n",
       "      <td>Fort Lauderdale, Broward County, Florida, Unit...</td>\n",
       "      <td>26.122308</td>\n",
       "      <td>-80.143379</td>\n",
       "    </tr>\n",
       "    <tr>\n",
       "      <th>21</th>\n",
       "      <td>21</td>\n",
       "      <td>146391</td>\n",
       "      <td>145593</td>\n",
       "      <td>146111</td>\n",
       "      <td>146049</td>\n",
       "      <td>145911</td>\n",
       "      <td>145928</td>\n",
       "      <td>145773</td>\n",
       "      <td>146015</td>\n",
       "      <td>145594</td>\n",
       "      <td>145233</td>\n",
       "      <td>Paterson, New Jersey</td>\n",
       "      <td>Paterson, Passaic County, New Jersey, United S...</td>\n",
       "      <td>40.916765</td>\n",
       "      <td>-74.171811</td>\n",
       "    </tr>\n",
       "    <tr>\n",
       "      <th>22</th>\n",
       "      <td>22</td>\n",
       "      <td>120700</td>\n",
       "      <td>123012</td>\n",
       "      <td>125223</td>\n",
       "      <td>127246</td>\n",
       "      <td>129434</td>\n",
       "      <td>132413</td>\n",
       "      <td>134453</td>\n",
       "      <td>135626</td>\n",
       "      <td>136111</td>\n",
       "      <td>137566</td>\n",
       "      <td>Charleston, South Carolina</td>\n",
       "      <td>Charleston, Charleston County, South Carolina,...</td>\n",
       "      <td>32.787601</td>\n",
       "      <td>-79.940273</td>\n",
       "    </tr>\n",
       "    <tr>\n",
       "      <th>23</th>\n",
       "      <td>23</td>\n",
       "      <td>130774</td>\n",
       "      <td>131302</td>\n",
       "      <td>131761</td>\n",
       "      <td>131527</td>\n",
       "      <td>131781</td>\n",
       "      <td>133616</td>\n",
       "      <td>134129</td>\n",
       "      <td>134005</td>\n",
       "      <td>132770</td>\n",
       "      <td>131674</td>\n",
       "      <td>Columbia, South Carolina</td>\n",
       "      <td>Columbia, Richland County, South Carolina, Uni...</td>\n",
       "      <td>34.000749</td>\n",
       "      <td>-81.034331</td>\n",
       "    </tr>\n",
       "    <tr>\n",
       "      <th>24</th>\n",
       "      <td>24</td>\n",
       "      <td>105008</td>\n",
       "      <td>105884</td>\n",
       "      <td>107886</td>\n",
       "      <td>112036</td>\n",
       "      <td>112993</td>\n",
       "      <td>113471</td>\n",
       "      <td>115685</td>\n",
       "      <td>116869</td>\n",
       "      <td>118151</td>\n",
       "      <td>118927</td>\n",
       "      <td>Cambridge, Massachusetts</td>\n",
       "      <td>Cambridge, Middlesex County, Massachusetts, Un...</td>\n",
       "      <td>42.375100</td>\n",
       "      <td>-71.105616</td>\n",
       "    </tr>\n",
       "    <tr>\n",
       "      <th>25</th>\n",
       "      <td>25</td>\n",
       "      <td>97949</td>\n",
       "      <td>99898</td>\n",
       "      <td>101994</td>\n",
       "      <td>104050</td>\n",
       "      <td>106754</td>\n",
       "      <td>108597</td>\n",
       "      <td>109738</td>\n",
       "      <td>110820</td>\n",
       "      <td>113077</td>\n",
       "      <td>115382</td>\n",
       "      <td>North Charleston, South Carolina</td>\n",
       "      <td>North Charleston, Charleston County, South Car...</td>\n",
       "      <td>32.913129</td>\n",
       "      <td>-80.062998</td>\n",
       "    </tr>\n",
       "    <tr>\n",
       "      <th>26</th>\n",
       "      <td>26</td>\n",
       "      <td>110350</td>\n",
       "      <td>110074</td>\n",
       "      <td>110019</td>\n",
       "      <td>109733</td>\n",
       "      <td>109524</td>\n",
       "      <td>108993</td>\n",
       "      <td>108453</td>\n",
       "      <td>108277</td>\n",
       "      <td>108123</td>\n",
       "      <td>107568</td>\n",
       "      <td>Waterbury, Connecticut</td>\n",
       "      <td>Waterbury, New Haven County, Connecticut, Unit...</td>\n",
       "      <td>41.553809</td>\n",
       "      <td>-73.043836</td>\n",
       "    </tr>\n",
       "    <tr>\n",
       "      <th>27</th>\n",
       "      <td>27</td>\n",
       "      <td>153569</td>\n",
       "      <td>153773</td>\n",
       "      <td>153933</td>\n",
       "      <td>154056</td>\n",
       "      <td>154376</td>\n",
       "      <td>154582</td>\n",
       "      <td>154028</td>\n",
       "      <td>154207</td>\n",
       "      <td>154329</td>\n",
       "      <td>153606</td>\n",
       "      <td>Springfield, Massachusetts</td>\n",
       "      <td>Springfield, Hampden County, Massachusetts, Un...</td>\n",
       "      <td>42.101876</td>\n",
       "      <td>-72.588673</td>\n",
       "    </tr>\n",
       "    <tr>\n",
       "      <th>28</th>\n",
       "      <td>28</td>\n",
       "      <td>96720</td>\n",
       "      <td>96782</td>\n",
       "      <td>98011</td>\n",
       "      <td>98849</td>\n",
       "      <td>99427</td>\n",
       "      <td>99669</td>\n",
       "      <td>99337</td>\n",
       "      <td>98986</td>\n",
       "      <td>99009</td>\n",
       "      <td>99143</td>\n",
       "      <td>Roanoke, Virginia</td>\n",
       "      <td>Roanoke, Virginia, United States</td>\n",
       "      <td>37.270973</td>\n",
       "      <td>-79.941431</td>\n",
       "    </tr>\n",
       "    <tr>\n",
       "      <th>29</th>\n",
       "      <td>29</td>\n",
       "      <td>400779</td>\n",
       "      <td>406593</td>\n",
       "      <td>411149</td>\n",
       "      <td>415661</td>\n",
       "      <td>425110</td>\n",
       "      <td>434738</td>\n",
       "      <td>449149</td>\n",
       "      <td>456617</td>\n",
       "      <td>462819</td>\n",
       "      <td>467963</td>\n",
       "      <td>Miami, Florida</td>\n",
       "      <td>Miami, Miami-Dade County, Florida, United States</td>\n",
       "      <td>25.774173</td>\n",
       "      <td>-80.193620</td>\n",
       "    </tr>\n",
       "  </tbody>\n",
       "</table>\n",
       "</div>"
      ],
      "text/plain": [
       "    Unnamed: 0     2010     2011     2012     2013     2014     2015     2016  \\\n",
       "0            0  8190209  8272948  8346693  8396091  8433806  8463049  8469153   \n",
       "1            1  3795512  3820876  3851202  3881622  3909901  3938568  3963226   \n",
       "2            2  2697477  2708114  2719141  2725731  2727066  2724344  2716723   \n",
       "3            3  1528283  1540466  1551824  1558313  1565460  1571065  1576051   \n",
       "4            4   805505   815650   828876   839572   850750   863010   871512   \n",
       "5            5   821579   827664   835499   844696   850164   853714   859049   \n",
       "6            6   605226   619800   634924   650581   662328   675400   685815   \n",
       "7            7   621048   630505   642955   653002   662855   670491   679848   \n",
       "8            8   711131   705118   700183   691868   682609   679410   677143   \n",
       "9            9   652326   655341   658786   657146   654990   654106   652548   \n",
       "10          10   594865   597086   598569   599916   600664   600477   596996   \n",
       "11          11   429410   437812   449016   453990   461154   468303   479174   \n",
       "12          12   347772   360735   369787   378637   383940   389742   391843   \n",
       "13          13   395926   392667   391550   391792   390871   389244   387662   \n",
       "14          14   296980   296187   296900   297905   298626   299439   299748   \n",
       "15          15   319336   319344   319416   318476   317399   316010   312633   \n",
       "16          16   239326   243620   249935   255135   262469   270786   278512   \n",
       "17          17   204302   206391   210794   213860   217044   220856   225369   \n",
       "18          18   229374   228643   228889   228346   227851   227202   226686   \n",
       "19          19   193972   195292   196564   197143   197595   198178   198631   \n",
       "20          20   166126   169012   170909   172275   175153   177356   178837   \n",
       "21          21   146391   145593   146111   146049   145911   145928   145773   \n",
       "22          22   120700   123012   125223   127246   129434   132413   134453   \n",
       "23          23   130774   131302   131761   131527   131781   133616   134129   \n",
       "24          24   105008   105884   107886   112036   112993   113471   115685   \n",
       "25          25    97949    99898   101994   104050   106754   108597   109738   \n",
       "26          26   110350   110074   110019   109733   109524   108993   108453   \n",
       "27          27   153569   153773   153933   154056   154376   154582   154028   \n",
       "28          28    96720    96782    98011    98849    99427    99669    99337   \n",
       "29          29   400779   406593   411149   415661   425110   434738   449149   \n",
       "\n",
       "       2017     2018     2019                         city_name  \\\n",
       "0   8437478  8390081  8336817           New York City, New York   \n",
       "1   3975788  3977596  3979576           Los Angeles, California   \n",
       "2   2711069  2701423  2693976                 Chicago, Illinois   \n",
       "3   1580601  1583592  1584064        Philadelphia, Pennsylvania   \n",
       "4    878040   880696   881549         San Francisco, California   \n",
       "5    863478   870960   876384             Indianapolis, Indiana   \n",
       "6    694906   701547   705749  Washington, District of Columbia   \n",
       "7    687788   691147   692600             Boston, Massachusetts   \n",
       "8    674631   672977   670031                 Detroit, Michigan   \n",
       "9    650878   651104   651073                Memphis, Tennessee   \n",
       "10   593725   591375   590157              Milwaukee, Wisconsin   \n",
       "11   491670   498183   506811                  Atlanta, Georgia   \n",
       "12   391493   391004   390144            New Orleans, Louisiana   \n",
       "13   385252   383214   381009                   Cleveland, Ohio   \n",
       "14   301587   302277   303940                  Cincinnati, Ohio   \n",
       "15   308233   303419   300576               St. Louis, Missouri   \n",
       "16   281804   285903   287442                  Orlando, Florida   \n",
       "17   227230   229221   230436                Richmond, Virginia   \n",
       "18   224414   222190   220236            Baton Rouge, Louisiana   \n",
       "19   198314   197484   197312             Little Rock, Arkansas   \n",
       "20   179877   182101   182437          Fort Lauderdale, Florida   \n",
       "21   146015   145594   145233              Paterson, New Jersey   \n",
       "22   135626   136111   137566        Charleston, South Carolina   \n",
       "23   134005   132770   131674          Columbia, South Carolina   \n",
       "24   116869   118151   118927          Cambridge, Massachusetts   \n",
       "25   110820   113077   115382  North Charleston, South Carolina   \n",
       "26   108277   108123   107568            Waterbury, Connecticut   \n",
       "27   154207   154329   153606        Springfield, Massachusetts   \n",
       "28    98986    99009    99143                 Roanoke, Virginia   \n",
       "29   456617   462819   467963                    Miami, Florida   \n",
       "\n",
       "                                          coordinates   Latitude   Longitude  \n",
       "0                             New York, United States  40.712728  -74.006015  \n",
       "1   Los Angeles, Los Angeles County, California, U...  34.053691 -118.242766  \n",
       "2       Chicago, Cook County, Illinois, United States  41.875562  -87.624421  \n",
       "3   Philadelphia, Philadelphia County, Pennsylvani...  39.952724  -75.163526  \n",
       "4   San Francisco, San Francisco City and County, ...  37.779026 -122.419906  \n",
       "5        Indianapolis, Marion, Indiana, United States  39.768333  -86.158350  \n",
       "6     Washington, District of Columbia, United States  38.894992  -77.036558  \n",
       "7   Boston, Suffolk County, Massachusetts, United ...  42.360253  -71.058291  \n",
       "8      Detroit, Wayne County, Michigan, United States  42.331551  -83.046640  \n",
       "9    Memphis, Shelby County, Tennessee, United States  35.149022  -90.051629  \n",
       "10  Milwaukee, Milwaukee County, Wisconsin, United...  43.034993  -87.922497  \n",
       "11     Atlanta, Fulton County, Georgia, United States  33.748992  -84.390264  \n",
       "12  New Orleans, Orleans Parish, Louisiana, United...  29.949932  -90.070116  \n",
       "13    Cleveland, Cuyahoga County, Ohio, United States  41.505161  -81.693445  \n",
       "14   Cincinnati, Hamilton County, Ohio, United States  39.101454  -84.512460  \n",
       "15       City of Saint Louis, Missouri, United States  38.626418  -90.199838  \n",
       "16     Orlando, Orange County, Florida, United States  28.542111  -81.379030  \n",
       "17                  Richmond, Virginia, United States  37.538509  -77.434280  \n",
       "18  Baton Rouge, East Baton Rouge Parish, Louisian...  30.445960  -91.187380  \n",
       "19  Little Rock, Pulaski County, Arkansas, United ...  34.746481  -92.289595  \n",
       "20  Fort Lauderdale, Broward County, Florida, Unit...  26.122308  -80.143379  \n",
       "21  Paterson, Passaic County, New Jersey, United S...  40.916765  -74.171811  \n",
       "22  Charleston, Charleston County, South Carolina,...  32.787601  -79.940273  \n",
       "23  Columbia, Richland County, South Carolina, Uni...  34.000749  -81.034331  \n",
       "24  Cambridge, Middlesex County, Massachusetts, Un...  42.375100  -71.105616  \n",
       "25  North Charleston, Charleston County, South Car...  32.913129  -80.062998  \n",
       "26  Waterbury, New Haven County, Connecticut, Unit...  41.553809  -73.043836  \n",
       "27  Springfield, Hampden County, Massachusetts, Un...  42.101876  -72.588673  \n",
       "28                   Roanoke, Virginia, United States  37.270973  -79.941431  \n",
       "29   Miami, Miami-Dade County, Florida, United States  25.774173  -80.193620  "
      ]
     },
     "execution_count": 10,
     "metadata": {},
     "output_type": "execute_result"
    }
   ],
   "source": [
    "coordinates"
   ]
  },
  {
   "cell_type": "code",
   "execution_count": 11,
   "metadata": {},
   "outputs": [],
   "source": [
    "coordinates = coordinates[['coordinates','Latitude','Longitude']]"
   ]
  },
  {
   "cell_type": "code",
   "execution_count": 12,
   "metadata": {},
   "outputs": [],
   "source": [
    "coordinates.sort_values('coordinates', inplace=True)"
   ]
  },
  {
   "cell_type": "code",
   "execution_count": 13,
   "metadata": {},
   "outputs": [],
   "source": [
    "coordinates[['city', 'split']] = coordinates['coordinates'].str.split(',', expand=True, n=1)"
   ]
  },
  {
   "cell_type": "code",
   "execution_count": 14,
   "metadata": {},
   "outputs": [],
   "source": [
    "coordinates.drop('split', axis=1, inplace=True)"
   ]
  },
  {
   "cell_type": "code",
   "execution_count": 15,
   "metadata": {},
   "outputs": [],
   "source": [
    "coordinates.drop('coordinates',axis=1, inplace=True)"
   ]
  },
  {
   "cell_type": "code",
   "execution_count": 16,
   "metadata": {},
   "outputs": [
    {
     "data": {
      "text/html": [
       "<div>\n",
       "<style scoped>\n",
       "    .dataframe tbody tr th:only-of-type {\n",
       "        vertical-align: middle;\n",
       "    }\n",
       "\n",
       "    .dataframe tbody tr th {\n",
       "        vertical-align: top;\n",
       "    }\n",
       "\n",
       "    .dataframe thead th {\n",
       "        text-align: right;\n",
       "    }\n",
       "</style>\n",
       "<table border=\"1\" class=\"dataframe\">\n",
       "  <thead>\n",
       "    <tr style=\"text-align: right;\">\n",
       "      <th></th>\n",
       "      <th>Latitude</th>\n",
       "      <th>Longitude</th>\n",
       "      <th>city</th>\n",
       "    </tr>\n",
       "  </thead>\n",
       "  <tbody>\n",
       "    <tr>\n",
       "      <th>11</th>\n",
       "      <td>33.748992</td>\n",
       "      <td>-84.390264</td>\n",
       "      <td>Atlanta</td>\n",
       "    </tr>\n",
       "    <tr>\n",
       "      <th>18</th>\n",
       "      <td>30.445960</td>\n",
       "      <td>-91.187380</td>\n",
       "      <td>Baton Rouge</td>\n",
       "    </tr>\n",
       "    <tr>\n",
       "      <th>7</th>\n",
       "      <td>42.360253</td>\n",
       "      <td>-71.058291</td>\n",
       "      <td>Boston</td>\n",
       "    </tr>\n",
       "    <tr>\n",
       "      <th>24</th>\n",
       "      <td>42.375100</td>\n",
       "      <td>-71.105616</td>\n",
       "      <td>Cambridge</td>\n",
       "    </tr>\n",
       "    <tr>\n",
       "      <th>22</th>\n",
       "      <td>32.787601</td>\n",
       "      <td>-79.940273</td>\n",
       "      <td>Charleston</td>\n",
       "    </tr>\n",
       "    <tr>\n",
       "      <th>2</th>\n",
       "      <td>41.875562</td>\n",
       "      <td>-87.624421</td>\n",
       "      <td>Chicago</td>\n",
       "    </tr>\n",
       "    <tr>\n",
       "      <th>14</th>\n",
       "      <td>39.101454</td>\n",
       "      <td>-84.512460</td>\n",
       "      <td>Cincinnati</td>\n",
       "    </tr>\n",
       "    <tr>\n",
       "      <th>15</th>\n",
       "      <td>38.626418</td>\n",
       "      <td>-90.199838</td>\n",
       "      <td>City of Saint Louis</td>\n",
       "    </tr>\n",
       "    <tr>\n",
       "      <th>13</th>\n",
       "      <td>41.505161</td>\n",
       "      <td>-81.693445</td>\n",
       "      <td>Cleveland</td>\n",
       "    </tr>\n",
       "    <tr>\n",
       "      <th>23</th>\n",
       "      <td>34.000749</td>\n",
       "      <td>-81.034331</td>\n",
       "      <td>Columbia</td>\n",
       "    </tr>\n",
       "    <tr>\n",
       "      <th>8</th>\n",
       "      <td>42.331551</td>\n",
       "      <td>-83.046640</td>\n",
       "      <td>Detroit</td>\n",
       "    </tr>\n",
       "    <tr>\n",
       "      <th>20</th>\n",
       "      <td>26.122308</td>\n",
       "      <td>-80.143379</td>\n",
       "      <td>Fort Lauderdale</td>\n",
       "    </tr>\n",
       "    <tr>\n",
       "      <th>5</th>\n",
       "      <td>39.768333</td>\n",
       "      <td>-86.158350</td>\n",
       "      <td>Indianapolis</td>\n",
       "    </tr>\n",
       "    <tr>\n",
       "      <th>19</th>\n",
       "      <td>34.746481</td>\n",
       "      <td>-92.289595</td>\n",
       "      <td>Little Rock</td>\n",
       "    </tr>\n",
       "    <tr>\n",
       "      <th>1</th>\n",
       "      <td>34.053691</td>\n",
       "      <td>-118.242766</td>\n",
       "      <td>Los Angeles</td>\n",
       "    </tr>\n",
       "    <tr>\n",
       "      <th>9</th>\n",
       "      <td>35.149022</td>\n",
       "      <td>-90.051629</td>\n",
       "      <td>Memphis</td>\n",
       "    </tr>\n",
       "    <tr>\n",
       "      <th>29</th>\n",
       "      <td>25.774173</td>\n",
       "      <td>-80.193620</td>\n",
       "      <td>Miami</td>\n",
       "    </tr>\n",
       "    <tr>\n",
       "      <th>10</th>\n",
       "      <td>43.034993</td>\n",
       "      <td>-87.922497</td>\n",
       "      <td>Milwaukee</td>\n",
       "    </tr>\n",
       "    <tr>\n",
       "      <th>12</th>\n",
       "      <td>29.949932</td>\n",
       "      <td>-90.070116</td>\n",
       "      <td>New Orleans</td>\n",
       "    </tr>\n",
       "    <tr>\n",
       "      <th>0</th>\n",
       "      <td>40.712728</td>\n",
       "      <td>-74.006015</td>\n",
       "      <td>New York</td>\n",
       "    </tr>\n",
       "    <tr>\n",
       "      <th>25</th>\n",
       "      <td>32.913129</td>\n",
       "      <td>-80.062998</td>\n",
       "      <td>North Charleston</td>\n",
       "    </tr>\n",
       "    <tr>\n",
       "      <th>16</th>\n",
       "      <td>28.542111</td>\n",
       "      <td>-81.379030</td>\n",
       "      <td>Orlando</td>\n",
       "    </tr>\n",
       "    <tr>\n",
       "      <th>21</th>\n",
       "      <td>40.916765</td>\n",
       "      <td>-74.171811</td>\n",
       "      <td>Paterson</td>\n",
       "    </tr>\n",
       "    <tr>\n",
       "      <th>3</th>\n",
       "      <td>39.952724</td>\n",
       "      <td>-75.163526</td>\n",
       "      <td>Philadelphia</td>\n",
       "    </tr>\n",
       "    <tr>\n",
       "      <th>17</th>\n",
       "      <td>37.538509</td>\n",
       "      <td>-77.434280</td>\n",
       "      <td>Richmond</td>\n",
       "    </tr>\n",
       "    <tr>\n",
       "      <th>28</th>\n",
       "      <td>37.270973</td>\n",
       "      <td>-79.941431</td>\n",
       "      <td>Roanoke</td>\n",
       "    </tr>\n",
       "    <tr>\n",
       "      <th>4</th>\n",
       "      <td>37.779026</td>\n",
       "      <td>-122.419906</td>\n",
       "      <td>San Francisco</td>\n",
       "    </tr>\n",
       "    <tr>\n",
       "      <th>27</th>\n",
       "      <td>42.101876</td>\n",
       "      <td>-72.588673</td>\n",
       "      <td>Springfield</td>\n",
       "    </tr>\n",
       "    <tr>\n",
       "      <th>6</th>\n",
       "      <td>38.894992</td>\n",
       "      <td>-77.036558</td>\n",
       "      <td>Washington</td>\n",
       "    </tr>\n",
       "    <tr>\n",
       "      <th>26</th>\n",
       "      <td>41.553809</td>\n",
       "      <td>-73.043836</td>\n",
       "      <td>Waterbury</td>\n",
       "    </tr>\n",
       "  </tbody>\n",
       "</table>\n",
       "</div>"
      ],
      "text/plain": [
       "     Latitude   Longitude                 city\n",
       "11  33.748992  -84.390264              Atlanta\n",
       "18  30.445960  -91.187380          Baton Rouge\n",
       "7   42.360253  -71.058291               Boston\n",
       "24  42.375100  -71.105616            Cambridge\n",
       "22  32.787601  -79.940273           Charleston\n",
       "2   41.875562  -87.624421              Chicago\n",
       "14  39.101454  -84.512460           Cincinnati\n",
       "15  38.626418  -90.199838  City of Saint Louis\n",
       "13  41.505161  -81.693445            Cleveland\n",
       "23  34.000749  -81.034331             Columbia\n",
       "8   42.331551  -83.046640              Detroit\n",
       "20  26.122308  -80.143379      Fort Lauderdale\n",
       "5   39.768333  -86.158350         Indianapolis\n",
       "19  34.746481  -92.289595          Little Rock\n",
       "1   34.053691 -118.242766          Los Angeles\n",
       "9   35.149022  -90.051629              Memphis\n",
       "29  25.774173  -80.193620                Miami\n",
       "10  43.034993  -87.922497            Milwaukee\n",
       "12  29.949932  -90.070116          New Orleans\n",
       "0   40.712728  -74.006015             New York\n",
       "25  32.913129  -80.062998     North Charleston\n",
       "16  28.542111  -81.379030              Orlando\n",
       "21  40.916765  -74.171811             Paterson\n",
       "3   39.952724  -75.163526         Philadelphia\n",
       "17  37.538509  -77.434280             Richmond\n",
       "28  37.270973  -79.941431              Roanoke\n",
       "4   37.779026 -122.419906        San Francisco\n",
       "27  42.101876  -72.588673          Springfield\n",
       "6   38.894992  -77.036558           Washington\n",
       "26  41.553809  -73.043836            Waterbury"
      ]
     },
     "execution_count": 16,
     "metadata": {},
     "output_type": "execute_result"
    }
   ],
   "source": [
    "coordinates"
   ]
  },
  {
   "cell_type": "code",
   "execution_count": 17,
   "metadata": {},
   "outputs": [],
   "source": [
    "grouped_single = misconduct.groupby(['city'], as_index=False)['amount_awarded'].sum().round()"
   ]
  },
  {
   "cell_type": "code",
   "execution_count": 18,
   "metadata": {},
   "outputs": [],
   "source": [
    "left_merged = pd.merge(grouped_single, coordinates, \n",
    "                      how=\"left\", on=['city'])"
   ]
  },
  {
   "cell_type": "code",
   "execution_count": 19,
   "metadata": {},
   "outputs": [
    {
     "data": {
      "text/html": [
       "<div>\n",
       "<style scoped>\n",
       "    .dataframe tbody tr th:only-of-type {\n",
       "        vertical-align: middle;\n",
       "    }\n",
       "\n",
       "    .dataframe tbody tr th {\n",
       "        vertical-align: top;\n",
       "    }\n",
       "\n",
       "    .dataframe thead th {\n",
       "        text-align: right;\n",
       "    }\n",
       "</style>\n",
       "<table border=\"1\" class=\"dataframe\">\n",
       "  <thead>\n",
       "    <tr style=\"text-align: right;\">\n",
       "      <th></th>\n",
       "      <th>city</th>\n",
       "      <th>amount_awarded</th>\n",
       "      <th>Latitude</th>\n",
       "      <th>Longitude</th>\n",
       "    </tr>\n",
       "  </thead>\n",
       "  <tbody>\n",
       "    <tr>\n",
       "      <th>0</th>\n",
       "      <td>Atlanta</td>\n",
       "      <td>4761181</td>\n",
       "      <td>33.748992</td>\n",
       "      <td>-84.390264</td>\n",
       "    </tr>\n",
       "    <tr>\n",
       "      <th>1</th>\n",
       "      <td>Baltimore</td>\n",
       "      <td>18432746</td>\n",
       "      <td>NaN</td>\n",
       "      <td>NaN</td>\n",
       "    </tr>\n",
       "    <tr>\n",
       "      <th>2</th>\n",
       "      <td>Baton Rouge</td>\n",
       "      <td>2879789</td>\n",
       "      <td>30.445960</td>\n",
       "      <td>-91.187380</td>\n",
       "    </tr>\n",
       "    <tr>\n",
       "      <th>3</th>\n",
       "      <td>Boston</td>\n",
       "      <td>11905481</td>\n",
       "      <td>42.360253</td>\n",
       "      <td>-71.058291</td>\n",
       "    </tr>\n",
       "    <tr>\n",
       "      <th>4</th>\n",
       "      <td>Charleston</td>\n",
       "      <td>1520250</td>\n",
       "      <td>32.787601</td>\n",
       "      <td>-79.940273</td>\n",
       "    </tr>\n",
       "    <tr>\n",
       "      <th>5</th>\n",
       "      <td>Chicago</td>\n",
       "      <td>467586425</td>\n",
       "      <td>41.875562</td>\n",
       "      <td>-87.624421</td>\n",
       "    </tr>\n",
       "    <tr>\n",
       "      <th>6</th>\n",
       "      <td>Cincinnati</td>\n",
       "      <td>2472785</td>\n",
       "      <td>39.101454</td>\n",
       "      <td>-84.512460</td>\n",
       "    </tr>\n",
       "    <tr>\n",
       "      <th>7</th>\n",
       "      <td>Cleveland</td>\n",
       "      <td>28573463</td>\n",
       "      <td>41.505161</td>\n",
       "      <td>-81.693445</td>\n",
       "    </tr>\n",
       "    <tr>\n",
       "      <th>8</th>\n",
       "      <td>Columbia</td>\n",
       "      <td>1030935</td>\n",
       "      <td>34.000749</td>\n",
       "      <td>-81.034331</td>\n",
       "    </tr>\n",
       "    <tr>\n",
       "      <th>9</th>\n",
       "      <td>Detroit</td>\n",
       "      <td>57702977</td>\n",
       "      <td>42.331551</td>\n",
       "      <td>-83.046640</td>\n",
       "    </tr>\n",
       "    <tr>\n",
       "      <th>10</th>\n",
       "      <td>Fort Lauderdale</td>\n",
       "      <td>2371381</td>\n",
       "      <td>26.122308</td>\n",
       "      <td>-80.143379</td>\n",
       "    </tr>\n",
       "    <tr>\n",
       "      <th>11</th>\n",
       "      <td>Indianapolis</td>\n",
       "      <td>13148274</td>\n",
       "      <td>39.768333</td>\n",
       "      <td>-86.158350</td>\n",
       "    </tr>\n",
       "    <tr>\n",
       "      <th>12</th>\n",
       "      <td>Los Angeles</td>\n",
       "      <td>329925622</td>\n",
       "      <td>34.053691</td>\n",
       "      <td>-118.242766</td>\n",
       "    </tr>\n",
       "    <tr>\n",
       "      <th>13</th>\n",
       "      <td>Memphis</td>\n",
       "      <td>8772851</td>\n",
       "      <td>35.149022</td>\n",
       "      <td>-90.051629</td>\n",
       "    </tr>\n",
       "    <tr>\n",
       "      <th>14</th>\n",
       "      <td>Miami</td>\n",
       "      <td>7284683</td>\n",
       "      <td>25.774173</td>\n",
       "      <td>-80.193620</td>\n",
       "    </tr>\n",
       "    <tr>\n",
       "      <th>15</th>\n",
       "      <td>Milwaukee</td>\n",
       "      <td>40017821</td>\n",
       "      <td>43.034993</td>\n",
       "      <td>-87.922497</td>\n",
       "    </tr>\n",
       "    <tr>\n",
       "      <th>16</th>\n",
       "      <td>New Orleans</td>\n",
       "      <td>2885642</td>\n",
       "      <td>29.949932</td>\n",
       "      <td>-90.070116</td>\n",
       "    </tr>\n",
       "    <tr>\n",
       "      <th>17</th>\n",
       "      <td>New York City</td>\n",
       "      <td>1704120285</td>\n",
       "      <td>NaN</td>\n",
       "      <td>NaN</td>\n",
       "    </tr>\n",
       "    <tr>\n",
       "      <th>18</th>\n",
       "      <td>North Charleston</td>\n",
       "      <td>3333750</td>\n",
       "      <td>32.913129</td>\n",
       "      <td>-80.062998</td>\n",
       "    </tr>\n",
       "    <tr>\n",
       "      <th>19</th>\n",
       "      <td>Orlando</td>\n",
       "      <td>734377</td>\n",
       "      <td>28.542111</td>\n",
       "      <td>-81.379030</td>\n",
       "    </tr>\n",
       "    <tr>\n",
       "      <th>20</th>\n",
       "      <td>Paterson</td>\n",
       "      <td>5350399</td>\n",
       "      <td>40.916765</td>\n",
       "      <td>-74.171811</td>\n",
       "    </tr>\n",
       "    <tr>\n",
       "      <th>21</th>\n",
       "      <td>Philadelphia</td>\n",
       "      <td>116839465</td>\n",
       "      <td>39.952724</td>\n",
       "      <td>-75.163526</td>\n",
       "    </tr>\n",
       "    <tr>\n",
       "      <th>22</th>\n",
       "      <td>Richmond</td>\n",
       "      <td>201000</td>\n",
       "      <td>37.538509</td>\n",
       "      <td>-77.434280</td>\n",
       "    </tr>\n",
       "    <tr>\n",
       "      <th>23</th>\n",
       "      <td>Roanoke</td>\n",
       "      <td>132500</td>\n",
       "      <td>37.270973</td>\n",
       "      <td>-79.941431</td>\n",
       "    </tr>\n",
       "    <tr>\n",
       "      <th>24</th>\n",
       "      <td>San Francisco</td>\n",
       "      <td>27873297</td>\n",
       "      <td>37.779026</td>\n",
       "      <td>-122.419906</td>\n",
       "    </tr>\n",
       "    <tr>\n",
       "      <th>25</th>\n",
       "      <td>Springfield</td>\n",
       "      <td>32846089</td>\n",
       "      <td>42.101876</td>\n",
       "      <td>-72.588673</td>\n",
       "    </tr>\n",
       "    <tr>\n",
       "      <th>26</th>\n",
       "      <td>St. Louis</td>\n",
       "      <td>3117846</td>\n",
       "      <td>NaN</td>\n",
       "      <td>NaN</td>\n",
       "    </tr>\n",
       "    <tr>\n",
       "      <th>27</th>\n",
       "      <td>Washington</td>\n",
       "      <td>114829407</td>\n",
       "      <td>38.894992</td>\n",
       "      <td>-77.036558</td>\n",
       "    </tr>\n",
       "    <tr>\n",
       "      <th>28</th>\n",
       "      <td>Waterbury</td>\n",
       "      <td>2227250</td>\n",
       "      <td>41.553809</td>\n",
       "      <td>-73.043836</td>\n",
       "    </tr>\n",
       "  </tbody>\n",
       "</table>\n",
       "</div>"
      ],
      "text/plain": [
       "                city  amount_awarded   Latitude   Longitude\n",
       "0            Atlanta         4761181  33.748992  -84.390264\n",
       "1          Baltimore        18432746        NaN         NaN\n",
       "2        Baton Rouge         2879789  30.445960  -91.187380\n",
       "3             Boston        11905481  42.360253  -71.058291\n",
       "4         Charleston         1520250  32.787601  -79.940273\n",
       "5            Chicago       467586425  41.875562  -87.624421\n",
       "6         Cincinnati         2472785  39.101454  -84.512460\n",
       "7          Cleveland        28573463  41.505161  -81.693445\n",
       "8           Columbia         1030935  34.000749  -81.034331\n",
       "9            Detroit        57702977  42.331551  -83.046640\n",
       "10   Fort Lauderdale         2371381  26.122308  -80.143379\n",
       "11      Indianapolis        13148274  39.768333  -86.158350\n",
       "12       Los Angeles       329925622  34.053691 -118.242766\n",
       "13           Memphis         8772851  35.149022  -90.051629\n",
       "14             Miami         7284683  25.774173  -80.193620\n",
       "15         Milwaukee        40017821  43.034993  -87.922497\n",
       "16       New Orleans         2885642  29.949932  -90.070116\n",
       "17     New York City      1704120285        NaN         NaN\n",
       "18  North Charleston         3333750  32.913129  -80.062998\n",
       "19           Orlando          734377  28.542111  -81.379030\n",
       "20          Paterson         5350399  40.916765  -74.171811\n",
       "21      Philadelphia       116839465  39.952724  -75.163526\n",
       "22          Richmond          201000  37.538509  -77.434280\n",
       "23           Roanoke          132500  37.270973  -79.941431\n",
       "24     San Francisco        27873297  37.779026 -122.419906\n",
       "25       Springfield        32846089  42.101876  -72.588673\n",
       "26         St. Louis         3117846        NaN         NaN\n",
       "27        Washington       114829407  38.894992  -77.036558\n",
       "28         Waterbury         2227250  41.553809  -73.043836"
      ]
     },
     "execution_count": 19,
     "metadata": {},
     "output_type": "execute_result"
    }
   ],
   "source": [
    "left_merged"
   ]
  },
  {
   "cell_type": "markdown",
   "metadata": {},
   "source": [
    "from geopy.geocoders import Nominatim\n",
    "geolocator = Nominatim(user_agent='Baltimore')\n",
    "location = geolocator.geocode('Baltimore,Maryland')\n",
    "print((location.latitude, location.longitude))"
   ]
  },
  {
   "cell_type": "code",
   "execution_count": 20,
   "metadata": {
    "scrolled": true
   },
   "outputs": [],
   "source": [
    "left_merged.at[1,'Latitude'] =   39.2908816\n",
    "left_merged.at[1, 'Longitude'] = 76.610759"
   ]
  },
  {
   "cell_type": "code",
   "execution_count": 21,
   "metadata": {},
   "outputs": [],
   "source": [
    "left_merged.at[17,'Latitude'] =   40.712728\n",
    "left_merged.at[17,'Longitude'] = 40.712728"
   ]
  },
  {
   "cell_type": "code",
   "execution_count": 22,
   "metadata": {},
   "outputs": [],
   "source": [
    "left_merged.at[26, 'Latitude']  = 38.626418\n",
    "left_merged.at[26, 'Longitude'] = -90.199838"
   ]
  },
  {
   "cell_type": "code",
   "execution_count": 23,
   "metadata": {},
   "outputs": [
    {
     "data": {
      "text/html": [
       "<div>\n",
       "<style scoped>\n",
       "    .dataframe tbody tr th:only-of-type {\n",
       "        vertical-align: middle;\n",
       "    }\n",
       "\n",
       "    .dataframe tbody tr th {\n",
       "        vertical-align: top;\n",
       "    }\n",
       "\n",
       "    .dataframe thead th {\n",
       "        text-align: right;\n",
       "    }\n",
       "</style>\n",
       "<table border=\"1\" class=\"dataframe\">\n",
       "  <thead>\n",
       "    <tr style=\"text-align: right;\">\n",
       "      <th></th>\n",
       "      <th>city</th>\n",
       "      <th>amount_awarded</th>\n",
       "      <th>Latitude</th>\n",
       "      <th>Longitude</th>\n",
       "    </tr>\n",
       "  </thead>\n",
       "  <tbody>\n",
       "    <tr>\n",
       "      <th>0</th>\n",
       "      <td>Atlanta</td>\n",
       "      <td>4761181</td>\n",
       "      <td>33.748992</td>\n",
       "      <td>-84.390264</td>\n",
       "    </tr>\n",
       "    <tr>\n",
       "      <th>1</th>\n",
       "      <td>Baltimore</td>\n",
       "      <td>18432746</td>\n",
       "      <td>39.290882</td>\n",
       "      <td>76.610759</td>\n",
       "    </tr>\n",
       "    <tr>\n",
       "      <th>2</th>\n",
       "      <td>Baton Rouge</td>\n",
       "      <td>2879789</td>\n",
       "      <td>30.445960</td>\n",
       "      <td>-91.187380</td>\n",
       "    </tr>\n",
       "    <tr>\n",
       "      <th>3</th>\n",
       "      <td>Boston</td>\n",
       "      <td>11905481</td>\n",
       "      <td>42.360253</td>\n",
       "      <td>-71.058291</td>\n",
       "    </tr>\n",
       "    <tr>\n",
       "      <th>4</th>\n",
       "      <td>Charleston</td>\n",
       "      <td>1520250</td>\n",
       "      <td>32.787601</td>\n",
       "      <td>-79.940273</td>\n",
       "    </tr>\n",
       "    <tr>\n",
       "      <th>5</th>\n",
       "      <td>Chicago</td>\n",
       "      <td>467586425</td>\n",
       "      <td>41.875562</td>\n",
       "      <td>-87.624421</td>\n",
       "    </tr>\n",
       "    <tr>\n",
       "      <th>6</th>\n",
       "      <td>Cincinnati</td>\n",
       "      <td>2472785</td>\n",
       "      <td>39.101454</td>\n",
       "      <td>-84.512460</td>\n",
       "    </tr>\n",
       "    <tr>\n",
       "      <th>7</th>\n",
       "      <td>Cleveland</td>\n",
       "      <td>28573463</td>\n",
       "      <td>41.505161</td>\n",
       "      <td>-81.693445</td>\n",
       "    </tr>\n",
       "    <tr>\n",
       "      <th>8</th>\n",
       "      <td>Columbia</td>\n",
       "      <td>1030935</td>\n",
       "      <td>34.000749</td>\n",
       "      <td>-81.034331</td>\n",
       "    </tr>\n",
       "    <tr>\n",
       "      <th>9</th>\n",
       "      <td>Detroit</td>\n",
       "      <td>57702977</td>\n",
       "      <td>42.331551</td>\n",
       "      <td>-83.046640</td>\n",
       "    </tr>\n",
       "    <tr>\n",
       "      <th>10</th>\n",
       "      <td>Fort Lauderdale</td>\n",
       "      <td>2371381</td>\n",
       "      <td>26.122308</td>\n",
       "      <td>-80.143379</td>\n",
       "    </tr>\n",
       "    <tr>\n",
       "      <th>11</th>\n",
       "      <td>Indianapolis</td>\n",
       "      <td>13148274</td>\n",
       "      <td>39.768333</td>\n",
       "      <td>-86.158350</td>\n",
       "    </tr>\n",
       "    <tr>\n",
       "      <th>12</th>\n",
       "      <td>Los Angeles</td>\n",
       "      <td>329925622</td>\n",
       "      <td>34.053691</td>\n",
       "      <td>-118.242766</td>\n",
       "    </tr>\n",
       "    <tr>\n",
       "      <th>13</th>\n",
       "      <td>Memphis</td>\n",
       "      <td>8772851</td>\n",
       "      <td>35.149022</td>\n",
       "      <td>-90.051629</td>\n",
       "    </tr>\n",
       "    <tr>\n",
       "      <th>14</th>\n",
       "      <td>Miami</td>\n",
       "      <td>7284683</td>\n",
       "      <td>25.774173</td>\n",
       "      <td>-80.193620</td>\n",
       "    </tr>\n",
       "    <tr>\n",
       "      <th>15</th>\n",
       "      <td>Milwaukee</td>\n",
       "      <td>40017821</td>\n",
       "      <td>43.034993</td>\n",
       "      <td>-87.922497</td>\n",
       "    </tr>\n",
       "    <tr>\n",
       "      <th>16</th>\n",
       "      <td>New Orleans</td>\n",
       "      <td>2885642</td>\n",
       "      <td>29.949932</td>\n",
       "      <td>-90.070116</td>\n",
       "    </tr>\n",
       "    <tr>\n",
       "      <th>17</th>\n",
       "      <td>New York City</td>\n",
       "      <td>1704120285</td>\n",
       "      <td>40.712728</td>\n",
       "      <td>40.712728</td>\n",
       "    </tr>\n",
       "    <tr>\n",
       "      <th>18</th>\n",
       "      <td>North Charleston</td>\n",
       "      <td>3333750</td>\n",
       "      <td>32.913129</td>\n",
       "      <td>-80.062998</td>\n",
       "    </tr>\n",
       "    <tr>\n",
       "      <th>19</th>\n",
       "      <td>Orlando</td>\n",
       "      <td>734377</td>\n",
       "      <td>28.542111</td>\n",
       "      <td>-81.379030</td>\n",
       "    </tr>\n",
       "    <tr>\n",
       "      <th>20</th>\n",
       "      <td>Paterson</td>\n",
       "      <td>5350399</td>\n",
       "      <td>40.916765</td>\n",
       "      <td>-74.171811</td>\n",
       "    </tr>\n",
       "    <tr>\n",
       "      <th>21</th>\n",
       "      <td>Philadelphia</td>\n",
       "      <td>116839465</td>\n",
       "      <td>39.952724</td>\n",
       "      <td>-75.163526</td>\n",
       "    </tr>\n",
       "    <tr>\n",
       "      <th>22</th>\n",
       "      <td>Richmond</td>\n",
       "      <td>201000</td>\n",
       "      <td>37.538509</td>\n",
       "      <td>-77.434280</td>\n",
       "    </tr>\n",
       "    <tr>\n",
       "      <th>23</th>\n",
       "      <td>Roanoke</td>\n",
       "      <td>132500</td>\n",
       "      <td>37.270973</td>\n",
       "      <td>-79.941431</td>\n",
       "    </tr>\n",
       "    <tr>\n",
       "      <th>24</th>\n",
       "      <td>San Francisco</td>\n",
       "      <td>27873297</td>\n",
       "      <td>37.779026</td>\n",
       "      <td>-122.419906</td>\n",
       "    </tr>\n",
       "    <tr>\n",
       "      <th>25</th>\n",
       "      <td>Springfield</td>\n",
       "      <td>32846089</td>\n",
       "      <td>42.101876</td>\n",
       "      <td>-72.588673</td>\n",
       "    </tr>\n",
       "    <tr>\n",
       "      <th>26</th>\n",
       "      <td>St. Louis</td>\n",
       "      <td>3117846</td>\n",
       "      <td>38.626418</td>\n",
       "      <td>-90.199838</td>\n",
       "    </tr>\n",
       "    <tr>\n",
       "      <th>27</th>\n",
       "      <td>Washington</td>\n",
       "      <td>114829407</td>\n",
       "      <td>38.894992</td>\n",
       "      <td>-77.036558</td>\n",
       "    </tr>\n",
       "    <tr>\n",
       "      <th>28</th>\n",
       "      <td>Waterbury</td>\n",
       "      <td>2227250</td>\n",
       "      <td>41.553809</td>\n",
       "      <td>-73.043836</td>\n",
       "    </tr>\n",
       "  </tbody>\n",
       "</table>\n",
       "</div>"
      ],
      "text/plain": [
       "                city  amount_awarded   Latitude   Longitude\n",
       "0            Atlanta         4761181  33.748992  -84.390264\n",
       "1          Baltimore        18432746  39.290882   76.610759\n",
       "2        Baton Rouge         2879789  30.445960  -91.187380\n",
       "3             Boston        11905481  42.360253  -71.058291\n",
       "4         Charleston         1520250  32.787601  -79.940273\n",
       "5            Chicago       467586425  41.875562  -87.624421\n",
       "6         Cincinnati         2472785  39.101454  -84.512460\n",
       "7          Cleveland        28573463  41.505161  -81.693445\n",
       "8           Columbia         1030935  34.000749  -81.034331\n",
       "9            Detroit        57702977  42.331551  -83.046640\n",
       "10   Fort Lauderdale         2371381  26.122308  -80.143379\n",
       "11      Indianapolis        13148274  39.768333  -86.158350\n",
       "12       Los Angeles       329925622  34.053691 -118.242766\n",
       "13           Memphis         8772851  35.149022  -90.051629\n",
       "14             Miami         7284683  25.774173  -80.193620\n",
       "15         Milwaukee        40017821  43.034993  -87.922497\n",
       "16       New Orleans         2885642  29.949932  -90.070116\n",
       "17     New York City      1704120285  40.712728   40.712728\n",
       "18  North Charleston         3333750  32.913129  -80.062998\n",
       "19           Orlando          734377  28.542111  -81.379030\n",
       "20          Paterson         5350399  40.916765  -74.171811\n",
       "21      Philadelphia       116839465  39.952724  -75.163526\n",
       "22          Richmond          201000  37.538509  -77.434280\n",
       "23           Roanoke          132500  37.270973  -79.941431\n",
       "24     San Francisco        27873297  37.779026 -122.419906\n",
       "25       Springfield        32846089  42.101876  -72.588673\n",
       "26         St. Louis         3117846  38.626418  -90.199838\n",
       "27        Washington       114829407  38.894992  -77.036558\n",
       "28         Waterbury         2227250  41.553809  -73.043836"
      ]
     },
     "execution_count": 23,
     "metadata": {},
     "output_type": "execute_result"
    }
   ],
   "source": [
    "left_merged"
   ]
  },
  {
   "cell_type": "code",
   "execution_count": 24,
   "metadata": {},
   "outputs": [
    {
     "data": {
      "application/vnd.plotly.v1+json": {
       "config": {
        "plotlyServerURL": "https://plot.ly"
       },
       "data": [
        {
         "customdata": [
          [
           4761181
          ],
          [
           18432746
          ],
          [
           2879789
          ],
          [
           11905481
          ],
          [
           1520250
          ],
          [
           467586425
          ],
          [
           2472785
          ],
          [
           28573463
          ],
          [
           1030935
          ],
          [
           57702977
          ],
          [
           2371381
          ],
          [
           13148274
          ],
          [
           329925622
          ],
          [
           8772851
          ],
          [
           7284683
          ],
          [
           40017821
          ],
          [
           2885642
          ],
          [
           1704120285
          ],
          [
           3333750
          ],
          [
           734377
          ],
          [
           5350399
          ],
          [
           116839465
          ],
          [
           201000
          ],
          [
           132500
          ],
          [
           27873297
          ],
          [
           32846089
          ],
          [
           3117846
          ],
          [
           114829407
          ],
          [
           2227250
          ]
         ],
         "hovertemplate": "<b>%{hovertext}</b><br><br>Latitude=%{lat}<br>Longitude=%{lon}<br>amount_awarded=%{customdata[0]}<extra></extra>",
         "hovertext": [
          "Atlanta",
          "Baltimore",
          "Baton Rouge",
          "Boston",
          "Charleston",
          "Chicago",
          "Cincinnati",
          "Cleveland",
          "Columbia",
          "Detroit",
          "Fort Lauderdale",
          "Indianapolis",
          "Los Angeles",
          "Memphis",
          "Miami",
          "Milwaukee",
          "New Orleans",
          "New York City",
          "North Charleston",
          "Orlando",
          "Paterson",
          "Philadelphia",
          "Richmond",
          "Roanoke",
          "San Francisco",
          "Springfield",
          "St. Louis",
          "Washington",
          "Waterbury"
         ],
         "lat": [
          33.7489924,
          39.2908816,
          30.4459596,
          42.3602534,
          32.7876012,
          41.87556160000001,
          39.1014537,
          41.5051613,
          34.000749299999995,
          42.3315509,
          26.1223084,
          39.7683331,
          34.0536909,
          35.1490215,
          25.7741728,
          43.0349931,
          29.949932300000004,
          40.712728,
          32.9131295,
          28.5421109,
          40.9167654,
          39.9527237,
          37.53850870000001,
          37.270973,
          37.7790262,
          42.1018764,
          38.626418,
          38.8949924,
          41.5538091
         ],
         "legendgroup": "",
         "lon": [
          -84.3902644,
          76.610759,
          -91.18738,
          -71.0582912,
          -79.9402728,
          -87.6244212,
          -84.5124602,
          -81.6934446,
          -81.03433129999998,
          -83.04664029999998,
          -80.14337859999998,
          -86.1583502,
          -118.242766,
          -90.0516285,
          -80.19362,
          -87.92249699999998,
          -90.0701156,
          40.712728,
          -80.0629981965219,
          -81.3790304,
          -74.171811,
          -75.16352619999998,
          -77.43428,
          -79.94143129999998,
          -122.419906,
          -72.5886727,
          -90.199838,
          -77.0365581,
          -73.0438362
         ],
         "marker": {
          "color": "fuchsia"
         },
         "mode": "markers",
         "name": "",
         "showlegend": false,
         "subplot": "mapbox",
         "type": "scattermapbox"
        }
       ],
       "layout": {
        "height": 300,
        "legend": {
         "tracegroupgap": 0
        },
        "mapbox": {
         "center": {
          "lat": 36.83116132413793,
          "lon": -74.59959527574213
         },
         "domain": {
          "x": [
           0,
           1
          ],
          "y": [
           0,
           1
          ]
         },
         "style": "open-street-map",
         "zoom": 3
        },
        "margin": {
         "b": 0,
         "l": 0,
         "r": 0,
         "t": 0
        },
        "template": {
         "data": {
          "bar": [
           {
            "error_x": {
             "color": "#2a3f5f"
            },
            "error_y": {
             "color": "#2a3f5f"
            },
            "marker": {
             "line": {
              "color": "#E5ECF6",
              "width": 0.5
             }
            },
            "type": "bar"
           }
          ],
          "barpolar": [
           {
            "marker": {
             "line": {
              "color": "#E5ECF6",
              "width": 0.5
             }
            },
            "type": "barpolar"
           }
          ],
          "carpet": [
           {
            "aaxis": {
             "endlinecolor": "#2a3f5f",
             "gridcolor": "white",
             "linecolor": "white",
             "minorgridcolor": "white",
             "startlinecolor": "#2a3f5f"
            },
            "baxis": {
             "endlinecolor": "#2a3f5f",
             "gridcolor": "white",
             "linecolor": "white",
             "minorgridcolor": "white",
             "startlinecolor": "#2a3f5f"
            },
            "type": "carpet"
           }
          ],
          "choropleth": [
           {
            "colorbar": {
             "outlinewidth": 0,
             "ticks": ""
            },
            "type": "choropleth"
           }
          ],
          "contour": [
           {
            "colorbar": {
             "outlinewidth": 0,
             "ticks": ""
            },
            "colorscale": [
             [
              0,
              "#0d0887"
             ],
             [
              0.1111111111111111,
              "#46039f"
             ],
             [
              0.2222222222222222,
              "#7201a8"
             ],
             [
              0.3333333333333333,
              "#9c179e"
             ],
             [
              0.4444444444444444,
              "#bd3786"
             ],
             [
              0.5555555555555556,
              "#d8576b"
             ],
             [
              0.6666666666666666,
              "#ed7953"
             ],
             [
              0.7777777777777778,
              "#fb9f3a"
             ],
             [
              0.8888888888888888,
              "#fdca26"
             ],
             [
              1,
              "#f0f921"
             ]
            ],
            "type": "contour"
           }
          ],
          "contourcarpet": [
           {
            "colorbar": {
             "outlinewidth": 0,
             "ticks": ""
            },
            "type": "contourcarpet"
           }
          ],
          "heatmap": [
           {
            "colorbar": {
             "outlinewidth": 0,
             "ticks": ""
            },
            "colorscale": [
             [
              0,
              "#0d0887"
             ],
             [
              0.1111111111111111,
              "#46039f"
             ],
             [
              0.2222222222222222,
              "#7201a8"
             ],
             [
              0.3333333333333333,
              "#9c179e"
             ],
             [
              0.4444444444444444,
              "#bd3786"
             ],
             [
              0.5555555555555556,
              "#d8576b"
             ],
             [
              0.6666666666666666,
              "#ed7953"
             ],
             [
              0.7777777777777778,
              "#fb9f3a"
             ],
             [
              0.8888888888888888,
              "#fdca26"
             ],
             [
              1,
              "#f0f921"
             ]
            ],
            "type": "heatmap"
           }
          ],
          "heatmapgl": [
           {
            "colorbar": {
             "outlinewidth": 0,
             "ticks": ""
            },
            "colorscale": [
             [
              0,
              "#0d0887"
             ],
             [
              0.1111111111111111,
              "#46039f"
             ],
             [
              0.2222222222222222,
              "#7201a8"
             ],
             [
              0.3333333333333333,
              "#9c179e"
             ],
             [
              0.4444444444444444,
              "#bd3786"
             ],
             [
              0.5555555555555556,
              "#d8576b"
             ],
             [
              0.6666666666666666,
              "#ed7953"
             ],
             [
              0.7777777777777778,
              "#fb9f3a"
             ],
             [
              0.8888888888888888,
              "#fdca26"
             ],
             [
              1,
              "#f0f921"
             ]
            ],
            "type": "heatmapgl"
           }
          ],
          "histogram": [
           {
            "marker": {
             "colorbar": {
              "outlinewidth": 0,
              "ticks": ""
             }
            },
            "type": "histogram"
           }
          ],
          "histogram2d": [
           {
            "colorbar": {
             "outlinewidth": 0,
             "ticks": ""
            },
            "colorscale": [
             [
              0,
              "#0d0887"
             ],
             [
              0.1111111111111111,
              "#46039f"
             ],
             [
              0.2222222222222222,
              "#7201a8"
             ],
             [
              0.3333333333333333,
              "#9c179e"
             ],
             [
              0.4444444444444444,
              "#bd3786"
             ],
             [
              0.5555555555555556,
              "#d8576b"
             ],
             [
              0.6666666666666666,
              "#ed7953"
             ],
             [
              0.7777777777777778,
              "#fb9f3a"
             ],
             [
              0.8888888888888888,
              "#fdca26"
             ],
             [
              1,
              "#f0f921"
             ]
            ],
            "type": "histogram2d"
           }
          ],
          "histogram2dcontour": [
           {
            "colorbar": {
             "outlinewidth": 0,
             "ticks": ""
            },
            "colorscale": [
             [
              0,
              "#0d0887"
             ],
             [
              0.1111111111111111,
              "#46039f"
             ],
             [
              0.2222222222222222,
              "#7201a8"
             ],
             [
              0.3333333333333333,
              "#9c179e"
             ],
             [
              0.4444444444444444,
              "#bd3786"
             ],
             [
              0.5555555555555556,
              "#d8576b"
             ],
             [
              0.6666666666666666,
              "#ed7953"
             ],
             [
              0.7777777777777778,
              "#fb9f3a"
             ],
             [
              0.8888888888888888,
              "#fdca26"
             ],
             [
              1,
              "#f0f921"
             ]
            ],
            "type": "histogram2dcontour"
           }
          ],
          "mesh3d": [
           {
            "colorbar": {
             "outlinewidth": 0,
             "ticks": ""
            },
            "type": "mesh3d"
           }
          ],
          "parcoords": [
           {
            "line": {
             "colorbar": {
              "outlinewidth": 0,
              "ticks": ""
             }
            },
            "type": "parcoords"
           }
          ],
          "pie": [
           {
            "automargin": true,
            "type": "pie"
           }
          ],
          "scatter": [
           {
            "marker": {
             "colorbar": {
              "outlinewidth": 0,
              "ticks": ""
             }
            },
            "type": "scatter"
           }
          ],
          "scatter3d": [
           {
            "line": {
             "colorbar": {
              "outlinewidth": 0,
              "ticks": ""
             }
            },
            "marker": {
             "colorbar": {
              "outlinewidth": 0,
              "ticks": ""
             }
            },
            "type": "scatter3d"
           }
          ],
          "scattercarpet": [
           {
            "marker": {
             "colorbar": {
              "outlinewidth": 0,
              "ticks": ""
             }
            },
            "type": "scattercarpet"
           }
          ],
          "scattergeo": [
           {
            "marker": {
             "colorbar": {
              "outlinewidth": 0,
              "ticks": ""
             }
            },
            "type": "scattergeo"
           }
          ],
          "scattergl": [
           {
            "marker": {
             "colorbar": {
              "outlinewidth": 0,
              "ticks": ""
             }
            },
            "type": "scattergl"
           }
          ],
          "scattermapbox": [
           {
            "marker": {
             "colorbar": {
              "outlinewidth": 0,
              "ticks": ""
             }
            },
            "type": "scattermapbox"
           }
          ],
          "scatterpolar": [
           {
            "marker": {
             "colorbar": {
              "outlinewidth": 0,
              "ticks": ""
             }
            },
            "type": "scatterpolar"
           }
          ],
          "scatterpolargl": [
           {
            "marker": {
             "colorbar": {
              "outlinewidth": 0,
              "ticks": ""
             }
            },
            "type": "scatterpolargl"
           }
          ],
          "scatterternary": [
           {
            "marker": {
             "colorbar": {
              "outlinewidth": 0,
              "ticks": ""
             }
            },
            "type": "scatterternary"
           }
          ],
          "surface": [
           {
            "colorbar": {
             "outlinewidth": 0,
             "ticks": ""
            },
            "colorscale": [
             [
              0,
              "#0d0887"
             ],
             [
              0.1111111111111111,
              "#46039f"
             ],
             [
              0.2222222222222222,
              "#7201a8"
             ],
             [
              0.3333333333333333,
              "#9c179e"
             ],
             [
              0.4444444444444444,
              "#bd3786"
             ],
             [
              0.5555555555555556,
              "#d8576b"
             ],
             [
              0.6666666666666666,
              "#ed7953"
             ],
             [
              0.7777777777777778,
              "#fb9f3a"
             ],
             [
              0.8888888888888888,
              "#fdca26"
             ],
             [
              1,
              "#f0f921"
             ]
            ],
            "type": "surface"
           }
          ],
          "table": [
           {
            "cells": {
             "fill": {
              "color": "#EBF0F8"
             },
             "line": {
              "color": "white"
             }
            },
            "header": {
             "fill": {
              "color": "#C8D4E3"
             },
             "line": {
              "color": "white"
             }
            },
            "type": "table"
           }
          ]
         },
         "layout": {
          "annotationdefaults": {
           "arrowcolor": "#2a3f5f",
           "arrowhead": 0,
           "arrowwidth": 1
          },
          "autotypenumbers": "strict",
          "coloraxis": {
           "colorbar": {
            "outlinewidth": 0,
            "ticks": ""
           }
          },
          "colorscale": {
           "diverging": [
            [
             0,
             "#8e0152"
            ],
            [
             0.1,
             "#c51b7d"
            ],
            [
             0.2,
             "#de77ae"
            ],
            [
             0.3,
             "#f1b6da"
            ],
            [
             0.4,
             "#fde0ef"
            ],
            [
             0.5,
             "#f7f7f7"
            ],
            [
             0.6,
             "#e6f5d0"
            ],
            [
             0.7,
             "#b8e186"
            ],
            [
             0.8,
             "#7fbc41"
            ],
            [
             0.9,
             "#4d9221"
            ],
            [
             1,
             "#276419"
            ]
           ],
           "sequential": [
            [
             0,
             "#0d0887"
            ],
            [
             0.1111111111111111,
             "#46039f"
            ],
            [
             0.2222222222222222,
             "#7201a8"
            ],
            [
             0.3333333333333333,
             "#9c179e"
            ],
            [
             0.4444444444444444,
             "#bd3786"
            ],
            [
             0.5555555555555556,
             "#d8576b"
            ],
            [
             0.6666666666666666,
             "#ed7953"
            ],
            [
             0.7777777777777778,
             "#fb9f3a"
            ],
            [
             0.8888888888888888,
             "#fdca26"
            ],
            [
             1,
             "#f0f921"
            ]
           ],
           "sequentialminus": [
            [
             0,
             "#0d0887"
            ],
            [
             0.1111111111111111,
             "#46039f"
            ],
            [
             0.2222222222222222,
             "#7201a8"
            ],
            [
             0.3333333333333333,
             "#9c179e"
            ],
            [
             0.4444444444444444,
             "#bd3786"
            ],
            [
             0.5555555555555556,
             "#d8576b"
            ],
            [
             0.6666666666666666,
             "#ed7953"
            ],
            [
             0.7777777777777778,
             "#fb9f3a"
            ],
            [
             0.8888888888888888,
             "#fdca26"
            ],
            [
             1,
             "#f0f921"
            ]
           ]
          },
          "colorway": [
           "#636efa",
           "#EF553B",
           "#00cc96",
           "#ab63fa",
           "#FFA15A",
           "#19d3f3",
           "#FF6692",
           "#B6E880",
           "#FF97FF",
           "#FECB52"
          ],
          "font": {
           "color": "#2a3f5f"
          },
          "geo": {
           "bgcolor": "white",
           "lakecolor": "white",
           "landcolor": "#E5ECF6",
           "showlakes": true,
           "showland": true,
           "subunitcolor": "white"
          },
          "hoverlabel": {
           "align": "left"
          },
          "hovermode": "closest",
          "mapbox": {
           "style": "light"
          },
          "paper_bgcolor": "white",
          "plot_bgcolor": "#E5ECF6",
          "polar": {
           "angularaxis": {
            "gridcolor": "white",
            "linecolor": "white",
            "ticks": ""
           },
           "bgcolor": "#E5ECF6",
           "radialaxis": {
            "gridcolor": "white",
            "linecolor": "white",
            "ticks": ""
           }
          },
          "scene": {
           "xaxis": {
            "backgroundcolor": "#E5ECF6",
            "gridcolor": "white",
            "gridwidth": 2,
            "linecolor": "white",
            "showbackground": true,
            "ticks": "",
            "zerolinecolor": "white"
           },
           "yaxis": {
            "backgroundcolor": "#E5ECF6",
            "gridcolor": "white",
            "gridwidth": 2,
            "linecolor": "white",
            "showbackground": true,
            "ticks": "",
            "zerolinecolor": "white"
           },
           "zaxis": {
            "backgroundcolor": "#E5ECF6",
            "gridcolor": "white",
            "gridwidth": 2,
            "linecolor": "white",
            "showbackground": true,
            "ticks": "",
            "zerolinecolor": "white"
           }
          },
          "shapedefaults": {
           "line": {
            "color": "#2a3f5f"
           }
          },
          "ternary": {
           "aaxis": {
            "gridcolor": "white",
            "linecolor": "white",
            "ticks": ""
           },
           "baxis": {
            "gridcolor": "white",
            "linecolor": "white",
            "ticks": ""
           },
           "bgcolor": "#E5ECF6",
           "caxis": {
            "gridcolor": "white",
            "linecolor": "white",
            "ticks": ""
           }
          },
          "title": {
           "x": 0.05
          },
          "xaxis": {
           "automargin": true,
           "gridcolor": "white",
           "linecolor": "white",
           "ticks": "",
           "title": {
            "standoff": 15
           },
           "zerolinecolor": "white",
           "zerolinewidth": 2
          },
          "yaxis": {
           "automargin": true,
           "gridcolor": "white",
           "linecolor": "white",
           "ticks": "",
           "title": {
            "standoff": 15
           },
           "zerolinecolor": "white",
           "zerolinewidth": 2
          }
         }
        }
       }
      },
      "text/html": [
       "<div>                            <div id=\"00c33bfe-fb69-49ca-9ab3-156368ca512f\" class=\"plotly-graph-div\" style=\"height:300px; width:100%;\"></div>            <script type=\"text/javascript\">                require([\"plotly\"], function(Plotly) {                    window.PLOTLYENV=window.PLOTLYENV || {};                                    if (document.getElementById(\"00c33bfe-fb69-49ca-9ab3-156368ca512f\")) {                    Plotly.newPlot(                        \"00c33bfe-fb69-49ca-9ab3-156368ca512f\",                        [{\"customdata\": [[4761181], [18432746], [2879789], [11905481], [1520250], [467586425], [2472785], [28573463], [1030935], [57702977], [2371381], [13148274], [329925622], [8772851], [7284683], [40017821], [2885642], [1704120285], [3333750], [734377], [5350399], [116839465], [201000], [132500], [27873297], [32846089], [3117846], [114829407], [2227250]], \"hovertemplate\": \"<b>%{hovertext}</b><br><br>Latitude=%{lat}<br>Longitude=%{lon}<br>amount_awarded=%{customdata[0]}<extra></extra>\", \"hovertext\": [\"Atlanta\", \"Baltimore\", \"Baton Rouge\", \"Boston\", \"Charleston\", \"Chicago\", \"Cincinnati\", \"Cleveland\", \"Columbia\", \"Detroit\", \"Fort Lauderdale\", \"Indianapolis\", \"Los Angeles\", \"Memphis\", \"Miami\", \"Milwaukee\", \"New Orleans\", \"New York City\", \"North Charleston\", \"Orlando\", \"Paterson\", \"Philadelphia\", \"Richmond\", \"Roanoke\", \"San Francisco\", \"Springfield\", \"St. Louis\", \"Washington\", \"Waterbury\"], \"lat\": [33.7489924, 39.2908816, 30.4459596, 42.3602534, 32.7876012, 41.87556160000001, 39.1014537, 41.5051613, 34.000749299999995, 42.3315509, 26.1223084, 39.7683331, 34.0536909, 35.1490215, 25.7741728, 43.0349931, 29.949932300000004, 40.712728, 32.9131295, 28.5421109, 40.9167654, 39.9527237, 37.53850870000001, 37.270973, 37.7790262, 42.1018764, 38.626418, 38.8949924, 41.5538091], \"legendgroup\": \"\", \"lon\": [-84.3902644, 76.610759, -91.18738, -71.0582912, -79.9402728, -87.6244212, -84.5124602, -81.6934446, -81.03433129999998, -83.04664029999998, -80.14337859999998, -86.1583502, -118.242766, -90.0516285, -80.19362, -87.92249699999998, -90.0701156, 40.712728, -80.0629981965219, -81.3790304, -74.171811, -75.16352619999998, -77.43428, -79.94143129999998, -122.419906, -72.5886727, -90.199838, -77.0365581, -73.0438362], \"marker\": {\"color\": \"fuchsia\"}, \"mode\": \"markers\", \"name\": \"\", \"showlegend\": false, \"subplot\": \"mapbox\", \"type\": \"scattermapbox\"}],                        {\"height\": 300, \"legend\": {\"tracegroupgap\": 0}, \"mapbox\": {\"center\": {\"lat\": 36.83116132413793, \"lon\": -74.59959527574213}, \"domain\": {\"x\": [0.0, 1.0], \"y\": [0.0, 1.0]}, \"style\": \"open-street-map\", \"zoom\": 3}, \"margin\": {\"b\": 0, \"l\": 0, \"r\": 0, \"t\": 0}, \"template\": {\"data\": {\"bar\": [{\"error_x\": {\"color\": \"#2a3f5f\"}, \"error_y\": {\"color\": \"#2a3f5f\"}, \"marker\": {\"line\": {\"color\": \"#E5ECF6\", \"width\": 0.5}}, \"type\": \"bar\"}], \"barpolar\": [{\"marker\": {\"line\": {\"color\": \"#E5ECF6\", \"width\": 0.5}}, \"type\": \"barpolar\"}], \"carpet\": [{\"aaxis\": {\"endlinecolor\": \"#2a3f5f\", \"gridcolor\": \"white\", \"linecolor\": \"white\", \"minorgridcolor\": \"white\", \"startlinecolor\": \"#2a3f5f\"}, \"baxis\": {\"endlinecolor\": \"#2a3f5f\", \"gridcolor\": \"white\", \"linecolor\": \"white\", \"minorgridcolor\": \"white\", \"startlinecolor\": \"#2a3f5f\"}, \"type\": \"carpet\"}], \"choropleth\": [{\"colorbar\": {\"outlinewidth\": 0, \"ticks\": \"\"}, \"type\": \"choropleth\"}], \"contour\": [{\"colorbar\": {\"outlinewidth\": 0, \"ticks\": \"\"}, \"colorscale\": [[0.0, \"#0d0887\"], [0.1111111111111111, \"#46039f\"], [0.2222222222222222, \"#7201a8\"], [0.3333333333333333, \"#9c179e\"], [0.4444444444444444, \"#bd3786\"], [0.5555555555555556, \"#d8576b\"], [0.6666666666666666, \"#ed7953\"], [0.7777777777777778, \"#fb9f3a\"], [0.8888888888888888, \"#fdca26\"], [1.0, \"#f0f921\"]], \"type\": \"contour\"}], \"contourcarpet\": [{\"colorbar\": {\"outlinewidth\": 0, \"ticks\": \"\"}, \"type\": \"contourcarpet\"}], \"heatmap\": [{\"colorbar\": {\"outlinewidth\": 0, \"ticks\": \"\"}, \"colorscale\": [[0.0, \"#0d0887\"], [0.1111111111111111, \"#46039f\"], [0.2222222222222222, \"#7201a8\"], [0.3333333333333333, \"#9c179e\"], [0.4444444444444444, \"#bd3786\"], [0.5555555555555556, \"#d8576b\"], [0.6666666666666666, \"#ed7953\"], [0.7777777777777778, \"#fb9f3a\"], [0.8888888888888888, \"#fdca26\"], [1.0, \"#f0f921\"]], \"type\": \"heatmap\"}], \"heatmapgl\": [{\"colorbar\": {\"outlinewidth\": 0, \"ticks\": \"\"}, \"colorscale\": [[0.0, \"#0d0887\"], [0.1111111111111111, \"#46039f\"], [0.2222222222222222, \"#7201a8\"], [0.3333333333333333, \"#9c179e\"], [0.4444444444444444, \"#bd3786\"], [0.5555555555555556, \"#d8576b\"], [0.6666666666666666, \"#ed7953\"], [0.7777777777777778, \"#fb9f3a\"], [0.8888888888888888, \"#fdca26\"], [1.0, \"#f0f921\"]], \"type\": \"heatmapgl\"}], \"histogram\": [{\"marker\": {\"colorbar\": {\"outlinewidth\": 0, \"ticks\": \"\"}}, \"type\": \"histogram\"}], \"histogram2d\": [{\"colorbar\": {\"outlinewidth\": 0, \"ticks\": \"\"}, \"colorscale\": [[0.0, \"#0d0887\"], [0.1111111111111111, \"#46039f\"], [0.2222222222222222, \"#7201a8\"], [0.3333333333333333, \"#9c179e\"], [0.4444444444444444, \"#bd3786\"], [0.5555555555555556, \"#d8576b\"], [0.6666666666666666, \"#ed7953\"], [0.7777777777777778, \"#fb9f3a\"], [0.8888888888888888, \"#fdca26\"], [1.0, \"#f0f921\"]], \"type\": \"histogram2d\"}], \"histogram2dcontour\": [{\"colorbar\": {\"outlinewidth\": 0, \"ticks\": \"\"}, \"colorscale\": [[0.0, \"#0d0887\"], [0.1111111111111111, \"#46039f\"], [0.2222222222222222, \"#7201a8\"], [0.3333333333333333, \"#9c179e\"], [0.4444444444444444, \"#bd3786\"], [0.5555555555555556, \"#d8576b\"], [0.6666666666666666, \"#ed7953\"], [0.7777777777777778, \"#fb9f3a\"], [0.8888888888888888, \"#fdca26\"], [1.0, \"#f0f921\"]], \"type\": \"histogram2dcontour\"}], \"mesh3d\": [{\"colorbar\": {\"outlinewidth\": 0, \"ticks\": \"\"}, \"type\": \"mesh3d\"}], \"parcoords\": [{\"line\": {\"colorbar\": {\"outlinewidth\": 0, \"ticks\": \"\"}}, \"type\": \"parcoords\"}], \"pie\": [{\"automargin\": true, \"type\": \"pie\"}], \"scatter\": [{\"marker\": {\"colorbar\": {\"outlinewidth\": 0, \"ticks\": \"\"}}, \"type\": \"scatter\"}], \"scatter3d\": [{\"line\": {\"colorbar\": {\"outlinewidth\": 0, \"ticks\": \"\"}}, \"marker\": {\"colorbar\": {\"outlinewidth\": 0, \"ticks\": \"\"}}, \"type\": \"scatter3d\"}], \"scattercarpet\": [{\"marker\": {\"colorbar\": {\"outlinewidth\": 0, \"ticks\": \"\"}}, \"type\": \"scattercarpet\"}], \"scattergeo\": [{\"marker\": {\"colorbar\": {\"outlinewidth\": 0, \"ticks\": \"\"}}, \"type\": \"scattergeo\"}], \"scattergl\": [{\"marker\": {\"colorbar\": {\"outlinewidth\": 0, \"ticks\": \"\"}}, \"type\": \"scattergl\"}], \"scattermapbox\": [{\"marker\": {\"colorbar\": {\"outlinewidth\": 0, \"ticks\": \"\"}}, \"type\": \"scattermapbox\"}], \"scatterpolar\": [{\"marker\": {\"colorbar\": {\"outlinewidth\": 0, \"ticks\": \"\"}}, \"type\": \"scatterpolar\"}], \"scatterpolargl\": [{\"marker\": {\"colorbar\": {\"outlinewidth\": 0, \"ticks\": \"\"}}, \"type\": \"scatterpolargl\"}], \"scatterternary\": [{\"marker\": {\"colorbar\": {\"outlinewidth\": 0, \"ticks\": \"\"}}, \"type\": \"scatterternary\"}], \"surface\": [{\"colorbar\": {\"outlinewidth\": 0, \"ticks\": \"\"}, \"colorscale\": [[0.0, \"#0d0887\"], [0.1111111111111111, \"#46039f\"], [0.2222222222222222, \"#7201a8\"], [0.3333333333333333, \"#9c179e\"], [0.4444444444444444, \"#bd3786\"], [0.5555555555555556, \"#d8576b\"], [0.6666666666666666, \"#ed7953\"], [0.7777777777777778, \"#fb9f3a\"], [0.8888888888888888, \"#fdca26\"], [1.0, \"#f0f921\"]], \"type\": \"surface\"}], \"table\": [{\"cells\": {\"fill\": {\"color\": \"#EBF0F8\"}, \"line\": {\"color\": \"white\"}}, \"header\": {\"fill\": {\"color\": \"#C8D4E3\"}, \"line\": {\"color\": \"white\"}}, \"type\": \"table\"}]}, \"layout\": {\"annotationdefaults\": {\"arrowcolor\": \"#2a3f5f\", \"arrowhead\": 0, \"arrowwidth\": 1}, \"autotypenumbers\": \"strict\", \"coloraxis\": {\"colorbar\": {\"outlinewidth\": 0, \"ticks\": \"\"}}, \"colorscale\": {\"diverging\": [[0, \"#8e0152\"], [0.1, \"#c51b7d\"], [0.2, \"#de77ae\"], [0.3, \"#f1b6da\"], [0.4, \"#fde0ef\"], [0.5, \"#f7f7f7\"], [0.6, \"#e6f5d0\"], [0.7, \"#b8e186\"], [0.8, \"#7fbc41\"], [0.9, \"#4d9221\"], [1, \"#276419\"]], \"sequential\": [[0.0, \"#0d0887\"], [0.1111111111111111, \"#46039f\"], [0.2222222222222222, \"#7201a8\"], [0.3333333333333333, \"#9c179e\"], [0.4444444444444444, \"#bd3786\"], [0.5555555555555556, \"#d8576b\"], [0.6666666666666666, \"#ed7953\"], [0.7777777777777778, \"#fb9f3a\"], [0.8888888888888888, \"#fdca26\"], [1.0, \"#f0f921\"]], \"sequentialminus\": [[0.0, \"#0d0887\"], [0.1111111111111111, \"#46039f\"], [0.2222222222222222, \"#7201a8\"], [0.3333333333333333, \"#9c179e\"], [0.4444444444444444, \"#bd3786\"], [0.5555555555555556, \"#d8576b\"], [0.6666666666666666, \"#ed7953\"], [0.7777777777777778, \"#fb9f3a\"], [0.8888888888888888, \"#fdca26\"], [1.0, \"#f0f921\"]]}, \"colorway\": [\"#636efa\", \"#EF553B\", \"#00cc96\", \"#ab63fa\", \"#FFA15A\", \"#19d3f3\", \"#FF6692\", \"#B6E880\", \"#FF97FF\", \"#FECB52\"], \"font\": {\"color\": \"#2a3f5f\"}, \"geo\": {\"bgcolor\": \"white\", \"lakecolor\": \"white\", \"landcolor\": \"#E5ECF6\", \"showlakes\": true, \"showland\": true, \"subunitcolor\": \"white\"}, \"hoverlabel\": {\"align\": \"left\"}, \"hovermode\": \"closest\", \"mapbox\": {\"style\": \"light\"}, \"paper_bgcolor\": \"white\", \"plot_bgcolor\": \"#E5ECF6\", \"polar\": {\"angularaxis\": {\"gridcolor\": \"white\", \"linecolor\": \"white\", \"ticks\": \"\"}, \"bgcolor\": \"#E5ECF6\", \"radialaxis\": {\"gridcolor\": \"white\", \"linecolor\": \"white\", \"ticks\": \"\"}}, \"scene\": {\"xaxis\": {\"backgroundcolor\": \"#E5ECF6\", \"gridcolor\": \"white\", \"gridwidth\": 2, \"linecolor\": \"white\", \"showbackground\": true, \"ticks\": \"\", \"zerolinecolor\": \"white\"}, \"yaxis\": {\"backgroundcolor\": \"#E5ECF6\", \"gridcolor\": \"white\", \"gridwidth\": 2, \"linecolor\": \"white\", \"showbackground\": true, \"ticks\": \"\", \"zerolinecolor\": \"white\"}, \"zaxis\": {\"backgroundcolor\": \"#E5ECF6\", \"gridcolor\": \"white\", \"gridwidth\": 2, \"linecolor\": \"white\", \"showbackground\": true, \"ticks\": \"\", \"zerolinecolor\": \"white\"}}, \"shapedefaults\": {\"line\": {\"color\": \"#2a3f5f\"}}, \"ternary\": {\"aaxis\": {\"gridcolor\": \"white\", \"linecolor\": \"white\", \"ticks\": \"\"}, \"baxis\": {\"gridcolor\": \"white\", \"linecolor\": \"white\", \"ticks\": \"\"}, \"bgcolor\": \"#E5ECF6\", \"caxis\": {\"gridcolor\": \"white\", \"linecolor\": \"white\", \"ticks\": \"\"}}, \"title\": {\"x\": 0.05}, \"xaxis\": {\"automargin\": true, \"gridcolor\": \"white\", \"linecolor\": \"white\", \"ticks\": \"\", \"title\": {\"standoff\": 15}, \"zerolinecolor\": \"white\", \"zerolinewidth\": 2}, \"yaxis\": {\"automargin\": true, \"gridcolor\": \"white\", \"linecolor\": \"white\", \"ticks\": \"\", \"title\": {\"standoff\": 15}, \"zerolinecolor\": \"white\", \"zerolinewidth\": 2}}}},                        {\"responsive\": true}                    ).then(function(){\n",
       "                            \n",
       "var gd = document.getElementById('00c33bfe-fb69-49ca-9ab3-156368ca512f');\n",
       "var x = new MutationObserver(function (mutations, observer) {{\n",
       "        var display = window.getComputedStyle(gd).display;\n",
       "        if (!display || display === 'none') {{\n",
       "            console.log([gd, 'removed!']);\n",
       "            Plotly.purge(gd);\n",
       "            observer.disconnect();\n",
       "        }}\n",
       "}});\n",
       "\n",
       "// Listen for the removal of the full notebook cells\n",
       "var notebookContainer = gd.closest('#notebook-container');\n",
       "if (notebookContainer) {{\n",
       "    x.observe(notebookContainer, {childList: true});\n",
       "}}\n",
       "\n",
       "// Listen for the clearing of the current output cell\n",
       "var outputEl = gd.closest('.output');\n",
       "if (outputEl) {{\n",
       "    x.observe(outputEl, {childList: true});\n",
       "}}\n",
       "\n",
       "                        })                };                });            </script>        </div>"
      ]
     },
     "metadata": {},
     "output_type": "display_data"
    }
   ],
   "source": [
    "fig = px.scatter_mapbox(left_merged,  lat= 'Latitude', lon= 'Longitude', hover_name= 'city', hover_data=['amount_awarded'],\n",
    "                       color_discrete_sequence=['fuchsia'], zoom=3, height=300)\n",
    "fig.update_layout(mapbox_style='open-street-map')\n",
    "fig.update_layout(margin={'r':0,'t':0,'l':0,'b':0})\n",
    "fig.show()"
   ]
  },
  {
   "cell_type": "code",
   "execution_count": 25,
   "metadata": {},
   "outputs": [
    {
     "data": {
      "text/html": [
       "<div>\n",
       "<style scoped>\n",
       "    .dataframe tbody tr th:only-of-type {\n",
       "        vertical-align: middle;\n",
       "    }\n",
       "\n",
       "    .dataframe tbody tr th {\n",
       "        vertical-align: top;\n",
       "    }\n",
       "\n",
       "    .dataframe thead th {\n",
       "        text-align: right;\n",
       "    }\n",
       "</style>\n",
       "<table border=\"1\" class=\"dataframe\">\n",
       "  <thead>\n",
       "    <tr style=\"text-align: right;\">\n",
       "      <th></th>\n",
       "      <th>city</th>\n",
       "      <th>Estimates Base</th>\n",
       "      <th>per capita</th>\n",
       "    </tr>\n",
       "  </thead>\n",
       "  <tbody>\n",
       "    <tr>\n",
       "      <th>0</th>\n",
       "      <td>Atlanta</td>\n",
       "      <td>427059</td>\n",
       "      <td>11.148769</td>\n",
       "    </tr>\n",
       "    <tr>\n",
       "      <th>1</th>\n",
       "      <td>Baltimore</td>\n",
       "      <td>229423</td>\n",
       "      <td>80.343941</td>\n",
       "    </tr>\n",
       "    <tr>\n",
       "      <th>2</th>\n",
       "      <td>Baton Rouge</td>\n",
       "      <td>617792</td>\n",
       "      <td>4.661431</td>\n",
       "    </tr>\n",
       "    <tr>\n",
       "      <th>3</th>\n",
       "      <td>Boston</td>\n",
       "      <td>105148</td>\n",
       "      <td>113.225948</td>\n",
       "    </tr>\n",
       "    <tr>\n",
       "      <th>4</th>\n",
       "      <td>Charleston</td>\n",
       "      <td>120364</td>\n",
       "      <td>12.630438</td>\n",
       "    </tr>\n",
       "    <tr>\n",
       "      <th>5</th>\n",
       "      <td>Chicago</td>\n",
       "      <td>2695652</td>\n",
       "      <td>173.459506</td>\n",
       "    </tr>\n",
       "    <tr>\n",
       "      <th>6</th>\n",
       "      <td>Cincinnati</td>\n",
       "      <td>297025</td>\n",
       "      <td>8.325181</td>\n",
       "    </tr>\n",
       "    <tr>\n",
       "      <th>7</th>\n",
       "      <td>Cleveland</td>\n",
       "      <td>396665</td>\n",
       "      <td>72.034273</td>\n",
       "    </tr>\n",
       "    <tr>\n",
       "      <th>8</th>\n",
       "      <td>Columbia</td>\n",
       "      <td>130421</td>\n",
       "      <td>7.904670</td>\n",
       "    </tr>\n",
       "    <tr>\n",
       "      <th>9</th>\n",
       "      <td>Detroit</td>\n",
       "      <td>713898</td>\n",
       "      <td>80.828058</td>\n",
       "    </tr>\n",
       "    <tr>\n",
       "      <th>10</th>\n",
       "      <td>Fort Lauderdale</td>\n",
       "      <td>165754</td>\n",
       "      <td>14.306647</td>\n",
       "    </tr>\n",
       "    <tr>\n",
       "      <th>11</th>\n",
       "      <td>Indianapolis</td>\n",
       "      <td>820457</td>\n",
       "      <td>16.025550</td>\n",
       "    </tr>\n",
       "    <tr>\n",
       "      <th>12</th>\n",
       "      <td>Los Angeles</td>\n",
       "      <td>193538</td>\n",
       "      <td>1704.707200</td>\n",
       "    </tr>\n",
       "    <tr>\n",
       "      <th>13</th>\n",
       "      <td>Memphis</td>\n",
       "      <td>3793139</td>\n",
       "      <td>2.312830</td>\n",
       "    </tr>\n",
       "    <tr>\n",
       "      <th>14</th>\n",
       "      <td>Miami</td>\n",
       "      <td>651873</td>\n",
       "      <td>11.175005</td>\n",
       "    </tr>\n",
       "    <tr>\n",
       "      <th>15</th>\n",
       "      <td>Milwaukee</td>\n",
       "      <td>399481</td>\n",
       "      <td>100.174531</td>\n",
       "    </tr>\n",
       "    <tr>\n",
       "      <th>16</th>\n",
       "      <td>New Orleans</td>\n",
       "      <td>594498</td>\n",
       "      <td>4.853914</td>\n",
       "    </tr>\n",
       "    <tr>\n",
       "      <th>17</th>\n",
       "      <td>New York City</td>\n",
       "      <td>343828</td>\n",
       "      <td>4956.316783</td>\n",
       "    </tr>\n",
       "    <tr>\n",
       "      <th>18</th>\n",
       "      <td>North Charleston</td>\n",
       "      <td>8175031</td>\n",
       "      <td>0.407797</td>\n",
       "    </tr>\n",
       "    <tr>\n",
       "      <th>19</th>\n",
       "      <td>Orlando</td>\n",
       "      <td>97579</td>\n",
       "      <td>7.525994</td>\n",
       "    </tr>\n",
       "    <tr>\n",
       "      <th>20</th>\n",
       "      <td>Paterson</td>\n",
       "      <td>238836</td>\n",
       "      <td>22.402092</td>\n",
       "    </tr>\n",
       "    <tr>\n",
       "      <th>21</th>\n",
       "      <td>Philadelphia</td>\n",
       "      <td>146181</td>\n",
       "      <td>799.279489</td>\n",
       "    </tr>\n",
       "    <tr>\n",
       "      <th>22</th>\n",
       "      <td>Richmond</td>\n",
       "      <td>1526012</td>\n",
       "      <td>0.131716</td>\n",
       "    </tr>\n",
       "    <tr>\n",
       "      <th>23</th>\n",
       "      <td>Roanoke</td>\n",
       "      <td>204375</td>\n",
       "      <td>0.648318</td>\n",
       "    </tr>\n",
       "    <tr>\n",
       "      <th>24</th>\n",
       "      <td>San Francisco</td>\n",
       "      <td>96910</td>\n",
       "      <td>287.620452</td>\n",
       "    </tr>\n",
       "    <tr>\n",
       "      <th>25</th>\n",
       "      <td>Springfield</td>\n",
       "      <td>805184</td>\n",
       "      <td>40.793271</td>\n",
       "    </tr>\n",
       "    <tr>\n",
       "      <th>26</th>\n",
       "      <td>St. Louis</td>\n",
       "      <td>153132</td>\n",
       "      <td>20.360519</td>\n",
       "    </tr>\n",
       "    <tr>\n",
       "      <th>27</th>\n",
       "      <td>Washington</td>\n",
       "      <td>319289</td>\n",
       "      <td>359.641106</td>\n",
       "    </tr>\n",
       "    <tr>\n",
       "      <th>28</th>\n",
       "      <td>Waterbury</td>\n",
       "      <td>601767</td>\n",
       "      <td>3.701183</td>\n",
       "    </tr>\n",
       "  </tbody>\n",
       "</table>\n",
       "</div>"
      ],
      "text/plain": [
       "                city  Estimates Base   per capita\n",
       "0            Atlanta          427059    11.148769\n",
       "1          Baltimore          229423    80.343941\n",
       "2        Baton Rouge          617792     4.661431\n",
       "3             Boston          105148   113.225948\n",
       "4         Charleston          120364    12.630438\n",
       "5            Chicago         2695652   173.459506\n",
       "6         Cincinnati          297025     8.325181\n",
       "7          Cleveland          396665    72.034273\n",
       "8           Columbia          130421     7.904670\n",
       "9            Detroit          713898    80.828058\n",
       "10   Fort Lauderdale          165754    14.306647\n",
       "11      Indianapolis          820457    16.025550\n",
       "12       Los Angeles          193538  1704.707200\n",
       "13           Memphis         3793139     2.312830\n",
       "14             Miami          651873    11.175005\n",
       "15         Milwaukee          399481   100.174531\n",
       "16       New Orleans          594498     4.853914\n",
       "17     New York City          343828  4956.316783\n",
       "18  North Charleston         8175031     0.407797\n",
       "19           Orlando           97579     7.525994\n",
       "20          Paterson          238836    22.402092\n",
       "21      Philadelphia          146181   799.279489\n",
       "22          Richmond         1526012     0.131716\n",
       "23           Roanoke          204375     0.648318\n",
       "24     San Francisco           96910   287.620452\n",
       "25       Springfield          805184    40.793271\n",
       "26         St. Louis          153132    20.360519\n",
       "27        Washington          319289   359.641106\n",
       "28         Waterbury          601767     3.701183"
      ]
     },
     "execution_count": 25,
     "metadata": {},
     "output_type": "execute_result"
    }
   ],
   "source": [
    "per_cap = pd.read_csv('per_cap.csv')\n",
    "per_cap.drop(['Unnamed: 0','amount_awarded'], axis=1)"
   ]
  },
  {
   "cell_type": "code",
   "execution_count": 26,
   "metadata": {},
   "outputs": [],
   "source": [
    "left_merged['per capita'] = per_cap['per capita']"
   ]
  },
  {
   "cell_type": "code",
   "execution_count": 27,
   "metadata": {},
   "outputs": [
    {
     "data": {
      "text/html": [
       "<div>\n",
       "<style scoped>\n",
       "    .dataframe tbody tr th:only-of-type {\n",
       "        vertical-align: middle;\n",
       "    }\n",
       "\n",
       "    .dataframe tbody tr th {\n",
       "        vertical-align: top;\n",
       "    }\n",
       "\n",
       "    .dataframe thead th {\n",
       "        text-align: right;\n",
       "    }\n",
       "</style>\n",
       "<table border=\"1\" class=\"dataframe\">\n",
       "  <thead>\n",
       "    <tr style=\"text-align: right;\">\n",
       "      <th></th>\n",
       "      <th>city</th>\n",
       "      <th>amount_awarded</th>\n",
       "      <th>Latitude</th>\n",
       "      <th>Longitude</th>\n",
       "      <th>per capita</th>\n",
       "      <th>per_capita_log</th>\n",
       "    </tr>\n",
       "  </thead>\n",
       "  <tbody>\n",
       "    <tr>\n",
       "      <th>0</th>\n",
       "      <td>Atlanta</td>\n",
       "      <td>4761181</td>\n",
       "      <td>33.748992</td>\n",
       "      <td>-84.390264</td>\n",
       "      <td>11.148769</td>\n",
       "      <td>2.411329</td>\n",
       "    </tr>\n",
       "    <tr>\n",
       "      <th>1</th>\n",
       "      <td>Baltimore</td>\n",
       "      <td>18432746</td>\n",
       "      <td>39.290882</td>\n",
       "      <td>76.610759</td>\n",
       "      <td>80.343941</td>\n",
       "      <td>4.386317</td>\n",
       "    </tr>\n",
       "    <tr>\n",
       "      <th>2</th>\n",
       "      <td>Baton Rouge</td>\n",
       "      <td>2879789</td>\n",
       "      <td>30.445960</td>\n",
       "      <td>-91.187380</td>\n",
       "      <td>4.661431</td>\n",
       "      <td>1.539323</td>\n",
       "    </tr>\n",
       "    <tr>\n",
       "      <th>3</th>\n",
       "      <td>Boston</td>\n",
       "      <td>11905481</td>\n",
       "      <td>42.360253</td>\n",
       "      <td>-71.058291</td>\n",
       "      <td>113.225948</td>\n",
       "      <td>4.729385</td>\n",
       "    </tr>\n",
       "    <tr>\n",
       "      <th>4</th>\n",
       "      <td>Charleston</td>\n",
       "      <td>1520250</td>\n",
       "      <td>32.787601</td>\n",
       "      <td>-79.940273</td>\n",
       "      <td>12.630438</td>\n",
       "      <td>2.536110</td>\n",
       "    </tr>\n",
       "    <tr>\n",
       "      <th>5</th>\n",
       "      <td>Chicago</td>\n",
       "      <td>467586425</td>\n",
       "      <td>41.875562</td>\n",
       "      <td>-87.624421</td>\n",
       "      <td>173.459506</td>\n",
       "      <td>5.155944</td>\n",
       "    </tr>\n",
       "    <tr>\n",
       "      <th>6</th>\n",
       "      <td>Cincinnati</td>\n",
       "      <td>2472785</td>\n",
       "      <td>39.101454</td>\n",
       "      <td>-84.512460</td>\n",
       "      <td>8.325181</td>\n",
       "      <td>2.119285</td>\n",
       "    </tr>\n",
       "    <tr>\n",
       "      <th>7</th>\n",
       "      <td>Cleveland</td>\n",
       "      <td>28573463</td>\n",
       "      <td>41.505161</td>\n",
       "      <td>-81.693445</td>\n",
       "      <td>72.034273</td>\n",
       "      <td>4.277142</td>\n",
       "    </tr>\n",
       "    <tr>\n",
       "      <th>8</th>\n",
       "      <td>Columbia</td>\n",
       "      <td>1030935</td>\n",
       "      <td>34.000749</td>\n",
       "      <td>-81.034331</td>\n",
       "      <td>7.904670</td>\n",
       "      <td>2.067454</td>\n",
       "    </tr>\n",
       "    <tr>\n",
       "      <th>9</th>\n",
       "      <td>Detroit</td>\n",
       "      <td>57702977</td>\n",
       "      <td>42.331551</td>\n",
       "      <td>-83.046640</td>\n",
       "      <td>80.828058</td>\n",
       "      <td>4.392324</td>\n",
       "    </tr>\n",
       "    <tr>\n",
       "      <th>10</th>\n",
       "      <td>Fort Lauderdale</td>\n",
       "      <td>2371381</td>\n",
       "      <td>26.122308</td>\n",
       "      <td>-80.143379</td>\n",
       "      <td>14.306647</td>\n",
       "      <td>2.660724</td>\n",
       "    </tr>\n",
       "    <tr>\n",
       "      <th>11</th>\n",
       "      <td>Indianapolis</td>\n",
       "      <td>13148274</td>\n",
       "      <td>39.768333</td>\n",
       "      <td>-86.158350</td>\n",
       "      <td>16.025550</td>\n",
       "      <td>2.774184</td>\n",
       "    </tr>\n",
       "    <tr>\n",
       "      <th>12</th>\n",
       "      <td>Los Angeles</td>\n",
       "      <td>329925622</td>\n",
       "      <td>34.053691</td>\n",
       "      <td>-118.242766</td>\n",
       "      <td>1704.707200</td>\n",
       "      <td>7.441149</td>\n",
       "    </tr>\n",
       "    <tr>\n",
       "      <th>13</th>\n",
       "      <td>Memphis</td>\n",
       "      <td>8772851</td>\n",
       "      <td>35.149022</td>\n",
       "      <td>-90.051629</td>\n",
       "      <td>2.312830</td>\n",
       "      <td>0.838472</td>\n",
       "    </tr>\n",
       "    <tr>\n",
       "      <th>14</th>\n",
       "      <td>Miami</td>\n",
       "      <td>7284683</td>\n",
       "      <td>25.774173</td>\n",
       "      <td>-80.193620</td>\n",
       "      <td>11.175005</td>\n",
       "      <td>2.413680</td>\n",
       "    </tr>\n",
       "    <tr>\n",
       "      <th>15</th>\n",
       "      <td>Milwaukee</td>\n",
       "      <td>40017821</td>\n",
       "      <td>43.034993</td>\n",
       "      <td>-87.922497</td>\n",
       "      <td>100.174531</td>\n",
       "      <td>4.606914</td>\n",
       "    </tr>\n",
       "    <tr>\n",
       "      <th>16</th>\n",
       "      <td>New Orleans</td>\n",
       "      <td>2885642</td>\n",
       "      <td>29.949932</td>\n",
       "      <td>-90.070116</td>\n",
       "      <td>4.853914</td>\n",
       "      <td>1.579785</td>\n",
       "    </tr>\n",
       "    <tr>\n",
       "      <th>17</th>\n",
       "      <td>New York City</td>\n",
       "      <td>1704120285</td>\n",
       "      <td>40.712728</td>\n",
       "      <td>40.712728</td>\n",
       "      <td>4956.316783</td>\n",
       "      <td>8.508418</td>\n",
       "    </tr>\n",
       "    <tr>\n",
       "      <th>18</th>\n",
       "      <td>North Charleston</td>\n",
       "      <td>3333750</td>\n",
       "      <td>32.913129</td>\n",
       "      <td>-80.062998</td>\n",
       "      <td>0.407797</td>\n",
       "      <td>-0.896987</td>\n",
       "    </tr>\n",
       "    <tr>\n",
       "      <th>19</th>\n",
       "      <td>Orlando</td>\n",
       "      <td>734377</td>\n",
       "      <td>28.542111</td>\n",
       "      <td>-81.379030</td>\n",
       "      <td>7.525994</td>\n",
       "      <td>2.018363</td>\n",
       "    </tr>\n",
       "    <tr>\n",
       "      <th>20</th>\n",
       "      <td>Paterson</td>\n",
       "      <td>5350399</td>\n",
       "      <td>40.916765</td>\n",
       "      <td>-74.171811</td>\n",
       "      <td>22.402092</td>\n",
       "      <td>3.109154</td>\n",
       "    </tr>\n",
       "    <tr>\n",
       "      <th>21</th>\n",
       "      <td>Philadelphia</td>\n",
       "      <td>116839465</td>\n",
       "      <td>39.952724</td>\n",
       "      <td>-75.163526</td>\n",
       "      <td>799.279489</td>\n",
       "      <td>6.683711</td>\n",
       "    </tr>\n",
       "    <tr>\n",
       "      <th>22</th>\n",
       "      <td>Richmond</td>\n",
       "      <td>201000</td>\n",
       "      <td>37.538509</td>\n",
       "      <td>-77.434280</td>\n",
       "      <td>0.131716</td>\n",
       "      <td>-2.027108</td>\n",
       "    </tr>\n",
       "    <tr>\n",
       "      <th>23</th>\n",
       "      <td>Roanoke</td>\n",
       "      <td>132500</td>\n",
       "      <td>37.270973</td>\n",
       "      <td>-79.941431</td>\n",
       "      <td>0.648318</td>\n",
       "      <td>-0.433374</td>\n",
       "    </tr>\n",
       "    <tr>\n",
       "      <th>24</th>\n",
       "      <td>San Francisco</td>\n",
       "      <td>27873297</td>\n",
       "      <td>37.779026</td>\n",
       "      <td>-122.419906</td>\n",
       "      <td>287.620452</td>\n",
       "      <td>5.661642</td>\n",
       "    </tr>\n",
       "    <tr>\n",
       "      <th>25</th>\n",
       "      <td>Springfield</td>\n",
       "      <td>32846089</td>\n",
       "      <td>42.101876</td>\n",
       "      <td>-72.588673</td>\n",
       "      <td>40.793271</td>\n",
       "      <td>3.708517</td>\n",
       "    </tr>\n",
       "    <tr>\n",
       "      <th>26</th>\n",
       "      <td>St. Louis</td>\n",
       "      <td>3117846</td>\n",
       "      <td>38.626418</td>\n",
       "      <td>-90.199838</td>\n",
       "      <td>20.360519</td>\n",
       "      <td>3.013598</td>\n",
       "    </tr>\n",
       "    <tr>\n",
       "      <th>27</th>\n",
       "      <td>Washington</td>\n",
       "      <td>114829407</td>\n",
       "      <td>38.894992</td>\n",
       "      <td>-77.036558</td>\n",
       "      <td>359.641106</td>\n",
       "      <td>5.885107</td>\n",
       "    </tr>\n",
       "    <tr>\n",
       "      <th>28</th>\n",
       "      <td>Waterbury</td>\n",
       "      <td>2227250</td>\n",
       "      <td>41.553809</td>\n",
       "      <td>-73.043836</td>\n",
       "      <td>3.701183</td>\n",
       "      <td>1.308653</td>\n",
       "    </tr>\n",
       "  </tbody>\n",
       "</table>\n",
       "</div>"
      ],
      "text/plain": [
       "                city  amount_awarded   Latitude   Longitude   per capita  \\\n",
       "0            Atlanta         4761181  33.748992  -84.390264    11.148769   \n",
       "1          Baltimore        18432746  39.290882   76.610759    80.343941   \n",
       "2        Baton Rouge         2879789  30.445960  -91.187380     4.661431   \n",
       "3             Boston        11905481  42.360253  -71.058291   113.225948   \n",
       "4         Charleston         1520250  32.787601  -79.940273    12.630438   \n",
       "5            Chicago       467586425  41.875562  -87.624421   173.459506   \n",
       "6         Cincinnati         2472785  39.101454  -84.512460     8.325181   \n",
       "7          Cleveland        28573463  41.505161  -81.693445    72.034273   \n",
       "8           Columbia         1030935  34.000749  -81.034331     7.904670   \n",
       "9            Detroit        57702977  42.331551  -83.046640    80.828058   \n",
       "10   Fort Lauderdale         2371381  26.122308  -80.143379    14.306647   \n",
       "11      Indianapolis        13148274  39.768333  -86.158350    16.025550   \n",
       "12       Los Angeles       329925622  34.053691 -118.242766  1704.707200   \n",
       "13           Memphis         8772851  35.149022  -90.051629     2.312830   \n",
       "14             Miami         7284683  25.774173  -80.193620    11.175005   \n",
       "15         Milwaukee        40017821  43.034993  -87.922497   100.174531   \n",
       "16       New Orleans         2885642  29.949932  -90.070116     4.853914   \n",
       "17     New York City      1704120285  40.712728   40.712728  4956.316783   \n",
       "18  North Charleston         3333750  32.913129  -80.062998     0.407797   \n",
       "19           Orlando          734377  28.542111  -81.379030     7.525994   \n",
       "20          Paterson         5350399  40.916765  -74.171811    22.402092   \n",
       "21      Philadelphia       116839465  39.952724  -75.163526   799.279489   \n",
       "22          Richmond          201000  37.538509  -77.434280     0.131716   \n",
       "23           Roanoke          132500  37.270973  -79.941431     0.648318   \n",
       "24     San Francisco        27873297  37.779026 -122.419906   287.620452   \n",
       "25       Springfield        32846089  42.101876  -72.588673    40.793271   \n",
       "26         St. Louis         3117846  38.626418  -90.199838    20.360519   \n",
       "27        Washington       114829407  38.894992  -77.036558   359.641106   \n",
       "28         Waterbury         2227250  41.553809  -73.043836     3.701183   \n",
       "\n",
       "    per_capita_log  \n",
       "0         2.411329  \n",
       "1         4.386317  \n",
       "2         1.539323  \n",
       "3         4.729385  \n",
       "4         2.536110  \n",
       "5         5.155944  \n",
       "6         2.119285  \n",
       "7         4.277142  \n",
       "8         2.067454  \n",
       "9         4.392324  \n",
       "10        2.660724  \n",
       "11        2.774184  \n",
       "12        7.441149  \n",
       "13        0.838472  \n",
       "14        2.413680  \n",
       "15        4.606914  \n",
       "16        1.579785  \n",
       "17        8.508418  \n",
       "18       -0.896987  \n",
       "19        2.018363  \n",
       "20        3.109154  \n",
       "21        6.683711  \n",
       "22       -2.027108  \n",
       "23       -0.433374  \n",
       "24        5.661642  \n",
       "25        3.708517  \n",
       "26        3.013598  \n",
       "27        5.885107  \n",
       "28        1.308653  "
      ]
     },
     "execution_count": 27,
     "metadata": {},
     "output_type": "execute_result"
    }
   ],
   "source": [
    "left_merged['per_capita_log'] = np.log(left_merged['per capita'])\n",
    "left_merged"
   ]
  },
  {
   "cell_type": "code",
   "execution_count": 28,
   "metadata": {
    "scrolled": true
   },
   "outputs": [],
   "source": [
    "left_merged['amount_awarded_log'] = np.log(left_merged['amount_awarded']) "
   ]
  },
  {
   "cell_type": "code",
   "execution_count": 29,
   "metadata": {
    "scrolled": true
   },
   "outputs": [
    {
     "data": {
      "application/vnd.plotly.v1+json": {
       "config": {
        "plotlyServerURL": "https://plot.ly"
       },
       "data": [
        {
         "customdata": [
          [
           4761181,
           11.148768671307714
          ],
          [
           18432746,
           80.34394110442284
          ],
          [
           2879789,
           4.661431355537139
          ],
          [
           11905481,
           113.22594818731692
          ],
          [
           1520250,
           12.63043767239374
          ],
          [
           467586425,
           173.45950590061332
          ],
          [
           2472785,
           8.325181382038549
          ],
          [
           28573463,
           72.03427325324897
          ],
          [
           1030935,
           7.90467026015749
          ],
          [
           57702977,
           80.82805806992036
          ],
          [
           2371381,
           14.30664720006757
          ],
          [
           13148274,
           16.025550394475278
          ],
          [
           329925622,
           1704.707199619713
          ],
          [
           8772851,
           2.312829558842953
          ],
          [
           7284683,
           11.175004947282677
          ],
          [
           40017821,
           100.1745314545623
          ],
          [
           2885642,
           4.853913722165592
          ],
          [
           1704120285,
           4956.316783391696
          ],
          [
           3333750,
           0.40779661875288303
          ],
          [
           734377,
           7.525994322548909
          ],
          [
           5350399,
           22.402091811954644
          ],
          [
           116839465,
           799.2794891264938
          ],
          [
           201000,
           0.13171587117270375
          ],
          [
           132500,
           0.6483180428134556
          ],
          [
           27873297,
           287.6204519657414
          ],
          [
           32846089,
           40.7932708548605
          ],
          [
           3117846,
           20.36051902933417
          ],
          [
           114829407,
           359.64110570674217
          ],
          [
           2227250,
           3.7011833483723766
          ]
         ],
         "hovertemplate": "<b>%{hovertext}</b><br><br>amount_awarded_log=%{marker.size}<br>Latitude=%{lat}<br>Longitude=%{lon}<br>amount_awarded=%{customdata[0]}<br>per capita=%{customdata[1]}<br>per_capita_log=%{marker.color}<extra></extra>",
         "hovertext": [
          "Atlanta",
          "Baltimore",
          "Baton Rouge",
          "Boston",
          "Charleston",
          "Chicago",
          "Cincinnati",
          "Cleveland",
          "Columbia",
          "Detroit",
          "Fort Lauderdale",
          "Indianapolis",
          "Los Angeles",
          "Memphis",
          "Miami",
          "Milwaukee",
          "New Orleans",
          "New York City",
          "North Charleston",
          "Orlando",
          "Paterson",
          "Philadelphia",
          "Richmond",
          "Roanoke",
          "San Francisco",
          "Springfield",
          "St. Louis",
          "Washington",
          "Waterbury"
         ],
         "lat": [
          33.7489924,
          39.2908816,
          30.4459596,
          42.3602534,
          32.7876012,
          41.87556160000001,
          39.1014537,
          41.5051613,
          34.000749299999995,
          42.3315509,
          26.1223084,
          39.7683331,
          34.0536909,
          35.1490215,
          25.7741728,
          43.0349931,
          29.949932300000004,
          40.712728,
          32.9131295,
          28.5421109,
          40.9167654,
          39.9527237,
          37.53850870000001,
          37.270973,
          37.7790262,
          42.1018764,
          38.626418,
          38.8949924,
          41.5538091
         ],
         "legendgroup": "",
         "lon": [
          -84.3902644,
          76.610759,
          -91.18738,
          -71.0582912,
          -79.9402728,
          -87.6244212,
          -84.5124602,
          -81.6934446,
          -81.03433129999998,
          -83.04664029999998,
          -80.14337859999998,
          -86.1583502,
          -118.242766,
          -90.0516285,
          -80.19362,
          -87.92249699999998,
          -90.0701156,
          40.712728,
          -80.0629981965219,
          -81.3790304,
          -74.171811,
          -75.16352619999998,
          -77.43428,
          -79.94143129999998,
          -122.419906,
          -72.5886727,
          -90.199838,
          -77.0365581,
          -73.0438362
         ],
         "marker": {
          "color": [
           2.411329058741375,
           4.386316683048138,
           1.5393225588148303,
           4.729385363770798,
           2.5361095891581638,
           5.155944176760459,
           2.1192848232614185,
           4.277142023161947,
           2.0674537569713793,
           4.392324158589161,
           2.6607242684271695,
           2.774184348206021,
           7.441148644541938,
           0.8384716921826703,
           2.413679583209394,
           4.606913979242114,
           1.5797853325616833,
           8.5084181598733,
           -0.8969867123109699,
           2.01836293779266,
           3.1091543389631977,
           6.683710683257425,
           -2.027108167450345,
           -0.433373896225241,
           5.661641735855864,
           3.7085171377797344,
           3.0135976839573013,
           5.885106605593945,
           1.3086525924018484
          ],
          "coloraxis": "coloraxis",
          "size": [
           15.376006304677292,
           16.72963931474902,
           14.87322758553931,
           16.29250944027885,
           14.234385352982356,
           19.963094755917506,
           14.720855603783587,
           17.167988977922043,
           13.84597671542483,
           17.870819324601452,
           14.678983043829286,
           16.391801053220536,
           19.614377799142346,
           15.987172397038332,
           15.80128448259467,
           17.504835437861416,
           14.875257963497425,
           21.256314852650927,
           15.019608354478361,
           13.506777799715207,
           15.492681695530534,
           18.576311456562,
           12.211060187041213,
           11.794337924408413,
           17.14317969170783,
           17.30734323949054,
           14.952652936745078,
           18.55895816758333,
           14.61627819858289
          ],
          "sizemode": "area",
          "sizeref": 0.053140787131627315
         },
         "mode": "markers",
         "name": "",
         "showlegend": false,
         "subplot": "mapbox",
         "type": "scattermapbox"
        }
       ],
       "layout": {
        "coloraxis": {
         "colorbar": {
          "title": {
           "text": "per_capita_log"
          }
         },
         "colorscale": [
          [
           0,
           "#0d0887"
          ],
          [
           0.1111111111111111,
           "#46039f"
          ],
          [
           0.2222222222222222,
           "#7201a8"
          ],
          [
           0.3333333333333333,
           "#9c179e"
          ],
          [
           0.4444444444444444,
           "#bd3786"
          ],
          [
           0.5555555555555556,
           "#d8576b"
          ],
          [
           0.6666666666666666,
           "#ed7953"
          ],
          [
           0.7777777777777778,
           "#fb9f3a"
          ],
          [
           0.8888888888888888,
           "#fdca26"
          ],
          [
           1,
           "#f0f921"
          ]
         ]
        },
        "height": 300,
        "legend": {
         "itemsizing": "constant",
         "tracegroupgap": 0
        },
        "mapbox": {
         "center": {
          "lat": 36.83116132413793,
          "lon": -74.59959527574213
         },
         "domain": {
          "x": [
           0,
           1
          ],
          "y": [
           0,
           1
          ]
         },
         "style": "open-street-map",
         "zoom": 3
        },
        "margin": {
         "b": 0,
         "l": 0,
         "r": 0,
         "t": 0
        },
        "template": {
         "data": {
          "bar": [
           {
            "error_x": {
             "color": "#2a3f5f"
            },
            "error_y": {
             "color": "#2a3f5f"
            },
            "marker": {
             "line": {
              "color": "#E5ECF6",
              "width": 0.5
             }
            },
            "type": "bar"
           }
          ],
          "barpolar": [
           {
            "marker": {
             "line": {
              "color": "#E5ECF6",
              "width": 0.5
             }
            },
            "type": "barpolar"
           }
          ],
          "carpet": [
           {
            "aaxis": {
             "endlinecolor": "#2a3f5f",
             "gridcolor": "white",
             "linecolor": "white",
             "minorgridcolor": "white",
             "startlinecolor": "#2a3f5f"
            },
            "baxis": {
             "endlinecolor": "#2a3f5f",
             "gridcolor": "white",
             "linecolor": "white",
             "minorgridcolor": "white",
             "startlinecolor": "#2a3f5f"
            },
            "type": "carpet"
           }
          ],
          "choropleth": [
           {
            "colorbar": {
             "outlinewidth": 0,
             "ticks": ""
            },
            "type": "choropleth"
           }
          ],
          "contour": [
           {
            "colorbar": {
             "outlinewidth": 0,
             "ticks": ""
            },
            "colorscale": [
             [
              0,
              "#0d0887"
             ],
             [
              0.1111111111111111,
              "#46039f"
             ],
             [
              0.2222222222222222,
              "#7201a8"
             ],
             [
              0.3333333333333333,
              "#9c179e"
             ],
             [
              0.4444444444444444,
              "#bd3786"
             ],
             [
              0.5555555555555556,
              "#d8576b"
             ],
             [
              0.6666666666666666,
              "#ed7953"
             ],
             [
              0.7777777777777778,
              "#fb9f3a"
             ],
             [
              0.8888888888888888,
              "#fdca26"
             ],
             [
              1,
              "#f0f921"
             ]
            ],
            "type": "contour"
           }
          ],
          "contourcarpet": [
           {
            "colorbar": {
             "outlinewidth": 0,
             "ticks": ""
            },
            "type": "contourcarpet"
           }
          ],
          "heatmap": [
           {
            "colorbar": {
             "outlinewidth": 0,
             "ticks": ""
            },
            "colorscale": [
             [
              0,
              "#0d0887"
             ],
             [
              0.1111111111111111,
              "#46039f"
             ],
             [
              0.2222222222222222,
              "#7201a8"
             ],
             [
              0.3333333333333333,
              "#9c179e"
             ],
             [
              0.4444444444444444,
              "#bd3786"
             ],
             [
              0.5555555555555556,
              "#d8576b"
             ],
             [
              0.6666666666666666,
              "#ed7953"
             ],
             [
              0.7777777777777778,
              "#fb9f3a"
             ],
             [
              0.8888888888888888,
              "#fdca26"
             ],
             [
              1,
              "#f0f921"
             ]
            ],
            "type": "heatmap"
           }
          ],
          "heatmapgl": [
           {
            "colorbar": {
             "outlinewidth": 0,
             "ticks": ""
            },
            "colorscale": [
             [
              0,
              "#0d0887"
             ],
             [
              0.1111111111111111,
              "#46039f"
             ],
             [
              0.2222222222222222,
              "#7201a8"
             ],
             [
              0.3333333333333333,
              "#9c179e"
             ],
             [
              0.4444444444444444,
              "#bd3786"
             ],
             [
              0.5555555555555556,
              "#d8576b"
             ],
             [
              0.6666666666666666,
              "#ed7953"
             ],
             [
              0.7777777777777778,
              "#fb9f3a"
             ],
             [
              0.8888888888888888,
              "#fdca26"
             ],
             [
              1,
              "#f0f921"
             ]
            ],
            "type": "heatmapgl"
           }
          ],
          "histogram": [
           {
            "marker": {
             "colorbar": {
              "outlinewidth": 0,
              "ticks": ""
             }
            },
            "type": "histogram"
           }
          ],
          "histogram2d": [
           {
            "colorbar": {
             "outlinewidth": 0,
             "ticks": ""
            },
            "colorscale": [
             [
              0,
              "#0d0887"
             ],
             [
              0.1111111111111111,
              "#46039f"
             ],
             [
              0.2222222222222222,
              "#7201a8"
             ],
             [
              0.3333333333333333,
              "#9c179e"
             ],
             [
              0.4444444444444444,
              "#bd3786"
             ],
             [
              0.5555555555555556,
              "#d8576b"
             ],
             [
              0.6666666666666666,
              "#ed7953"
             ],
             [
              0.7777777777777778,
              "#fb9f3a"
             ],
             [
              0.8888888888888888,
              "#fdca26"
             ],
             [
              1,
              "#f0f921"
             ]
            ],
            "type": "histogram2d"
           }
          ],
          "histogram2dcontour": [
           {
            "colorbar": {
             "outlinewidth": 0,
             "ticks": ""
            },
            "colorscale": [
             [
              0,
              "#0d0887"
             ],
             [
              0.1111111111111111,
              "#46039f"
             ],
             [
              0.2222222222222222,
              "#7201a8"
             ],
             [
              0.3333333333333333,
              "#9c179e"
             ],
             [
              0.4444444444444444,
              "#bd3786"
             ],
             [
              0.5555555555555556,
              "#d8576b"
             ],
             [
              0.6666666666666666,
              "#ed7953"
             ],
             [
              0.7777777777777778,
              "#fb9f3a"
             ],
             [
              0.8888888888888888,
              "#fdca26"
             ],
             [
              1,
              "#f0f921"
             ]
            ],
            "type": "histogram2dcontour"
           }
          ],
          "mesh3d": [
           {
            "colorbar": {
             "outlinewidth": 0,
             "ticks": ""
            },
            "type": "mesh3d"
           }
          ],
          "parcoords": [
           {
            "line": {
             "colorbar": {
              "outlinewidth": 0,
              "ticks": ""
             }
            },
            "type": "parcoords"
           }
          ],
          "pie": [
           {
            "automargin": true,
            "type": "pie"
           }
          ],
          "scatter": [
           {
            "marker": {
             "colorbar": {
              "outlinewidth": 0,
              "ticks": ""
             }
            },
            "type": "scatter"
           }
          ],
          "scatter3d": [
           {
            "line": {
             "colorbar": {
              "outlinewidth": 0,
              "ticks": ""
             }
            },
            "marker": {
             "colorbar": {
              "outlinewidth": 0,
              "ticks": ""
             }
            },
            "type": "scatter3d"
           }
          ],
          "scattercarpet": [
           {
            "marker": {
             "colorbar": {
              "outlinewidth": 0,
              "ticks": ""
             }
            },
            "type": "scattercarpet"
           }
          ],
          "scattergeo": [
           {
            "marker": {
             "colorbar": {
              "outlinewidth": 0,
              "ticks": ""
             }
            },
            "type": "scattergeo"
           }
          ],
          "scattergl": [
           {
            "marker": {
             "colorbar": {
              "outlinewidth": 0,
              "ticks": ""
             }
            },
            "type": "scattergl"
           }
          ],
          "scattermapbox": [
           {
            "marker": {
             "colorbar": {
              "outlinewidth": 0,
              "ticks": ""
             }
            },
            "type": "scattermapbox"
           }
          ],
          "scatterpolar": [
           {
            "marker": {
             "colorbar": {
              "outlinewidth": 0,
              "ticks": ""
             }
            },
            "type": "scatterpolar"
           }
          ],
          "scatterpolargl": [
           {
            "marker": {
             "colorbar": {
              "outlinewidth": 0,
              "ticks": ""
             }
            },
            "type": "scatterpolargl"
           }
          ],
          "scatterternary": [
           {
            "marker": {
             "colorbar": {
              "outlinewidth": 0,
              "ticks": ""
             }
            },
            "type": "scatterternary"
           }
          ],
          "surface": [
           {
            "colorbar": {
             "outlinewidth": 0,
             "ticks": ""
            },
            "colorscale": [
             [
              0,
              "#0d0887"
             ],
             [
              0.1111111111111111,
              "#46039f"
             ],
             [
              0.2222222222222222,
              "#7201a8"
             ],
             [
              0.3333333333333333,
              "#9c179e"
             ],
             [
              0.4444444444444444,
              "#bd3786"
             ],
             [
              0.5555555555555556,
              "#d8576b"
             ],
             [
              0.6666666666666666,
              "#ed7953"
             ],
             [
              0.7777777777777778,
              "#fb9f3a"
             ],
             [
              0.8888888888888888,
              "#fdca26"
             ],
             [
              1,
              "#f0f921"
             ]
            ],
            "type": "surface"
           }
          ],
          "table": [
           {
            "cells": {
             "fill": {
              "color": "#EBF0F8"
             },
             "line": {
              "color": "white"
             }
            },
            "header": {
             "fill": {
              "color": "#C8D4E3"
             },
             "line": {
              "color": "white"
             }
            },
            "type": "table"
           }
          ]
         },
         "layout": {
          "annotationdefaults": {
           "arrowcolor": "#2a3f5f",
           "arrowhead": 0,
           "arrowwidth": 1
          },
          "autotypenumbers": "strict",
          "coloraxis": {
           "colorbar": {
            "outlinewidth": 0,
            "ticks": ""
           }
          },
          "colorscale": {
           "diverging": [
            [
             0,
             "#8e0152"
            ],
            [
             0.1,
             "#c51b7d"
            ],
            [
             0.2,
             "#de77ae"
            ],
            [
             0.3,
             "#f1b6da"
            ],
            [
             0.4,
             "#fde0ef"
            ],
            [
             0.5,
             "#f7f7f7"
            ],
            [
             0.6,
             "#e6f5d0"
            ],
            [
             0.7,
             "#b8e186"
            ],
            [
             0.8,
             "#7fbc41"
            ],
            [
             0.9,
             "#4d9221"
            ],
            [
             1,
             "#276419"
            ]
           ],
           "sequential": [
            [
             0,
             "#0d0887"
            ],
            [
             0.1111111111111111,
             "#46039f"
            ],
            [
             0.2222222222222222,
             "#7201a8"
            ],
            [
             0.3333333333333333,
             "#9c179e"
            ],
            [
             0.4444444444444444,
             "#bd3786"
            ],
            [
             0.5555555555555556,
             "#d8576b"
            ],
            [
             0.6666666666666666,
             "#ed7953"
            ],
            [
             0.7777777777777778,
             "#fb9f3a"
            ],
            [
             0.8888888888888888,
             "#fdca26"
            ],
            [
             1,
             "#f0f921"
            ]
           ],
           "sequentialminus": [
            [
             0,
             "#0d0887"
            ],
            [
             0.1111111111111111,
             "#46039f"
            ],
            [
             0.2222222222222222,
             "#7201a8"
            ],
            [
             0.3333333333333333,
             "#9c179e"
            ],
            [
             0.4444444444444444,
             "#bd3786"
            ],
            [
             0.5555555555555556,
             "#d8576b"
            ],
            [
             0.6666666666666666,
             "#ed7953"
            ],
            [
             0.7777777777777778,
             "#fb9f3a"
            ],
            [
             0.8888888888888888,
             "#fdca26"
            ],
            [
             1,
             "#f0f921"
            ]
           ]
          },
          "colorway": [
           "#636efa",
           "#EF553B",
           "#00cc96",
           "#ab63fa",
           "#FFA15A",
           "#19d3f3",
           "#FF6692",
           "#B6E880",
           "#FF97FF",
           "#FECB52"
          ],
          "font": {
           "color": "#2a3f5f"
          },
          "geo": {
           "bgcolor": "white",
           "lakecolor": "white",
           "landcolor": "#E5ECF6",
           "showlakes": true,
           "showland": true,
           "subunitcolor": "white"
          },
          "hoverlabel": {
           "align": "left"
          },
          "hovermode": "closest",
          "mapbox": {
           "style": "light"
          },
          "paper_bgcolor": "white",
          "plot_bgcolor": "#E5ECF6",
          "polar": {
           "angularaxis": {
            "gridcolor": "white",
            "linecolor": "white",
            "ticks": ""
           },
           "bgcolor": "#E5ECF6",
           "radialaxis": {
            "gridcolor": "white",
            "linecolor": "white",
            "ticks": ""
           }
          },
          "scene": {
           "xaxis": {
            "backgroundcolor": "#E5ECF6",
            "gridcolor": "white",
            "gridwidth": 2,
            "linecolor": "white",
            "showbackground": true,
            "ticks": "",
            "zerolinecolor": "white"
           },
           "yaxis": {
            "backgroundcolor": "#E5ECF6",
            "gridcolor": "white",
            "gridwidth": 2,
            "linecolor": "white",
            "showbackground": true,
            "ticks": "",
            "zerolinecolor": "white"
           },
           "zaxis": {
            "backgroundcolor": "#E5ECF6",
            "gridcolor": "white",
            "gridwidth": 2,
            "linecolor": "white",
            "showbackground": true,
            "ticks": "",
            "zerolinecolor": "white"
           }
          },
          "shapedefaults": {
           "line": {
            "color": "#2a3f5f"
           }
          },
          "ternary": {
           "aaxis": {
            "gridcolor": "white",
            "linecolor": "white",
            "ticks": ""
           },
           "baxis": {
            "gridcolor": "white",
            "linecolor": "white",
            "ticks": ""
           },
           "bgcolor": "#E5ECF6",
           "caxis": {
            "gridcolor": "white",
            "linecolor": "white",
            "ticks": ""
           }
          },
          "title": {
           "x": 0.05
          },
          "xaxis": {
           "automargin": true,
           "gridcolor": "white",
           "linecolor": "white",
           "ticks": "",
           "title": {
            "standoff": 15
           },
           "zerolinecolor": "white",
           "zerolinewidth": 2
          },
          "yaxis": {
           "automargin": true,
           "gridcolor": "white",
           "linecolor": "white",
           "ticks": "",
           "title": {
            "standoff": 15
           },
           "zerolinecolor": "white",
           "zerolinewidth": 2
          }
         }
        }
       }
      },
      "text/html": [
       "<div>                            <div id=\"2b78efd9-5d57-418c-bf6a-b9afd48f3d58\" class=\"plotly-graph-div\" style=\"height:300px; width:100%;\"></div>            <script type=\"text/javascript\">                require([\"plotly\"], function(Plotly) {                    window.PLOTLYENV=window.PLOTLYENV || {};                                    if (document.getElementById(\"2b78efd9-5d57-418c-bf6a-b9afd48f3d58\")) {                    Plotly.newPlot(                        \"2b78efd9-5d57-418c-bf6a-b9afd48f3d58\",                        [{\"customdata\": [[4761181.0, 11.148768671307714], [18432746.0, 80.34394110442284], [2879789.0, 4.661431355537139], [11905481.0, 113.22594818731692], [1520250.0, 12.63043767239374], [467586425.0, 173.45950590061332], [2472785.0, 8.325181382038549], [28573463.0, 72.03427325324897], [1030935.0, 7.90467026015749], [57702977.0, 80.82805806992036], [2371381.0, 14.30664720006757], [13148274.0, 16.025550394475278], [329925622.0, 1704.707199619713], [8772851.0, 2.312829558842953], [7284683.0, 11.175004947282677], [40017821.0, 100.1745314545623], [2885642.0, 4.853913722165592], [1704120285.0, 4956.316783391696], [3333750.0, 0.40779661875288303], [734377.0, 7.525994322548909], [5350399.0, 22.402091811954644], [116839465.0, 799.2794891264938], [201000.0, 0.13171587117270375], [132500.0, 0.6483180428134556], [27873297.0, 287.6204519657414], [32846089.0, 40.7932708548605], [3117846.0, 20.36051902933417], [114829407.0, 359.64110570674217], [2227250.0, 3.7011833483723766]], \"hovertemplate\": \"<b>%{hovertext}</b><br><br>amount_awarded_log=%{marker.size}<br>Latitude=%{lat}<br>Longitude=%{lon}<br>amount_awarded=%{customdata[0]}<br>per capita=%{customdata[1]}<br>per_capita_log=%{marker.color}<extra></extra>\", \"hovertext\": [\"Atlanta\", \"Baltimore\", \"Baton Rouge\", \"Boston\", \"Charleston\", \"Chicago\", \"Cincinnati\", \"Cleveland\", \"Columbia\", \"Detroit\", \"Fort Lauderdale\", \"Indianapolis\", \"Los Angeles\", \"Memphis\", \"Miami\", \"Milwaukee\", \"New Orleans\", \"New York City\", \"North Charleston\", \"Orlando\", \"Paterson\", \"Philadelphia\", \"Richmond\", \"Roanoke\", \"San Francisco\", \"Springfield\", \"St. Louis\", \"Washington\", \"Waterbury\"], \"lat\": [33.7489924, 39.2908816, 30.4459596, 42.3602534, 32.7876012, 41.87556160000001, 39.1014537, 41.5051613, 34.000749299999995, 42.3315509, 26.1223084, 39.7683331, 34.0536909, 35.1490215, 25.7741728, 43.0349931, 29.949932300000004, 40.712728, 32.9131295, 28.5421109, 40.9167654, 39.9527237, 37.53850870000001, 37.270973, 37.7790262, 42.1018764, 38.626418, 38.8949924, 41.5538091], \"legendgroup\": \"\", \"lon\": [-84.3902644, 76.610759, -91.18738, -71.0582912, -79.9402728, -87.6244212, -84.5124602, -81.6934446, -81.03433129999998, -83.04664029999998, -80.14337859999998, -86.1583502, -118.242766, -90.0516285, -80.19362, -87.92249699999998, -90.0701156, 40.712728, -80.0629981965219, -81.3790304, -74.171811, -75.16352619999998, -77.43428, -79.94143129999998, -122.419906, -72.5886727, -90.199838, -77.0365581, -73.0438362], \"marker\": {\"color\": [2.411329058741375, 4.386316683048138, 1.5393225588148303, 4.729385363770798, 2.5361095891581638, 5.155944176760459, 2.1192848232614185, 4.277142023161947, 2.0674537569713793, 4.392324158589161, 2.6607242684271695, 2.774184348206021, 7.441148644541938, 0.8384716921826703, 2.413679583209394, 4.606913979242114, 1.5797853325616833, 8.5084181598733, -0.8969867123109699, 2.01836293779266, 3.1091543389631977, 6.683710683257425, -2.027108167450345, -0.433373896225241, 5.661641735855864, 3.7085171377797344, 3.0135976839573013, 5.885106605593945, 1.3086525924018484], \"coloraxis\": \"coloraxis\", \"size\": [15.376006304677292, 16.72963931474902, 14.87322758553931, 16.29250944027885, 14.234385352982356, 19.963094755917506, 14.720855603783587, 17.167988977922043, 13.84597671542483, 17.870819324601452, 14.678983043829286, 16.391801053220536, 19.614377799142346, 15.987172397038332, 15.80128448259467, 17.504835437861416, 14.875257963497425, 21.256314852650927, 15.019608354478361, 13.506777799715207, 15.492681695530534, 18.576311456562, 12.211060187041213, 11.794337924408413, 17.14317969170783, 17.30734323949054, 14.952652936745078, 18.55895816758333, 14.61627819858289], \"sizemode\": \"area\", \"sizeref\": 0.053140787131627315}, \"mode\": \"markers\", \"name\": \"\", \"showlegend\": false, \"subplot\": \"mapbox\", \"type\": \"scattermapbox\"}],                        {\"coloraxis\": {\"colorbar\": {\"title\": {\"text\": \"per_capita_log\"}}, \"colorscale\": [[0.0, \"#0d0887\"], [0.1111111111111111, \"#46039f\"], [0.2222222222222222, \"#7201a8\"], [0.3333333333333333, \"#9c179e\"], [0.4444444444444444, \"#bd3786\"], [0.5555555555555556, \"#d8576b\"], [0.6666666666666666, \"#ed7953\"], [0.7777777777777778, \"#fb9f3a\"], [0.8888888888888888, \"#fdca26\"], [1.0, \"#f0f921\"]]}, \"height\": 300, \"legend\": {\"itemsizing\": \"constant\", \"tracegroupgap\": 0}, \"mapbox\": {\"center\": {\"lat\": 36.83116132413793, \"lon\": -74.59959527574213}, \"domain\": {\"x\": [0.0, 1.0], \"y\": [0.0, 1.0]}, \"style\": \"open-street-map\", \"zoom\": 3}, \"margin\": {\"b\": 0, \"l\": 0, \"r\": 0, \"t\": 0}, \"template\": {\"data\": {\"bar\": [{\"error_x\": {\"color\": \"#2a3f5f\"}, \"error_y\": {\"color\": \"#2a3f5f\"}, \"marker\": {\"line\": {\"color\": \"#E5ECF6\", \"width\": 0.5}}, \"type\": \"bar\"}], \"barpolar\": [{\"marker\": {\"line\": {\"color\": \"#E5ECF6\", \"width\": 0.5}}, \"type\": \"barpolar\"}], \"carpet\": [{\"aaxis\": {\"endlinecolor\": \"#2a3f5f\", \"gridcolor\": \"white\", \"linecolor\": \"white\", \"minorgridcolor\": \"white\", \"startlinecolor\": \"#2a3f5f\"}, \"baxis\": {\"endlinecolor\": \"#2a3f5f\", \"gridcolor\": \"white\", \"linecolor\": \"white\", \"minorgridcolor\": \"white\", \"startlinecolor\": \"#2a3f5f\"}, \"type\": \"carpet\"}], \"choropleth\": [{\"colorbar\": {\"outlinewidth\": 0, \"ticks\": \"\"}, \"type\": \"choropleth\"}], \"contour\": [{\"colorbar\": {\"outlinewidth\": 0, \"ticks\": \"\"}, \"colorscale\": [[0.0, \"#0d0887\"], [0.1111111111111111, \"#46039f\"], [0.2222222222222222, \"#7201a8\"], [0.3333333333333333, \"#9c179e\"], [0.4444444444444444, \"#bd3786\"], [0.5555555555555556, \"#d8576b\"], [0.6666666666666666, \"#ed7953\"], [0.7777777777777778, \"#fb9f3a\"], [0.8888888888888888, \"#fdca26\"], [1.0, \"#f0f921\"]], \"type\": \"contour\"}], \"contourcarpet\": [{\"colorbar\": {\"outlinewidth\": 0, \"ticks\": \"\"}, \"type\": \"contourcarpet\"}], \"heatmap\": [{\"colorbar\": {\"outlinewidth\": 0, \"ticks\": \"\"}, \"colorscale\": [[0.0, \"#0d0887\"], [0.1111111111111111, \"#46039f\"], [0.2222222222222222, \"#7201a8\"], [0.3333333333333333, \"#9c179e\"], [0.4444444444444444, \"#bd3786\"], [0.5555555555555556, \"#d8576b\"], [0.6666666666666666, \"#ed7953\"], [0.7777777777777778, \"#fb9f3a\"], [0.8888888888888888, \"#fdca26\"], [1.0, \"#f0f921\"]], \"type\": \"heatmap\"}], \"heatmapgl\": [{\"colorbar\": {\"outlinewidth\": 0, \"ticks\": \"\"}, \"colorscale\": [[0.0, \"#0d0887\"], [0.1111111111111111, \"#46039f\"], [0.2222222222222222, \"#7201a8\"], [0.3333333333333333, \"#9c179e\"], [0.4444444444444444, \"#bd3786\"], [0.5555555555555556, \"#d8576b\"], [0.6666666666666666, \"#ed7953\"], [0.7777777777777778, \"#fb9f3a\"], [0.8888888888888888, \"#fdca26\"], [1.0, \"#f0f921\"]], \"type\": \"heatmapgl\"}], \"histogram\": [{\"marker\": {\"colorbar\": {\"outlinewidth\": 0, \"ticks\": \"\"}}, \"type\": \"histogram\"}], \"histogram2d\": [{\"colorbar\": {\"outlinewidth\": 0, \"ticks\": \"\"}, \"colorscale\": [[0.0, \"#0d0887\"], [0.1111111111111111, \"#46039f\"], [0.2222222222222222, \"#7201a8\"], [0.3333333333333333, \"#9c179e\"], [0.4444444444444444, \"#bd3786\"], [0.5555555555555556, \"#d8576b\"], [0.6666666666666666, \"#ed7953\"], [0.7777777777777778, \"#fb9f3a\"], [0.8888888888888888, \"#fdca26\"], [1.0, \"#f0f921\"]], \"type\": \"histogram2d\"}], \"histogram2dcontour\": [{\"colorbar\": {\"outlinewidth\": 0, \"ticks\": \"\"}, \"colorscale\": [[0.0, \"#0d0887\"], [0.1111111111111111, \"#46039f\"], [0.2222222222222222, \"#7201a8\"], [0.3333333333333333, \"#9c179e\"], [0.4444444444444444, \"#bd3786\"], [0.5555555555555556, \"#d8576b\"], [0.6666666666666666, \"#ed7953\"], [0.7777777777777778, \"#fb9f3a\"], [0.8888888888888888, \"#fdca26\"], [1.0, \"#f0f921\"]], \"type\": \"histogram2dcontour\"}], \"mesh3d\": [{\"colorbar\": {\"outlinewidth\": 0, \"ticks\": \"\"}, \"type\": \"mesh3d\"}], \"parcoords\": [{\"line\": {\"colorbar\": {\"outlinewidth\": 0, \"ticks\": \"\"}}, \"type\": \"parcoords\"}], \"pie\": [{\"automargin\": true, \"type\": \"pie\"}], \"scatter\": [{\"marker\": {\"colorbar\": {\"outlinewidth\": 0, \"ticks\": \"\"}}, \"type\": \"scatter\"}], \"scatter3d\": [{\"line\": {\"colorbar\": {\"outlinewidth\": 0, \"ticks\": \"\"}}, \"marker\": {\"colorbar\": {\"outlinewidth\": 0, \"ticks\": \"\"}}, \"type\": \"scatter3d\"}], \"scattercarpet\": [{\"marker\": {\"colorbar\": {\"outlinewidth\": 0, \"ticks\": \"\"}}, \"type\": \"scattercarpet\"}], \"scattergeo\": [{\"marker\": {\"colorbar\": {\"outlinewidth\": 0, \"ticks\": \"\"}}, \"type\": \"scattergeo\"}], \"scattergl\": [{\"marker\": {\"colorbar\": {\"outlinewidth\": 0, \"ticks\": \"\"}}, \"type\": \"scattergl\"}], \"scattermapbox\": [{\"marker\": {\"colorbar\": {\"outlinewidth\": 0, \"ticks\": \"\"}}, \"type\": \"scattermapbox\"}], \"scatterpolar\": [{\"marker\": {\"colorbar\": {\"outlinewidth\": 0, \"ticks\": \"\"}}, \"type\": \"scatterpolar\"}], \"scatterpolargl\": [{\"marker\": {\"colorbar\": {\"outlinewidth\": 0, \"ticks\": \"\"}}, \"type\": \"scatterpolargl\"}], \"scatterternary\": [{\"marker\": {\"colorbar\": {\"outlinewidth\": 0, \"ticks\": \"\"}}, \"type\": \"scatterternary\"}], \"surface\": [{\"colorbar\": {\"outlinewidth\": 0, \"ticks\": \"\"}, \"colorscale\": [[0.0, \"#0d0887\"], [0.1111111111111111, \"#46039f\"], [0.2222222222222222, \"#7201a8\"], [0.3333333333333333, \"#9c179e\"], [0.4444444444444444, \"#bd3786\"], [0.5555555555555556, \"#d8576b\"], [0.6666666666666666, \"#ed7953\"], [0.7777777777777778, \"#fb9f3a\"], [0.8888888888888888, \"#fdca26\"], [1.0, \"#f0f921\"]], \"type\": \"surface\"}], \"table\": [{\"cells\": {\"fill\": {\"color\": \"#EBF0F8\"}, \"line\": {\"color\": \"white\"}}, \"header\": {\"fill\": {\"color\": \"#C8D4E3\"}, \"line\": {\"color\": \"white\"}}, \"type\": \"table\"}]}, \"layout\": {\"annotationdefaults\": {\"arrowcolor\": \"#2a3f5f\", \"arrowhead\": 0, \"arrowwidth\": 1}, \"autotypenumbers\": \"strict\", \"coloraxis\": {\"colorbar\": {\"outlinewidth\": 0, \"ticks\": \"\"}}, \"colorscale\": {\"diverging\": [[0, \"#8e0152\"], [0.1, \"#c51b7d\"], [0.2, \"#de77ae\"], [0.3, \"#f1b6da\"], [0.4, \"#fde0ef\"], [0.5, \"#f7f7f7\"], [0.6, \"#e6f5d0\"], [0.7, \"#b8e186\"], [0.8, \"#7fbc41\"], [0.9, \"#4d9221\"], [1, \"#276419\"]], \"sequential\": [[0.0, \"#0d0887\"], [0.1111111111111111, \"#46039f\"], [0.2222222222222222, \"#7201a8\"], [0.3333333333333333, \"#9c179e\"], [0.4444444444444444, \"#bd3786\"], [0.5555555555555556, \"#d8576b\"], [0.6666666666666666, \"#ed7953\"], [0.7777777777777778, \"#fb9f3a\"], [0.8888888888888888, \"#fdca26\"], [1.0, \"#f0f921\"]], \"sequentialminus\": [[0.0, \"#0d0887\"], [0.1111111111111111, \"#46039f\"], [0.2222222222222222, \"#7201a8\"], [0.3333333333333333, \"#9c179e\"], [0.4444444444444444, \"#bd3786\"], [0.5555555555555556, \"#d8576b\"], [0.6666666666666666, \"#ed7953\"], [0.7777777777777778, \"#fb9f3a\"], [0.8888888888888888, \"#fdca26\"], [1.0, \"#f0f921\"]]}, \"colorway\": [\"#636efa\", \"#EF553B\", \"#00cc96\", \"#ab63fa\", \"#FFA15A\", \"#19d3f3\", \"#FF6692\", \"#B6E880\", \"#FF97FF\", \"#FECB52\"], \"font\": {\"color\": \"#2a3f5f\"}, \"geo\": {\"bgcolor\": \"white\", \"lakecolor\": \"white\", \"landcolor\": \"#E5ECF6\", \"showlakes\": true, \"showland\": true, \"subunitcolor\": \"white\"}, \"hoverlabel\": {\"align\": \"left\"}, \"hovermode\": \"closest\", \"mapbox\": {\"style\": \"light\"}, \"paper_bgcolor\": \"white\", \"plot_bgcolor\": \"#E5ECF6\", \"polar\": {\"angularaxis\": {\"gridcolor\": \"white\", \"linecolor\": \"white\", \"ticks\": \"\"}, \"bgcolor\": \"#E5ECF6\", \"radialaxis\": {\"gridcolor\": \"white\", \"linecolor\": \"white\", \"ticks\": \"\"}}, \"scene\": {\"xaxis\": {\"backgroundcolor\": \"#E5ECF6\", \"gridcolor\": \"white\", \"gridwidth\": 2, \"linecolor\": \"white\", \"showbackground\": true, \"ticks\": \"\", \"zerolinecolor\": \"white\"}, \"yaxis\": {\"backgroundcolor\": \"#E5ECF6\", \"gridcolor\": \"white\", \"gridwidth\": 2, \"linecolor\": \"white\", \"showbackground\": true, \"ticks\": \"\", \"zerolinecolor\": \"white\"}, \"zaxis\": {\"backgroundcolor\": \"#E5ECF6\", \"gridcolor\": \"white\", \"gridwidth\": 2, \"linecolor\": \"white\", \"showbackground\": true, \"ticks\": \"\", \"zerolinecolor\": \"white\"}}, \"shapedefaults\": {\"line\": {\"color\": \"#2a3f5f\"}}, \"ternary\": {\"aaxis\": {\"gridcolor\": \"white\", \"linecolor\": \"white\", \"ticks\": \"\"}, \"baxis\": {\"gridcolor\": \"white\", \"linecolor\": \"white\", \"ticks\": \"\"}, \"bgcolor\": \"#E5ECF6\", \"caxis\": {\"gridcolor\": \"white\", \"linecolor\": \"white\", \"ticks\": \"\"}}, \"title\": {\"x\": 0.05}, \"xaxis\": {\"automargin\": true, \"gridcolor\": \"white\", \"linecolor\": \"white\", \"ticks\": \"\", \"title\": {\"standoff\": 15}, \"zerolinecolor\": \"white\", \"zerolinewidth\": 2}, \"yaxis\": {\"automargin\": true, \"gridcolor\": \"white\", \"linecolor\": \"white\", \"ticks\": \"\", \"title\": {\"standoff\": 15}, \"zerolinecolor\": \"white\", \"zerolinewidth\": 2}}}},                        {\"responsive\": true}                    ).then(function(){\n",
       "                            \n",
       "var gd = document.getElementById('2b78efd9-5d57-418c-bf6a-b9afd48f3d58');\n",
       "var x = new MutationObserver(function (mutations, observer) {{\n",
       "        var display = window.getComputedStyle(gd).display;\n",
       "        if (!display || display === 'none') {{\n",
       "            console.log([gd, 'removed!']);\n",
       "            Plotly.purge(gd);\n",
       "            observer.disconnect();\n",
       "        }}\n",
       "}});\n",
       "\n",
       "// Listen for the removal of the full notebook cells\n",
       "var notebookContainer = gd.closest('#notebook-container');\n",
       "if (notebookContainer) {{\n",
       "    x.observe(notebookContainer, {childList: true});\n",
       "}}\n",
       "\n",
       "// Listen for the clearing of the current output cell\n",
       "var outputEl = gd.closest('.output');\n",
       "if (outputEl) {{\n",
       "    x.observe(outputEl, {childList: true});\n",
       "}}\n",
       "\n",
       "                        })                };                });            </script>        </div>"
      ]
     },
     "metadata": {},
     "output_type": "display_data"
    }
   ],
   "source": [
    "fig = px.scatter_mapbox(left_merged,  lat= 'Latitude', lon= 'Longitude', hover_name= 'city', hover_data=['amount_awarded','per capita'],\n",
    "                       color = 'per_capita_log', zoom =3, height =300, size ='amount_awarded_log', size_max =20)      \n",
    "fig.update_layout(mapbox_style='open-street-map')\n",
    "fig.update_layout(margin={'r':0,'t':0,'l':0,'b':0})\n",
    "fig.show()"
   ]
  },
  {
   "cell_type": "code",
   "execution_count": 30,
   "metadata": {},
   "outputs": [],
   "source": [
    "new_frame = misconduct.groupby(['city']).count()"
   ]
  },
  {
   "cell_type": "code",
   "execution_count": 31,
   "metadata": {},
   "outputs": [],
   "source": [
    "new_frame.rename(columns={'calendar_year': 'Incident_count'}, inplace=True)"
   ]
  },
  {
   "cell_type": "code",
   "execution_count": 32,
   "metadata": {},
   "outputs": [
    {
     "data": {
      "text/html": [
       "<div>\n",
       "<style scoped>\n",
       "    .dataframe tbody tr th:only-of-type {\n",
       "        vertical-align: middle;\n",
       "    }\n",
       "\n",
       "    .dataframe tbody tr th {\n",
       "        vertical-align: top;\n",
       "    }\n",
       "\n",
       "    .dataframe thead th {\n",
       "        text-align: right;\n",
       "    }\n",
       "</style>\n",
       "<table border=\"1\" class=\"dataframe\">\n",
       "  <thead>\n",
       "    <tr style=\"text-align: right;\">\n",
       "      <th></th>\n",
       "      <th>Incident_count</th>\n",
       "      <th>state</th>\n",
       "      <th>closed_date</th>\n",
       "      <th>amount_awarded</th>\n",
       "    </tr>\n",
       "    <tr>\n",
       "      <th>city</th>\n",
       "      <th></th>\n",
       "      <th></th>\n",
       "      <th></th>\n",
       "      <th></th>\n",
       "    </tr>\n",
       "  </thead>\n",
       "  <tbody>\n",
       "    <tr>\n",
       "      <th>Atlanta</th>\n",
       "      <td>65</td>\n",
       "      <td>65</td>\n",
       "      <td>65</td>\n",
       "      <td>65</td>\n",
       "    </tr>\n",
       "    <tr>\n",
       "      <th>Baltimore</th>\n",
       "      <td>82</td>\n",
       "      <td>82</td>\n",
       "      <td>82</td>\n",
       "      <td>82</td>\n",
       "    </tr>\n",
       "    <tr>\n",
       "      <th>Baton Rouge</th>\n",
       "      <td>30</td>\n",
       "      <td>30</td>\n",
       "      <td>13</td>\n",
       "      <td>30</td>\n",
       "    </tr>\n",
       "    <tr>\n",
       "      <th>Boston</th>\n",
       "      <td>51</td>\n",
       "      <td>51</td>\n",
       "      <td>46</td>\n",
       "      <td>51</td>\n",
       "    </tr>\n",
       "    <tr>\n",
       "      <th>Charleston</th>\n",
       "      <td>59</td>\n",
       "      <td>59</td>\n",
       "      <td>59</td>\n",
       "      <td>59</td>\n",
       "    </tr>\n",
       "    <tr>\n",
       "      <th>Chicago</th>\n",
       "      <td>1515</td>\n",
       "      <td>1515</td>\n",
       "      <td>1515</td>\n",
       "      <td>1515</td>\n",
       "    </tr>\n",
       "    <tr>\n",
       "      <th>Cincinnati</th>\n",
       "      <td>54</td>\n",
       "      <td>54</td>\n",
       "      <td>54</td>\n",
       "      <td>54</td>\n",
       "    </tr>\n",
       "    <tr>\n",
       "      <th>Cleveland</th>\n",
       "      <td>142</td>\n",
       "      <td>142</td>\n",
       "      <td>0</td>\n",
       "      <td>142</td>\n",
       "    </tr>\n",
       "    <tr>\n",
       "      <th>Columbia</th>\n",
       "      <td>27</td>\n",
       "      <td>27</td>\n",
       "      <td>26</td>\n",
       "      <td>27</td>\n",
       "    </tr>\n",
       "    <tr>\n",
       "      <th>Detroit</th>\n",
       "      <td>503</td>\n",
       "      <td>503</td>\n",
       "      <td>503</td>\n",
       "      <td>503</td>\n",
       "    </tr>\n",
       "    <tr>\n",
       "      <th>Fort Lauderdale</th>\n",
       "      <td>54</td>\n",
       "      <td>54</td>\n",
       "      <td>54</td>\n",
       "      <td>54</td>\n",
       "    </tr>\n",
       "    <tr>\n",
       "      <th>Indianapolis</th>\n",
       "      <td>236</td>\n",
       "      <td>236</td>\n",
       "      <td>236</td>\n",
       "      <td>236</td>\n",
       "    </tr>\n",
       "    <tr>\n",
       "      <th>Los Angeles</th>\n",
       "      <td>997</td>\n",
       "      <td>997</td>\n",
       "      <td>371</td>\n",
       "      <td>997</td>\n",
       "    </tr>\n",
       "    <tr>\n",
       "      <th>Memphis</th>\n",
       "      <td>254</td>\n",
       "      <td>254</td>\n",
       "      <td>0</td>\n",
       "      <td>254</td>\n",
       "    </tr>\n",
       "    <tr>\n",
       "      <th>Miami</th>\n",
       "      <td>87</td>\n",
       "      <td>87</td>\n",
       "      <td>87</td>\n",
       "      <td>87</td>\n",
       "    </tr>\n",
       "    <tr>\n",
       "      <th>Milwaukee</th>\n",
       "      <td>56</td>\n",
       "      <td>56</td>\n",
       "      <td>56</td>\n",
       "      <td>56</td>\n",
       "    </tr>\n",
       "    <tr>\n",
       "      <th>New Orleans</th>\n",
       "      <td>27</td>\n",
       "      <td>27</td>\n",
       "      <td>26</td>\n",
       "      <td>27</td>\n",
       "    </tr>\n",
       "    <tr>\n",
       "      <th>New York City</th>\n",
       "      <td>32632</td>\n",
       "      <td>32632</td>\n",
       "      <td>32632</td>\n",
       "      <td>32632</td>\n",
       "    </tr>\n",
       "    <tr>\n",
       "      <th>North Charleston</th>\n",
       "      <td>108</td>\n",
       "      <td>108</td>\n",
       "      <td>108</td>\n",
       "      <td>108</td>\n",
       "    </tr>\n",
       "    <tr>\n",
       "      <th>Orlando</th>\n",
       "      <td>24</td>\n",
       "      <td>24</td>\n",
       "      <td>24</td>\n",
       "      <td>24</td>\n",
       "    </tr>\n",
       "    <tr>\n",
       "      <th>Paterson</th>\n",
       "      <td>56</td>\n",
       "      <td>56</td>\n",
       "      <td>56</td>\n",
       "      <td>56</td>\n",
       "    </tr>\n",
       "    <tr>\n",
       "      <th>Philadelphia</th>\n",
       "      <td>1423</td>\n",
       "      <td>1423</td>\n",
       "      <td>1423</td>\n",
       "      <td>1423</td>\n",
       "    </tr>\n",
       "    <tr>\n",
       "      <th>Richmond</th>\n",
       "      <td>6</td>\n",
       "      <td>6</td>\n",
       "      <td>6</td>\n",
       "      <td>6</td>\n",
       "    </tr>\n",
       "    <tr>\n",
       "      <th>Roanoke</th>\n",
       "      <td>2</td>\n",
       "      <td>2</td>\n",
       "      <td>0</td>\n",
       "      <td>2</td>\n",
       "    </tr>\n",
       "    <tr>\n",
       "      <th>San Francisco</th>\n",
       "      <td>87</td>\n",
       "      <td>87</td>\n",
       "      <td>87</td>\n",
       "      <td>87</td>\n",
       "    </tr>\n",
       "    <tr>\n",
       "      <th>Springfield</th>\n",
       "      <td>40</td>\n",
       "      <td>40</td>\n",
       "      <td>0</td>\n",
       "      <td>40</td>\n",
       "    </tr>\n",
       "    <tr>\n",
       "      <th>St. Louis</th>\n",
       "      <td>14</td>\n",
       "      <td>14</td>\n",
       "      <td>14</td>\n",
       "      <td>14</td>\n",
       "    </tr>\n",
       "    <tr>\n",
       "      <th>Washington</th>\n",
       "      <td>370</td>\n",
       "      <td>370</td>\n",
       "      <td>370</td>\n",
       "      <td>370</td>\n",
       "    </tr>\n",
       "    <tr>\n",
       "      <th>Waterbury</th>\n",
       "      <td>15</td>\n",
       "      <td>15</td>\n",
       "      <td>15</td>\n",
       "      <td>15</td>\n",
       "    </tr>\n",
       "  </tbody>\n",
       "</table>\n",
       "</div>"
      ],
      "text/plain": [
       "                  Incident_count  state  closed_date  amount_awarded\n",
       "city                                                                \n",
       "Atlanta                       65     65           65              65\n",
       "Baltimore                     82     82           82              82\n",
       "Baton Rouge                   30     30           13              30\n",
       "Boston                        51     51           46              51\n",
       "Charleston                    59     59           59              59\n",
       "Chicago                     1515   1515         1515            1515\n",
       "Cincinnati                    54     54           54              54\n",
       "Cleveland                    142    142            0             142\n",
       "Columbia                      27     27           26              27\n",
       "Detroit                      503    503          503             503\n",
       "Fort Lauderdale               54     54           54              54\n",
       "Indianapolis                 236    236          236             236\n",
       "Los Angeles                  997    997          371             997\n",
       "Memphis                      254    254            0             254\n",
       "Miami                         87     87           87              87\n",
       "Milwaukee                     56     56           56              56\n",
       "New Orleans                   27     27           26              27\n",
       "New York City              32632  32632        32632           32632\n",
       "North Charleston             108    108          108             108\n",
       "Orlando                       24     24           24              24\n",
       "Paterson                      56     56           56              56\n",
       "Philadelphia                1423   1423         1423            1423\n",
       "Richmond                       6      6            6               6\n",
       "Roanoke                        2      2            0               2\n",
       "San Francisco                 87     87           87              87\n",
       "Springfield                   40     40            0              40\n",
       "St. Louis                     14     14           14              14\n",
       "Washington                   370    370          370             370\n",
       "Waterbury                     15     15           15              15"
      ]
     },
     "execution_count": 32,
     "metadata": {},
     "output_type": "execute_result"
    }
   ],
   "source": [
    "new_frame"
   ]
  },
  {
   "cell_type": "code",
   "execution_count": 33,
   "metadata": {},
   "outputs": [],
   "source": [
    "new_frame.drop(['state', 'closed_date','amount_awarded'], axis=1, inplace=True)"
   ]
  },
  {
   "cell_type": "code",
   "execution_count": 34,
   "metadata": {},
   "outputs": [],
   "source": [
    "new_frame2 = pd.merge(new_frame,left_merged, on='city')"
   ]
  },
  {
   "cell_type": "code",
   "execution_count": 35,
   "metadata": {},
   "outputs": [
    {
     "data": {
      "text/html": [
       "<div>\n",
       "<style scoped>\n",
       "    .dataframe tbody tr th:only-of-type {\n",
       "        vertical-align: middle;\n",
       "    }\n",
       "\n",
       "    .dataframe tbody tr th {\n",
       "        vertical-align: top;\n",
       "    }\n",
       "\n",
       "    .dataframe thead th {\n",
       "        text-align: right;\n",
       "    }\n",
       "</style>\n",
       "<table border=\"1\" class=\"dataframe\">\n",
       "  <thead>\n",
       "    <tr style=\"text-align: right;\">\n",
       "      <th></th>\n",
       "      <th>city</th>\n",
       "      <th>Incident_count</th>\n",
       "      <th>amount_awarded</th>\n",
       "      <th>Latitude</th>\n",
       "      <th>Longitude</th>\n",
       "      <th>per capita</th>\n",
       "      <th>per_capita_log</th>\n",
       "      <th>amount_awarded_log</th>\n",
       "    </tr>\n",
       "  </thead>\n",
       "  <tbody>\n",
       "    <tr>\n",
       "      <th>0</th>\n",
       "      <td>Atlanta</td>\n",
       "      <td>65</td>\n",
       "      <td>4761181</td>\n",
       "      <td>33.748992</td>\n",
       "      <td>-84.390264</td>\n",
       "      <td>11.148769</td>\n",
       "      <td>2.411329</td>\n",
       "      <td>15.376006</td>\n",
       "    </tr>\n",
       "    <tr>\n",
       "      <th>1</th>\n",
       "      <td>Baltimore</td>\n",
       "      <td>82</td>\n",
       "      <td>18432746</td>\n",
       "      <td>39.290882</td>\n",
       "      <td>76.610759</td>\n",
       "      <td>80.343941</td>\n",
       "      <td>4.386317</td>\n",
       "      <td>16.729639</td>\n",
       "    </tr>\n",
       "    <tr>\n",
       "      <th>2</th>\n",
       "      <td>Baton Rouge</td>\n",
       "      <td>30</td>\n",
       "      <td>2879789</td>\n",
       "      <td>30.445960</td>\n",
       "      <td>-91.187380</td>\n",
       "      <td>4.661431</td>\n",
       "      <td>1.539323</td>\n",
       "      <td>14.873228</td>\n",
       "    </tr>\n",
       "    <tr>\n",
       "      <th>3</th>\n",
       "      <td>Boston</td>\n",
       "      <td>51</td>\n",
       "      <td>11905481</td>\n",
       "      <td>42.360253</td>\n",
       "      <td>-71.058291</td>\n",
       "      <td>113.225948</td>\n",
       "      <td>4.729385</td>\n",
       "      <td>16.292509</td>\n",
       "    </tr>\n",
       "    <tr>\n",
       "      <th>4</th>\n",
       "      <td>Charleston</td>\n",
       "      <td>59</td>\n",
       "      <td>1520250</td>\n",
       "      <td>32.787601</td>\n",
       "      <td>-79.940273</td>\n",
       "      <td>12.630438</td>\n",
       "      <td>2.536110</td>\n",
       "      <td>14.234385</td>\n",
       "    </tr>\n",
       "    <tr>\n",
       "      <th>5</th>\n",
       "      <td>Chicago</td>\n",
       "      <td>1515</td>\n",
       "      <td>467586425</td>\n",
       "      <td>41.875562</td>\n",
       "      <td>-87.624421</td>\n",
       "      <td>173.459506</td>\n",
       "      <td>5.155944</td>\n",
       "      <td>19.963095</td>\n",
       "    </tr>\n",
       "    <tr>\n",
       "      <th>6</th>\n",
       "      <td>Cincinnati</td>\n",
       "      <td>54</td>\n",
       "      <td>2472785</td>\n",
       "      <td>39.101454</td>\n",
       "      <td>-84.512460</td>\n",
       "      <td>8.325181</td>\n",
       "      <td>2.119285</td>\n",
       "      <td>14.720856</td>\n",
       "    </tr>\n",
       "    <tr>\n",
       "      <th>7</th>\n",
       "      <td>Cleveland</td>\n",
       "      <td>142</td>\n",
       "      <td>28573463</td>\n",
       "      <td>41.505161</td>\n",
       "      <td>-81.693445</td>\n",
       "      <td>72.034273</td>\n",
       "      <td>4.277142</td>\n",
       "      <td>17.167989</td>\n",
       "    </tr>\n",
       "    <tr>\n",
       "      <th>8</th>\n",
       "      <td>Columbia</td>\n",
       "      <td>27</td>\n",
       "      <td>1030935</td>\n",
       "      <td>34.000749</td>\n",
       "      <td>-81.034331</td>\n",
       "      <td>7.904670</td>\n",
       "      <td>2.067454</td>\n",
       "      <td>13.845977</td>\n",
       "    </tr>\n",
       "    <tr>\n",
       "      <th>9</th>\n",
       "      <td>Detroit</td>\n",
       "      <td>503</td>\n",
       "      <td>57702977</td>\n",
       "      <td>42.331551</td>\n",
       "      <td>-83.046640</td>\n",
       "      <td>80.828058</td>\n",
       "      <td>4.392324</td>\n",
       "      <td>17.870819</td>\n",
       "    </tr>\n",
       "    <tr>\n",
       "      <th>10</th>\n",
       "      <td>Fort Lauderdale</td>\n",
       "      <td>54</td>\n",
       "      <td>2371381</td>\n",
       "      <td>26.122308</td>\n",
       "      <td>-80.143379</td>\n",
       "      <td>14.306647</td>\n",
       "      <td>2.660724</td>\n",
       "      <td>14.678983</td>\n",
       "    </tr>\n",
       "    <tr>\n",
       "      <th>11</th>\n",
       "      <td>Indianapolis</td>\n",
       "      <td>236</td>\n",
       "      <td>13148274</td>\n",
       "      <td>39.768333</td>\n",
       "      <td>-86.158350</td>\n",
       "      <td>16.025550</td>\n",
       "      <td>2.774184</td>\n",
       "      <td>16.391801</td>\n",
       "    </tr>\n",
       "    <tr>\n",
       "      <th>12</th>\n",
       "      <td>Los Angeles</td>\n",
       "      <td>997</td>\n",
       "      <td>329925622</td>\n",
       "      <td>34.053691</td>\n",
       "      <td>-118.242766</td>\n",
       "      <td>1704.707200</td>\n",
       "      <td>7.441149</td>\n",
       "      <td>19.614378</td>\n",
       "    </tr>\n",
       "    <tr>\n",
       "      <th>13</th>\n",
       "      <td>Memphis</td>\n",
       "      <td>254</td>\n",
       "      <td>8772851</td>\n",
       "      <td>35.149022</td>\n",
       "      <td>-90.051629</td>\n",
       "      <td>2.312830</td>\n",
       "      <td>0.838472</td>\n",
       "      <td>15.987172</td>\n",
       "    </tr>\n",
       "    <tr>\n",
       "      <th>14</th>\n",
       "      <td>Miami</td>\n",
       "      <td>87</td>\n",
       "      <td>7284683</td>\n",
       "      <td>25.774173</td>\n",
       "      <td>-80.193620</td>\n",
       "      <td>11.175005</td>\n",
       "      <td>2.413680</td>\n",
       "      <td>15.801284</td>\n",
       "    </tr>\n",
       "    <tr>\n",
       "      <th>15</th>\n",
       "      <td>Milwaukee</td>\n",
       "      <td>56</td>\n",
       "      <td>40017821</td>\n",
       "      <td>43.034993</td>\n",
       "      <td>-87.922497</td>\n",
       "      <td>100.174531</td>\n",
       "      <td>4.606914</td>\n",
       "      <td>17.504835</td>\n",
       "    </tr>\n",
       "    <tr>\n",
       "      <th>16</th>\n",
       "      <td>New Orleans</td>\n",
       "      <td>27</td>\n",
       "      <td>2885642</td>\n",
       "      <td>29.949932</td>\n",
       "      <td>-90.070116</td>\n",
       "      <td>4.853914</td>\n",
       "      <td>1.579785</td>\n",
       "      <td>14.875258</td>\n",
       "    </tr>\n",
       "    <tr>\n",
       "      <th>17</th>\n",
       "      <td>New York City</td>\n",
       "      <td>32632</td>\n",
       "      <td>1704120285</td>\n",
       "      <td>40.712728</td>\n",
       "      <td>40.712728</td>\n",
       "      <td>4956.316783</td>\n",
       "      <td>8.508418</td>\n",
       "      <td>21.256315</td>\n",
       "    </tr>\n",
       "    <tr>\n",
       "      <th>18</th>\n",
       "      <td>North Charleston</td>\n",
       "      <td>108</td>\n",
       "      <td>3333750</td>\n",
       "      <td>32.913129</td>\n",
       "      <td>-80.062998</td>\n",
       "      <td>0.407797</td>\n",
       "      <td>-0.896987</td>\n",
       "      <td>15.019608</td>\n",
       "    </tr>\n",
       "    <tr>\n",
       "      <th>19</th>\n",
       "      <td>Orlando</td>\n",
       "      <td>24</td>\n",
       "      <td>734377</td>\n",
       "      <td>28.542111</td>\n",
       "      <td>-81.379030</td>\n",
       "      <td>7.525994</td>\n",
       "      <td>2.018363</td>\n",
       "      <td>13.506778</td>\n",
       "    </tr>\n",
       "    <tr>\n",
       "      <th>20</th>\n",
       "      <td>Paterson</td>\n",
       "      <td>56</td>\n",
       "      <td>5350399</td>\n",
       "      <td>40.916765</td>\n",
       "      <td>-74.171811</td>\n",
       "      <td>22.402092</td>\n",
       "      <td>3.109154</td>\n",
       "      <td>15.492682</td>\n",
       "    </tr>\n",
       "    <tr>\n",
       "      <th>21</th>\n",
       "      <td>Philadelphia</td>\n",
       "      <td>1423</td>\n",
       "      <td>116839465</td>\n",
       "      <td>39.952724</td>\n",
       "      <td>-75.163526</td>\n",
       "      <td>799.279489</td>\n",
       "      <td>6.683711</td>\n",
       "      <td>18.576311</td>\n",
       "    </tr>\n",
       "    <tr>\n",
       "      <th>22</th>\n",
       "      <td>Richmond</td>\n",
       "      <td>6</td>\n",
       "      <td>201000</td>\n",
       "      <td>37.538509</td>\n",
       "      <td>-77.434280</td>\n",
       "      <td>0.131716</td>\n",
       "      <td>-2.027108</td>\n",
       "      <td>12.211060</td>\n",
       "    </tr>\n",
       "    <tr>\n",
       "      <th>23</th>\n",
       "      <td>Roanoke</td>\n",
       "      <td>2</td>\n",
       "      <td>132500</td>\n",
       "      <td>37.270973</td>\n",
       "      <td>-79.941431</td>\n",
       "      <td>0.648318</td>\n",
       "      <td>-0.433374</td>\n",
       "      <td>11.794338</td>\n",
       "    </tr>\n",
       "    <tr>\n",
       "      <th>24</th>\n",
       "      <td>San Francisco</td>\n",
       "      <td>87</td>\n",
       "      <td>27873297</td>\n",
       "      <td>37.779026</td>\n",
       "      <td>-122.419906</td>\n",
       "      <td>287.620452</td>\n",
       "      <td>5.661642</td>\n",
       "      <td>17.143180</td>\n",
       "    </tr>\n",
       "    <tr>\n",
       "      <th>25</th>\n",
       "      <td>Springfield</td>\n",
       "      <td>40</td>\n",
       "      <td>32846089</td>\n",
       "      <td>42.101876</td>\n",
       "      <td>-72.588673</td>\n",
       "      <td>40.793271</td>\n",
       "      <td>3.708517</td>\n",
       "      <td>17.307343</td>\n",
       "    </tr>\n",
       "    <tr>\n",
       "      <th>26</th>\n",
       "      <td>St. Louis</td>\n",
       "      <td>14</td>\n",
       "      <td>3117846</td>\n",
       "      <td>38.626418</td>\n",
       "      <td>-90.199838</td>\n",
       "      <td>20.360519</td>\n",
       "      <td>3.013598</td>\n",
       "      <td>14.952653</td>\n",
       "    </tr>\n",
       "    <tr>\n",
       "      <th>27</th>\n",
       "      <td>Washington</td>\n",
       "      <td>370</td>\n",
       "      <td>114829407</td>\n",
       "      <td>38.894992</td>\n",
       "      <td>-77.036558</td>\n",
       "      <td>359.641106</td>\n",
       "      <td>5.885107</td>\n",
       "      <td>18.558958</td>\n",
       "    </tr>\n",
       "    <tr>\n",
       "      <th>28</th>\n",
       "      <td>Waterbury</td>\n",
       "      <td>15</td>\n",
       "      <td>2227250</td>\n",
       "      <td>41.553809</td>\n",
       "      <td>-73.043836</td>\n",
       "      <td>3.701183</td>\n",
       "      <td>1.308653</td>\n",
       "      <td>14.616278</td>\n",
       "    </tr>\n",
       "  </tbody>\n",
       "</table>\n",
       "</div>"
      ],
      "text/plain": [
       "                city  Incident_count  amount_awarded   Latitude   Longitude  \\\n",
       "0            Atlanta              65         4761181  33.748992  -84.390264   \n",
       "1          Baltimore              82        18432746  39.290882   76.610759   \n",
       "2        Baton Rouge              30         2879789  30.445960  -91.187380   \n",
       "3             Boston              51        11905481  42.360253  -71.058291   \n",
       "4         Charleston              59         1520250  32.787601  -79.940273   \n",
       "5            Chicago            1515       467586425  41.875562  -87.624421   \n",
       "6         Cincinnati              54         2472785  39.101454  -84.512460   \n",
       "7          Cleveland             142        28573463  41.505161  -81.693445   \n",
       "8           Columbia              27         1030935  34.000749  -81.034331   \n",
       "9            Detroit             503        57702977  42.331551  -83.046640   \n",
       "10   Fort Lauderdale              54         2371381  26.122308  -80.143379   \n",
       "11      Indianapolis             236        13148274  39.768333  -86.158350   \n",
       "12       Los Angeles             997       329925622  34.053691 -118.242766   \n",
       "13           Memphis             254         8772851  35.149022  -90.051629   \n",
       "14             Miami              87         7284683  25.774173  -80.193620   \n",
       "15         Milwaukee              56        40017821  43.034993  -87.922497   \n",
       "16       New Orleans              27         2885642  29.949932  -90.070116   \n",
       "17     New York City           32632      1704120285  40.712728   40.712728   \n",
       "18  North Charleston             108         3333750  32.913129  -80.062998   \n",
       "19           Orlando              24          734377  28.542111  -81.379030   \n",
       "20          Paterson              56         5350399  40.916765  -74.171811   \n",
       "21      Philadelphia            1423       116839465  39.952724  -75.163526   \n",
       "22          Richmond               6          201000  37.538509  -77.434280   \n",
       "23           Roanoke               2          132500  37.270973  -79.941431   \n",
       "24     San Francisco              87        27873297  37.779026 -122.419906   \n",
       "25       Springfield              40        32846089  42.101876  -72.588673   \n",
       "26         St. Louis              14         3117846  38.626418  -90.199838   \n",
       "27        Washington             370       114829407  38.894992  -77.036558   \n",
       "28         Waterbury              15         2227250  41.553809  -73.043836   \n",
       "\n",
       "     per capita  per_capita_log  amount_awarded_log  \n",
       "0     11.148769        2.411329           15.376006  \n",
       "1     80.343941        4.386317           16.729639  \n",
       "2      4.661431        1.539323           14.873228  \n",
       "3    113.225948        4.729385           16.292509  \n",
       "4     12.630438        2.536110           14.234385  \n",
       "5    173.459506        5.155944           19.963095  \n",
       "6      8.325181        2.119285           14.720856  \n",
       "7     72.034273        4.277142           17.167989  \n",
       "8      7.904670        2.067454           13.845977  \n",
       "9     80.828058        4.392324           17.870819  \n",
       "10    14.306647        2.660724           14.678983  \n",
       "11    16.025550        2.774184           16.391801  \n",
       "12  1704.707200        7.441149           19.614378  \n",
       "13     2.312830        0.838472           15.987172  \n",
       "14    11.175005        2.413680           15.801284  \n",
       "15   100.174531        4.606914           17.504835  \n",
       "16     4.853914        1.579785           14.875258  \n",
       "17  4956.316783        8.508418           21.256315  \n",
       "18     0.407797       -0.896987           15.019608  \n",
       "19     7.525994        2.018363           13.506778  \n",
       "20    22.402092        3.109154           15.492682  \n",
       "21   799.279489        6.683711           18.576311  \n",
       "22     0.131716       -2.027108           12.211060  \n",
       "23     0.648318       -0.433374           11.794338  \n",
       "24   287.620452        5.661642           17.143180  \n",
       "25    40.793271        3.708517           17.307343  \n",
       "26    20.360519        3.013598           14.952653  \n",
       "27   359.641106        5.885107           18.558958  \n",
       "28     3.701183        1.308653           14.616278  "
      ]
     },
     "execution_count": 35,
     "metadata": {},
     "output_type": "execute_result"
    }
   ],
   "source": [
    "new_frame2 "
   ]
  },
  {
   "cell_type": "code",
   "execution_count": 36,
   "metadata": {},
   "outputs": [
    {
     "data": {
      "application/vnd.plotly.v1+json": {
       "config": {
        "plotlyServerURL": "https://plot.ly"
       },
       "data": [
        {
         "customdata": [
          [
           4761181,
           11.148768671307714
          ],
          [
           18432746,
           80.34394110442284
          ],
          [
           2879789,
           4.661431355537139
          ],
          [
           11905481,
           113.22594818731692
          ],
          [
           1520250,
           12.63043767239374
          ],
          [
           467586425,
           173.45950590061332
          ],
          [
           2472785,
           8.325181382038549
          ],
          [
           28573463,
           72.03427325324897
          ],
          [
           1030935,
           7.90467026015749
          ],
          [
           57702977,
           80.82805806992036
          ],
          [
           2371381,
           14.30664720006757
          ],
          [
           13148274,
           16.025550394475278
          ],
          [
           329925622,
           1704.707199619713
          ],
          [
           8772851,
           2.312829558842953
          ],
          [
           7284683,
           11.175004947282677
          ],
          [
           40017821,
           100.1745314545623
          ],
          [
           2885642,
           4.853913722165592
          ],
          [
           1704120285,
           4956.316783391696
          ],
          [
           3333750,
           0.40779661875288303
          ],
          [
           734377,
           7.525994322548909
          ],
          [
           5350399,
           22.402091811954644
          ],
          [
           116839465,
           799.2794891264938
          ],
          [
           201000,
           0.13171587117270375
          ],
          [
           132500,
           0.6483180428134556
          ],
          [
           27873297,
           287.6204519657414
          ],
          [
           32846089,
           40.7932708548605
          ],
          [
           3117846,
           20.36051902933417
          ],
          [
           114829407,
           359.64110570674217
          ],
          [
           2227250,
           3.7011833483723766
          ]
         ],
         "hovertemplate": "<b>%{hovertext}</b><br><br>Latitude=%{lat}<br>Longitude=%{lon}<br>amount_awarded=%{customdata[0]}<br>per capita=%{customdata[1]}<br>per_capita_log=%{marker.color}<extra></extra>",
         "hovertext": [
          "Atlanta",
          "Baltimore",
          "Baton Rouge",
          "Boston",
          "Charleston",
          "Chicago",
          "Cincinnati",
          "Cleveland",
          "Columbia",
          "Detroit",
          "Fort Lauderdale",
          "Indianapolis",
          "Los Angeles",
          "Memphis",
          "Miami",
          "Milwaukee",
          "New Orleans",
          "New York City",
          "North Charleston",
          "Orlando",
          "Paterson",
          "Philadelphia",
          "Richmond",
          "Roanoke",
          "San Francisco",
          "Springfield",
          "St. Louis",
          "Washington",
          "Waterbury"
         ],
         "lat": [
          33.7489924,
          39.2908816,
          30.4459596,
          42.3602534,
          32.7876012,
          41.87556160000001,
          39.1014537,
          41.5051613,
          34.000749299999995,
          42.3315509,
          26.1223084,
          39.7683331,
          34.0536909,
          35.1490215,
          25.7741728,
          43.0349931,
          29.949932300000004,
          40.712728,
          32.9131295,
          28.5421109,
          40.9167654,
          39.9527237,
          37.53850870000001,
          37.270973,
          37.7790262,
          42.1018764,
          38.626418,
          38.8949924,
          41.5538091
         ],
         "legendgroup": "",
         "lon": [
          -84.3902644,
          76.610759,
          -91.18738,
          -71.0582912,
          -79.9402728,
          -87.6244212,
          -84.5124602,
          -81.6934446,
          -81.03433129999998,
          -83.04664029999998,
          -80.14337859999998,
          -86.1583502,
          -118.242766,
          -90.0516285,
          -80.19362,
          -87.92249699999998,
          -90.0701156,
          40.712728,
          -80.0629981965219,
          -81.3790304,
          -74.171811,
          -75.16352619999998,
          -77.43428,
          -79.94143129999998,
          -122.419906,
          -72.5886727,
          -90.199838,
          -77.0365581,
          -73.0438362
         ],
         "marker": {
          "color": [
           2.411329058741375,
           4.386316683048138,
           1.5393225588148303,
           4.729385363770798,
           2.5361095891581638,
           5.155944176760459,
           2.1192848232614185,
           4.277142023161947,
           2.0674537569713793,
           4.392324158589161,
           2.6607242684271695,
           2.774184348206021,
           7.441148644541938,
           0.8384716921826703,
           2.413679583209394,
           4.606913979242114,
           1.5797853325616833,
           8.5084181598733,
           -0.8969867123109699,
           2.01836293779266,
           3.1091543389631977,
           6.683710683257425,
           -2.027108167450345,
           -0.433373896225241,
           5.661641735855864,
           3.7085171377797344,
           3.0135976839573013,
           5.885106605593945,
           1.3086525924018484
          ],
          "coloraxis": "coloraxis"
         },
         "mode": "markers",
         "name": "",
         "showlegend": false,
         "subplot": "mapbox",
         "type": "scattermapbox"
        }
       ],
       "layout": {
        "coloraxis": {
         "colorbar": {
          "title": {
           "text": "per_capita_log"
          }
         },
         "colorscale": [
          [
           0,
           "#0d0887"
          ],
          [
           0.1111111111111111,
           "#46039f"
          ],
          [
           0.2222222222222222,
           "#7201a8"
          ],
          [
           0.3333333333333333,
           "#9c179e"
          ],
          [
           0.4444444444444444,
           "#bd3786"
          ],
          [
           0.5555555555555556,
           "#d8576b"
          ],
          [
           0.6666666666666666,
           "#ed7953"
          ],
          [
           0.7777777777777778,
           "#fb9f3a"
          ],
          [
           0.8888888888888888,
           "#fdca26"
          ],
          [
           1,
           "#f0f921"
          ]
         ]
        },
        "height": 300,
        "legend": {
         "tracegroupgap": 0
        },
        "mapbox": {
         "center": {
          "lat": 36.83116132413793,
          "lon": -74.59959527574213
         },
         "domain": {
          "x": [
           0,
           1
          ],
          "y": [
           0,
           1
          ]
         },
         "style": "open-street-map",
         "zoom": 3
        },
        "margin": {
         "b": 0,
         "l": 0,
         "r": 0,
         "t": 0
        },
        "template": {
         "data": {
          "bar": [
           {
            "error_x": {
             "color": "#2a3f5f"
            },
            "error_y": {
             "color": "#2a3f5f"
            },
            "marker": {
             "line": {
              "color": "#E5ECF6",
              "width": 0.5
             }
            },
            "type": "bar"
           }
          ],
          "barpolar": [
           {
            "marker": {
             "line": {
              "color": "#E5ECF6",
              "width": 0.5
             }
            },
            "type": "barpolar"
           }
          ],
          "carpet": [
           {
            "aaxis": {
             "endlinecolor": "#2a3f5f",
             "gridcolor": "white",
             "linecolor": "white",
             "minorgridcolor": "white",
             "startlinecolor": "#2a3f5f"
            },
            "baxis": {
             "endlinecolor": "#2a3f5f",
             "gridcolor": "white",
             "linecolor": "white",
             "minorgridcolor": "white",
             "startlinecolor": "#2a3f5f"
            },
            "type": "carpet"
           }
          ],
          "choropleth": [
           {
            "colorbar": {
             "outlinewidth": 0,
             "ticks": ""
            },
            "type": "choropleth"
           }
          ],
          "contour": [
           {
            "colorbar": {
             "outlinewidth": 0,
             "ticks": ""
            },
            "colorscale": [
             [
              0,
              "#0d0887"
             ],
             [
              0.1111111111111111,
              "#46039f"
             ],
             [
              0.2222222222222222,
              "#7201a8"
             ],
             [
              0.3333333333333333,
              "#9c179e"
             ],
             [
              0.4444444444444444,
              "#bd3786"
             ],
             [
              0.5555555555555556,
              "#d8576b"
             ],
             [
              0.6666666666666666,
              "#ed7953"
             ],
             [
              0.7777777777777778,
              "#fb9f3a"
             ],
             [
              0.8888888888888888,
              "#fdca26"
             ],
             [
              1,
              "#f0f921"
             ]
            ],
            "type": "contour"
           }
          ],
          "contourcarpet": [
           {
            "colorbar": {
             "outlinewidth": 0,
             "ticks": ""
            },
            "type": "contourcarpet"
           }
          ],
          "heatmap": [
           {
            "colorbar": {
             "outlinewidth": 0,
             "ticks": ""
            },
            "colorscale": [
             [
              0,
              "#0d0887"
             ],
             [
              0.1111111111111111,
              "#46039f"
             ],
             [
              0.2222222222222222,
              "#7201a8"
             ],
             [
              0.3333333333333333,
              "#9c179e"
             ],
             [
              0.4444444444444444,
              "#bd3786"
             ],
             [
              0.5555555555555556,
              "#d8576b"
             ],
             [
              0.6666666666666666,
              "#ed7953"
             ],
             [
              0.7777777777777778,
              "#fb9f3a"
             ],
             [
              0.8888888888888888,
              "#fdca26"
             ],
             [
              1,
              "#f0f921"
             ]
            ],
            "type": "heatmap"
           }
          ],
          "heatmapgl": [
           {
            "colorbar": {
             "outlinewidth": 0,
             "ticks": ""
            },
            "colorscale": [
             [
              0,
              "#0d0887"
             ],
             [
              0.1111111111111111,
              "#46039f"
             ],
             [
              0.2222222222222222,
              "#7201a8"
             ],
             [
              0.3333333333333333,
              "#9c179e"
             ],
             [
              0.4444444444444444,
              "#bd3786"
             ],
             [
              0.5555555555555556,
              "#d8576b"
             ],
             [
              0.6666666666666666,
              "#ed7953"
             ],
             [
              0.7777777777777778,
              "#fb9f3a"
             ],
             [
              0.8888888888888888,
              "#fdca26"
             ],
             [
              1,
              "#f0f921"
             ]
            ],
            "type": "heatmapgl"
           }
          ],
          "histogram": [
           {
            "marker": {
             "colorbar": {
              "outlinewidth": 0,
              "ticks": ""
             }
            },
            "type": "histogram"
           }
          ],
          "histogram2d": [
           {
            "colorbar": {
             "outlinewidth": 0,
             "ticks": ""
            },
            "colorscale": [
             [
              0,
              "#0d0887"
             ],
             [
              0.1111111111111111,
              "#46039f"
             ],
             [
              0.2222222222222222,
              "#7201a8"
             ],
             [
              0.3333333333333333,
              "#9c179e"
             ],
             [
              0.4444444444444444,
              "#bd3786"
             ],
             [
              0.5555555555555556,
              "#d8576b"
             ],
             [
              0.6666666666666666,
              "#ed7953"
             ],
             [
              0.7777777777777778,
              "#fb9f3a"
             ],
             [
              0.8888888888888888,
              "#fdca26"
             ],
             [
              1,
              "#f0f921"
             ]
            ],
            "type": "histogram2d"
           }
          ],
          "histogram2dcontour": [
           {
            "colorbar": {
             "outlinewidth": 0,
             "ticks": ""
            },
            "colorscale": [
             [
              0,
              "#0d0887"
             ],
             [
              0.1111111111111111,
              "#46039f"
             ],
             [
              0.2222222222222222,
              "#7201a8"
             ],
             [
              0.3333333333333333,
              "#9c179e"
             ],
             [
              0.4444444444444444,
              "#bd3786"
             ],
             [
              0.5555555555555556,
              "#d8576b"
             ],
             [
              0.6666666666666666,
              "#ed7953"
             ],
             [
              0.7777777777777778,
              "#fb9f3a"
             ],
             [
              0.8888888888888888,
              "#fdca26"
             ],
             [
              1,
              "#f0f921"
             ]
            ],
            "type": "histogram2dcontour"
           }
          ],
          "mesh3d": [
           {
            "colorbar": {
             "outlinewidth": 0,
             "ticks": ""
            },
            "type": "mesh3d"
           }
          ],
          "parcoords": [
           {
            "line": {
             "colorbar": {
              "outlinewidth": 0,
              "ticks": ""
             }
            },
            "type": "parcoords"
           }
          ],
          "pie": [
           {
            "automargin": true,
            "type": "pie"
           }
          ],
          "scatter": [
           {
            "marker": {
             "colorbar": {
              "outlinewidth": 0,
              "ticks": ""
             }
            },
            "type": "scatter"
           }
          ],
          "scatter3d": [
           {
            "line": {
             "colorbar": {
              "outlinewidth": 0,
              "ticks": ""
             }
            },
            "marker": {
             "colorbar": {
              "outlinewidth": 0,
              "ticks": ""
             }
            },
            "type": "scatter3d"
           }
          ],
          "scattercarpet": [
           {
            "marker": {
             "colorbar": {
              "outlinewidth": 0,
              "ticks": ""
             }
            },
            "type": "scattercarpet"
           }
          ],
          "scattergeo": [
           {
            "marker": {
             "colorbar": {
              "outlinewidth": 0,
              "ticks": ""
             }
            },
            "type": "scattergeo"
           }
          ],
          "scattergl": [
           {
            "marker": {
             "colorbar": {
              "outlinewidth": 0,
              "ticks": ""
             }
            },
            "type": "scattergl"
           }
          ],
          "scattermapbox": [
           {
            "marker": {
             "colorbar": {
              "outlinewidth": 0,
              "ticks": ""
             }
            },
            "type": "scattermapbox"
           }
          ],
          "scatterpolar": [
           {
            "marker": {
             "colorbar": {
              "outlinewidth": 0,
              "ticks": ""
             }
            },
            "type": "scatterpolar"
           }
          ],
          "scatterpolargl": [
           {
            "marker": {
             "colorbar": {
              "outlinewidth": 0,
              "ticks": ""
             }
            },
            "type": "scatterpolargl"
           }
          ],
          "scatterternary": [
           {
            "marker": {
             "colorbar": {
              "outlinewidth": 0,
              "ticks": ""
             }
            },
            "type": "scatterternary"
           }
          ],
          "surface": [
           {
            "colorbar": {
             "outlinewidth": 0,
             "ticks": ""
            },
            "colorscale": [
             [
              0,
              "#0d0887"
             ],
             [
              0.1111111111111111,
              "#46039f"
             ],
             [
              0.2222222222222222,
              "#7201a8"
             ],
             [
              0.3333333333333333,
              "#9c179e"
             ],
             [
              0.4444444444444444,
              "#bd3786"
             ],
             [
              0.5555555555555556,
              "#d8576b"
             ],
             [
              0.6666666666666666,
              "#ed7953"
             ],
             [
              0.7777777777777778,
              "#fb9f3a"
             ],
             [
              0.8888888888888888,
              "#fdca26"
             ],
             [
              1,
              "#f0f921"
             ]
            ],
            "type": "surface"
           }
          ],
          "table": [
           {
            "cells": {
             "fill": {
              "color": "#EBF0F8"
             },
             "line": {
              "color": "white"
             }
            },
            "header": {
             "fill": {
              "color": "#C8D4E3"
             },
             "line": {
              "color": "white"
             }
            },
            "type": "table"
           }
          ]
         },
         "layout": {
          "annotationdefaults": {
           "arrowcolor": "#2a3f5f",
           "arrowhead": 0,
           "arrowwidth": 1
          },
          "autotypenumbers": "strict",
          "coloraxis": {
           "colorbar": {
            "outlinewidth": 0,
            "ticks": ""
           }
          },
          "colorscale": {
           "diverging": [
            [
             0,
             "#8e0152"
            ],
            [
             0.1,
             "#c51b7d"
            ],
            [
             0.2,
             "#de77ae"
            ],
            [
             0.3,
             "#f1b6da"
            ],
            [
             0.4,
             "#fde0ef"
            ],
            [
             0.5,
             "#f7f7f7"
            ],
            [
             0.6,
             "#e6f5d0"
            ],
            [
             0.7,
             "#b8e186"
            ],
            [
             0.8,
             "#7fbc41"
            ],
            [
             0.9,
             "#4d9221"
            ],
            [
             1,
             "#276419"
            ]
           ],
           "sequential": [
            [
             0,
             "#0d0887"
            ],
            [
             0.1111111111111111,
             "#46039f"
            ],
            [
             0.2222222222222222,
             "#7201a8"
            ],
            [
             0.3333333333333333,
             "#9c179e"
            ],
            [
             0.4444444444444444,
             "#bd3786"
            ],
            [
             0.5555555555555556,
             "#d8576b"
            ],
            [
             0.6666666666666666,
             "#ed7953"
            ],
            [
             0.7777777777777778,
             "#fb9f3a"
            ],
            [
             0.8888888888888888,
             "#fdca26"
            ],
            [
             1,
             "#f0f921"
            ]
           ],
           "sequentialminus": [
            [
             0,
             "#0d0887"
            ],
            [
             0.1111111111111111,
             "#46039f"
            ],
            [
             0.2222222222222222,
             "#7201a8"
            ],
            [
             0.3333333333333333,
             "#9c179e"
            ],
            [
             0.4444444444444444,
             "#bd3786"
            ],
            [
             0.5555555555555556,
             "#d8576b"
            ],
            [
             0.6666666666666666,
             "#ed7953"
            ],
            [
             0.7777777777777778,
             "#fb9f3a"
            ],
            [
             0.8888888888888888,
             "#fdca26"
            ],
            [
             1,
             "#f0f921"
            ]
           ]
          },
          "colorway": [
           "#636efa",
           "#EF553B",
           "#00cc96",
           "#ab63fa",
           "#FFA15A",
           "#19d3f3",
           "#FF6692",
           "#B6E880",
           "#FF97FF",
           "#FECB52"
          ],
          "font": {
           "color": "#2a3f5f"
          },
          "geo": {
           "bgcolor": "white",
           "lakecolor": "white",
           "landcolor": "#E5ECF6",
           "showlakes": true,
           "showland": true,
           "subunitcolor": "white"
          },
          "hoverlabel": {
           "align": "left"
          },
          "hovermode": "closest",
          "mapbox": {
           "style": "light"
          },
          "paper_bgcolor": "white",
          "plot_bgcolor": "#E5ECF6",
          "polar": {
           "angularaxis": {
            "gridcolor": "white",
            "linecolor": "white",
            "ticks": ""
           },
           "bgcolor": "#E5ECF6",
           "radialaxis": {
            "gridcolor": "white",
            "linecolor": "white",
            "ticks": ""
           }
          },
          "scene": {
           "xaxis": {
            "backgroundcolor": "#E5ECF6",
            "gridcolor": "white",
            "gridwidth": 2,
            "linecolor": "white",
            "showbackground": true,
            "ticks": "",
            "zerolinecolor": "white"
           },
           "yaxis": {
            "backgroundcolor": "#E5ECF6",
            "gridcolor": "white",
            "gridwidth": 2,
            "linecolor": "white",
            "showbackground": true,
            "ticks": "",
            "zerolinecolor": "white"
           },
           "zaxis": {
            "backgroundcolor": "#E5ECF6",
            "gridcolor": "white",
            "gridwidth": 2,
            "linecolor": "white",
            "showbackground": true,
            "ticks": "",
            "zerolinecolor": "white"
           }
          },
          "shapedefaults": {
           "line": {
            "color": "#2a3f5f"
           }
          },
          "ternary": {
           "aaxis": {
            "gridcolor": "white",
            "linecolor": "white",
            "ticks": ""
           },
           "baxis": {
            "gridcolor": "white",
            "linecolor": "white",
            "ticks": ""
           },
           "bgcolor": "#E5ECF6",
           "caxis": {
            "gridcolor": "white",
            "linecolor": "white",
            "ticks": ""
           }
          },
          "title": {
           "x": 0.05
          },
          "xaxis": {
           "automargin": true,
           "gridcolor": "white",
           "linecolor": "white",
           "ticks": "",
           "title": {
            "standoff": 15
           },
           "zerolinecolor": "white",
           "zerolinewidth": 2
          },
          "yaxis": {
           "automargin": true,
           "gridcolor": "white",
           "linecolor": "white",
           "ticks": "",
           "title": {
            "standoff": 15
           },
           "zerolinecolor": "white",
           "zerolinewidth": 2
          }
         }
        }
       }
      },
      "text/html": [
       "<div>                            <div id=\"7d712ce3-055f-4541-aaca-359be2d051d1\" class=\"plotly-graph-div\" style=\"height:300px; width:100%;\"></div>            <script type=\"text/javascript\">                require([\"plotly\"], function(Plotly) {                    window.PLOTLYENV=window.PLOTLYENV || {};                                    if (document.getElementById(\"7d712ce3-055f-4541-aaca-359be2d051d1\")) {                    Plotly.newPlot(                        \"7d712ce3-055f-4541-aaca-359be2d051d1\",                        [{\"customdata\": [[4761181.0, 11.148768671307714], [18432746.0, 80.34394110442284], [2879789.0, 4.661431355537139], [11905481.0, 113.22594818731692], [1520250.0, 12.63043767239374], [467586425.0, 173.45950590061332], [2472785.0, 8.325181382038549], [28573463.0, 72.03427325324897], [1030935.0, 7.90467026015749], [57702977.0, 80.82805806992036], [2371381.0, 14.30664720006757], [13148274.0, 16.025550394475278], [329925622.0, 1704.707199619713], [8772851.0, 2.312829558842953], [7284683.0, 11.175004947282677], [40017821.0, 100.1745314545623], [2885642.0, 4.853913722165592], [1704120285.0, 4956.316783391696], [3333750.0, 0.40779661875288303], [734377.0, 7.525994322548909], [5350399.0, 22.402091811954644], [116839465.0, 799.2794891264938], [201000.0, 0.13171587117270375], [132500.0, 0.6483180428134556], [27873297.0, 287.6204519657414], [32846089.0, 40.7932708548605], [3117846.0, 20.36051902933417], [114829407.0, 359.64110570674217], [2227250.0, 3.7011833483723766]], \"hovertemplate\": \"<b>%{hovertext}</b><br><br>Latitude=%{lat}<br>Longitude=%{lon}<br>amount_awarded=%{customdata[0]}<br>per capita=%{customdata[1]}<br>per_capita_log=%{marker.color}<extra></extra>\", \"hovertext\": [\"Atlanta\", \"Baltimore\", \"Baton Rouge\", \"Boston\", \"Charleston\", \"Chicago\", \"Cincinnati\", \"Cleveland\", \"Columbia\", \"Detroit\", \"Fort Lauderdale\", \"Indianapolis\", \"Los Angeles\", \"Memphis\", \"Miami\", \"Milwaukee\", \"New Orleans\", \"New York City\", \"North Charleston\", \"Orlando\", \"Paterson\", \"Philadelphia\", \"Richmond\", \"Roanoke\", \"San Francisco\", \"Springfield\", \"St. Louis\", \"Washington\", \"Waterbury\"], \"lat\": [33.7489924, 39.2908816, 30.4459596, 42.3602534, 32.7876012, 41.87556160000001, 39.1014537, 41.5051613, 34.000749299999995, 42.3315509, 26.1223084, 39.7683331, 34.0536909, 35.1490215, 25.7741728, 43.0349931, 29.949932300000004, 40.712728, 32.9131295, 28.5421109, 40.9167654, 39.9527237, 37.53850870000001, 37.270973, 37.7790262, 42.1018764, 38.626418, 38.8949924, 41.5538091], \"legendgroup\": \"\", \"lon\": [-84.3902644, 76.610759, -91.18738, -71.0582912, -79.9402728, -87.6244212, -84.5124602, -81.6934446, -81.03433129999998, -83.04664029999998, -80.14337859999998, -86.1583502, -118.242766, -90.0516285, -80.19362, -87.92249699999998, -90.0701156, 40.712728, -80.0629981965219, -81.3790304, -74.171811, -75.16352619999998, -77.43428, -79.94143129999998, -122.419906, -72.5886727, -90.199838, -77.0365581, -73.0438362], \"marker\": {\"color\": [2.411329058741375, 4.386316683048138, 1.5393225588148303, 4.729385363770798, 2.5361095891581638, 5.155944176760459, 2.1192848232614185, 4.277142023161947, 2.0674537569713793, 4.392324158589161, 2.6607242684271695, 2.774184348206021, 7.441148644541938, 0.8384716921826703, 2.413679583209394, 4.606913979242114, 1.5797853325616833, 8.5084181598733, -0.8969867123109699, 2.01836293779266, 3.1091543389631977, 6.683710683257425, -2.027108167450345, -0.433373896225241, 5.661641735855864, 3.7085171377797344, 3.0135976839573013, 5.885106605593945, 1.3086525924018484], \"coloraxis\": \"coloraxis\"}, \"mode\": \"markers\", \"name\": \"\", \"showlegend\": false, \"subplot\": \"mapbox\", \"type\": \"scattermapbox\"}],                        {\"coloraxis\": {\"colorbar\": {\"title\": {\"text\": \"per_capita_log\"}}, \"colorscale\": [[0.0, \"#0d0887\"], [0.1111111111111111, \"#46039f\"], [0.2222222222222222, \"#7201a8\"], [0.3333333333333333, \"#9c179e\"], [0.4444444444444444, \"#bd3786\"], [0.5555555555555556, \"#d8576b\"], [0.6666666666666666, \"#ed7953\"], [0.7777777777777778, \"#fb9f3a\"], [0.8888888888888888, \"#fdca26\"], [1.0, \"#f0f921\"]]}, \"height\": 300, \"legend\": {\"tracegroupgap\": 0}, \"mapbox\": {\"center\": {\"lat\": 36.83116132413793, \"lon\": -74.59959527574213}, \"domain\": {\"x\": [0.0, 1.0], \"y\": [0.0, 1.0]}, \"style\": \"open-street-map\", \"zoom\": 3}, \"margin\": {\"b\": 0, \"l\": 0, \"r\": 0, \"t\": 0}, \"template\": {\"data\": {\"bar\": [{\"error_x\": {\"color\": \"#2a3f5f\"}, \"error_y\": {\"color\": \"#2a3f5f\"}, \"marker\": {\"line\": {\"color\": \"#E5ECF6\", \"width\": 0.5}}, \"type\": \"bar\"}], \"barpolar\": [{\"marker\": {\"line\": {\"color\": \"#E5ECF6\", \"width\": 0.5}}, \"type\": \"barpolar\"}], \"carpet\": [{\"aaxis\": {\"endlinecolor\": \"#2a3f5f\", \"gridcolor\": \"white\", \"linecolor\": \"white\", \"minorgridcolor\": \"white\", \"startlinecolor\": \"#2a3f5f\"}, \"baxis\": {\"endlinecolor\": \"#2a3f5f\", \"gridcolor\": \"white\", \"linecolor\": \"white\", \"minorgridcolor\": \"white\", \"startlinecolor\": \"#2a3f5f\"}, \"type\": \"carpet\"}], \"choropleth\": [{\"colorbar\": {\"outlinewidth\": 0, \"ticks\": \"\"}, \"type\": \"choropleth\"}], \"contour\": [{\"colorbar\": {\"outlinewidth\": 0, \"ticks\": \"\"}, \"colorscale\": [[0.0, \"#0d0887\"], [0.1111111111111111, \"#46039f\"], [0.2222222222222222, \"#7201a8\"], [0.3333333333333333, \"#9c179e\"], [0.4444444444444444, \"#bd3786\"], [0.5555555555555556, \"#d8576b\"], [0.6666666666666666, \"#ed7953\"], [0.7777777777777778, \"#fb9f3a\"], [0.8888888888888888, \"#fdca26\"], [1.0, \"#f0f921\"]], \"type\": \"contour\"}], \"contourcarpet\": [{\"colorbar\": {\"outlinewidth\": 0, \"ticks\": \"\"}, \"type\": \"contourcarpet\"}], \"heatmap\": [{\"colorbar\": {\"outlinewidth\": 0, \"ticks\": \"\"}, \"colorscale\": [[0.0, \"#0d0887\"], [0.1111111111111111, \"#46039f\"], [0.2222222222222222, \"#7201a8\"], [0.3333333333333333, \"#9c179e\"], [0.4444444444444444, \"#bd3786\"], [0.5555555555555556, \"#d8576b\"], [0.6666666666666666, \"#ed7953\"], [0.7777777777777778, \"#fb9f3a\"], [0.8888888888888888, \"#fdca26\"], [1.0, \"#f0f921\"]], \"type\": \"heatmap\"}], \"heatmapgl\": [{\"colorbar\": {\"outlinewidth\": 0, \"ticks\": \"\"}, \"colorscale\": [[0.0, \"#0d0887\"], [0.1111111111111111, \"#46039f\"], [0.2222222222222222, \"#7201a8\"], [0.3333333333333333, \"#9c179e\"], [0.4444444444444444, \"#bd3786\"], [0.5555555555555556, \"#d8576b\"], [0.6666666666666666, \"#ed7953\"], [0.7777777777777778, \"#fb9f3a\"], [0.8888888888888888, \"#fdca26\"], [1.0, \"#f0f921\"]], \"type\": \"heatmapgl\"}], \"histogram\": [{\"marker\": {\"colorbar\": {\"outlinewidth\": 0, \"ticks\": \"\"}}, \"type\": \"histogram\"}], \"histogram2d\": [{\"colorbar\": {\"outlinewidth\": 0, \"ticks\": \"\"}, \"colorscale\": [[0.0, \"#0d0887\"], [0.1111111111111111, \"#46039f\"], [0.2222222222222222, \"#7201a8\"], [0.3333333333333333, \"#9c179e\"], [0.4444444444444444, \"#bd3786\"], [0.5555555555555556, \"#d8576b\"], [0.6666666666666666, \"#ed7953\"], [0.7777777777777778, \"#fb9f3a\"], [0.8888888888888888, \"#fdca26\"], [1.0, \"#f0f921\"]], \"type\": \"histogram2d\"}], \"histogram2dcontour\": [{\"colorbar\": {\"outlinewidth\": 0, \"ticks\": \"\"}, \"colorscale\": [[0.0, \"#0d0887\"], [0.1111111111111111, \"#46039f\"], [0.2222222222222222, \"#7201a8\"], [0.3333333333333333, \"#9c179e\"], [0.4444444444444444, \"#bd3786\"], [0.5555555555555556, \"#d8576b\"], [0.6666666666666666, \"#ed7953\"], [0.7777777777777778, \"#fb9f3a\"], [0.8888888888888888, \"#fdca26\"], [1.0, \"#f0f921\"]], \"type\": \"histogram2dcontour\"}], \"mesh3d\": [{\"colorbar\": {\"outlinewidth\": 0, \"ticks\": \"\"}, \"type\": \"mesh3d\"}], \"parcoords\": [{\"line\": {\"colorbar\": {\"outlinewidth\": 0, \"ticks\": \"\"}}, \"type\": \"parcoords\"}], \"pie\": [{\"automargin\": true, \"type\": \"pie\"}], \"scatter\": [{\"marker\": {\"colorbar\": {\"outlinewidth\": 0, \"ticks\": \"\"}}, \"type\": \"scatter\"}], \"scatter3d\": [{\"line\": {\"colorbar\": {\"outlinewidth\": 0, \"ticks\": \"\"}}, \"marker\": {\"colorbar\": {\"outlinewidth\": 0, \"ticks\": \"\"}}, \"type\": \"scatter3d\"}], \"scattercarpet\": [{\"marker\": {\"colorbar\": {\"outlinewidth\": 0, \"ticks\": \"\"}}, \"type\": \"scattercarpet\"}], \"scattergeo\": [{\"marker\": {\"colorbar\": {\"outlinewidth\": 0, \"ticks\": \"\"}}, \"type\": \"scattergeo\"}], \"scattergl\": [{\"marker\": {\"colorbar\": {\"outlinewidth\": 0, \"ticks\": \"\"}}, \"type\": \"scattergl\"}], \"scattermapbox\": [{\"marker\": {\"colorbar\": {\"outlinewidth\": 0, \"ticks\": \"\"}}, \"type\": \"scattermapbox\"}], \"scatterpolar\": [{\"marker\": {\"colorbar\": {\"outlinewidth\": 0, \"ticks\": \"\"}}, \"type\": \"scatterpolar\"}], \"scatterpolargl\": [{\"marker\": {\"colorbar\": {\"outlinewidth\": 0, \"ticks\": \"\"}}, \"type\": \"scatterpolargl\"}], \"scatterternary\": [{\"marker\": {\"colorbar\": {\"outlinewidth\": 0, \"ticks\": \"\"}}, \"type\": \"scatterternary\"}], \"surface\": [{\"colorbar\": {\"outlinewidth\": 0, \"ticks\": \"\"}, \"colorscale\": [[0.0, \"#0d0887\"], [0.1111111111111111, \"#46039f\"], [0.2222222222222222, \"#7201a8\"], [0.3333333333333333, \"#9c179e\"], [0.4444444444444444, \"#bd3786\"], [0.5555555555555556, \"#d8576b\"], [0.6666666666666666, \"#ed7953\"], [0.7777777777777778, \"#fb9f3a\"], [0.8888888888888888, \"#fdca26\"], [1.0, \"#f0f921\"]], \"type\": \"surface\"}], \"table\": [{\"cells\": {\"fill\": {\"color\": \"#EBF0F8\"}, \"line\": {\"color\": \"white\"}}, \"header\": {\"fill\": {\"color\": \"#C8D4E3\"}, \"line\": {\"color\": \"white\"}}, \"type\": \"table\"}]}, \"layout\": {\"annotationdefaults\": {\"arrowcolor\": \"#2a3f5f\", \"arrowhead\": 0, \"arrowwidth\": 1}, \"autotypenumbers\": \"strict\", \"coloraxis\": {\"colorbar\": {\"outlinewidth\": 0, \"ticks\": \"\"}}, \"colorscale\": {\"diverging\": [[0, \"#8e0152\"], [0.1, \"#c51b7d\"], [0.2, \"#de77ae\"], [0.3, \"#f1b6da\"], [0.4, \"#fde0ef\"], [0.5, \"#f7f7f7\"], [0.6, \"#e6f5d0\"], [0.7, \"#b8e186\"], [0.8, \"#7fbc41\"], [0.9, \"#4d9221\"], [1, \"#276419\"]], \"sequential\": [[0.0, \"#0d0887\"], [0.1111111111111111, \"#46039f\"], [0.2222222222222222, \"#7201a8\"], [0.3333333333333333, \"#9c179e\"], [0.4444444444444444, \"#bd3786\"], [0.5555555555555556, \"#d8576b\"], [0.6666666666666666, \"#ed7953\"], [0.7777777777777778, \"#fb9f3a\"], [0.8888888888888888, \"#fdca26\"], [1.0, \"#f0f921\"]], \"sequentialminus\": [[0.0, \"#0d0887\"], [0.1111111111111111, \"#46039f\"], [0.2222222222222222, \"#7201a8\"], [0.3333333333333333, \"#9c179e\"], [0.4444444444444444, \"#bd3786\"], [0.5555555555555556, \"#d8576b\"], [0.6666666666666666, \"#ed7953\"], [0.7777777777777778, \"#fb9f3a\"], [0.8888888888888888, \"#fdca26\"], [1.0, \"#f0f921\"]]}, \"colorway\": [\"#636efa\", \"#EF553B\", \"#00cc96\", \"#ab63fa\", \"#FFA15A\", \"#19d3f3\", \"#FF6692\", \"#B6E880\", \"#FF97FF\", \"#FECB52\"], \"font\": {\"color\": \"#2a3f5f\"}, \"geo\": {\"bgcolor\": \"white\", \"lakecolor\": \"white\", \"landcolor\": \"#E5ECF6\", \"showlakes\": true, \"showland\": true, \"subunitcolor\": \"white\"}, \"hoverlabel\": {\"align\": \"left\"}, \"hovermode\": \"closest\", \"mapbox\": {\"style\": \"light\"}, \"paper_bgcolor\": \"white\", \"plot_bgcolor\": \"#E5ECF6\", \"polar\": {\"angularaxis\": {\"gridcolor\": \"white\", \"linecolor\": \"white\", \"ticks\": \"\"}, \"bgcolor\": \"#E5ECF6\", \"radialaxis\": {\"gridcolor\": \"white\", \"linecolor\": \"white\", \"ticks\": \"\"}}, \"scene\": {\"xaxis\": {\"backgroundcolor\": \"#E5ECF6\", \"gridcolor\": \"white\", \"gridwidth\": 2, \"linecolor\": \"white\", \"showbackground\": true, \"ticks\": \"\", \"zerolinecolor\": \"white\"}, \"yaxis\": {\"backgroundcolor\": \"#E5ECF6\", \"gridcolor\": \"white\", \"gridwidth\": 2, \"linecolor\": \"white\", \"showbackground\": true, \"ticks\": \"\", \"zerolinecolor\": \"white\"}, \"zaxis\": {\"backgroundcolor\": \"#E5ECF6\", \"gridcolor\": \"white\", \"gridwidth\": 2, \"linecolor\": \"white\", \"showbackground\": true, \"ticks\": \"\", \"zerolinecolor\": \"white\"}}, \"shapedefaults\": {\"line\": {\"color\": \"#2a3f5f\"}}, \"ternary\": {\"aaxis\": {\"gridcolor\": \"white\", \"linecolor\": \"white\", \"ticks\": \"\"}, \"baxis\": {\"gridcolor\": \"white\", \"linecolor\": \"white\", \"ticks\": \"\"}, \"bgcolor\": \"#E5ECF6\", \"caxis\": {\"gridcolor\": \"white\", \"linecolor\": \"white\", \"ticks\": \"\"}}, \"title\": {\"x\": 0.05}, \"xaxis\": {\"automargin\": true, \"gridcolor\": \"white\", \"linecolor\": \"white\", \"ticks\": \"\", \"title\": {\"standoff\": 15}, \"zerolinecolor\": \"white\", \"zerolinewidth\": 2}, \"yaxis\": {\"automargin\": true, \"gridcolor\": \"white\", \"linecolor\": \"white\", \"ticks\": \"\", \"title\": {\"standoff\": 15}, \"zerolinecolor\": \"white\", \"zerolinewidth\": 2}}}},                        {\"responsive\": true}                    ).then(function(){\n",
       "                            \n",
       "var gd = document.getElementById('7d712ce3-055f-4541-aaca-359be2d051d1');\n",
       "var x = new MutationObserver(function (mutations, observer) {{\n",
       "        var display = window.getComputedStyle(gd).display;\n",
       "        if (!display || display === 'none') {{\n",
       "            console.log([gd, 'removed!']);\n",
       "            Plotly.purge(gd);\n",
       "            observer.disconnect();\n",
       "        }}\n",
       "}});\n",
       "\n",
       "// Listen for the removal of the full notebook cells\n",
       "var notebookContainer = gd.closest('#notebook-container');\n",
       "if (notebookContainer) {{\n",
       "    x.observe(notebookContainer, {childList: true});\n",
       "}}\n",
       "\n",
       "// Listen for the clearing of the current output cell\n",
       "var outputEl = gd.closest('.output');\n",
       "if (outputEl) {{\n",
       "    x.observe(outputEl, {childList: true});\n",
       "}}\n",
       "\n",
       "                        })                };                });            </script>        </div>"
      ]
     },
     "metadata": {},
     "output_type": "display_data"
    }
   ],
   "source": [
    "fig = px.scatter_mapbox(new_frame2,  lat= 'Latitude', lon= 'Longitude', \n",
    "                       hover_name= 'city', hover_data=['amount_awarded','per capita'],\n",
    "                       color = 'per_capita_log', zoom =3, height =300,  size_max =20)      \n",
    "fig.update_layout(mapbox_style='open-street-map')\n",
    "fig.update_layout(margin={'r':0,'t':0,'l':0,'b':0})\n",
    "fig.show()"
   ]
  },
  {
   "cell_type": "code",
   "execution_count": 37,
   "metadata": {},
   "outputs": [],
   "source": [
    "new_frame2['Incident_count_log'] = np.log(new_frame2['Incident_count'])"
   ]
  },
  {
   "cell_type": "code",
   "execution_count": 38,
   "metadata": {},
   "outputs": [
    {
     "data": {
      "text/html": [
       "<div>\n",
       "<style scoped>\n",
       "    .dataframe tbody tr th:only-of-type {\n",
       "        vertical-align: middle;\n",
       "    }\n",
       "\n",
       "    .dataframe tbody tr th {\n",
       "        vertical-align: top;\n",
       "    }\n",
       "\n",
       "    .dataframe thead th {\n",
       "        text-align: right;\n",
       "    }\n",
       "</style>\n",
       "<table border=\"1\" class=\"dataframe\">\n",
       "  <thead>\n",
       "    <tr style=\"text-align: right;\">\n",
       "      <th></th>\n",
       "      <th>city</th>\n",
       "      <th>Incident_count</th>\n",
       "      <th>amount_awarded</th>\n",
       "      <th>Latitude</th>\n",
       "      <th>Longitude</th>\n",
       "      <th>per capita</th>\n",
       "      <th>per_capita_log</th>\n",
       "      <th>amount_awarded_log</th>\n",
       "      <th>Incident_count_log</th>\n",
       "    </tr>\n",
       "  </thead>\n",
       "  <tbody>\n",
       "    <tr>\n",
       "      <th>0</th>\n",
       "      <td>Atlanta</td>\n",
       "      <td>65</td>\n",
       "      <td>4761181</td>\n",
       "      <td>33.748992</td>\n",
       "      <td>-84.390264</td>\n",
       "      <td>11.148769</td>\n",
       "      <td>2.411329</td>\n",
       "      <td>15.376006</td>\n",
       "      <td>4.174387</td>\n",
       "    </tr>\n",
       "    <tr>\n",
       "      <th>1</th>\n",
       "      <td>Baltimore</td>\n",
       "      <td>82</td>\n",
       "      <td>18432746</td>\n",
       "      <td>39.290882</td>\n",
       "      <td>76.610759</td>\n",
       "      <td>80.343941</td>\n",
       "      <td>4.386317</td>\n",
       "      <td>16.729639</td>\n",
       "      <td>4.406719</td>\n",
       "    </tr>\n",
       "    <tr>\n",
       "      <th>2</th>\n",
       "      <td>Baton Rouge</td>\n",
       "      <td>30</td>\n",
       "      <td>2879789</td>\n",
       "      <td>30.445960</td>\n",
       "      <td>-91.187380</td>\n",
       "      <td>4.661431</td>\n",
       "      <td>1.539323</td>\n",
       "      <td>14.873228</td>\n",
       "      <td>3.401197</td>\n",
       "    </tr>\n",
       "    <tr>\n",
       "      <th>3</th>\n",
       "      <td>Boston</td>\n",
       "      <td>51</td>\n",
       "      <td>11905481</td>\n",
       "      <td>42.360253</td>\n",
       "      <td>-71.058291</td>\n",
       "      <td>113.225948</td>\n",
       "      <td>4.729385</td>\n",
       "      <td>16.292509</td>\n",
       "      <td>3.931826</td>\n",
       "    </tr>\n",
       "    <tr>\n",
       "      <th>4</th>\n",
       "      <td>Charleston</td>\n",
       "      <td>59</td>\n",
       "      <td>1520250</td>\n",
       "      <td>32.787601</td>\n",
       "      <td>-79.940273</td>\n",
       "      <td>12.630438</td>\n",
       "      <td>2.536110</td>\n",
       "      <td>14.234385</td>\n",
       "      <td>4.077537</td>\n",
       "    </tr>\n",
       "    <tr>\n",
       "      <th>5</th>\n",
       "      <td>Chicago</td>\n",
       "      <td>1515</td>\n",
       "      <td>467586425</td>\n",
       "      <td>41.875562</td>\n",
       "      <td>-87.624421</td>\n",
       "      <td>173.459506</td>\n",
       "      <td>5.155944</td>\n",
       "      <td>19.963095</td>\n",
       "      <td>7.323171</td>\n",
       "    </tr>\n",
       "    <tr>\n",
       "      <th>6</th>\n",
       "      <td>Cincinnati</td>\n",
       "      <td>54</td>\n",
       "      <td>2472785</td>\n",
       "      <td>39.101454</td>\n",
       "      <td>-84.512460</td>\n",
       "      <td>8.325181</td>\n",
       "      <td>2.119285</td>\n",
       "      <td>14.720856</td>\n",
       "      <td>3.988984</td>\n",
       "    </tr>\n",
       "    <tr>\n",
       "      <th>7</th>\n",
       "      <td>Cleveland</td>\n",
       "      <td>142</td>\n",
       "      <td>28573463</td>\n",
       "      <td>41.505161</td>\n",
       "      <td>-81.693445</td>\n",
       "      <td>72.034273</td>\n",
       "      <td>4.277142</td>\n",
       "      <td>17.167989</td>\n",
       "      <td>4.955827</td>\n",
       "    </tr>\n",
       "    <tr>\n",
       "      <th>8</th>\n",
       "      <td>Columbia</td>\n",
       "      <td>27</td>\n",
       "      <td>1030935</td>\n",
       "      <td>34.000749</td>\n",
       "      <td>-81.034331</td>\n",
       "      <td>7.904670</td>\n",
       "      <td>2.067454</td>\n",
       "      <td>13.845977</td>\n",
       "      <td>3.295837</td>\n",
       "    </tr>\n",
       "    <tr>\n",
       "      <th>9</th>\n",
       "      <td>Detroit</td>\n",
       "      <td>503</td>\n",
       "      <td>57702977</td>\n",
       "      <td>42.331551</td>\n",
       "      <td>-83.046640</td>\n",
       "      <td>80.828058</td>\n",
       "      <td>4.392324</td>\n",
       "      <td>17.870819</td>\n",
       "      <td>6.220590</td>\n",
       "    </tr>\n",
       "    <tr>\n",
       "      <th>10</th>\n",
       "      <td>Fort Lauderdale</td>\n",
       "      <td>54</td>\n",
       "      <td>2371381</td>\n",
       "      <td>26.122308</td>\n",
       "      <td>-80.143379</td>\n",
       "      <td>14.306647</td>\n",
       "      <td>2.660724</td>\n",
       "      <td>14.678983</td>\n",
       "      <td>3.988984</td>\n",
       "    </tr>\n",
       "    <tr>\n",
       "      <th>11</th>\n",
       "      <td>Indianapolis</td>\n",
       "      <td>236</td>\n",
       "      <td>13148274</td>\n",
       "      <td>39.768333</td>\n",
       "      <td>-86.158350</td>\n",
       "      <td>16.025550</td>\n",
       "      <td>2.774184</td>\n",
       "      <td>16.391801</td>\n",
       "      <td>5.463832</td>\n",
       "    </tr>\n",
       "    <tr>\n",
       "      <th>12</th>\n",
       "      <td>Los Angeles</td>\n",
       "      <td>997</td>\n",
       "      <td>329925622</td>\n",
       "      <td>34.053691</td>\n",
       "      <td>-118.242766</td>\n",
       "      <td>1704.707200</td>\n",
       "      <td>7.441149</td>\n",
       "      <td>19.614378</td>\n",
       "      <td>6.904751</td>\n",
       "    </tr>\n",
       "    <tr>\n",
       "      <th>13</th>\n",
       "      <td>Memphis</td>\n",
       "      <td>254</td>\n",
       "      <td>8772851</td>\n",
       "      <td>35.149022</td>\n",
       "      <td>-90.051629</td>\n",
       "      <td>2.312830</td>\n",
       "      <td>0.838472</td>\n",
       "      <td>15.987172</td>\n",
       "      <td>5.537334</td>\n",
       "    </tr>\n",
       "    <tr>\n",
       "      <th>14</th>\n",
       "      <td>Miami</td>\n",
       "      <td>87</td>\n",
       "      <td>7284683</td>\n",
       "      <td>25.774173</td>\n",
       "      <td>-80.193620</td>\n",
       "      <td>11.175005</td>\n",
       "      <td>2.413680</td>\n",
       "      <td>15.801284</td>\n",
       "      <td>4.465908</td>\n",
       "    </tr>\n",
       "    <tr>\n",
       "      <th>15</th>\n",
       "      <td>Milwaukee</td>\n",
       "      <td>56</td>\n",
       "      <td>40017821</td>\n",
       "      <td>43.034993</td>\n",
       "      <td>-87.922497</td>\n",
       "      <td>100.174531</td>\n",
       "      <td>4.606914</td>\n",
       "      <td>17.504835</td>\n",
       "      <td>4.025352</td>\n",
       "    </tr>\n",
       "    <tr>\n",
       "      <th>16</th>\n",
       "      <td>New Orleans</td>\n",
       "      <td>27</td>\n",
       "      <td>2885642</td>\n",
       "      <td>29.949932</td>\n",
       "      <td>-90.070116</td>\n",
       "      <td>4.853914</td>\n",
       "      <td>1.579785</td>\n",
       "      <td>14.875258</td>\n",
       "      <td>3.295837</td>\n",
       "    </tr>\n",
       "    <tr>\n",
       "      <th>17</th>\n",
       "      <td>New York City</td>\n",
       "      <td>32632</td>\n",
       "      <td>1704120285</td>\n",
       "      <td>40.712728</td>\n",
       "      <td>40.712728</td>\n",
       "      <td>4956.316783</td>\n",
       "      <td>8.508418</td>\n",
       "      <td>21.256315</td>\n",
       "      <td>10.393049</td>\n",
       "    </tr>\n",
       "    <tr>\n",
       "      <th>18</th>\n",
       "      <td>North Charleston</td>\n",
       "      <td>108</td>\n",
       "      <td>3333750</td>\n",
       "      <td>32.913129</td>\n",
       "      <td>-80.062998</td>\n",
       "      <td>0.407797</td>\n",
       "      <td>-0.896987</td>\n",
       "      <td>15.019608</td>\n",
       "      <td>4.682131</td>\n",
       "    </tr>\n",
       "    <tr>\n",
       "      <th>19</th>\n",
       "      <td>Orlando</td>\n",
       "      <td>24</td>\n",
       "      <td>734377</td>\n",
       "      <td>28.542111</td>\n",
       "      <td>-81.379030</td>\n",
       "      <td>7.525994</td>\n",
       "      <td>2.018363</td>\n",
       "      <td>13.506778</td>\n",
       "      <td>3.178054</td>\n",
       "    </tr>\n",
       "    <tr>\n",
       "      <th>20</th>\n",
       "      <td>Paterson</td>\n",
       "      <td>56</td>\n",
       "      <td>5350399</td>\n",
       "      <td>40.916765</td>\n",
       "      <td>-74.171811</td>\n",
       "      <td>22.402092</td>\n",
       "      <td>3.109154</td>\n",
       "      <td>15.492682</td>\n",
       "      <td>4.025352</td>\n",
       "    </tr>\n",
       "    <tr>\n",
       "      <th>21</th>\n",
       "      <td>Philadelphia</td>\n",
       "      <td>1423</td>\n",
       "      <td>116839465</td>\n",
       "      <td>39.952724</td>\n",
       "      <td>-75.163526</td>\n",
       "      <td>799.279489</td>\n",
       "      <td>6.683711</td>\n",
       "      <td>18.576311</td>\n",
       "      <td>7.260523</td>\n",
       "    </tr>\n",
       "    <tr>\n",
       "      <th>22</th>\n",
       "      <td>Richmond</td>\n",
       "      <td>6</td>\n",
       "      <td>201000</td>\n",
       "      <td>37.538509</td>\n",
       "      <td>-77.434280</td>\n",
       "      <td>0.131716</td>\n",
       "      <td>-2.027108</td>\n",
       "      <td>12.211060</td>\n",
       "      <td>1.791759</td>\n",
       "    </tr>\n",
       "    <tr>\n",
       "      <th>23</th>\n",
       "      <td>Roanoke</td>\n",
       "      <td>2</td>\n",
       "      <td>132500</td>\n",
       "      <td>37.270973</td>\n",
       "      <td>-79.941431</td>\n",
       "      <td>0.648318</td>\n",
       "      <td>-0.433374</td>\n",
       "      <td>11.794338</td>\n",
       "      <td>0.693147</td>\n",
       "    </tr>\n",
       "    <tr>\n",
       "      <th>24</th>\n",
       "      <td>San Francisco</td>\n",
       "      <td>87</td>\n",
       "      <td>27873297</td>\n",
       "      <td>37.779026</td>\n",
       "      <td>-122.419906</td>\n",
       "      <td>287.620452</td>\n",
       "      <td>5.661642</td>\n",
       "      <td>17.143180</td>\n",
       "      <td>4.465908</td>\n",
       "    </tr>\n",
       "    <tr>\n",
       "      <th>25</th>\n",
       "      <td>Springfield</td>\n",
       "      <td>40</td>\n",
       "      <td>32846089</td>\n",
       "      <td>42.101876</td>\n",
       "      <td>-72.588673</td>\n",
       "      <td>40.793271</td>\n",
       "      <td>3.708517</td>\n",
       "      <td>17.307343</td>\n",
       "      <td>3.688879</td>\n",
       "    </tr>\n",
       "    <tr>\n",
       "      <th>26</th>\n",
       "      <td>St. Louis</td>\n",
       "      <td>14</td>\n",
       "      <td>3117846</td>\n",
       "      <td>38.626418</td>\n",
       "      <td>-90.199838</td>\n",
       "      <td>20.360519</td>\n",
       "      <td>3.013598</td>\n",
       "      <td>14.952653</td>\n",
       "      <td>2.639057</td>\n",
       "    </tr>\n",
       "    <tr>\n",
       "      <th>27</th>\n",
       "      <td>Washington</td>\n",
       "      <td>370</td>\n",
       "      <td>114829407</td>\n",
       "      <td>38.894992</td>\n",
       "      <td>-77.036558</td>\n",
       "      <td>359.641106</td>\n",
       "      <td>5.885107</td>\n",
       "      <td>18.558958</td>\n",
       "      <td>5.913503</td>\n",
       "    </tr>\n",
       "    <tr>\n",
       "      <th>28</th>\n",
       "      <td>Waterbury</td>\n",
       "      <td>15</td>\n",
       "      <td>2227250</td>\n",
       "      <td>41.553809</td>\n",
       "      <td>-73.043836</td>\n",
       "      <td>3.701183</td>\n",
       "      <td>1.308653</td>\n",
       "      <td>14.616278</td>\n",
       "      <td>2.708050</td>\n",
       "    </tr>\n",
       "  </tbody>\n",
       "</table>\n",
       "</div>"
      ],
      "text/plain": [
       "                city  Incident_count  amount_awarded   Latitude   Longitude  \\\n",
       "0            Atlanta              65         4761181  33.748992  -84.390264   \n",
       "1          Baltimore              82        18432746  39.290882   76.610759   \n",
       "2        Baton Rouge              30         2879789  30.445960  -91.187380   \n",
       "3             Boston              51        11905481  42.360253  -71.058291   \n",
       "4         Charleston              59         1520250  32.787601  -79.940273   \n",
       "5            Chicago            1515       467586425  41.875562  -87.624421   \n",
       "6         Cincinnati              54         2472785  39.101454  -84.512460   \n",
       "7          Cleveland             142        28573463  41.505161  -81.693445   \n",
       "8           Columbia              27         1030935  34.000749  -81.034331   \n",
       "9            Detroit             503        57702977  42.331551  -83.046640   \n",
       "10   Fort Lauderdale              54         2371381  26.122308  -80.143379   \n",
       "11      Indianapolis             236        13148274  39.768333  -86.158350   \n",
       "12       Los Angeles             997       329925622  34.053691 -118.242766   \n",
       "13           Memphis             254         8772851  35.149022  -90.051629   \n",
       "14             Miami              87         7284683  25.774173  -80.193620   \n",
       "15         Milwaukee              56        40017821  43.034993  -87.922497   \n",
       "16       New Orleans              27         2885642  29.949932  -90.070116   \n",
       "17     New York City           32632      1704120285  40.712728   40.712728   \n",
       "18  North Charleston             108         3333750  32.913129  -80.062998   \n",
       "19           Orlando              24          734377  28.542111  -81.379030   \n",
       "20          Paterson              56         5350399  40.916765  -74.171811   \n",
       "21      Philadelphia            1423       116839465  39.952724  -75.163526   \n",
       "22          Richmond               6          201000  37.538509  -77.434280   \n",
       "23           Roanoke               2          132500  37.270973  -79.941431   \n",
       "24     San Francisco              87        27873297  37.779026 -122.419906   \n",
       "25       Springfield              40        32846089  42.101876  -72.588673   \n",
       "26         St. Louis              14         3117846  38.626418  -90.199838   \n",
       "27        Washington             370       114829407  38.894992  -77.036558   \n",
       "28         Waterbury              15         2227250  41.553809  -73.043836   \n",
       "\n",
       "     per capita  per_capita_log  amount_awarded_log  Incident_count_log  \n",
       "0     11.148769        2.411329           15.376006            4.174387  \n",
       "1     80.343941        4.386317           16.729639            4.406719  \n",
       "2      4.661431        1.539323           14.873228            3.401197  \n",
       "3    113.225948        4.729385           16.292509            3.931826  \n",
       "4     12.630438        2.536110           14.234385            4.077537  \n",
       "5    173.459506        5.155944           19.963095            7.323171  \n",
       "6      8.325181        2.119285           14.720856            3.988984  \n",
       "7     72.034273        4.277142           17.167989            4.955827  \n",
       "8      7.904670        2.067454           13.845977            3.295837  \n",
       "9     80.828058        4.392324           17.870819            6.220590  \n",
       "10    14.306647        2.660724           14.678983            3.988984  \n",
       "11    16.025550        2.774184           16.391801            5.463832  \n",
       "12  1704.707200        7.441149           19.614378            6.904751  \n",
       "13     2.312830        0.838472           15.987172            5.537334  \n",
       "14    11.175005        2.413680           15.801284            4.465908  \n",
       "15   100.174531        4.606914           17.504835            4.025352  \n",
       "16     4.853914        1.579785           14.875258            3.295837  \n",
       "17  4956.316783        8.508418           21.256315           10.393049  \n",
       "18     0.407797       -0.896987           15.019608            4.682131  \n",
       "19     7.525994        2.018363           13.506778            3.178054  \n",
       "20    22.402092        3.109154           15.492682            4.025352  \n",
       "21   799.279489        6.683711           18.576311            7.260523  \n",
       "22     0.131716       -2.027108           12.211060            1.791759  \n",
       "23     0.648318       -0.433374           11.794338            0.693147  \n",
       "24   287.620452        5.661642           17.143180            4.465908  \n",
       "25    40.793271        3.708517           17.307343            3.688879  \n",
       "26    20.360519        3.013598           14.952653            2.639057  \n",
       "27   359.641106        5.885107           18.558958            5.913503  \n",
       "28     3.701183        1.308653           14.616278            2.708050  "
      ]
     },
     "execution_count": 38,
     "metadata": {},
     "output_type": "execute_result"
    }
   ],
   "source": [
    "new_frame2"
   ]
  },
  {
   "cell_type": "code",
   "execution_count": 50,
   "metadata": {},
   "outputs": [
    {
     "data": {
      "application/vnd.plotly.v1+json": {
       "config": {
        "plotlyServerURL": "https://plot.ly"
       },
       "data": [
        {
         "customdata": [
          [
           4761181
          ],
          [
           18432746
          ],
          [
           2879789
          ],
          [
           11905481
          ],
          [
           1520250
          ],
          [
           467586425
          ],
          [
           2472785
          ],
          [
           28573463
          ],
          [
           1030935
          ],
          [
           57702977
          ],
          [
           2371381
          ],
          [
           13148274
          ],
          [
           329925622
          ],
          [
           8772851
          ],
          [
           7284683
          ],
          [
           40017821
          ],
          [
           2885642
          ],
          [
           1704120285
          ],
          [
           3333750
          ],
          [
           734377
          ],
          [
           5350399
          ],
          [
           116839465
          ],
          [
           201000
          ],
          [
           132500
          ],
          [
           27873297
          ],
          [
           32846089
          ],
          [
           3117846
          ],
          [
           114829407
          ],
          [
           2227250
          ]
         ],
         "hovertemplate": "<b>%{hovertext}</b><br><br>Incident_count_log=%{marker.size}<br>Latitude=%{lat}<br>Longitude=%{lon}<br>amount_awarded=%{customdata[0]}<br>per_capita_log=%{marker.color}<extra></extra>",
         "hovertext": [
          "Atlanta",
          "Baltimore",
          "Baton Rouge",
          "Boston",
          "Charleston",
          "Chicago",
          "Cincinnati",
          "Cleveland",
          "Columbia",
          "Detroit",
          "Fort Lauderdale",
          "Indianapolis",
          "Los Angeles",
          "Memphis",
          "Miami",
          "Milwaukee",
          "New Orleans",
          "New York City",
          "North Charleston",
          "Orlando",
          "Paterson",
          "Philadelphia",
          "Richmond",
          "Roanoke",
          "San Francisco",
          "Springfield",
          "St. Louis",
          "Washington",
          "Waterbury"
         ],
         "lat": [
          33.7489924,
          39.2908816,
          30.4459596,
          42.3602534,
          32.7876012,
          41.87556160000001,
          39.1014537,
          41.5051613,
          34.000749299999995,
          42.3315509,
          26.1223084,
          39.7683331,
          34.0536909,
          35.1490215,
          25.7741728,
          43.0349931,
          29.949932300000004,
          40.712728,
          32.9131295,
          28.5421109,
          40.9167654,
          39.9527237,
          37.53850870000001,
          37.270973,
          37.7790262,
          42.1018764,
          38.626418,
          38.8949924,
          41.5538091
         ],
         "legendgroup": "",
         "lon": [
          -84.3902644,
          76.610759,
          -91.18738,
          -71.0582912,
          -79.9402728,
          -87.6244212,
          -84.5124602,
          -81.6934446,
          -81.03433129999998,
          -83.04664029999998,
          -80.14337859999998,
          -86.1583502,
          -118.242766,
          -90.0516285,
          -80.19362,
          -87.92249699999998,
          -90.0701156,
          40.712728,
          -80.0629981965219,
          -81.3790304,
          -74.171811,
          -75.16352619999998,
          -77.43428,
          -79.94143129999998,
          -122.419906,
          -72.5886727,
          -90.199838,
          -77.0365581,
          -73.0438362
         ],
         "marker": {
          "color": [
           2.411329058741375,
           4.386316683048138,
           1.5393225588148303,
           4.729385363770798,
           2.5361095891581638,
           5.155944176760459,
           2.1192848232614185,
           4.277142023161947,
           2.0674537569713793,
           4.392324158589161,
           2.6607242684271695,
           2.774184348206021,
           7.441148644541938,
           0.8384716921826703,
           2.413679583209394,
           4.606913979242114,
           1.5797853325616833,
           8.5084181598733,
           -0.8969867123109699,
           2.01836293779266,
           3.1091543389631977,
           6.683710683257425,
           -2.027108167450345,
           -0.433373896225241,
           5.661641735855864,
           3.7085171377797344,
           3.0135976839573013,
           5.885106605593945,
           1.3086525924018484
          ],
          "coloraxis": "coloraxis",
          "size": [
           4.174387269895637,
           4.406719247264253,
           3.4011973816621555,
           3.9318256327243257,
           4.07753744390572,
           7.323170717943469,
           3.9889840465642745,
           4.955827057601261,
           3.295836866004329,
           6.220590170099739,
           3.9889840465642745,
           5.4638318050256105,
           6.904750769961838,
           5.537334267018537,
           4.465908118654584,
           4.02535169073515,
           3.295836866004329,
           10.393048680997394,
           4.68213122712422,
           3.1780538303479458,
           4.02535169073515,
           7.260522598089852,
           1.791759469228055,
           0.6931471805599453,
           4.465908118654584,
           3.6888794541139363,
           2.6390573296152584,
           5.91350300563827,
           2.70805020110221
          ],
          "sizemode": "area",
          "sizeref": 0.025982621702493484
         },
         "mode": "markers",
         "name": "",
         "showlegend": false,
         "subplot": "mapbox",
         "type": "scattermapbox"
        }
       ],
       "layout": {
        "coloraxis": {
         "colorbar": {
          "title": {
           "text": "per_capita_log"
          }
         },
         "colorscale": [
          [
           0,
           "#0d0887"
          ],
          [
           0.1111111111111111,
           "#46039f"
          ],
          [
           0.2222222222222222,
           "#7201a8"
          ],
          [
           0.3333333333333333,
           "#9c179e"
          ],
          [
           0.4444444444444444,
           "#bd3786"
          ],
          [
           0.5555555555555556,
           "#d8576b"
          ],
          [
           0.6666666666666666,
           "#ed7953"
          ],
          [
           0.7777777777777778,
           "#fb9f3a"
          ],
          [
           0.8888888888888888,
           "#fdca26"
          ],
          [
           1,
           "#f0f921"
          ]
         ]
        },
        "font": {
         "color": "RebeccaPurple",
         "family": "monospace"
        },
        "height": 300,
        "legend": {
         "itemsizing": "constant",
         "tracegroupgap": 0
        },
        "mapbox": {
         "center": {
          "lat": 36.83116132413793,
          "lon": -74.59959527574213
         },
         "domain": {
          "x": [
           0,
           1
          ],
          "y": [
           0,
           1
          ]
         },
         "style": "open-street-map",
         "zoom": 3
        },
        "margin": {
         "b": 0,
         "l": 0,
         "r": 0,
         "t": 0
        },
        "template": {
         "data": {
          "bar": [
           {
            "error_x": {
             "color": "#2a3f5f"
            },
            "error_y": {
             "color": "#2a3f5f"
            },
            "marker": {
             "line": {
              "color": "#E5ECF6",
              "width": 0.5
             }
            },
            "type": "bar"
           }
          ],
          "barpolar": [
           {
            "marker": {
             "line": {
              "color": "#E5ECF6",
              "width": 0.5
             }
            },
            "type": "barpolar"
           }
          ],
          "carpet": [
           {
            "aaxis": {
             "endlinecolor": "#2a3f5f",
             "gridcolor": "white",
             "linecolor": "white",
             "minorgridcolor": "white",
             "startlinecolor": "#2a3f5f"
            },
            "baxis": {
             "endlinecolor": "#2a3f5f",
             "gridcolor": "white",
             "linecolor": "white",
             "minorgridcolor": "white",
             "startlinecolor": "#2a3f5f"
            },
            "type": "carpet"
           }
          ],
          "choropleth": [
           {
            "colorbar": {
             "outlinewidth": 0,
             "ticks": ""
            },
            "type": "choropleth"
           }
          ],
          "contour": [
           {
            "colorbar": {
             "outlinewidth": 0,
             "ticks": ""
            },
            "colorscale": [
             [
              0,
              "#0d0887"
             ],
             [
              0.1111111111111111,
              "#46039f"
             ],
             [
              0.2222222222222222,
              "#7201a8"
             ],
             [
              0.3333333333333333,
              "#9c179e"
             ],
             [
              0.4444444444444444,
              "#bd3786"
             ],
             [
              0.5555555555555556,
              "#d8576b"
             ],
             [
              0.6666666666666666,
              "#ed7953"
             ],
             [
              0.7777777777777778,
              "#fb9f3a"
             ],
             [
              0.8888888888888888,
              "#fdca26"
             ],
             [
              1,
              "#f0f921"
             ]
            ],
            "type": "contour"
           }
          ],
          "contourcarpet": [
           {
            "colorbar": {
             "outlinewidth": 0,
             "ticks": ""
            },
            "type": "contourcarpet"
           }
          ],
          "heatmap": [
           {
            "colorbar": {
             "outlinewidth": 0,
             "ticks": ""
            },
            "colorscale": [
             [
              0,
              "#0d0887"
             ],
             [
              0.1111111111111111,
              "#46039f"
             ],
             [
              0.2222222222222222,
              "#7201a8"
             ],
             [
              0.3333333333333333,
              "#9c179e"
             ],
             [
              0.4444444444444444,
              "#bd3786"
             ],
             [
              0.5555555555555556,
              "#d8576b"
             ],
             [
              0.6666666666666666,
              "#ed7953"
             ],
             [
              0.7777777777777778,
              "#fb9f3a"
             ],
             [
              0.8888888888888888,
              "#fdca26"
             ],
             [
              1,
              "#f0f921"
             ]
            ],
            "type": "heatmap"
           }
          ],
          "heatmapgl": [
           {
            "colorbar": {
             "outlinewidth": 0,
             "ticks": ""
            },
            "colorscale": [
             [
              0,
              "#0d0887"
             ],
             [
              0.1111111111111111,
              "#46039f"
             ],
             [
              0.2222222222222222,
              "#7201a8"
             ],
             [
              0.3333333333333333,
              "#9c179e"
             ],
             [
              0.4444444444444444,
              "#bd3786"
             ],
             [
              0.5555555555555556,
              "#d8576b"
             ],
             [
              0.6666666666666666,
              "#ed7953"
             ],
             [
              0.7777777777777778,
              "#fb9f3a"
             ],
             [
              0.8888888888888888,
              "#fdca26"
             ],
             [
              1,
              "#f0f921"
             ]
            ],
            "type": "heatmapgl"
           }
          ],
          "histogram": [
           {
            "marker": {
             "colorbar": {
              "outlinewidth": 0,
              "ticks": ""
             }
            },
            "type": "histogram"
           }
          ],
          "histogram2d": [
           {
            "colorbar": {
             "outlinewidth": 0,
             "ticks": ""
            },
            "colorscale": [
             [
              0,
              "#0d0887"
             ],
             [
              0.1111111111111111,
              "#46039f"
             ],
             [
              0.2222222222222222,
              "#7201a8"
             ],
             [
              0.3333333333333333,
              "#9c179e"
             ],
             [
              0.4444444444444444,
              "#bd3786"
             ],
             [
              0.5555555555555556,
              "#d8576b"
             ],
             [
              0.6666666666666666,
              "#ed7953"
             ],
             [
              0.7777777777777778,
              "#fb9f3a"
             ],
             [
              0.8888888888888888,
              "#fdca26"
             ],
             [
              1,
              "#f0f921"
             ]
            ],
            "type": "histogram2d"
           }
          ],
          "histogram2dcontour": [
           {
            "colorbar": {
             "outlinewidth": 0,
             "ticks": ""
            },
            "colorscale": [
             [
              0,
              "#0d0887"
             ],
             [
              0.1111111111111111,
              "#46039f"
             ],
             [
              0.2222222222222222,
              "#7201a8"
             ],
             [
              0.3333333333333333,
              "#9c179e"
             ],
             [
              0.4444444444444444,
              "#bd3786"
             ],
             [
              0.5555555555555556,
              "#d8576b"
             ],
             [
              0.6666666666666666,
              "#ed7953"
             ],
             [
              0.7777777777777778,
              "#fb9f3a"
             ],
             [
              0.8888888888888888,
              "#fdca26"
             ],
             [
              1,
              "#f0f921"
             ]
            ],
            "type": "histogram2dcontour"
           }
          ],
          "mesh3d": [
           {
            "colorbar": {
             "outlinewidth": 0,
             "ticks": ""
            },
            "type": "mesh3d"
           }
          ],
          "parcoords": [
           {
            "line": {
             "colorbar": {
              "outlinewidth": 0,
              "ticks": ""
             }
            },
            "type": "parcoords"
           }
          ],
          "pie": [
           {
            "automargin": true,
            "type": "pie"
           }
          ],
          "scatter": [
           {
            "marker": {
             "colorbar": {
              "outlinewidth": 0,
              "ticks": ""
             }
            },
            "type": "scatter"
           }
          ],
          "scatter3d": [
           {
            "line": {
             "colorbar": {
              "outlinewidth": 0,
              "ticks": ""
             }
            },
            "marker": {
             "colorbar": {
              "outlinewidth": 0,
              "ticks": ""
             }
            },
            "type": "scatter3d"
           }
          ],
          "scattercarpet": [
           {
            "marker": {
             "colorbar": {
              "outlinewidth": 0,
              "ticks": ""
             }
            },
            "type": "scattercarpet"
           }
          ],
          "scattergeo": [
           {
            "marker": {
             "colorbar": {
              "outlinewidth": 0,
              "ticks": ""
             }
            },
            "type": "scattergeo"
           }
          ],
          "scattergl": [
           {
            "marker": {
             "colorbar": {
              "outlinewidth": 0,
              "ticks": ""
             }
            },
            "type": "scattergl"
           }
          ],
          "scattermapbox": [
           {
            "marker": {
             "colorbar": {
              "outlinewidth": 0,
              "ticks": ""
             }
            },
            "type": "scattermapbox"
           }
          ],
          "scatterpolar": [
           {
            "marker": {
             "colorbar": {
              "outlinewidth": 0,
              "ticks": ""
             }
            },
            "type": "scatterpolar"
           }
          ],
          "scatterpolargl": [
           {
            "marker": {
             "colorbar": {
              "outlinewidth": 0,
              "ticks": ""
             }
            },
            "type": "scatterpolargl"
           }
          ],
          "scatterternary": [
           {
            "marker": {
             "colorbar": {
              "outlinewidth": 0,
              "ticks": ""
             }
            },
            "type": "scatterternary"
           }
          ],
          "surface": [
           {
            "colorbar": {
             "outlinewidth": 0,
             "ticks": ""
            },
            "colorscale": [
             [
              0,
              "#0d0887"
             ],
             [
              0.1111111111111111,
              "#46039f"
             ],
             [
              0.2222222222222222,
              "#7201a8"
             ],
             [
              0.3333333333333333,
              "#9c179e"
             ],
             [
              0.4444444444444444,
              "#bd3786"
             ],
             [
              0.5555555555555556,
              "#d8576b"
             ],
             [
              0.6666666666666666,
              "#ed7953"
             ],
             [
              0.7777777777777778,
              "#fb9f3a"
             ],
             [
              0.8888888888888888,
              "#fdca26"
             ],
             [
              1,
              "#f0f921"
             ]
            ],
            "type": "surface"
           }
          ],
          "table": [
           {
            "cells": {
             "fill": {
              "color": "#EBF0F8"
             },
             "line": {
              "color": "white"
             }
            },
            "header": {
             "fill": {
              "color": "#C8D4E3"
             },
             "line": {
              "color": "white"
             }
            },
            "type": "table"
           }
          ]
         },
         "layout": {
          "annotationdefaults": {
           "arrowcolor": "#2a3f5f",
           "arrowhead": 0,
           "arrowwidth": 1
          },
          "autotypenumbers": "strict",
          "coloraxis": {
           "colorbar": {
            "outlinewidth": 0,
            "ticks": ""
           }
          },
          "colorscale": {
           "diverging": [
            [
             0,
             "#8e0152"
            ],
            [
             0.1,
             "#c51b7d"
            ],
            [
             0.2,
             "#de77ae"
            ],
            [
             0.3,
             "#f1b6da"
            ],
            [
             0.4,
             "#fde0ef"
            ],
            [
             0.5,
             "#f7f7f7"
            ],
            [
             0.6,
             "#e6f5d0"
            ],
            [
             0.7,
             "#b8e186"
            ],
            [
             0.8,
             "#7fbc41"
            ],
            [
             0.9,
             "#4d9221"
            ],
            [
             1,
             "#276419"
            ]
           ],
           "sequential": [
            [
             0,
             "#0d0887"
            ],
            [
             0.1111111111111111,
             "#46039f"
            ],
            [
             0.2222222222222222,
             "#7201a8"
            ],
            [
             0.3333333333333333,
             "#9c179e"
            ],
            [
             0.4444444444444444,
             "#bd3786"
            ],
            [
             0.5555555555555556,
             "#d8576b"
            ],
            [
             0.6666666666666666,
             "#ed7953"
            ],
            [
             0.7777777777777778,
             "#fb9f3a"
            ],
            [
             0.8888888888888888,
             "#fdca26"
            ],
            [
             1,
             "#f0f921"
            ]
           ],
           "sequentialminus": [
            [
             0,
             "#0d0887"
            ],
            [
             0.1111111111111111,
             "#46039f"
            ],
            [
             0.2222222222222222,
             "#7201a8"
            ],
            [
             0.3333333333333333,
             "#9c179e"
            ],
            [
             0.4444444444444444,
             "#bd3786"
            ],
            [
             0.5555555555555556,
             "#d8576b"
            ],
            [
             0.6666666666666666,
             "#ed7953"
            ],
            [
             0.7777777777777778,
             "#fb9f3a"
            ],
            [
             0.8888888888888888,
             "#fdca26"
            ],
            [
             1,
             "#f0f921"
            ]
           ]
          },
          "colorway": [
           "#636efa",
           "#EF553B",
           "#00cc96",
           "#ab63fa",
           "#FFA15A",
           "#19d3f3",
           "#FF6692",
           "#B6E880",
           "#FF97FF",
           "#FECB52"
          ],
          "font": {
           "color": "#2a3f5f"
          },
          "geo": {
           "bgcolor": "white",
           "lakecolor": "white",
           "landcolor": "#E5ECF6",
           "showlakes": true,
           "showland": true,
           "subunitcolor": "white"
          },
          "hoverlabel": {
           "align": "left"
          },
          "hovermode": "closest",
          "mapbox": {
           "style": "light"
          },
          "paper_bgcolor": "white",
          "plot_bgcolor": "#E5ECF6",
          "polar": {
           "angularaxis": {
            "gridcolor": "white",
            "linecolor": "white",
            "ticks": ""
           },
           "bgcolor": "#E5ECF6",
           "radialaxis": {
            "gridcolor": "white",
            "linecolor": "white",
            "ticks": ""
           }
          },
          "scene": {
           "xaxis": {
            "backgroundcolor": "#E5ECF6",
            "gridcolor": "white",
            "gridwidth": 2,
            "linecolor": "white",
            "showbackground": true,
            "ticks": "",
            "zerolinecolor": "white"
           },
           "yaxis": {
            "backgroundcolor": "#E5ECF6",
            "gridcolor": "white",
            "gridwidth": 2,
            "linecolor": "white",
            "showbackground": true,
            "ticks": "",
            "zerolinecolor": "white"
           },
           "zaxis": {
            "backgroundcolor": "#E5ECF6",
            "gridcolor": "white",
            "gridwidth": 2,
            "linecolor": "white",
            "showbackground": true,
            "ticks": "",
            "zerolinecolor": "white"
           }
          },
          "shapedefaults": {
           "line": {
            "color": "#2a3f5f"
           }
          },
          "ternary": {
           "aaxis": {
            "gridcolor": "white",
            "linecolor": "white",
            "ticks": ""
           },
           "baxis": {
            "gridcolor": "white",
            "linecolor": "white",
            "ticks": ""
           },
           "bgcolor": "#E5ECF6",
           "caxis": {
            "gridcolor": "white",
            "linecolor": "white",
            "ticks": ""
           }
          },
          "title": {
           "x": 0.05
          },
          "xaxis": {
           "automargin": true,
           "gridcolor": "white",
           "linecolor": "white",
           "ticks": "",
           "title": {
            "standoff": 15
           },
           "zerolinecolor": "white",
           "zerolinewidth": 2
          },
          "yaxis": {
           "automargin": true,
           "gridcolor": "white",
           "linecolor": "white",
           "ticks": "",
           "title": {
            "standoff": 15
           },
           "zerolinecolor": "white",
           "zerolinewidth": 2
          }
         }
        },
        "xaxis": {
         "title": {
          "font": {
           "family": "Arial"
          }
         }
        }
       }
      },
      "text/html": [
       "<div>                            <div id=\"59d737d5-6b9e-46a8-bc3e-d8ae45b96548\" class=\"plotly-graph-div\" style=\"height:300px; width:100%;\"></div>            <script type=\"text/javascript\">                require([\"plotly\"], function(Plotly) {                    window.PLOTLYENV=window.PLOTLYENV || {};                                    if (document.getElementById(\"59d737d5-6b9e-46a8-bc3e-d8ae45b96548\")) {                    Plotly.newPlot(                        \"59d737d5-6b9e-46a8-bc3e-d8ae45b96548\",                        [{\"customdata\": [[4761181], [18432746], [2879789], [11905481], [1520250], [467586425], [2472785], [28573463], [1030935], [57702977], [2371381], [13148274], [329925622], [8772851], [7284683], [40017821], [2885642], [1704120285], [3333750], [734377], [5350399], [116839465], [201000], [132500], [27873297], [32846089], [3117846], [114829407], [2227250]], \"hovertemplate\": \"<b>%{hovertext}</b><br><br>Incident_count_log=%{marker.size}<br>Latitude=%{lat}<br>Longitude=%{lon}<br>amount_awarded=%{customdata[0]}<br>per_capita_log=%{marker.color}<extra></extra>\", \"hovertext\": [\"Atlanta\", \"Baltimore\", \"Baton Rouge\", \"Boston\", \"Charleston\", \"Chicago\", \"Cincinnati\", \"Cleveland\", \"Columbia\", \"Detroit\", \"Fort Lauderdale\", \"Indianapolis\", \"Los Angeles\", \"Memphis\", \"Miami\", \"Milwaukee\", \"New Orleans\", \"New York City\", \"North Charleston\", \"Orlando\", \"Paterson\", \"Philadelphia\", \"Richmond\", \"Roanoke\", \"San Francisco\", \"Springfield\", \"St. Louis\", \"Washington\", \"Waterbury\"], \"lat\": [33.7489924, 39.2908816, 30.4459596, 42.3602534, 32.7876012, 41.87556160000001, 39.1014537, 41.5051613, 34.000749299999995, 42.3315509, 26.1223084, 39.7683331, 34.0536909, 35.1490215, 25.7741728, 43.0349931, 29.949932300000004, 40.712728, 32.9131295, 28.5421109, 40.9167654, 39.9527237, 37.53850870000001, 37.270973, 37.7790262, 42.1018764, 38.626418, 38.8949924, 41.5538091], \"legendgroup\": \"\", \"lon\": [-84.3902644, 76.610759, -91.18738, -71.0582912, -79.9402728, -87.6244212, -84.5124602, -81.6934446, -81.03433129999998, -83.04664029999998, -80.14337859999998, -86.1583502, -118.242766, -90.0516285, -80.19362, -87.92249699999998, -90.0701156, 40.712728, -80.0629981965219, -81.3790304, -74.171811, -75.16352619999998, -77.43428, -79.94143129999998, -122.419906, -72.5886727, -90.199838, -77.0365581, -73.0438362], \"marker\": {\"color\": [2.411329058741375, 4.386316683048138, 1.5393225588148303, 4.729385363770798, 2.5361095891581638, 5.155944176760459, 2.1192848232614185, 4.277142023161947, 2.0674537569713793, 4.392324158589161, 2.6607242684271695, 2.774184348206021, 7.441148644541938, 0.8384716921826703, 2.413679583209394, 4.606913979242114, 1.5797853325616833, 8.5084181598733, -0.8969867123109699, 2.01836293779266, 3.1091543389631977, 6.683710683257425, -2.027108167450345, -0.433373896225241, 5.661641735855864, 3.7085171377797344, 3.0135976839573013, 5.885106605593945, 1.3086525924018484], \"coloraxis\": \"coloraxis\", \"size\": [4.174387269895637, 4.406719247264253, 3.4011973816621555, 3.9318256327243257, 4.07753744390572, 7.323170717943469, 3.9889840465642745, 4.955827057601261, 3.295836866004329, 6.220590170099739, 3.9889840465642745, 5.4638318050256105, 6.904750769961838, 5.537334267018537, 4.465908118654584, 4.02535169073515, 3.295836866004329, 10.393048680997394, 4.68213122712422, 3.1780538303479458, 4.02535169073515, 7.260522598089852, 1.791759469228055, 0.6931471805599453, 4.465908118654584, 3.6888794541139363, 2.6390573296152584, 5.91350300563827, 2.70805020110221], \"sizemode\": \"area\", \"sizeref\": 0.025982621702493484}, \"mode\": \"markers\", \"name\": \"\", \"showlegend\": false, \"subplot\": \"mapbox\", \"type\": \"scattermapbox\"}],                        {\"coloraxis\": {\"colorbar\": {\"title\": {\"text\": \"per_capita_log\"}}, \"colorscale\": [[0.0, \"#0d0887\"], [0.1111111111111111, \"#46039f\"], [0.2222222222222222, \"#7201a8\"], [0.3333333333333333, \"#9c179e\"], [0.4444444444444444, \"#bd3786\"], [0.5555555555555556, \"#d8576b\"], [0.6666666666666666, \"#ed7953\"], [0.7777777777777778, \"#fb9f3a\"], [0.8888888888888888, \"#fdca26\"], [1.0, \"#f0f921\"]]}, \"font\": {\"color\": \"RebeccaPurple\", \"family\": \"monospace\"}, \"height\": 300, \"legend\": {\"itemsizing\": \"constant\", \"tracegroupgap\": 0}, \"mapbox\": {\"center\": {\"lat\": 36.83116132413793, \"lon\": -74.59959527574213}, \"domain\": {\"x\": [0.0, 1.0], \"y\": [0.0, 1.0]}, \"style\": \"open-street-map\", \"zoom\": 3}, \"margin\": {\"b\": 0, \"l\": 0, \"r\": 0, \"t\": 0}, \"template\": {\"data\": {\"bar\": [{\"error_x\": {\"color\": \"#2a3f5f\"}, \"error_y\": {\"color\": \"#2a3f5f\"}, \"marker\": {\"line\": {\"color\": \"#E5ECF6\", \"width\": 0.5}}, \"type\": \"bar\"}], \"barpolar\": [{\"marker\": {\"line\": {\"color\": \"#E5ECF6\", \"width\": 0.5}}, \"type\": \"barpolar\"}], \"carpet\": [{\"aaxis\": {\"endlinecolor\": \"#2a3f5f\", \"gridcolor\": \"white\", \"linecolor\": \"white\", \"minorgridcolor\": \"white\", \"startlinecolor\": \"#2a3f5f\"}, \"baxis\": {\"endlinecolor\": \"#2a3f5f\", \"gridcolor\": \"white\", \"linecolor\": \"white\", \"minorgridcolor\": \"white\", \"startlinecolor\": \"#2a3f5f\"}, \"type\": \"carpet\"}], \"choropleth\": [{\"colorbar\": {\"outlinewidth\": 0, \"ticks\": \"\"}, \"type\": \"choropleth\"}], \"contour\": [{\"colorbar\": {\"outlinewidth\": 0, \"ticks\": \"\"}, \"colorscale\": [[0.0, \"#0d0887\"], [0.1111111111111111, \"#46039f\"], [0.2222222222222222, \"#7201a8\"], [0.3333333333333333, \"#9c179e\"], [0.4444444444444444, \"#bd3786\"], [0.5555555555555556, \"#d8576b\"], [0.6666666666666666, \"#ed7953\"], [0.7777777777777778, \"#fb9f3a\"], [0.8888888888888888, \"#fdca26\"], [1.0, \"#f0f921\"]], \"type\": \"contour\"}], \"contourcarpet\": [{\"colorbar\": {\"outlinewidth\": 0, \"ticks\": \"\"}, \"type\": \"contourcarpet\"}], \"heatmap\": [{\"colorbar\": {\"outlinewidth\": 0, \"ticks\": \"\"}, \"colorscale\": [[0.0, \"#0d0887\"], [0.1111111111111111, \"#46039f\"], [0.2222222222222222, \"#7201a8\"], [0.3333333333333333, \"#9c179e\"], [0.4444444444444444, \"#bd3786\"], [0.5555555555555556, \"#d8576b\"], [0.6666666666666666, \"#ed7953\"], [0.7777777777777778, \"#fb9f3a\"], [0.8888888888888888, \"#fdca26\"], [1.0, \"#f0f921\"]], \"type\": \"heatmap\"}], \"heatmapgl\": [{\"colorbar\": {\"outlinewidth\": 0, \"ticks\": \"\"}, \"colorscale\": [[0.0, \"#0d0887\"], [0.1111111111111111, \"#46039f\"], [0.2222222222222222, \"#7201a8\"], [0.3333333333333333, \"#9c179e\"], [0.4444444444444444, \"#bd3786\"], [0.5555555555555556, \"#d8576b\"], [0.6666666666666666, \"#ed7953\"], [0.7777777777777778, \"#fb9f3a\"], [0.8888888888888888, \"#fdca26\"], [1.0, \"#f0f921\"]], \"type\": \"heatmapgl\"}], \"histogram\": [{\"marker\": {\"colorbar\": {\"outlinewidth\": 0, \"ticks\": \"\"}}, \"type\": \"histogram\"}], \"histogram2d\": [{\"colorbar\": {\"outlinewidth\": 0, \"ticks\": \"\"}, \"colorscale\": [[0.0, \"#0d0887\"], [0.1111111111111111, \"#46039f\"], [0.2222222222222222, \"#7201a8\"], [0.3333333333333333, \"#9c179e\"], [0.4444444444444444, \"#bd3786\"], [0.5555555555555556, \"#d8576b\"], [0.6666666666666666, \"#ed7953\"], [0.7777777777777778, \"#fb9f3a\"], [0.8888888888888888, \"#fdca26\"], [1.0, \"#f0f921\"]], \"type\": \"histogram2d\"}], \"histogram2dcontour\": [{\"colorbar\": {\"outlinewidth\": 0, \"ticks\": \"\"}, \"colorscale\": [[0.0, \"#0d0887\"], [0.1111111111111111, \"#46039f\"], [0.2222222222222222, \"#7201a8\"], [0.3333333333333333, \"#9c179e\"], [0.4444444444444444, \"#bd3786\"], [0.5555555555555556, \"#d8576b\"], [0.6666666666666666, \"#ed7953\"], [0.7777777777777778, \"#fb9f3a\"], [0.8888888888888888, \"#fdca26\"], [1.0, \"#f0f921\"]], \"type\": \"histogram2dcontour\"}], \"mesh3d\": [{\"colorbar\": {\"outlinewidth\": 0, \"ticks\": \"\"}, \"type\": \"mesh3d\"}], \"parcoords\": [{\"line\": {\"colorbar\": {\"outlinewidth\": 0, \"ticks\": \"\"}}, \"type\": \"parcoords\"}], \"pie\": [{\"automargin\": true, \"type\": \"pie\"}], \"scatter\": [{\"marker\": {\"colorbar\": {\"outlinewidth\": 0, \"ticks\": \"\"}}, \"type\": \"scatter\"}], \"scatter3d\": [{\"line\": {\"colorbar\": {\"outlinewidth\": 0, \"ticks\": \"\"}}, \"marker\": {\"colorbar\": {\"outlinewidth\": 0, \"ticks\": \"\"}}, \"type\": \"scatter3d\"}], \"scattercarpet\": [{\"marker\": {\"colorbar\": {\"outlinewidth\": 0, \"ticks\": \"\"}}, \"type\": \"scattercarpet\"}], \"scattergeo\": [{\"marker\": {\"colorbar\": {\"outlinewidth\": 0, \"ticks\": \"\"}}, \"type\": \"scattergeo\"}], \"scattergl\": [{\"marker\": {\"colorbar\": {\"outlinewidth\": 0, \"ticks\": \"\"}}, \"type\": \"scattergl\"}], \"scattermapbox\": [{\"marker\": {\"colorbar\": {\"outlinewidth\": 0, \"ticks\": \"\"}}, \"type\": \"scattermapbox\"}], \"scatterpolar\": [{\"marker\": {\"colorbar\": {\"outlinewidth\": 0, \"ticks\": \"\"}}, \"type\": \"scatterpolar\"}], \"scatterpolargl\": [{\"marker\": {\"colorbar\": {\"outlinewidth\": 0, \"ticks\": \"\"}}, \"type\": \"scatterpolargl\"}], \"scatterternary\": [{\"marker\": {\"colorbar\": {\"outlinewidth\": 0, \"ticks\": \"\"}}, \"type\": \"scatterternary\"}], \"surface\": [{\"colorbar\": {\"outlinewidth\": 0, \"ticks\": \"\"}, \"colorscale\": [[0.0, \"#0d0887\"], [0.1111111111111111, \"#46039f\"], [0.2222222222222222, \"#7201a8\"], [0.3333333333333333, \"#9c179e\"], [0.4444444444444444, \"#bd3786\"], [0.5555555555555556, \"#d8576b\"], [0.6666666666666666, \"#ed7953\"], [0.7777777777777778, \"#fb9f3a\"], [0.8888888888888888, \"#fdca26\"], [1.0, \"#f0f921\"]], \"type\": \"surface\"}], \"table\": [{\"cells\": {\"fill\": {\"color\": \"#EBF0F8\"}, \"line\": {\"color\": \"white\"}}, \"header\": {\"fill\": {\"color\": \"#C8D4E3\"}, \"line\": {\"color\": \"white\"}}, \"type\": \"table\"}]}, \"layout\": {\"annotationdefaults\": {\"arrowcolor\": \"#2a3f5f\", \"arrowhead\": 0, \"arrowwidth\": 1}, \"autotypenumbers\": \"strict\", \"coloraxis\": {\"colorbar\": {\"outlinewidth\": 0, \"ticks\": \"\"}}, \"colorscale\": {\"diverging\": [[0, \"#8e0152\"], [0.1, \"#c51b7d\"], [0.2, \"#de77ae\"], [0.3, \"#f1b6da\"], [0.4, \"#fde0ef\"], [0.5, \"#f7f7f7\"], [0.6, \"#e6f5d0\"], [0.7, \"#b8e186\"], [0.8, \"#7fbc41\"], [0.9, \"#4d9221\"], [1, \"#276419\"]], \"sequential\": [[0.0, \"#0d0887\"], [0.1111111111111111, \"#46039f\"], [0.2222222222222222, \"#7201a8\"], [0.3333333333333333, \"#9c179e\"], [0.4444444444444444, \"#bd3786\"], [0.5555555555555556, \"#d8576b\"], [0.6666666666666666, \"#ed7953\"], [0.7777777777777778, \"#fb9f3a\"], [0.8888888888888888, \"#fdca26\"], [1.0, \"#f0f921\"]], \"sequentialminus\": [[0.0, \"#0d0887\"], [0.1111111111111111, \"#46039f\"], [0.2222222222222222, \"#7201a8\"], [0.3333333333333333, \"#9c179e\"], [0.4444444444444444, \"#bd3786\"], [0.5555555555555556, \"#d8576b\"], [0.6666666666666666, \"#ed7953\"], [0.7777777777777778, \"#fb9f3a\"], [0.8888888888888888, \"#fdca26\"], [1.0, \"#f0f921\"]]}, \"colorway\": [\"#636efa\", \"#EF553B\", \"#00cc96\", \"#ab63fa\", \"#FFA15A\", \"#19d3f3\", \"#FF6692\", \"#B6E880\", \"#FF97FF\", \"#FECB52\"], \"font\": {\"color\": \"#2a3f5f\"}, \"geo\": {\"bgcolor\": \"white\", \"lakecolor\": \"white\", \"landcolor\": \"#E5ECF6\", \"showlakes\": true, \"showland\": true, \"subunitcolor\": \"white\"}, \"hoverlabel\": {\"align\": \"left\"}, \"hovermode\": \"closest\", \"mapbox\": {\"style\": \"light\"}, \"paper_bgcolor\": \"white\", \"plot_bgcolor\": \"#E5ECF6\", \"polar\": {\"angularaxis\": {\"gridcolor\": \"white\", \"linecolor\": \"white\", \"ticks\": \"\"}, \"bgcolor\": \"#E5ECF6\", \"radialaxis\": {\"gridcolor\": \"white\", \"linecolor\": \"white\", \"ticks\": \"\"}}, \"scene\": {\"xaxis\": {\"backgroundcolor\": \"#E5ECF6\", \"gridcolor\": \"white\", \"gridwidth\": 2, \"linecolor\": \"white\", \"showbackground\": true, \"ticks\": \"\", \"zerolinecolor\": \"white\"}, \"yaxis\": {\"backgroundcolor\": \"#E5ECF6\", \"gridcolor\": \"white\", \"gridwidth\": 2, \"linecolor\": \"white\", \"showbackground\": true, \"ticks\": \"\", \"zerolinecolor\": \"white\"}, \"zaxis\": {\"backgroundcolor\": \"#E5ECF6\", \"gridcolor\": \"white\", \"gridwidth\": 2, \"linecolor\": \"white\", \"showbackground\": true, \"ticks\": \"\", \"zerolinecolor\": \"white\"}}, \"shapedefaults\": {\"line\": {\"color\": \"#2a3f5f\"}}, \"ternary\": {\"aaxis\": {\"gridcolor\": \"white\", \"linecolor\": \"white\", \"ticks\": \"\"}, \"baxis\": {\"gridcolor\": \"white\", \"linecolor\": \"white\", \"ticks\": \"\"}, \"bgcolor\": \"#E5ECF6\", \"caxis\": {\"gridcolor\": \"white\", \"linecolor\": \"white\", \"ticks\": \"\"}}, \"title\": {\"x\": 0.05}, \"xaxis\": {\"automargin\": true, \"gridcolor\": \"white\", \"linecolor\": \"white\", \"ticks\": \"\", \"title\": {\"standoff\": 15}, \"zerolinecolor\": \"white\", \"zerolinewidth\": 2}, \"yaxis\": {\"automargin\": true, \"gridcolor\": \"white\", \"linecolor\": \"white\", \"ticks\": \"\", \"title\": {\"standoff\": 15}, \"zerolinecolor\": \"white\", \"zerolinewidth\": 2}}}, \"xaxis\": {\"title\": {\"font\": {\"family\": \"Arial\"}}}},                        {\"responsive\": true}                    ).then(function(){\n",
       "                            \n",
       "var gd = document.getElementById('59d737d5-6b9e-46a8-bc3e-d8ae45b96548');\n",
       "var x = new MutationObserver(function (mutations, observer) {{\n",
       "        var display = window.getComputedStyle(gd).display;\n",
       "        if (!display || display === 'none') {{\n",
       "            console.log([gd, 'removed!']);\n",
       "            Plotly.purge(gd);\n",
       "            observer.disconnect();\n",
       "        }}\n",
       "}});\n",
       "\n",
       "// Listen for the removal of the full notebook cells\n",
       "var notebookContainer = gd.closest('#notebook-container');\n",
       "if (notebookContainer) {{\n",
       "    x.observe(notebookContainer, {childList: true});\n",
       "}}\n",
       "\n",
       "// Listen for the clearing of the current output cell\n",
       "var outputEl = gd.closest('.output');\n",
       "if (outputEl) {{\n",
       "    x.observe(outputEl, {childList: true});\n",
       "}}\n",
       "\n",
       "                        })                };                });            </script>        </div>"
      ]
     },
     "metadata": {},
     "output_type": "display_data"
    }
   ],
   "source": [
    "\n",
    "fig = px.scatter_mapbox(new_frame2,  lat= 'Latitude', lon= 'Longitude', \n",
    "                       hover_name= 'city', hover_data=['amount_awarded'],\n",
    "                      color = 'per_capita_log', zoom =3, height =300, size= 'Incident_count_log', size_max =20)      \n",
    "fig.update_layout(mapbox_style='open-street-map')\n",
    "fig.update_layout(margin={'r':0,'t':0,'l':0,'b':0})\n",
    "fig.update_layout(font_family='monospace', font_color='RebeccaPurple')\n",
    "fig.update_xaxes(title_font_family=\"Arial\")\n",
    "\n",
    "\n",
    "fig.show()"
   ]
  },
  {
   "cell_type": "code",
   "execution_count": 40,
   "metadata": {},
   "outputs": [],
   "source": [
    "new_frame2.to_csv('express_plot.csv')"
   ]
  },
  {
   "cell_type": "code",
   "execution_count": 41,
   "metadata": {},
   "outputs": [],
   "source": [
    "pk.eyJ1Ijoic2hldGhpbmtzbnljIiwiYSI6ImNrb2M3a3kxcDA0b3Uybm4xZ3BmODI4OGgifQ.NHai6SAt-oKwtcfOck08kQ"
   ]
  },
  {
   "cell_type": "code",
   "execution_count": null,
   "metadata": {},
   "outputs": [],
   "source": []
  },
  {
   "cell_type": "code",
   "execution_count": null,
   "metadata": {},
   "outputs": [],
   "source": []
  }
 ],
 "metadata": {
  "kernelspec": {
   "display_name": "Python 3",
   "language": "python",
   "name": "python3"
  },
  "language_info": {
   "codemirror_mode": {
    "name": "ipython",
    "version": 3
   },
   "file_extension": ".py",
   "mimetype": "text/x-python",
   "name": "python",
   "nbconvert_exporter": "python",
   "pygments_lexer": "ipython3",
   "version": "3.8.5"
  }
 },
 "nbformat": 4,
 "nbformat_minor": 4
}
