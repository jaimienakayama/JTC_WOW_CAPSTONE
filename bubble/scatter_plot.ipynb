{
 "cells": [
  {
   "cell_type": "code",
   "execution_count": 1,
   "metadata": {},
   "outputs": [
    {
     "data": {
      "text/html": [
       "        <script type=\"text/javascript\">\n",
       "        window.PlotlyConfig = {MathJaxConfig: 'local'};\n",
       "        if (window.MathJax) {MathJax.Hub.Config({SVG: {font: \"STIX-Web\"}});}\n",
       "        if (typeof require !== 'undefined') {\n",
       "        require.undef(\"plotly\");\n",
       "        requirejs.config({\n",
       "            paths: {\n",
       "                'plotly': ['https://cdn.plot.ly/plotly-latest.min']\n",
       "            }\n",
       "        });\n",
       "        require(['plotly'], function(Plotly) {\n",
       "            window._Plotly = Plotly;\n",
       "        });\n",
       "        }\n",
       "        </script>\n",
       "        "
      ]
     },
     "metadata": {},
     "output_type": "display_data"
    },
    {
     "data": {
      "text/html": [
       "        <script type=\"text/javascript\">\n",
       "        window.PlotlyConfig = {MathJaxConfig: 'local'};\n",
       "        if (window.MathJax) {MathJax.Hub.Config({SVG: {font: \"STIX-Web\"}});}\n",
       "        if (typeof require !== 'undefined') {\n",
       "        require.undef(\"plotly\");\n",
       "        requirejs.config({\n",
       "            paths: {\n",
       "                'plotly': ['https://cdn.plot.ly/plotly-latest.min']\n",
       "            }\n",
       "        });\n",
       "        require(['plotly'], function(Plotly) {\n",
       "            window._Plotly = Plotly;\n",
       "        });\n",
       "        }\n",
       "        </script>\n",
       "        "
      ]
     },
     "metadata": {},
     "output_type": "display_data"
    }
   ],
   "source": [
    "import pandas as pd\n",
    "import numpy as np\n",
    "import chart_studio.plotly as py \n",
    "import cufflinks as cf\n",
    "import seaborn as sns\n",
    "import plotly.express as px\n",
    "%matplotlib inline\n",
    "from plotly.offline import download_plotlyjs, init_notebook_mode, plot, iplot\n",
    "init_notebook_mode(connected=True)\n",
    "cf.go_offline()\n",
    "import plotly.graph_objs as go\n"
   ]
  },
  {
   "cell_type": "code",
   "execution_count": 2,
   "metadata": {},
   "outputs": [],
   "source": [
    "df = pd.read_csv('final_frame.csv')"
   ]
  },
  {
   "cell_type": "code",
   "execution_count": 3,
   "metadata": {},
   "outputs": [
    {
     "data": {
      "text/html": [
       "<div>\n",
       "<style scoped>\n",
       "    .dataframe tbody tr th:only-of-type {\n",
       "        vertical-align: middle;\n",
       "    }\n",
       "\n",
       "    .dataframe tbody tr th {\n",
       "        vertical-align: top;\n",
       "    }\n",
       "\n",
       "    .dataframe thead th {\n",
       "        text-align: right;\n",
       "    }\n",
       "</style>\n",
       "<table border=\"1\" class=\"dataframe\">\n",
       "  <thead>\n",
       "    <tr style=\"text-align: right;\">\n",
       "      <th></th>\n",
       "      <th>Unnamed: 0</th>\n",
       "      <th>city</th>\n",
       "      <th>amount_awarded</th>\n",
       "      <th>Estimates Base</th>\n",
       "      <th>per_capita</th>\n",
       "      <th>Latitude</th>\n",
       "      <th>Longitude</th>\n",
       "      <th>per_capita_log</th>\n",
       "      <th>amount_awarded_log</th>\n",
       "      <th>Incident_count</th>\n",
       "      <th>Incident_count_log</th>\n",
       "    </tr>\n",
       "  </thead>\n",
       "  <tbody>\n",
       "    <tr>\n",
       "      <th>0</th>\n",
       "      <td>0</td>\n",
       "      <td>Atlanta</td>\n",
       "      <td>4.761182e+06</td>\n",
       "      <td>427059</td>\n",
       "      <td>11.148769</td>\n",
       "      <td>33.748992</td>\n",
       "      <td>-84.390264</td>\n",
       "      <td>2.411329</td>\n",
       "      <td>15.376007</td>\n",
       "      <td>65</td>\n",
       "      <td>4.174387</td>\n",
       "    </tr>\n",
       "    <tr>\n",
       "      <th>1</th>\n",
       "      <td>1</td>\n",
       "      <td>Baltimore</td>\n",
       "      <td>1.843275e+07</td>\n",
       "      <td>229423</td>\n",
       "      <td>80.343941</td>\n",
       "      <td>39.290882</td>\n",
       "      <td>76.610759</td>\n",
       "      <td>4.386317</td>\n",
       "      <td>16.729639</td>\n",
       "      <td>82</td>\n",
       "      <td>4.406719</td>\n",
       "    </tr>\n",
       "    <tr>\n",
       "      <th>2</th>\n",
       "      <td>2</td>\n",
       "      <td>Baton Rouge</td>\n",
       "      <td>2.879795e+06</td>\n",
       "      <td>617792</td>\n",
       "      <td>4.661431</td>\n",
       "      <td>30.445960</td>\n",
       "      <td>-91.187380</td>\n",
       "      <td>1.539323</td>\n",
       "      <td>14.873230</td>\n",
       "      <td>30</td>\n",
       "      <td>3.401197</td>\n",
       "    </tr>\n",
       "    <tr>\n",
       "      <th>3</th>\n",
       "      <td>3</td>\n",
       "      <td>Boston</td>\n",
       "      <td>1.190548e+07</td>\n",
       "      <td>105148</td>\n",
       "      <td>113.225948</td>\n",
       "      <td>42.360253</td>\n",
       "      <td>-71.058291</td>\n",
       "      <td>4.729385</td>\n",
       "      <td>16.292510</td>\n",
       "      <td>51</td>\n",
       "      <td>3.931826</td>\n",
       "    </tr>\n",
       "    <tr>\n",
       "      <th>4</th>\n",
       "      <td>4</td>\n",
       "      <td>Charleston</td>\n",
       "      <td>1.520250e+06</td>\n",
       "      <td>120364</td>\n",
       "      <td>12.630438</td>\n",
       "      <td>32.787601</td>\n",
       "      <td>-79.940273</td>\n",
       "      <td>2.536110</td>\n",
       "      <td>14.234385</td>\n",
       "      <td>59</td>\n",
       "      <td>4.077537</td>\n",
       "    </tr>\n",
       "    <tr>\n",
       "      <th>5</th>\n",
       "      <td>5</td>\n",
       "      <td>Chicago</td>\n",
       "      <td>4.675865e+08</td>\n",
       "      <td>2695652</td>\n",
       "      <td>173.459506</td>\n",
       "      <td>41.875562</td>\n",
       "      <td>-87.624421</td>\n",
       "      <td>5.155944</td>\n",
       "      <td>19.963095</td>\n",
       "      <td>1515</td>\n",
       "      <td>7.323171</td>\n",
       "    </tr>\n",
       "    <tr>\n",
       "      <th>6</th>\n",
       "      <td>6</td>\n",
       "      <td>Cincinnati</td>\n",
       "      <td>2.472787e+06</td>\n",
       "      <td>297025</td>\n",
       "      <td>8.325181</td>\n",
       "      <td>39.101454</td>\n",
       "      <td>-84.512460</td>\n",
       "      <td>2.119285</td>\n",
       "      <td>14.720856</td>\n",
       "      <td>54</td>\n",
       "      <td>3.988984</td>\n",
       "    </tr>\n",
       "    <tr>\n",
       "      <th>7</th>\n",
       "      <td>7</td>\n",
       "      <td>Cleveland</td>\n",
       "      <td>2.857348e+07</td>\n",
       "      <td>396665</td>\n",
       "      <td>72.034273</td>\n",
       "      <td>41.505161</td>\n",
       "      <td>-81.693445</td>\n",
       "      <td>4.277142</td>\n",
       "      <td>17.167989</td>\n",
       "      <td>142</td>\n",
       "      <td>4.955827</td>\n",
       "    </tr>\n",
       "    <tr>\n",
       "      <th>8</th>\n",
       "      <td>8</td>\n",
       "      <td>Columbia</td>\n",
       "      <td>1.030935e+06</td>\n",
       "      <td>130421</td>\n",
       "      <td>7.904670</td>\n",
       "      <td>34.000749</td>\n",
       "      <td>-81.034331</td>\n",
       "      <td>2.067454</td>\n",
       "      <td>13.845977</td>\n",
       "      <td>27</td>\n",
       "      <td>3.295837</td>\n",
       "    </tr>\n",
       "    <tr>\n",
       "      <th>9</th>\n",
       "      <td>9</td>\n",
       "      <td>Detroit</td>\n",
       "      <td>5.770299e+07</td>\n",
       "      <td>713898</td>\n",
       "      <td>80.828058</td>\n",
       "      <td>42.331551</td>\n",
       "      <td>-83.046640</td>\n",
       "      <td>4.392324</td>\n",
       "      <td>17.870820</td>\n",
       "      <td>503</td>\n",
       "      <td>6.220590</td>\n",
       "    </tr>\n",
       "    <tr>\n",
       "      <th>10</th>\n",
       "      <td>10</td>\n",
       "      <td>Fort Lauderdale</td>\n",
       "      <td>2.371384e+06</td>\n",
       "      <td>165754</td>\n",
       "      <td>14.306647</td>\n",
       "      <td>26.122308</td>\n",
       "      <td>-80.143379</td>\n",
       "      <td>2.660724</td>\n",
       "      <td>14.678984</td>\n",
       "      <td>54</td>\n",
       "      <td>3.988984</td>\n",
       "    </tr>\n",
       "    <tr>\n",
       "      <th>11</th>\n",
       "      <td>11</td>\n",
       "      <td>Indianapolis</td>\n",
       "      <td>1.314828e+07</td>\n",
       "      <td>820457</td>\n",
       "      <td>16.025550</td>\n",
       "      <td>39.768333</td>\n",
       "      <td>-86.158350</td>\n",
       "      <td>2.774184</td>\n",
       "      <td>16.391801</td>\n",
       "      <td>236</td>\n",
       "      <td>5.463832</td>\n",
       "    </tr>\n",
       "    <tr>\n",
       "      <th>12</th>\n",
       "      <td>12</td>\n",
       "      <td>Los Angeles</td>\n",
       "      <td>3.299256e+08</td>\n",
       "      <td>3793139</td>\n",
       "      <td>86.979576</td>\n",
       "      <td>34.053691</td>\n",
       "      <td>-118.242766</td>\n",
       "      <td>4.465673</td>\n",
       "      <td>19.614378</td>\n",
       "      <td>997</td>\n",
       "      <td>6.904751</td>\n",
       "    </tr>\n",
       "    <tr>\n",
       "      <th>13</th>\n",
       "      <td>13</td>\n",
       "      <td>Memphis</td>\n",
       "      <td>8.772884e+06</td>\n",
       "      <td>651873</td>\n",
       "      <td>13.457965</td>\n",
       "      <td>35.149022</td>\n",
       "      <td>-90.051629</td>\n",
       "      <td>2.599571</td>\n",
       "      <td>15.987176</td>\n",
       "      <td>254</td>\n",
       "      <td>5.537334</td>\n",
       "    </tr>\n",
       "    <tr>\n",
       "      <th>14</th>\n",
       "      <td>14</td>\n",
       "      <td>Miami</td>\n",
       "      <td>7.284684e+06</td>\n",
       "      <td>399481</td>\n",
       "      <td>18.235370</td>\n",
       "      <td>25.774173</td>\n",
       "      <td>-80.193620</td>\n",
       "      <td>2.903363</td>\n",
       "      <td>15.801285</td>\n",
       "      <td>87</td>\n",
       "      <td>4.465908</td>\n",
       "    </tr>\n",
       "    <tr>\n",
       "      <th>15</th>\n",
       "      <td>15</td>\n",
       "      <td>Milwaukee</td>\n",
       "      <td>4.001782e+07</td>\n",
       "      <td>594498</td>\n",
       "      <td>67.313636</td>\n",
       "      <td>43.034993</td>\n",
       "      <td>-87.922497</td>\n",
       "      <td>4.209363</td>\n",
       "      <td>17.504835</td>\n",
       "      <td>56</td>\n",
       "      <td>4.025352</td>\n",
       "    </tr>\n",
       "    <tr>\n",
       "      <th>16</th>\n",
       "      <td>16</td>\n",
       "      <td>New Orleans</td>\n",
       "      <td>2.885642e+06</td>\n",
       "      <td>343828</td>\n",
       "      <td>8.392691</td>\n",
       "      <td>29.949932</td>\n",
       "      <td>-90.070116</td>\n",
       "      <td>2.127361</td>\n",
       "      <td>14.875258</td>\n",
       "      <td>27</td>\n",
       "      <td>3.295837</td>\n",
       "    </tr>\n",
       "    <tr>\n",
       "      <th>17</th>\n",
       "      <td>17</td>\n",
       "      <td>New York City</td>\n",
       "      <td>1.704120e+09</td>\n",
       "      <td>8175031</td>\n",
       "      <td>208.454315</td>\n",
       "      <td>40.712728</td>\n",
       "      <td>40.712728</td>\n",
       "      <td>5.339720</td>\n",
       "      <td>21.256315</td>\n",
       "      <td>32632</td>\n",
       "      <td>10.393049</td>\n",
       "    </tr>\n",
       "    <tr>\n",
       "      <th>18</th>\n",
       "      <td>18</td>\n",
       "      <td>North Charleston</td>\n",
       "      <td>3.333750e+06</td>\n",
       "      <td>97579</td>\n",
       "      <td>34.164626</td>\n",
       "      <td>32.913129</td>\n",
       "      <td>-80.062998</td>\n",
       "      <td>3.531191</td>\n",
       "      <td>15.019608</td>\n",
       "      <td>108</td>\n",
       "      <td>4.682131</td>\n",
       "    </tr>\n",
       "    <tr>\n",
       "      <th>19</th>\n",
       "      <td>19</td>\n",
       "      <td>Orlando</td>\n",
       "      <td>7.343790e+05</td>\n",
       "      <td>238836</td>\n",
       "      <td>3.074825</td>\n",
       "      <td>28.542111</td>\n",
       "      <td>-81.379030</td>\n",
       "      <td>1.123248</td>\n",
       "      <td>13.506781</td>\n",
       "      <td>24</td>\n",
       "      <td>3.178054</td>\n",
       "    </tr>\n",
       "    <tr>\n",
       "      <th>20</th>\n",
       "      <td>20</td>\n",
       "      <td>Paterson</td>\n",
       "      <td>5.350426e+06</td>\n",
       "      <td>146181</td>\n",
       "      <td>36.601378</td>\n",
       "      <td>40.916765</td>\n",
       "      <td>-74.171811</td>\n",
       "      <td>3.600086</td>\n",
       "      <td>15.492687</td>\n",
       "      <td>56</td>\n",
       "      <td>4.025352</td>\n",
       "    </tr>\n",
       "    <tr>\n",
       "      <th>21</th>\n",
       "      <td>21</td>\n",
       "      <td>Philadelphia</td>\n",
       "      <td>1.168395e+08</td>\n",
       "      <td>1526012</td>\n",
       "      <td>76.565240</td>\n",
       "      <td>39.952724</td>\n",
       "      <td>-75.163526</td>\n",
       "      <td>4.338143</td>\n",
       "      <td>18.576312</td>\n",
       "      <td>1423</td>\n",
       "      <td>7.260523</td>\n",
       "    </tr>\n",
       "    <tr>\n",
       "      <th>22</th>\n",
       "      <td>22</td>\n",
       "      <td>Richmond</td>\n",
       "      <td>2.010000e+05</td>\n",
       "      <td>204375</td>\n",
       "      <td>0.983486</td>\n",
       "      <td>37.538509</td>\n",
       "      <td>-77.434280</td>\n",
       "      <td>-0.016652</td>\n",
       "      <td>12.211060</td>\n",
       "      <td>6</td>\n",
       "      <td>1.791759</td>\n",
       "    </tr>\n",
       "    <tr>\n",
       "      <th>23</th>\n",
       "      <td>23</td>\n",
       "      <td>Roanoke</td>\n",
       "      <td>1.325000e+05</td>\n",
       "      <td>96910</td>\n",
       "      <td>1.367248</td>\n",
       "      <td>37.270973</td>\n",
       "      <td>-79.941431</td>\n",
       "      <td>0.312800</td>\n",
       "      <td>11.794338</td>\n",
       "      <td>2</td>\n",
       "      <td>0.693147</td>\n",
       "    </tr>\n",
       "    <tr>\n",
       "      <th>24</th>\n",
       "      <td>24</td>\n",
       "      <td>San Francisco</td>\n",
       "      <td>2.787330e+07</td>\n",
       "      <td>805184</td>\n",
       "      <td>34.617302</td>\n",
       "      <td>37.779026</td>\n",
       "      <td>-122.419906</td>\n",
       "      <td>3.544354</td>\n",
       "      <td>17.143180</td>\n",
       "      <td>87</td>\n",
       "      <td>4.465908</td>\n",
       "    </tr>\n",
       "    <tr>\n",
       "      <th>25</th>\n",
       "      <td>25</td>\n",
       "      <td>Springfield</td>\n",
       "      <td>3.284609e+07</td>\n",
       "      <td>153132</td>\n",
       "      <td>214.495266</td>\n",
       "      <td>42.101876</td>\n",
       "      <td>-72.588673</td>\n",
       "      <td>5.368288</td>\n",
       "      <td>17.307343</td>\n",
       "      <td>40</td>\n",
       "      <td>3.688879</td>\n",
       "    </tr>\n",
       "    <tr>\n",
       "      <th>26</th>\n",
       "      <td>26</td>\n",
       "      <td>St. Louis</td>\n",
       "      <td>3.117847e+06</td>\n",
       "      <td>319289</td>\n",
       "      <td>9.764968</td>\n",
       "      <td>38.626418</td>\n",
       "      <td>-90.199838</td>\n",
       "      <td>2.278801</td>\n",
       "      <td>14.952653</td>\n",
       "      <td>14</td>\n",
       "      <td>2.639057</td>\n",
       "    </tr>\n",
       "    <tr>\n",
       "      <th>27</th>\n",
       "      <td>27</td>\n",
       "      <td>Washington</td>\n",
       "      <td>1.148294e+08</td>\n",
       "      <td>601767</td>\n",
       "      <td>190.820449</td>\n",
       "      <td>38.894992</td>\n",
       "      <td>-77.036558</td>\n",
       "      <td>5.251333</td>\n",
       "      <td>18.558959</td>\n",
       "      <td>370</td>\n",
       "      <td>5.913503</td>\n",
       "    </tr>\n",
       "    <tr>\n",
       "      <th>28</th>\n",
       "      <td>28</td>\n",
       "      <td>Waterbury</td>\n",
       "      <td>2.227250e+06</td>\n",
       "      <td>110309</td>\n",
       "      <td>20.191009</td>\n",
       "      <td>41.553809</td>\n",
       "      <td>-73.043836</td>\n",
       "      <td>3.005237</td>\n",
       "      <td>14.616278</td>\n",
       "      <td>15</td>\n",
       "      <td>2.708050</td>\n",
       "    </tr>\n",
       "  </tbody>\n",
       "</table>\n",
       "</div>"
      ],
      "text/plain": [
       "    Unnamed: 0              city  amount_awarded  Estimates Base  per_capita  \\\n",
       "0            0           Atlanta    4.761182e+06          427059   11.148769   \n",
       "1            1         Baltimore    1.843275e+07          229423   80.343941   \n",
       "2            2       Baton Rouge    2.879795e+06          617792    4.661431   \n",
       "3            3            Boston    1.190548e+07          105148  113.225948   \n",
       "4            4        Charleston    1.520250e+06          120364   12.630438   \n",
       "5            5           Chicago    4.675865e+08         2695652  173.459506   \n",
       "6            6        Cincinnati    2.472787e+06          297025    8.325181   \n",
       "7            7         Cleveland    2.857348e+07          396665   72.034273   \n",
       "8            8          Columbia    1.030935e+06          130421    7.904670   \n",
       "9            9           Detroit    5.770299e+07          713898   80.828058   \n",
       "10          10   Fort Lauderdale    2.371384e+06          165754   14.306647   \n",
       "11          11      Indianapolis    1.314828e+07          820457   16.025550   \n",
       "12          12       Los Angeles    3.299256e+08         3793139   86.979576   \n",
       "13          13           Memphis    8.772884e+06          651873   13.457965   \n",
       "14          14             Miami    7.284684e+06          399481   18.235370   \n",
       "15          15         Milwaukee    4.001782e+07          594498   67.313636   \n",
       "16          16       New Orleans    2.885642e+06          343828    8.392691   \n",
       "17          17     New York City    1.704120e+09         8175031  208.454315   \n",
       "18          18  North Charleston    3.333750e+06           97579   34.164626   \n",
       "19          19           Orlando    7.343790e+05          238836    3.074825   \n",
       "20          20          Paterson    5.350426e+06          146181   36.601378   \n",
       "21          21      Philadelphia    1.168395e+08         1526012   76.565240   \n",
       "22          22          Richmond    2.010000e+05          204375    0.983486   \n",
       "23          23           Roanoke    1.325000e+05           96910    1.367248   \n",
       "24          24     San Francisco    2.787330e+07          805184   34.617302   \n",
       "25          25       Springfield    3.284609e+07          153132  214.495266   \n",
       "26          26         St. Louis    3.117847e+06          319289    9.764968   \n",
       "27          27        Washington    1.148294e+08          601767  190.820449   \n",
       "28          28         Waterbury    2.227250e+06          110309   20.191009   \n",
       "\n",
       "     Latitude   Longitude  per_capita_log  amount_awarded_log  Incident_count  \\\n",
       "0   33.748992  -84.390264        2.411329           15.376007              65   \n",
       "1   39.290882   76.610759        4.386317           16.729639              82   \n",
       "2   30.445960  -91.187380        1.539323           14.873230              30   \n",
       "3   42.360253  -71.058291        4.729385           16.292510              51   \n",
       "4   32.787601  -79.940273        2.536110           14.234385              59   \n",
       "5   41.875562  -87.624421        5.155944           19.963095            1515   \n",
       "6   39.101454  -84.512460        2.119285           14.720856              54   \n",
       "7   41.505161  -81.693445        4.277142           17.167989             142   \n",
       "8   34.000749  -81.034331        2.067454           13.845977              27   \n",
       "9   42.331551  -83.046640        4.392324           17.870820             503   \n",
       "10  26.122308  -80.143379        2.660724           14.678984              54   \n",
       "11  39.768333  -86.158350        2.774184           16.391801             236   \n",
       "12  34.053691 -118.242766        4.465673           19.614378             997   \n",
       "13  35.149022  -90.051629        2.599571           15.987176             254   \n",
       "14  25.774173  -80.193620        2.903363           15.801285              87   \n",
       "15  43.034993  -87.922497        4.209363           17.504835              56   \n",
       "16  29.949932  -90.070116        2.127361           14.875258              27   \n",
       "17  40.712728   40.712728        5.339720           21.256315           32632   \n",
       "18  32.913129  -80.062998        3.531191           15.019608             108   \n",
       "19  28.542111  -81.379030        1.123248           13.506781              24   \n",
       "20  40.916765  -74.171811        3.600086           15.492687              56   \n",
       "21  39.952724  -75.163526        4.338143           18.576312            1423   \n",
       "22  37.538509  -77.434280       -0.016652           12.211060               6   \n",
       "23  37.270973  -79.941431        0.312800           11.794338               2   \n",
       "24  37.779026 -122.419906        3.544354           17.143180              87   \n",
       "25  42.101876  -72.588673        5.368288           17.307343              40   \n",
       "26  38.626418  -90.199838        2.278801           14.952653              14   \n",
       "27  38.894992  -77.036558        5.251333           18.558959             370   \n",
       "28  41.553809  -73.043836        3.005237           14.616278              15   \n",
       "\n",
       "    Incident_count_log  \n",
       "0             4.174387  \n",
       "1             4.406719  \n",
       "2             3.401197  \n",
       "3             3.931826  \n",
       "4             4.077537  \n",
       "5             7.323171  \n",
       "6             3.988984  \n",
       "7             4.955827  \n",
       "8             3.295837  \n",
       "9             6.220590  \n",
       "10            3.988984  \n",
       "11            5.463832  \n",
       "12            6.904751  \n",
       "13            5.537334  \n",
       "14            4.465908  \n",
       "15            4.025352  \n",
       "16            3.295837  \n",
       "17           10.393049  \n",
       "18            4.682131  \n",
       "19            3.178054  \n",
       "20            4.025352  \n",
       "21            7.260523  \n",
       "22            1.791759  \n",
       "23            0.693147  \n",
       "24            4.465908  \n",
       "25            3.688879  \n",
       "26            2.639057  \n",
       "27            5.913503  \n",
       "28            2.708050  "
      ]
     },
     "execution_count": 3,
     "metadata": {},
     "output_type": "execute_result"
    }
   ],
   "source": [
    "df"
   ]
  },
  {
   "cell_type": "code",
   "execution_count": 4,
   "metadata": {},
   "outputs": [
    {
     "data": {
      "application/vnd.plotly.v1+json": {
       "config": {
        "plotlyServerURL": "https://plot.ly"
       },
       "data": [
        {
         "customdata": [
          [
           4761182
          ],
          [
           18432748
          ],
          [
           2879795
          ],
          [
           11905482
          ],
          [
           1520250
          ],
          [
           467586464
          ],
          [
           2472787
          ],
          [
           28573475
          ],
          [
           1030935
          ],
          [
           57702989
          ],
          [
           2371384
          ],
          [
           13148275
          ],
          [
           329925622
          ],
          [
           8772884
          ],
          [
           7284684
          ],
          [
           40017822
          ],
          [
           2885642
          ],
          [
           1704120487
          ],
          [
           3333750
          ],
          [
           734379
          ],
          [
           5350426
          ],
          [
           116839475
          ],
          [
           201000
          ],
          [
           132500
          ],
          [
           27873298
          ],
          [
           32846089
          ],
          [
           3117847
          ],
          [
           114829449
          ],
          [
           2227250
          ]
         ],
         "hovertemplate": "<b>%{hovertext}</b><br><br>Incident_count_log=%{marker.size}<br>Latitude=%{lat}<br>Longitude=%{lon}<br>amount_awarded=%{customdata[0]}<br>per_capita_log=%{marker.color}<extra></extra>",
         "hovertext": [
          "Atlanta",
          "Baltimore",
          "Baton Rouge",
          "Boston",
          "Charleston",
          "Chicago",
          "Cincinnati",
          "Cleveland",
          "Columbia",
          "Detroit",
          "Fort Lauderdale",
          "Indianapolis",
          "Los Angeles",
          "Memphis",
          "Miami",
          "Milwaukee",
          "New Orleans",
          "New York City",
          "North Charleston",
          "Orlando",
          "Paterson",
          "Philadelphia",
          "Richmond",
          "Roanoke",
          "San Francisco",
          "Springfield",
          "St. Louis",
          "Washington",
          "Waterbury"
         ],
         "lat": [
          33.7489924,
          39.2908816,
          30.445959600000002,
          42.3602534,
          32.7876012,
          41.87556160000001,
          39.1014537,
          41.5051613,
          34.000749299999995,
          42.331550899999996,
          26.122308399999998,
          39.7683331,
          34.0536909,
          35.1490215,
          25.7741728,
          43.0349931,
          29.949932300000004,
          40.712728000000006,
          32.9131295,
          28.5421109,
          40.916765399999996,
          39.9527237,
          37.53850870000001,
          37.270973,
          37.779026200000004,
          42.101876399999995,
          38.626418,
          38.8949924,
          41.5538091
         ],
         "legendgroup": "",
         "lon": [
          -84.3902644,
          76.610759,
          -91.18738,
          -71.0582912,
          -79.9402728,
          -87.6244212,
          -84.5124602,
          -81.6934446,
          -81.03433129999998,
          -83.04664029999998,
          -80.14337859999998,
          -86.1583502,
          -118.24276599999999,
          -90.0516285,
          -80.19362,
          -87.92249699999998,
          -90.0701156,
          40.712728000000006,
          -80.0629981965219,
          -81.3790304,
          -74.171811,
          -75.16352619999998,
          -77.43428,
          -79.94143129999998,
          -122.41990600000001,
          -72.5886727,
          -90.199838,
          -77.0365581,
          -73.0438362
         ],
         "marker": {
          "color": [
           2.4113290587413747,
           4.386316683048138,
           1.5393225588148305,
           4.729385363770798,
           2.536109589158164,
           5.155944176760459,
           2.1192848232614185,
           4.277142023161947,
           2.06745375697138,
           4.392324158589161,
           2.660724268427169,
           2.7741843482060213,
           4.465673332688782,
           2.599571121976634,
           2.903363136260826,
           4.2093628319145395,
           2.1273611521835716,
           5.339719904397821,
           3.5311907691626834,
           1.1232481202011169,
           3.6000858829783287,
           4.338143187657957,
           -0.016651633592442143,
           0.3127999326798184,
           3.544353625873656,
           5.368287665968562,
           2.278801329729995,
           5.251332927162187,
           3.0052374010218084
          ],
          "coloraxis": "coloraxis",
          "size": [
           4.174387269895637,
           4.4067192472642525,
           3.4011973816621555,
           3.9318256327243257,
           4.07753744390572,
           7.323170717943469,
           3.9889840465642745,
           4.955827057601262,
           3.2958368660043287,
           6.220590170099739,
           3.9889840465642745,
           5.4638318050256105,
           6.904750769961837,
           5.5373342670185375,
           4.465908118654584,
           4.02535169073515,
           3.2958368660043287,
           10.393048680997394,
           4.68213122712422,
           3.1780538303479458,
           4.02535169073515,
           7.260522598089852,
           1.791759469228055,
           0.6931471805599453,
           4.465908118654584,
           3.688879454113936,
           2.6390573296152584,
           5.913503005638269,
           2.7080502011022096
          ],
          "sizemode": "area",
          "sizeref": 0.025982621702493484
         },
         "mode": "markers",
         "name": "",
         "showlegend": false,
         "subplot": "mapbox",
         "type": "scattermapbox"
        }
       ],
       "layout": {
        "coloraxis": {
         "colorbar": {
          "title": {
           "text": "per_capita_log"
          }
         },
         "colorscale": [
          [
           0,
           "#0d0887"
          ],
          [
           0.1111111111111111,
           "#46039f"
          ],
          [
           0.2222222222222222,
           "#7201a8"
          ],
          [
           0.3333333333333333,
           "#9c179e"
          ],
          [
           0.4444444444444444,
           "#bd3786"
          ],
          [
           0.5555555555555556,
           "#d8576b"
          ],
          [
           0.6666666666666666,
           "#ed7953"
          ],
          [
           0.7777777777777778,
           "#fb9f3a"
          ],
          [
           0.8888888888888888,
           "#fdca26"
          ],
          [
           1,
           "#f0f921"
          ]
         ]
        },
        "font": {
         "color": "RebeccaPurple",
         "family": "monospace"
        },
        "height": 500,
        "legend": {
         "itemsizing": "constant",
         "tracegroupgap": 0
        },
        "mapbox": {
         "center": {
          "lat": 36.83116132413793,
          "lon": -74.59959527574213
         },
         "domain": {
          "x": [
           0,
           1
          ],
          "y": [
           0,
           1
          ]
         },
         "style": "open-street-map",
         "zoom": 3
        },
        "margin": {
         "b": 0,
         "l": 0,
         "r": 0,
         "t": 0
        },
        "template": {
         "data": {
          "bar": [
           {
            "error_x": {
             "color": "#2a3f5f"
            },
            "error_y": {
             "color": "#2a3f5f"
            },
            "marker": {
             "line": {
              "color": "#E5ECF6",
              "width": 0.5
             }
            },
            "type": "bar"
           }
          ],
          "barpolar": [
           {
            "marker": {
             "line": {
              "color": "#E5ECF6",
              "width": 0.5
             }
            },
            "type": "barpolar"
           }
          ],
          "carpet": [
           {
            "aaxis": {
             "endlinecolor": "#2a3f5f",
             "gridcolor": "white",
             "linecolor": "white",
             "minorgridcolor": "white",
             "startlinecolor": "#2a3f5f"
            },
            "baxis": {
             "endlinecolor": "#2a3f5f",
             "gridcolor": "white",
             "linecolor": "white",
             "minorgridcolor": "white",
             "startlinecolor": "#2a3f5f"
            },
            "type": "carpet"
           }
          ],
          "choropleth": [
           {
            "colorbar": {
             "outlinewidth": 0,
             "ticks": ""
            },
            "type": "choropleth"
           }
          ],
          "contour": [
           {
            "colorbar": {
             "outlinewidth": 0,
             "ticks": ""
            },
            "colorscale": [
             [
              0,
              "#0d0887"
             ],
             [
              0.1111111111111111,
              "#46039f"
             ],
             [
              0.2222222222222222,
              "#7201a8"
             ],
             [
              0.3333333333333333,
              "#9c179e"
             ],
             [
              0.4444444444444444,
              "#bd3786"
             ],
             [
              0.5555555555555556,
              "#d8576b"
             ],
             [
              0.6666666666666666,
              "#ed7953"
             ],
             [
              0.7777777777777778,
              "#fb9f3a"
             ],
             [
              0.8888888888888888,
              "#fdca26"
             ],
             [
              1,
              "#f0f921"
             ]
            ],
            "type": "contour"
           }
          ],
          "contourcarpet": [
           {
            "colorbar": {
             "outlinewidth": 0,
             "ticks": ""
            },
            "type": "contourcarpet"
           }
          ],
          "heatmap": [
           {
            "colorbar": {
             "outlinewidth": 0,
             "ticks": ""
            },
            "colorscale": [
             [
              0,
              "#0d0887"
             ],
             [
              0.1111111111111111,
              "#46039f"
             ],
             [
              0.2222222222222222,
              "#7201a8"
             ],
             [
              0.3333333333333333,
              "#9c179e"
             ],
             [
              0.4444444444444444,
              "#bd3786"
             ],
             [
              0.5555555555555556,
              "#d8576b"
             ],
             [
              0.6666666666666666,
              "#ed7953"
             ],
             [
              0.7777777777777778,
              "#fb9f3a"
             ],
             [
              0.8888888888888888,
              "#fdca26"
             ],
             [
              1,
              "#f0f921"
             ]
            ],
            "type": "heatmap"
           }
          ],
          "heatmapgl": [
           {
            "colorbar": {
             "outlinewidth": 0,
             "ticks": ""
            },
            "colorscale": [
             [
              0,
              "#0d0887"
             ],
             [
              0.1111111111111111,
              "#46039f"
             ],
             [
              0.2222222222222222,
              "#7201a8"
             ],
             [
              0.3333333333333333,
              "#9c179e"
             ],
             [
              0.4444444444444444,
              "#bd3786"
             ],
             [
              0.5555555555555556,
              "#d8576b"
             ],
             [
              0.6666666666666666,
              "#ed7953"
             ],
             [
              0.7777777777777778,
              "#fb9f3a"
             ],
             [
              0.8888888888888888,
              "#fdca26"
             ],
             [
              1,
              "#f0f921"
             ]
            ],
            "type": "heatmapgl"
           }
          ],
          "histogram": [
           {
            "marker": {
             "colorbar": {
              "outlinewidth": 0,
              "ticks": ""
             }
            },
            "type": "histogram"
           }
          ],
          "histogram2d": [
           {
            "colorbar": {
             "outlinewidth": 0,
             "ticks": ""
            },
            "colorscale": [
             [
              0,
              "#0d0887"
             ],
             [
              0.1111111111111111,
              "#46039f"
             ],
             [
              0.2222222222222222,
              "#7201a8"
             ],
             [
              0.3333333333333333,
              "#9c179e"
             ],
             [
              0.4444444444444444,
              "#bd3786"
             ],
             [
              0.5555555555555556,
              "#d8576b"
             ],
             [
              0.6666666666666666,
              "#ed7953"
             ],
             [
              0.7777777777777778,
              "#fb9f3a"
             ],
             [
              0.8888888888888888,
              "#fdca26"
             ],
             [
              1,
              "#f0f921"
             ]
            ],
            "type": "histogram2d"
           }
          ],
          "histogram2dcontour": [
           {
            "colorbar": {
             "outlinewidth": 0,
             "ticks": ""
            },
            "colorscale": [
             [
              0,
              "#0d0887"
             ],
             [
              0.1111111111111111,
              "#46039f"
             ],
             [
              0.2222222222222222,
              "#7201a8"
             ],
             [
              0.3333333333333333,
              "#9c179e"
             ],
             [
              0.4444444444444444,
              "#bd3786"
             ],
             [
              0.5555555555555556,
              "#d8576b"
             ],
             [
              0.6666666666666666,
              "#ed7953"
             ],
             [
              0.7777777777777778,
              "#fb9f3a"
             ],
             [
              0.8888888888888888,
              "#fdca26"
             ],
             [
              1,
              "#f0f921"
             ]
            ],
            "type": "histogram2dcontour"
           }
          ],
          "mesh3d": [
           {
            "colorbar": {
             "outlinewidth": 0,
             "ticks": ""
            },
            "type": "mesh3d"
           }
          ],
          "parcoords": [
           {
            "line": {
             "colorbar": {
              "outlinewidth": 0,
              "ticks": ""
             }
            },
            "type": "parcoords"
           }
          ],
          "pie": [
           {
            "automargin": true,
            "type": "pie"
           }
          ],
          "scatter": [
           {
            "marker": {
             "colorbar": {
              "outlinewidth": 0,
              "ticks": ""
             }
            },
            "type": "scatter"
           }
          ],
          "scatter3d": [
           {
            "line": {
             "colorbar": {
              "outlinewidth": 0,
              "ticks": ""
             }
            },
            "marker": {
             "colorbar": {
              "outlinewidth": 0,
              "ticks": ""
             }
            },
            "type": "scatter3d"
           }
          ],
          "scattercarpet": [
           {
            "marker": {
             "colorbar": {
              "outlinewidth": 0,
              "ticks": ""
             }
            },
            "type": "scattercarpet"
           }
          ],
          "scattergeo": [
           {
            "marker": {
             "colorbar": {
              "outlinewidth": 0,
              "ticks": ""
             }
            },
            "type": "scattergeo"
           }
          ],
          "scattergl": [
           {
            "marker": {
             "colorbar": {
              "outlinewidth": 0,
              "ticks": ""
             }
            },
            "type": "scattergl"
           }
          ],
          "scattermapbox": [
           {
            "marker": {
             "colorbar": {
              "outlinewidth": 0,
              "ticks": ""
             }
            },
            "type": "scattermapbox"
           }
          ],
          "scatterpolar": [
           {
            "marker": {
             "colorbar": {
              "outlinewidth": 0,
              "ticks": ""
             }
            },
            "type": "scatterpolar"
           }
          ],
          "scatterpolargl": [
           {
            "marker": {
             "colorbar": {
              "outlinewidth": 0,
              "ticks": ""
             }
            },
            "type": "scatterpolargl"
           }
          ],
          "scatterternary": [
           {
            "marker": {
             "colorbar": {
              "outlinewidth": 0,
              "ticks": ""
             }
            },
            "type": "scatterternary"
           }
          ],
          "surface": [
           {
            "colorbar": {
             "outlinewidth": 0,
             "ticks": ""
            },
            "colorscale": [
             [
              0,
              "#0d0887"
             ],
             [
              0.1111111111111111,
              "#46039f"
             ],
             [
              0.2222222222222222,
              "#7201a8"
             ],
             [
              0.3333333333333333,
              "#9c179e"
             ],
             [
              0.4444444444444444,
              "#bd3786"
             ],
             [
              0.5555555555555556,
              "#d8576b"
             ],
             [
              0.6666666666666666,
              "#ed7953"
             ],
             [
              0.7777777777777778,
              "#fb9f3a"
             ],
             [
              0.8888888888888888,
              "#fdca26"
             ],
             [
              1,
              "#f0f921"
             ]
            ],
            "type": "surface"
           }
          ],
          "table": [
           {
            "cells": {
             "fill": {
              "color": "#EBF0F8"
             },
             "line": {
              "color": "white"
             }
            },
            "header": {
             "fill": {
              "color": "#C8D4E3"
             },
             "line": {
              "color": "white"
             }
            },
            "type": "table"
           }
          ]
         },
         "layout": {
          "annotationdefaults": {
           "arrowcolor": "#2a3f5f",
           "arrowhead": 0,
           "arrowwidth": 1
          },
          "autotypenumbers": "strict",
          "coloraxis": {
           "colorbar": {
            "outlinewidth": 0,
            "ticks": ""
           }
          },
          "colorscale": {
           "diverging": [
            [
             0,
             "#8e0152"
            ],
            [
             0.1,
             "#c51b7d"
            ],
            [
             0.2,
             "#de77ae"
            ],
            [
             0.3,
             "#f1b6da"
            ],
            [
             0.4,
             "#fde0ef"
            ],
            [
             0.5,
             "#f7f7f7"
            ],
            [
             0.6,
             "#e6f5d0"
            ],
            [
             0.7,
             "#b8e186"
            ],
            [
             0.8,
             "#7fbc41"
            ],
            [
             0.9,
             "#4d9221"
            ],
            [
             1,
             "#276419"
            ]
           ],
           "sequential": [
            [
             0,
             "#0d0887"
            ],
            [
             0.1111111111111111,
             "#46039f"
            ],
            [
             0.2222222222222222,
             "#7201a8"
            ],
            [
             0.3333333333333333,
             "#9c179e"
            ],
            [
             0.4444444444444444,
             "#bd3786"
            ],
            [
             0.5555555555555556,
             "#d8576b"
            ],
            [
             0.6666666666666666,
             "#ed7953"
            ],
            [
             0.7777777777777778,
             "#fb9f3a"
            ],
            [
             0.8888888888888888,
             "#fdca26"
            ],
            [
             1,
             "#f0f921"
            ]
           ],
           "sequentialminus": [
            [
             0,
             "#0d0887"
            ],
            [
             0.1111111111111111,
             "#46039f"
            ],
            [
             0.2222222222222222,
             "#7201a8"
            ],
            [
             0.3333333333333333,
             "#9c179e"
            ],
            [
             0.4444444444444444,
             "#bd3786"
            ],
            [
             0.5555555555555556,
             "#d8576b"
            ],
            [
             0.6666666666666666,
             "#ed7953"
            ],
            [
             0.7777777777777778,
             "#fb9f3a"
            ],
            [
             0.8888888888888888,
             "#fdca26"
            ],
            [
             1,
             "#f0f921"
            ]
           ]
          },
          "colorway": [
           "#636efa",
           "#EF553B",
           "#00cc96",
           "#ab63fa",
           "#FFA15A",
           "#19d3f3",
           "#FF6692",
           "#B6E880",
           "#FF97FF",
           "#FECB52"
          ],
          "font": {
           "color": "#2a3f5f"
          },
          "geo": {
           "bgcolor": "white",
           "lakecolor": "white",
           "landcolor": "#E5ECF6",
           "showlakes": true,
           "showland": true,
           "subunitcolor": "white"
          },
          "hoverlabel": {
           "align": "left"
          },
          "hovermode": "closest",
          "mapbox": {
           "style": "light"
          },
          "paper_bgcolor": "white",
          "plot_bgcolor": "#E5ECF6",
          "polar": {
           "angularaxis": {
            "gridcolor": "white",
            "linecolor": "white",
            "ticks": ""
           },
           "bgcolor": "#E5ECF6",
           "radialaxis": {
            "gridcolor": "white",
            "linecolor": "white",
            "ticks": ""
           }
          },
          "scene": {
           "xaxis": {
            "backgroundcolor": "#E5ECF6",
            "gridcolor": "white",
            "gridwidth": 2,
            "linecolor": "white",
            "showbackground": true,
            "ticks": "",
            "zerolinecolor": "white"
           },
           "yaxis": {
            "backgroundcolor": "#E5ECF6",
            "gridcolor": "white",
            "gridwidth": 2,
            "linecolor": "white",
            "showbackground": true,
            "ticks": "",
            "zerolinecolor": "white"
           },
           "zaxis": {
            "backgroundcolor": "#E5ECF6",
            "gridcolor": "white",
            "gridwidth": 2,
            "linecolor": "white",
            "showbackground": true,
            "ticks": "",
            "zerolinecolor": "white"
           }
          },
          "shapedefaults": {
           "line": {
            "color": "#2a3f5f"
           }
          },
          "ternary": {
           "aaxis": {
            "gridcolor": "white",
            "linecolor": "white",
            "ticks": ""
           },
           "baxis": {
            "gridcolor": "white",
            "linecolor": "white",
            "ticks": ""
           },
           "bgcolor": "#E5ECF6",
           "caxis": {
            "gridcolor": "white",
            "linecolor": "white",
            "ticks": ""
           }
          },
          "title": {
           "x": 0.05
          },
          "xaxis": {
           "automargin": true,
           "gridcolor": "white",
           "linecolor": "white",
           "ticks": "",
           "title": {
            "standoff": 15
           },
           "zerolinecolor": "white",
           "zerolinewidth": 2
          },
          "yaxis": {
           "automargin": true,
           "gridcolor": "white",
           "linecolor": "white",
           "ticks": "",
           "title": {
            "standoff": 15
           },
           "zerolinecolor": "white",
           "zerolinewidth": 2
          }
         }
        },
        "xaxis": {
         "title": {
          "font": {
           "family": "Arial"
          }
         }
        }
       }
      },
      "text/html": [
       "<div>                            <div id=\"3faa5fa0-7959-4a7c-ad04-2b5ad63d29a0\" class=\"plotly-graph-div\" style=\"height:500px; width:100%;\"></div>            <script type=\"text/javascript\">                require([\"plotly\"], function(Plotly) {                    window.PLOTLYENV=window.PLOTLYENV || {};                                    if (document.getElementById(\"3faa5fa0-7959-4a7c-ad04-2b5ad63d29a0\")) {                    Plotly.newPlot(                        \"3faa5fa0-7959-4a7c-ad04-2b5ad63d29a0\",                        [{\"customdata\": [[4761182.0], [18432748.0], [2879795.0], [11905482.0], [1520250.0], [467586464.0], [2472787.0], [28573475.0], [1030935.0], [57702989.0], [2371384.0], [13148275.0], [329925622.0], [8772884.0], [7284684.0], [40017822.0], [2885642.0], [1704120487.0], [3333750.0], [734379.0], [5350426.0], [116839475.0], [201000.0], [132500.0], [27873298.0], [32846089.0], [3117847.0], [114829449.0], [2227250.0]], \"hovertemplate\": \"<b>%{hovertext}</b><br><br>Incident_count_log=%{marker.size}<br>Latitude=%{lat}<br>Longitude=%{lon}<br>amount_awarded=%{customdata[0]}<br>per_capita_log=%{marker.color}<extra></extra>\", \"hovertext\": [\"Atlanta\", \"Baltimore\", \"Baton Rouge\", \"Boston\", \"Charleston\", \"Chicago\", \"Cincinnati\", \"Cleveland\", \"Columbia\", \"Detroit\", \"Fort Lauderdale\", \"Indianapolis\", \"Los Angeles\", \"Memphis\", \"Miami\", \"Milwaukee\", \"New Orleans\", \"New York City\", \"North Charleston\", \"Orlando\", \"Paterson\", \"Philadelphia\", \"Richmond\", \"Roanoke\", \"San Francisco\", \"Springfield\", \"St. Louis\", \"Washington\", \"Waterbury\"], \"lat\": [33.7489924, 39.2908816, 30.445959600000002, 42.3602534, 32.7876012, 41.87556160000001, 39.1014537, 41.5051613, 34.000749299999995, 42.331550899999996, 26.122308399999998, 39.7683331, 34.0536909, 35.1490215, 25.7741728, 43.0349931, 29.949932300000004, 40.712728000000006, 32.9131295, 28.5421109, 40.916765399999996, 39.9527237, 37.53850870000001, 37.270973, 37.779026200000004, 42.101876399999995, 38.626418, 38.8949924, 41.5538091], \"legendgroup\": \"\", \"lon\": [-84.3902644, 76.610759, -91.18738, -71.0582912, -79.9402728, -87.6244212, -84.5124602, -81.6934446, -81.03433129999998, -83.04664029999998, -80.14337859999998, -86.1583502, -118.24276599999999, -90.0516285, -80.19362, -87.92249699999998, -90.0701156, 40.712728000000006, -80.0629981965219, -81.3790304, -74.171811, -75.16352619999998, -77.43428, -79.94143129999998, -122.41990600000001, -72.5886727, -90.199838, -77.0365581, -73.0438362], \"marker\": {\"color\": [2.4113290587413747, 4.386316683048138, 1.5393225588148305, 4.729385363770798, 2.536109589158164, 5.155944176760459, 2.1192848232614185, 4.277142023161947, 2.06745375697138, 4.392324158589161, 2.660724268427169, 2.7741843482060213, 4.465673332688782, 2.599571121976634, 2.903363136260826, 4.2093628319145395, 2.1273611521835716, 5.339719904397821, 3.5311907691626834, 1.1232481202011169, 3.6000858829783287, 4.338143187657957, -0.016651633592442143, 0.3127999326798184, 3.544353625873656, 5.368287665968562, 2.278801329729995, 5.251332927162187, 3.0052374010218084], \"coloraxis\": \"coloraxis\", \"size\": [4.174387269895637, 4.4067192472642525, 3.4011973816621555, 3.9318256327243257, 4.07753744390572, 7.323170717943469, 3.9889840465642745, 4.955827057601262, 3.2958368660043287, 6.220590170099739, 3.9889840465642745, 5.4638318050256105, 6.904750769961837, 5.5373342670185375, 4.465908118654584, 4.02535169073515, 3.2958368660043287, 10.393048680997394, 4.68213122712422, 3.1780538303479458, 4.02535169073515, 7.260522598089852, 1.791759469228055, 0.6931471805599453, 4.465908118654584, 3.688879454113936, 2.6390573296152584, 5.913503005638269, 2.7080502011022096], \"sizemode\": \"area\", \"sizeref\": 0.025982621702493484}, \"mode\": \"markers\", \"name\": \"\", \"showlegend\": false, \"subplot\": \"mapbox\", \"type\": \"scattermapbox\"}],                        {\"coloraxis\": {\"colorbar\": {\"title\": {\"text\": \"per_capita_log\"}}, \"colorscale\": [[0.0, \"#0d0887\"], [0.1111111111111111, \"#46039f\"], [0.2222222222222222, \"#7201a8\"], [0.3333333333333333, \"#9c179e\"], [0.4444444444444444, \"#bd3786\"], [0.5555555555555556, \"#d8576b\"], [0.6666666666666666, \"#ed7953\"], [0.7777777777777778, \"#fb9f3a\"], [0.8888888888888888, \"#fdca26\"], [1.0, \"#f0f921\"]]}, \"font\": {\"color\": \"RebeccaPurple\", \"family\": \"monospace\"}, \"height\": 500, \"legend\": {\"itemsizing\": \"constant\", \"tracegroupgap\": 0}, \"mapbox\": {\"center\": {\"lat\": 36.83116132413793, \"lon\": -74.59959527574213}, \"domain\": {\"x\": [0.0, 1.0], \"y\": [0.0, 1.0]}, \"style\": \"open-street-map\", \"zoom\": 3}, \"margin\": {\"b\": 0, \"l\": 0, \"r\": 0, \"t\": 0}, \"template\": {\"data\": {\"bar\": [{\"error_x\": {\"color\": \"#2a3f5f\"}, \"error_y\": {\"color\": \"#2a3f5f\"}, \"marker\": {\"line\": {\"color\": \"#E5ECF6\", \"width\": 0.5}}, \"type\": \"bar\"}], \"barpolar\": [{\"marker\": {\"line\": {\"color\": \"#E5ECF6\", \"width\": 0.5}}, \"type\": \"barpolar\"}], \"carpet\": [{\"aaxis\": {\"endlinecolor\": \"#2a3f5f\", \"gridcolor\": \"white\", \"linecolor\": \"white\", \"minorgridcolor\": \"white\", \"startlinecolor\": \"#2a3f5f\"}, \"baxis\": {\"endlinecolor\": \"#2a3f5f\", \"gridcolor\": \"white\", \"linecolor\": \"white\", \"minorgridcolor\": \"white\", \"startlinecolor\": \"#2a3f5f\"}, \"type\": \"carpet\"}], \"choropleth\": [{\"colorbar\": {\"outlinewidth\": 0, \"ticks\": \"\"}, \"type\": \"choropleth\"}], \"contour\": [{\"colorbar\": {\"outlinewidth\": 0, \"ticks\": \"\"}, \"colorscale\": [[0.0, \"#0d0887\"], [0.1111111111111111, \"#46039f\"], [0.2222222222222222, \"#7201a8\"], [0.3333333333333333, \"#9c179e\"], [0.4444444444444444, \"#bd3786\"], [0.5555555555555556, \"#d8576b\"], [0.6666666666666666, \"#ed7953\"], [0.7777777777777778, \"#fb9f3a\"], [0.8888888888888888, \"#fdca26\"], [1.0, \"#f0f921\"]], \"type\": \"contour\"}], \"contourcarpet\": [{\"colorbar\": {\"outlinewidth\": 0, \"ticks\": \"\"}, \"type\": \"contourcarpet\"}], \"heatmap\": [{\"colorbar\": {\"outlinewidth\": 0, \"ticks\": \"\"}, \"colorscale\": [[0.0, \"#0d0887\"], [0.1111111111111111, \"#46039f\"], [0.2222222222222222, \"#7201a8\"], [0.3333333333333333, \"#9c179e\"], [0.4444444444444444, \"#bd3786\"], [0.5555555555555556, \"#d8576b\"], [0.6666666666666666, \"#ed7953\"], [0.7777777777777778, \"#fb9f3a\"], [0.8888888888888888, \"#fdca26\"], [1.0, \"#f0f921\"]], \"type\": \"heatmap\"}], \"heatmapgl\": [{\"colorbar\": {\"outlinewidth\": 0, \"ticks\": \"\"}, \"colorscale\": [[0.0, \"#0d0887\"], [0.1111111111111111, \"#46039f\"], [0.2222222222222222, \"#7201a8\"], [0.3333333333333333, \"#9c179e\"], [0.4444444444444444, \"#bd3786\"], [0.5555555555555556, \"#d8576b\"], [0.6666666666666666, \"#ed7953\"], [0.7777777777777778, \"#fb9f3a\"], [0.8888888888888888, \"#fdca26\"], [1.0, \"#f0f921\"]], \"type\": \"heatmapgl\"}], \"histogram\": [{\"marker\": {\"colorbar\": {\"outlinewidth\": 0, \"ticks\": \"\"}}, \"type\": \"histogram\"}], \"histogram2d\": [{\"colorbar\": {\"outlinewidth\": 0, \"ticks\": \"\"}, \"colorscale\": [[0.0, \"#0d0887\"], [0.1111111111111111, \"#46039f\"], [0.2222222222222222, \"#7201a8\"], [0.3333333333333333, \"#9c179e\"], [0.4444444444444444, \"#bd3786\"], [0.5555555555555556, \"#d8576b\"], [0.6666666666666666, \"#ed7953\"], [0.7777777777777778, \"#fb9f3a\"], [0.8888888888888888, \"#fdca26\"], [1.0, \"#f0f921\"]], \"type\": \"histogram2d\"}], \"histogram2dcontour\": [{\"colorbar\": {\"outlinewidth\": 0, \"ticks\": \"\"}, \"colorscale\": [[0.0, \"#0d0887\"], [0.1111111111111111, \"#46039f\"], [0.2222222222222222, \"#7201a8\"], [0.3333333333333333, \"#9c179e\"], [0.4444444444444444, \"#bd3786\"], [0.5555555555555556, \"#d8576b\"], [0.6666666666666666, \"#ed7953\"], [0.7777777777777778, \"#fb9f3a\"], [0.8888888888888888, \"#fdca26\"], [1.0, \"#f0f921\"]], \"type\": \"histogram2dcontour\"}], \"mesh3d\": [{\"colorbar\": {\"outlinewidth\": 0, \"ticks\": \"\"}, \"type\": \"mesh3d\"}], \"parcoords\": [{\"line\": {\"colorbar\": {\"outlinewidth\": 0, \"ticks\": \"\"}}, \"type\": \"parcoords\"}], \"pie\": [{\"automargin\": true, \"type\": \"pie\"}], \"scatter\": [{\"marker\": {\"colorbar\": {\"outlinewidth\": 0, \"ticks\": \"\"}}, \"type\": \"scatter\"}], \"scatter3d\": [{\"line\": {\"colorbar\": {\"outlinewidth\": 0, \"ticks\": \"\"}}, \"marker\": {\"colorbar\": {\"outlinewidth\": 0, \"ticks\": \"\"}}, \"type\": \"scatter3d\"}], \"scattercarpet\": [{\"marker\": {\"colorbar\": {\"outlinewidth\": 0, \"ticks\": \"\"}}, \"type\": \"scattercarpet\"}], \"scattergeo\": [{\"marker\": {\"colorbar\": {\"outlinewidth\": 0, \"ticks\": \"\"}}, \"type\": \"scattergeo\"}], \"scattergl\": [{\"marker\": {\"colorbar\": {\"outlinewidth\": 0, \"ticks\": \"\"}}, \"type\": \"scattergl\"}], \"scattermapbox\": [{\"marker\": {\"colorbar\": {\"outlinewidth\": 0, \"ticks\": \"\"}}, \"type\": \"scattermapbox\"}], \"scatterpolar\": [{\"marker\": {\"colorbar\": {\"outlinewidth\": 0, \"ticks\": \"\"}}, \"type\": \"scatterpolar\"}], \"scatterpolargl\": [{\"marker\": {\"colorbar\": {\"outlinewidth\": 0, \"ticks\": \"\"}}, \"type\": \"scatterpolargl\"}], \"scatterternary\": [{\"marker\": {\"colorbar\": {\"outlinewidth\": 0, \"ticks\": \"\"}}, \"type\": \"scatterternary\"}], \"surface\": [{\"colorbar\": {\"outlinewidth\": 0, \"ticks\": \"\"}, \"colorscale\": [[0.0, \"#0d0887\"], [0.1111111111111111, \"#46039f\"], [0.2222222222222222, \"#7201a8\"], [0.3333333333333333, \"#9c179e\"], [0.4444444444444444, \"#bd3786\"], [0.5555555555555556, \"#d8576b\"], [0.6666666666666666, \"#ed7953\"], [0.7777777777777778, \"#fb9f3a\"], [0.8888888888888888, \"#fdca26\"], [1.0, \"#f0f921\"]], \"type\": \"surface\"}], \"table\": [{\"cells\": {\"fill\": {\"color\": \"#EBF0F8\"}, \"line\": {\"color\": \"white\"}}, \"header\": {\"fill\": {\"color\": \"#C8D4E3\"}, \"line\": {\"color\": \"white\"}}, \"type\": \"table\"}]}, \"layout\": {\"annotationdefaults\": {\"arrowcolor\": \"#2a3f5f\", \"arrowhead\": 0, \"arrowwidth\": 1}, \"autotypenumbers\": \"strict\", \"coloraxis\": {\"colorbar\": {\"outlinewidth\": 0, \"ticks\": \"\"}}, \"colorscale\": {\"diverging\": [[0, \"#8e0152\"], [0.1, \"#c51b7d\"], [0.2, \"#de77ae\"], [0.3, \"#f1b6da\"], [0.4, \"#fde0ef\"], [0.5, \"#f7f7f7\"], [0.6, \"#e6f5d0\"], [0.7, \"#b8e186\"], [0.8, \"#7fbc41\"], [0.9, \"#4d9221\"], [1, \"#276419\"]], \"sequential\": [[0.0, \"#0d0887\"], [0.1111111111111111, \"#46039f\"], [0.2222222222222222, \"#7201a8\"], [0.3333333333333333, \"#9c179e\"], [0.4444444444444444, \"#bd3786\"], [0.5555555555555556, \"#d8576b\"], [0.6666666666666666, \"#ed7953\"], [0.7777777777777778, \"#fb9f3a\"], [0.8888888888888888, \"#fdca26\"], [1.0, \"#f0f921\"]], \"sequentialminus\": [[0.0, \"#0d0887\"], [0.1111111111111111, \"#46039f\"], [0.2222222222222222, \"#7201a8\"], [0.3333333333333333, \"#9c179e\"], [0.4444444444444444, \"#bd3786\"], [0.5555555555555556, \"#d8576b\"], [0.6666666666666666, \"#ed7953\"], [0.7777777777777778, \"#fb9f3a\"], [0.8888888888888888, \"#fdca26\"], [1.0, \"#f0f921\"]]}, \"colorway\": [\"#636efa\", \"#EF553B\", \"#00cc96\", \"#ab63fa\", \"#FFA15A\", \"#19d3f3\", \"#FF6692\", \"#B6E880\", \"#FF97FF\", \"#FECB52\"], \"font\": {\"color\": \"#2a3f5f\"}, \"geo\": {\"bgcolor\": \"white\", \"lakecolor\": \"white\", \"landcolor\": \"#E5ECF6\", \"showlakes\": true, \"showland\": true, \"subunitcolor\": \"white\"}, \"hoverlabel\": {\"align\": \"left\"}, \"hovermode\": \"closest\", \"mapbox\": {\"style\": \"light\"}, \"paper_bgcolor\": \"white\", \"plot_bgcolor\": \"#E5ECF6\", \"polar\": {\"angularaxis\": {\"gridcolor\": \"white\", \"linecolor\": \"white\", \"ticks\": \"\"}, \"bgcolor\": \"#E5ECF6\", \"radialaxis\": {\"gridcolor\": \"white\", \"linecolor\": \"white\", \"ticks\": \"\"}}, \"scene\": {\"xaxis\": {\"backgroundcolor\": \"#E5ECF6\", \"gridcolor\": \"white\", \"gridwidth\": 2, \"linecolor\": \"white\", \"showbackground\": true, \"ticks\": \"\", \"zerolinecolor\": \"white\"}, \"yaxis\": {\"backgroundcolor\": \"#E5ECF6\", \"gridcolor\": \"white\", \"gridwidth\": 2, \"linecolor\": \"white\", \"showbackground\": true, \"ticks\": \"\", \"zerolinecolor\": \"white\"}, \"zaxis\": {\"backgroundcolor\": \"#E5ECF6\", \"gridcolor\": \"white\", \"gridwidth\": 2, \"linecolor\": \"white\", \"showbackground\": true, \"ticks\": \"\", \"zerolinecolor\": \"white\"}}, \"shapedefaults\": {\"line\": {\"color\": \"#2a3f5f\"}}, \"ternary\": {\"aaxis\": {\"gridcolor\": \"white\", \"linecolor\": \"white\", \"ticks\": \"\"}, \"baxis\": {\"gridcolor\": \"white\", \"linecolor\": \"white\", \"ticks\": \"\"}, \"bgcolor\": \"#E5ECF6\", \"caxis\": {\"gridcolor\": \"white\", \"linecolor\": \"white\", \"ticks\": \"\"}}, \"title\": {\"x\": 0.05}, \"xaxis\": {\"automargin\": true, \"gridcolor\": \"white\", \"linecolor\": \"white\", \"ticks\": \"\", \"title\": {\"standoff\": 15}, \"zerolinecolor\": \"white\", \"zerolinewidth\": 2}, \"yaxis\": {\"automargin\": true, \"gridcolor\": \"white\", \"linecolor\": \"white\", \"ticks\": \"\", \"title\": {\"standoff\": 15}, \"zerolinecolor\": \"white\", \"zerolinewidth\": 2}}}, \"xaxis\": {\"title\": {\"font\": {\"family\": \"Arial\"}}}},                        {\"responsive\": true}                    ).then(function(){\n",
       "                            \n",
       "var gd = document.getElementById('3faa5fa0-7959-4a7c-ad04-2b5ad63d29a0');\n",
       "var x = new MutationObserver(function (mutations, observer) {{\n",
       "        var display = window.getComputedStyle(gd).display;\n",
       "        if (!display || display === 'none') {{\n",
       "            console.log([gd, 'removed!']);\n",
       "            Plotly.purge(gd);\n",
       "            observer.disconnect();\n",
       "        }}\n",
       "}});\n",
       "\n",
       "// Listen for the removal of the full notebook cells\n",
       "var notebookContainer = gd.closest('#notebook-container');\n",
       "if (notebookContainer) {{\n",
       "    x.observe(notebookContainer, {childList: true});\n",
       "}}\n",
       "\n",
       "// Listen for the clearing of the current output cell\n",
       "var outputEl = gd.closest('.output');\n",
       "if (outputEl) {{\n",
       "    x.observe(outputEl, {childList: true});\n",
       "}}\n",
       "\n",
       "                        })                };                });            </script>        </div>"
      ]
     },
     "metadata": {},
     "output_type": "display_data"
    }
   ],
   "source": [
    "fig = px.scatter_mapbox(df,  lat= 'Latitude', lon= 'Longitude', \n",
    "                       hover_name= 'city', hover_data=['amount_awarded'],\n",
    "                      color = 'per_capita_log', zoom =3, height =500, size= 'Incident_count_log', size_max =20)      \n",
    "fig.update_layout(mapbox_style='open-street-map')\n",
    "fig.update_layout(margin={'r':0,'t':0,'l':0,'b':0})\n",
    "fig.update_layout(font_family='monospace', font_color='RebeccaPurple')\n",
    "fig.update_xaxes(title_font_family=\"Arial\")\n",
    "\n",
    "\n",
    "fig.show()"
   ]
  },
  {
   "cell_type": "code",
   "execution_count": null,
   "metadata": {},
   "outputs": [],
   "source": [
    "import plotly.io as pio\n",
    "pio.write_html(fig, file=’index.html’, auto_open=True)"
   ]
  },
  {
   "cell_type": "code",
   "execution_count": 6,
   "metadata": {},
   "outputs": [],
   "source": [
    "frame = pd.read_csv('final_frame.csv')"
   ]
  },
  {
   "cell_type": "code",
   "execution_count": 7,
   "metadata": {},
   "outputs": [
    {
     "data": {
      "text/html": [
       "<div>\n",
       "<style scoped>\n",
       "    .dataframe tbody tr th:only-of-type {\n",
       "        vertical-align: middle;\n",
       "    }\n",
       "\n",
       "    .dataframe tbody tr th {\n",
       "        vertical-align: top;\n",
       "    }\n",
       "\n",
       "    .dataframe thead th {\n",
       "        text-align: right;\n",
       "    }\n",
       "</style>\n",
       "<table border=\"1\" class=\"dataframe\">\n",
       "  <thead>\n",
       "    <tr style=\"text-align: right;\">\n",
       "      <th></th>\n",
       "      <th>Unnamed: 0</th>\n",
       "      <th>city</th>\n",
       "      <th>amount_awarded</th>\n",
       "      <th>Estimates Base</th>\n",
       "      <th>per_capita</th>\n",
       "      <th>Latitude</th>\n",
       "      <th>Longitude</th>\n",
       "      <th>per_capita_log</th>\n",
       "      <th>amount_awarded_log</th>\n",
       "      <th>Incident_count</th>\n",
       "      <th>Incident_count_log</th>\n",
       "    </tr>\n",
       "  </thead>\n",
       "  <tbody>\n",
       "    <tr>\n",
       "      <th>0</th>\n",
       "      <td>0</td>\n",
       "      <td>Atlanta</td>\n",
       "      <td>4.761182e+06</td>\n",
       "      <td>427059</td>\n",
       "      <td>11.148769</td>\n",
       "      <td>33.748992</td>\n",
       "      <td>-84.390264</td>\n",
       "      <td>2.411329</td>\n",
       "      <td>15.376007</td>\n",
       "      <td>65</td>\n",
       "      <td>4.174387</td>\n",
       "    </tr>\n",
       "    <tr>\n",
       "      <th>1</th>\n",
       "      <td>1</td>\n",
       "      <td>Baltimore</td>\n",
       "      <td>1.843275e+07</td>\n",
       "      <td>229423</td>\n",
       "      <td>80.343941</td>\n",
       "      <td>39.290882</td>\n",
       "      <td>76.610759</td>\n",
       "      <td>4.386317</td>\n",
       "      <td>16.729639</td>\n",
       "      <td>82</td>\n",
       "      <td>4.406719</td>\n",
       "    </tr>\n",
       "    <tr>\n",
       "      <th>2</th>\n",
       "      <td>2</td>\n",
       "      <td>Baton Rouge</td>\n",
       "      <td>2.879795e+06</td>\n",
       "      <td>617792</td>\n",
       "      <td>4.661431</td>\n",
       "      <td>30.445960</td>\n",
       "      <td>-91.187380</td>\n",
       "      <td>1.539323</td>\n",
       "      <td>14.873230</td>\n",
       "      <td>30</td>\n",
       "      <td>3.401197</td>\n",
       "    </tr>\n",
       "    <tr>\n",
       "      <th>3</th>\n",
       "      <td>3</td>\n",
       "      <td>Boston</td>\n",
       "      <td>1.190548e+07</td>\n",
       "      <td>105148</td>\n",
       "      <td>113.225948</td>\n",
       "      <td>42.360253</td>\n",
       "      <td>-71.058291</td>\n",
       "      <td>4.729385</td>\n",
       "      <td>16.292510</td>\n",
       "      <td>51</td>\n",
       "      <td>3.931826</td>\n",
       "    </tr>\n",
       "    <tr>\n",
       "      <th>4</th>\n",
       "      <td>4</td>\n",
       "      <td>Charleston</td>\n",
       "      <td>1.520250e+06</td>\n",
       "      <td>120364</td>\n",
       "      <td>12.630438</td>\n",
       "      <td>32.787601</td>\n",
       "      <td>-79.940273</td>\n",
       "      <td>2.536110</td>\n",
       "      <td>14.234385</td>\n",
       "      <td>59</td>\n",
       "      <td>4.077537</td>\n",
       "    </tr>\n",
       "    <tr>\n",
       "      <th>5</th>\n",
       "      <td>5</td>\n",
       "      <td>Chicago</td>\n",
       "      <td>4.675865e+08</td>\n",
       "      <td>2695652</td>\n",
       "      <td>173.459506</td>\n",
       "      <td>41.875562</td>\n",
       "      <td>-87.624421</td>\n",
       "      <td>5.155944</td>\n",
       "      <td>19.963095</td>\n",
       "      <td>1515</td>\n",
       "      <td>7.323171</td>\n",
       "    </tr>\n",
       "    <tr>\n",
       "      <th>6</th>\n",
       "      <td>6</td>\n",
       "      <td>Cincinnati</td>\n",
       "      <td>2.472787e+06</td>\n",
       "      <td>297025</td>\n",
       "      <td>8.325181</td>\n",
       "      <td>39.101454</td>\n",
       "      <td>-84.512460</td>\n",
       "      <td>2.119285</td>\n",
       "      <td>14.720856</td>\n",
       "      <td>54</td>\n",
       "      <td>3.988984</td>\n",
       "    </tr>\n",
       "    <tr>\n",
       "      <th>7</th>\n",
       "      <td>7</td>\n",
       "      <td>Cleveland</td>\n",
       "      <td>2.857348e+07</td>\n",
       "      <td>396665</td>\n",
       "      <td>72.034273</td>\n",
       "      <td>41.505161</td>\n",
       "      <td>-81.693445</td>\n",
       "      <td>4.277142</td>\n",
       "      <td>17.167989</td>\n",
       "      <td>142</td>\n",
       "      <td>4.955827</td>\n",
       "    </tr>\n",
       "    <tr>\n",
       "      <th>8</th>\n",
       "      <td>8</td>\n",
       "      <td>Columbia</td>\n",
       "      <td>1.030935e+06</td>\n",
       "      <td>130421</td>\n",
       "      <td>7.904670</td>\n",
       "      <td>34.000749</td>\n",
       "      <td>-81.034331</td>\n",
       "      <td>2.067454</td>\n",
       "      <td>13.845977</td>\n",
       "      <td>27</td>\n",
       "      <td>3.295837</td>\n",
       "    </tr>\n",
       "    <tr>\n",
       "      <th>9</th>\n",
       "      <td>9</td>\n",
       "      <td>Detroit</td>\n",
       "      <td>5.770299e+07</td>\n",
       "      <td>713898</td>\n",
       "      <td>80.828058</td>\n",
       "      <td>42.331551</td>\n",
       "      <td>-83.046640</td>\n",
       "      <td>4.392324</td>\n",
       "      <td>17.870820</td>\n",
       "      <td>503</td>\n",
       "      <td>6.220590</td>\n",
       "    </tr>\n",
       "    <tr>\n",
       "      <th>10</th>\n",
       "      <td>10</td>\n",
       "      <td>Fort Lauderdale</td>\n",
       "      <td>2.371384e+06</td>\n",
       "      <td>165754</td>\n",
       "      <td>14.306647</td>\n",
       "      <td>26.122308</td>\n",
       "      <td>-80.143379</td>\n",
       "      <td>2.660724</td>\n",
       "      <td>14.678984</td>\n",
       "      <td>54</td>\n",
       "      <td>3.988984</td>\n",
       "    </tr>\n",
       "    <tr>\n",
       "      <th>11</th>\n",
       "      <td>11</td>\n",
       "      <td>Indianapolis</td>\n",
       "      <td>1.314828e+07</td>\n",
       "      <td>820457</td>\n",
       "      <td>16.025550</td>\n",
       "      <td>39.768333</td>\n",
       "      <td>-86.158350</td>\n",
       "      <td>2.774184</td>\n",
       "      <td>16.391801</td>\n",
       "      <td>236</td>\n",
       "      <td>5.463832</td>\n",
       "    </tr>\n",
       "    <tr>\n",
       "      <th>12</th>\n",
       "      <td>12</td>\n",
       "      <td>Los Angeles</td>\n",
       "      <td>3.299256e+08</td>\n",
       "      <td>3793139</td>\n",
       "      <td>86.979576</td>\n",
       "      <td>34.053691</td>\n",
       "      <td>-118.242766</td>\n",
       "      <td>4.465673</td>\n",
       "      <td>19.614378</td>\n",
       "      <td>997</td>\n",
       "      <td>6.904751</td>\n",
       "    </tr>\n",
       "    <tr>\n",
       "      <th>13</th>\n",
       "      <td>13</td>\n",
       "      <td>Memphis</td>\n",
       "      <td>8.772884e+06</td>\n",
       "      <td>651873</td>\n",
       "      <td>13.457965</td>\n",
       "      <td>35.149022</td>\n",
       "      <td>-90.051629</td>\n",
       "      <td>2.599571</td>\n",
       "      <td>15.987176</td>\n",
       "      <td>254</td>\n",
       "      <td>5.537334</td>\n",
       "    </tr>\n",
       "    <tr>\n",
       "      <th>14</th>\n",
       "      <td>14</td>\n",
       "      <td>Miami</td>\n",
       "      <td>7.284684e+06</td>\n",
       "      <td>399481</td>\n",
       "      <td>18.235370</td>\n",
       "      <td>25.774173</td>\n",
       "      <td>-80.193620</td>\n",
       "      <td>2.903363</td>\n",
       "      <td>15.801285</td>\n",
       "      <td>87</td>\n",
       "      <td>4.465908</td>\n",
       "    </tr>\n",
       "    <tr>\n",
       "      <th>15</th>\n",
       "      <td>15</td>\n",
       "      <td>Milwaukee</td>\n",
       "      <td>4.001782e+07</td>\n",
       "      <td>594498</td>\n",
       "      <td>67.313636</td>\n",
       "      <td>43.034993</td>\n",
       "      <td>-87.922497</td>\n",
       "      <td>4.209363</td>\n",
       "      <td>17.504835</td>\n",
       "      <td>56</td>\n",
       "      <td>4.025352</td>\n",
       "    </tr>\n",
       "    <tr>\n",
       "      <th>16</th>\n",
       "      <td>16</td>\n",
       "      <td>New Orleans</td>\n",
       "      <td>2.885642e+06</td>\n",
       "      <td>343828</td>\n",
       "      <td>8.392691</td>\n",
       "      <td>29.949932</td>\n",
       "      <td>-90.070116</td>\n",
       "      <td>2.127361</td>\n",
       "      <td>14.875258</td>\n",
       "      <td>27</td>\n",
       "      <td>3.295837</td>\n",
       "    </tr>\n",
       "    <tr>\n",
       "      <th>17</th>\n",
       "      <td>17</td>\n",
       "      <td>New York City</td>\n",
       "      <td>1.704120e+09</td>\n",
       "      <td>8175031</td>\n",
       "      <td>208.454315</td>\n",
       "      <td>40.712728</td>\n",
       "      <td>40.712728</td>\n",
       "      <td>5.339720</td>\n",
       "      <td>21.256315</td>\n",
       "      <td>32632</td>\n",
       "      <td>10.393049</td>\n",
       "    </tr>\n",
       "    <tr>\n",
       "      <th>18</th>\n",
       "      <td>18</td>\n",
       "      <td>North Charleston</td>\n",
       "      <td>3.333750e+06</td>\n",
       "      <td>97579</td>\n",
       "      <td>34.164626</td>\n",
       "      <td>32.913129</td>\n",
       "      <td>-80.062998</td>\n",
       "      <td>3.531191</td>\n",
       "      <td>15.019608</td>\n",
       "      <td>108</td>\n",
       "      <td>4.682131</td>\n",
       "    </tr>\n",
       "    <tr>\n",
       "      <th>19</th>\n",
       "      <td>19</td>\n",
       "      <td>Orlando</td>\n",
       "      <td>7.343790e+05</td>\n",
       "      <td>238836</td>\n",
       "      <td>3.074825</td>\n",
       "      <td>28.542111</td>\n",
       "      <td>-81.379030</td>\n",
       "      <td>1.123248</td>\n",
       "      <td>13.506781</td>\n",
       "      <td>24</td>\n",
       "      <td>3.178054</td>\n",
       "    </tr>\n",
       "    <tr>\n",
       "      <th>20</th>\n",
       "      <td>20</td>\n",
       "      <td>Paterson</td>\n",
       "      <td>5.350426e+06</td>\n",
       "      <td>146181</td>\n",
       "      <td>36.601378</td>\n",
       "      <td>40.916765</td>\n",
       "      <td>-74.171811</td>\n",
       "      <td>3.600086</td>\n",
       "      <td>15.492687</td>\n",
       "      <td>56</td>\n",
       "      <td>4.025352</td>\n",
       "    </tr>\n",
       "    <tr>\n",
       "      <th>21</th>\n",
       "      <td>21</td>\n",
       "      <td>Philadelphia</td>\n",
       "      <td>1.168395e+08</td>\n",
       "      <td>1526012</td>\n",
       "      <td>76.565240</td>\n",
       "      <td>39.952724</td>\n",
       "      <td>-75.163526</td>\n",
       "      <td>4.338143</td>\n",
       "      <td>18.576312</td>\n",
       "      <td>1423</td>\n",
       "      <td>7.260523</td>\n",
       "    </tr>\n",
       "    <tr>\n",
       "      <th>22</th>\n",
       "      <td>22</td>\n",
       "      <td>Richmond</td>\n",
       "      <td>2.010000e+05</td>\n",
       "      <td>204375</td>\n",
       "      <td>0.983486</td>\n",
       "      <td>37.538509</td>\n",
       "      <td>-77.434280</td>\n",
       "      <td>-0.016652</td>\n",
       "      <td>12.211060</td>\n",
       "      <td>6</td>\n",
       "      <td>1.791759</td>\n",
       "    </tr>\n",
       "    <tr>\n",
       "      <th>23</th>\n",
       "      <td>23</td>\n",
       "      <td>Roanoke</td>\n",
       "      <td>1.325000e+05</td>\n",
       "      <td>96910</td>\n",
       "      <td>1.367248</td>\n",
       "      <td>37.270973</td>\n",
       "      <td>-79.941431</td>\n",
       "      <td>0.312800</td>\n",
       "      <td>11.794338</td>\n",
       "      <td>2</td>\n",
       "      <td>0.693147</td>\n",
       "    </tr>\n",
       "    <tr>\n",
       "      <th>24</th>\n",
       "      <td>24</td>\n",
       "      <td>San Francisco</td>\n",
       "      <td>2.787330e+07</td>\n",
       "      <td>805184</td>\n",
       "      <td>34.617302</td>\n",
       "      <td>37.779026</td>\n",
       "      <td>-122.419906</td>\n",
       "      <td>3.544354</td>\n",
       "      <td>17.143180</td>\n",
       "      <td>87</td>\n",
       "      <td>4.465908</td>\n",
       "    </tr>\n",
       "    <tr>\n",
       "      <th>25</th>\n",
       "      <td>25</td>\n",
       "      <td>Springfield</td>\n",
       "      <td>3.284609e+07</td>\n",
       "      <td>153132</td>\n",
       "      <td>214.495266</td>\n",
       "      <td>42.101876</td>\n",
       "      <td>-72.588673</td>\n",
       "      <td>5.368288</td>\n",
       "      <td>17.307343</td>\n",
       "      <td>40</td>\n",
       "      <td>3.688879</td>\n",
       "    </tr>\n",
       "    <tr>\n",
       "      <th>26</th>\n",
       "      <td>26</td>\n",
       "      <td>St. Louis</td>\n",
       "      <td>3.117847e+06</td>\n",
       "      <td>319289</td>\n",
       "      <td>9.764968</td>\n",
       "      <td>38.626418</td>\n",
       "      <td>-90.199838</td>\n",
       "      <td>2.278801</td>\n",
       "      <td>14.952653</td>\n",
       "      <td>14</td>\n",
       "      <td>2.639057</td>\n",
       "    </tr>\n",
       "    <tr>\n",
       "      <th>27</th>\n",
       "      <td>27</td>\n",
       "      <td>Washington</td>\n",
       "      <td>1.148294e+08</td>\n",
       "      <td>601767</td>\n",
       "      <td>190.820449</td>\n",
       "      <td>38.894992</td>\n",
       "      <td>-77.036558</td>\n",
       "      <td>5.251333</td>\n",
       "      <td>18.558959</td>\n",
       "      <td>370</td>\n",
       "      <td>5.913503</td>\n",
       "    </tr>\n",
       "    <tr>\n",
       "      <th>28</th>\n",
       "      <td>28</td>\n",
       "      <td>Waterbury</td>\n",
       "      <td>2.227250e+06</td>\n",
       "      <td>110309</td>\n",
       "      <td>20.191009</td>\n",
       "      <td>41.553809</td>\n",
       "      <td>-73.043836</td>\n",
       "      <td>3.005237</td>\n",
       "      <td>14.616278</td>\n",
       "      <td>15</td>\n",
       "      <td>2.708050</td>\n",
       "    </tr>\n",
       "  </tbody>\n",
       "</table>\n",
       "</div>"
      ],
      "text/plain": [
       "    Unnamed: 0              city  amount_awarded  Estimates Base  per_capita  \\\n",
       "0            0           Atlanta    4.761182e+06          427059   11.148769   \n",
       "1            1         Baltimore    1.843275e+07          229423   80.343941   \n",
       "2            2       Baton Rouge    2.879795e+06          617792    4.661431   \n",
       "3            3            Boston    1.190548e+07          105148  113.225948   \n",
       "4            4        Charleston    1.520250e+06          120364   12.630438   \n",
       "5            5           Chicago    4.675865e+08         2695652  173.459506   \n",
       "6            6        Cincinnati    2.472787e+06          297025    8.325181   \n",
       "7            7         Cleveland    2.857348e+07          396665   72.034273   \n",
       "8            8          Columbia    1.030935e+06          130421    7.904670   \n",
       "9            9           Detroit    5.770299e+07          713898   80.828058   \n",
       "10          10   Fort Lauderdale    2.371384e+06          165754   14.306647   \n",
       "11          11      Indianapolis    1.314828e+07          820457   16.025550   \n",
       "12          12       Los Angeles    3.299256e+08         3793139   86.979576   \n",
       "13          13           Memphis    8.772884e+06          651873   13.457965   \n",
       "14          14             Miami    7.284684e+06          399481   18.235370   \n",
       "15          15         Milwaukee    4.001782e+07          594498   67.313636   \n",
       "16          16       New Orleans    2.885642e+06          343828    8.392691   \n",
       "17          17     New York City    1.704120e+09         8175031  208.454315   \n",
       "18          18  North Charleston    3.333750e+06           97579   34.164626   \n",
       "19          19           Orlando    7.343790e+05          238836    3.074825   \n",
       "20          20          Paterson    5.350426e+06          146181   36.601378   \n",
       "21          21      Philadelphia    1.168395e+08         1526012   76.565240   \n",
       "22          22          Richmond    2.010000e+05          204375    0.983486   \n",
       "23          23           Roanoke    1.325000e+05           96910    1.367248   \n",
       "24          24     San Francisco    2.787330e+07          805184   34.617302   \n",
       "25          25       Springfield    3.284609e+07          153132  214.495266   \n",
       "26          26         St. Louis    3.117847e+06          319289    9.764968   \n",
       "27          27        Washington    1.148294e+08          601767  190.820449   \n",
       "28          28         Waterbury    2.227250e+06          110309   20.191009   \n",
       "\n",
       "     Latitude   Longitude  per_capita_log  amount_awarded_log  Incident_count  \\\n",
       "0   33.748992  -84.390264        2.411329           15.376007              65   \n",
       "1   39.290882   76.610759        4.386317           16.729639              82   \n",
       "2   30.445960  -91.187380        1.539323           14.873230              30   \n",
       "3   42.360253  -71.058291        4.729385           16.292510              51   \n",
       "4   32.787601  -79.940273        2.536110           14.234385              59   \n",
       "5   41.875562  -87.624421        5.155944           19.963095            1515   \n",
       "6   39.101454  -84.512460        2.119285           14.720856              54   \n",
       "7   41.505161  -81.693445        4.277142           17.167989             142   \n",
       "8   34.000749  -81.034331        2.067454           13.845977              27   \n",
       "9   42.331551  -83.046640        4.392324           17.870820             503   \n",
       "10  26.122308  -80.143379        2.660724           14.678984              54   \n",
       "11  39.768333  -86.158350        2.774184           16.391801             236   \n",
       "12  34.053691 -118.242766        4.465673           19.614378             997   \n",
       "13  35.149022  -90.051629        2.599571           15.987176             254   \n",
       "14  25.774173  -80.193620        2.903363           15.801285              87   \n",
       "15  43.034993  -87.922497        4.209363           17.504835              56   \n",
       "16  29.949932  -90.070116        2.127361           14.875258              27   \n",
       "17  40.712728   40.712728        5.339720           21.256315           32632   \n",
       "18  32.913129  -80.062998        3.531191           15.019608             108   \n",
       "19  28.542111  -81.379030        1.123248           13.506781              24   \n",
       "20  40.916765  -74.171811        3.600086           15.492687              56   \n",
       "21  39.952724  -75.163526        4.338143           18.576312            1423   \n",
       "22  37.538509  -77.434280       -0.016652           12.211060               6   \n",
       "23  37.270973  -79.941431        0.312800           11.794338               2   \n",
       "24  37.779026 -122.419906        3.544354           17.143180              87   \n",
       "25  42.101876  -72.588673        5.368288           17.307343              40   \n",
       "26  38.626418  -90.199838        2.278801           14.952653              14   \n",
       "27  38.894992  -77.036558        5.251333           18.558959             370   \n",
       "28  41.553809  -73.043836        3.005237           14.616278              15   \n",
       "\n",
       "    Incident_count_log  \n",
       "0             4.174387  \n",
       "1             4.406719  \n",
       "2             3.401197  \n",
       "3             3.931826  \n",
       "4             4.077537  \n",
       "5             7.323171  \n",
       "6             3.988984  \n",
       "7             4.955827  \n",
       "8             3.295837  \n",
       "9             6.220590  \n",
       "10            3.988984  \n",
       "11            5.463832  \n",
       "12            6.904751  \n",
       "13            5.537334  \n",
       "14            4.465908  \n",
       "15            4.025352  \n",
       "16            3.295837  \n",
       "17           10.393049  \n",
       "18            4.682131  \n",
       "19            3.178054  \n",
       "20            4.025352  \n",
       "21            7.260523  \n",
       "22            1.791759  \n",
       "23            0.693147  \n",
       "24            4.465908  \n",
       "25            3.688879  \n",
       "26            2.639057  \n",
       "27            5.913503  \n",
       "28            2.708050  "
      ]
     },
     "execution_count": 7,
     "metadata": {},
     "output_type": "execute_result"
    }
   ],
   "source": [
    "frame"
   ]
  },
  {
   "cell_type": "code",
   "execution_count": null,
   "metadata": {},
   "outputs": [],
   "source": []
  }
 ],
 "metadata": {
  "kernelspec": {
   "display_name": "Python 3",
   "language": "python",
   "name": "python3"
  },
  "language_info": {
   "codemirror_mode": {
    "name": "ipython",
    "version": 3
   },
   "file_extension": ".py",
   "mimetype": "text/x-python",
   "name": "python",
   "nbconvert_exporter": "python",
   "pygments_lexer": "ipython3",
   "version": "3.8.5"
  }
 },
 "nbformat": 4,
 "nbformat_minor": 4
}
